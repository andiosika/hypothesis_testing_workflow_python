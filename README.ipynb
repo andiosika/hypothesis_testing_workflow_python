{
 "cells": [
  {
   "cell_type": "markdown",
   "metadata": {},
   "source": [
    "# Module 3 -  Final Project \n",
    "\n",
    "\n",
    "### The Project\n",
    "\n",
    "For this project, we worked with the Northwind database--a free, open-source dataset created by Microsoft containing data from a fictional company. Here's the schema for the Northwind database:\n",
    "\n",
    "<img src='https://raw.githubusercontent.com/learn-co-curriculum/dsc-mod-3-project/master/Northwind_ERD_updated.png'>\n",
    "\n",
    "The goal of this project is to test abilities to gather information from a real-world database and use knowledge of statistical analysis and hypothesis testing to generate analytical insights that can be of value to the company.\n",
    "\n",
    "## The Deliverables\n",
    "\n",
    "The goal of this project was to query the database and get the data needed to perform a statistical analysis and provide insight / suggestions to the business.  In this statistical analysis, perform hypothesis testing with both **null and alternative hypothesis** $H_0$ and $H_1$ respectively.\n",
    "\n",
    "\n",
    "\n",
    "### Jupyter Notebook\n",
    "\n",
    "**student.ipynb :** \n",
    "<br>\n",
    "Contains SQL code to extract required data, visualizations, hypothesis testing, findings and recommendations for each of the following four questions and hypotheses:\n",
    "<br>  \n",
    "1) Does discount amount have a statistically significant effect on the quantity of a product in an order? If so, at what level(s) of discount?\n",
    "<br>\n",
    "$H_0$:There is no statistcally significant effect on the quantity of a product in an order in relation to a discount amount.\n",
    "<br>\n",
    "$H_1$:Discounts have a statistically significant effect on the quantiy of a product in an order.\n",
    "<br>\n",
    "$H_1a$:Certain discount values have a greater effect than others.\n",
    "<br>\n",
    "<br>\n",
    "2) Do some categories generate more money than others ?? Which ones?\n",
    "<br>\n",
    "$𝐻_0$ : All categories generate equal revenues.\n",
    "<br>\n",
    "$𝐻_1$ : Certain categories sell at statistically higher rates of revneu than others.\n",
    "\n",
    "<br>\n",
    "<br>\n",
    "3) Do certain sales representatives sell more than others? Who are the top sellers?\n",
    "<br>\n",
    "$H_0$: All sales representatives generate equal revenue.\n",
    "<br>\n",
    "$H_1$: Some sales representatives generate more than others in revenue.\n",
    "<br>\n",
    "<br>\n",
    "4) Where are our customers from that spend the most money?\n",
    "<br>\n",
    "$𝐻_0$ : Customers spend equal amounts regardless of region.\n",
    "<br>\n",
    "$𝐻_1$ : Region has an effect on total amount spent.\n",
    "<br>\n",
    "<br>\n",
    "\n",
    "\n",
    "### Executive Summary: \n",
    "<br>\n",
    "**mod3_preso.pdf and mod3_preso.pptx**\n",
    "<br>\n",
    "     Contains between 5-10 professional quality slides detailing:\n",
    "<br> \n",
    "<br>\n",
    "        * A high-level overview of the methodology  \n",
    "    <br>  \n",
    "        * The results of your hypothesis tests  \n",
    "    <br>  \n",
    "        * Any real-world recommendations you would like to make based on your findings (ask yourself--why should the executive team care about what you found? How can your findings help the company?)  \n",
    "    <br>  \n",
    " \n",
    "<br>  \n",
    "  \n",
    "\n"
   ]
  }
 ],
 "metadata": {
  "kernelspec": {
   "display_name": "Python [conda env:learn-env] *",
   "language": "python",
   "name": "conda-env-learn-env-py"
  },
  "language_info": {
   "codemirror_mode": {
    "name": "ipython",
    "version": 3
   },
   "file_extension": ".py",
   "mimetype": "text/x-python",
   "name": "python",
   "nbconvert_exporter": "python",
   "pygments_lexer": "ipython3",
   "version": "3.6.9"
  },
  "latex_envs": {
   "LaTeX_envs_menu_present": true,
   "autoclose": false,
   "autocomplete": true,
   "bibliofile": "biblio.bib",
   "cite_by": "apalike",
   "current_citInitial": 1,
   "eqLabelWithNumbers": true,
   "eqNumInitial": 1,
   "hotkeys": {
    "equation": "Ctrl-E",
    "itemize": "Ctrl-I"
   },
   "labels_anchors": false,
   "latex_user_defs": false,
   "report_style_numbering": false,
   "user_envs_cfg": false
  },
  "toc": {
   "base_numbering": 1,
   "nav_menu": {},
   "number_sections": true,
   "sideBar": true,
   "skip_h1_title": false,
   "title_cell": "Table of Contents",
   "title_sidebar": "Contents",
   "toc_cell": false,
   "toc_position": {},
   "toc_section_display": true,
   "toc_window_display": false
  },
  "varInspector": {
   "cols": {
    "lenName": 16,
    "lenType": 16,
    "lenVar": 40
   },
   "kernels_config": {
    "python": {
     "delete_cmd_postfix": "",
     "delete_cmd_prefix": "del ",
     "library": "var_list.py",
     "varRefreshCmd": "print(var_dic_list())"
    },
    "r": {
     "delete_cmd_postfix": ") ",
     "delete_cmd_prefix": "rm(",
     "library": "var_list.r",
     "varRefreshCmd": "cat(var_dic_list()) "
    }
   },
   "types_to_exclude": [
    "module",
    "function",
    "builtin_function_or_method",
    "instance",
    "_Feature"
   ],
   "window_display": false
  }
 },
 "nbformat": 4,
 "nbformat_minor": 2
}
