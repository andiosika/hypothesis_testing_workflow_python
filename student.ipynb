{
 "cells": [
  {
   "cell_type": "markdown",
   "metadata": {},
   "source": [
    "# Mod 3 Final Project"
   ]
  },
  {
   "cell_type": "markdown",
   "metadata": {},
   "source": [
    "## Student Info\n",
    "\n",
    "- Name: Andi Osika\n",
    "- Cohort: ptds_100719\n",
    "- Instructor: James Irving, PhD\n"
   ]
  },
  {
   "cell_type": "markdown",
   "metadata": {},
   "source": [
    "## Instructions:"
   ]
  },
  {
   "cell_type": "markdown",
   "metadata": {},
   "source": [
    "- Open and read the project assignment and guidelines in `MOD_PROJECT_README.ipynb`\n",
    "- Review the hypothesis testing workflow found in this repo's `README.md` and at the bottom of the `MOD_PROJECT_README.ipynb`\n",
    "- 3 functions from study group/learn.co lessons have been provided inside `functions.py`\n",
    "    - `Cohen_d`, `find_outliers_IQR`,`find_outliers_Z`"
   ]
  },
  {
   "cell_type": "markdown",
   "metadata": {},
   "source": []
  },
  {
   "cell_type": "markdown",
   "metadata": {},
   "source": [
    "<img src=\"https://raw.githubusercontent.com/jirvingphd/dsc-mod-3-project-online-ds-ft-100719/master/Northwind_ERD_updated.png\">"
   ]
  },
  {
   "cell_type": "code",
   "execution_count": 1,
   "metadata": {
    "ExecuteTime": {
     "end_time": "2020-01-31T00:26:56.223159Z",
     "start_time": "2020-01-31T00:26:56.220980Z"
    }
   },
   "outputs": [],
   "source": [
    "# !pip install -U fsds_100719\n",
    "# from fsds_100719.imports import *\n",
    "\n",
    "import pandas as pd\n"
   ]
  },
  {
   "cell_type": "code",
   "execution_count": 2,
   "metadata": {
    "ExecuteTime": {
     "end_time": "2020-01-31T00:26:48.243683Z",
     "start_time": "2020-01-31T00:26:48.241435Z"
    }
   },
   "outputs": [],
   "source": [
    "import functions as fn\n",
    "\n",
    "## Uncomment the line below to see the source code for the imported functions\n",
    "# fs.ihelp(Cohen_d,False),fs.ihelp(find_outliers_IQR,False), fs.ihelp(find_outliers_Z,False)"
   ]
  },
  {
   "cell_type": "code",
   "execution_count": 3,
   "metadata": {
    "ExecuteTime": {
     "end_time": "2020-01-31T00:27:39.848908Z",
     "start_time": "2020-01-31T00:27:39.845403Z"
    }
   },
   "outputs": [],
   "source": [
    "import sqlite3\n",
    "connect = sqlite3.connect('Northwind_small.sqlite')\n",
    "cur = connect.cursor()"
   ]
  },
  {
   "cell_type": "markdown",
   "metadata": {},
   "source": [
    "# List of Tables:"
   ]
  },
  {
   "cell_type": "code",
   "execution_count": 4,
   "metadata": {
    "ExecuteTime": {
     "end_time": "2020-01-31T00:28:03.375218Z",
     "start_time": "2020-01-31T00:28:03.360094Z"
    },
    "scrolled": true
   },
   "outputs": [
    {
     "data": {
      "text/html": [
       "<div>\n",
       "<style scoped>\n",
       "    .dataframe tbody tr th:only-of-type {\n",
       "        vertical-align: middle;\n",
       "    }\n",
       "\n",
       "    .dataframe tbody tr th {\n",
       "        vertical-align: top;\n",
       "    }\n",
       "\n",
       "    .dataframe thead th {\n",
       "        text-align: right;\n",
       "    }\n",
       "</style>\n",
       "<table border=\"1\" class=\"dataframe\">\n",
       "  <thead>\n",
       "    <tr style=\"text-align: right;\">\n",
       "      <th></th>\n",
       "      <th>Table</th>\n",
       "    </tr>\n",
       "  </thead>\n",
       "  <tbody>\n",
       "    <tr>\n",
       "      <td>0</td>\n",
       "      <td>Employee</td>\n",
       "    </tr>\n",
       "    <tr>\n",
       "      <td>1</td>\n",
       "      <td>Category</td>\n",
       "    </tr>\n",
       "    <tr>\n",
       "      <td>2</td>\n",
       "      <td>Customer</td>\n",
       "    </tr>\n",
       "    <tr>\n",
       "      <td>3</td>\n",
       "      <td>Shipper</td>\n",
       "    </tr>\n",
       "    <tr>\n",
       "      <td>4</td>\n",
       "      <td>Supplier</td>\n",
       "    </tr>\n",
       "    <tr>\n",
       "      <td>5</td>\n",
       "      <td>Order</td>\n",
       "    </tr>\n",
       "    <tr>\n",
       "      <td>6</td>\n",
       "      <td>Product</td>\n",
       "    </tr>\n",
       "    <tr>\n",
       "      <td>7</td>\n",
       "      <td>OrderDetail</td>\n",
       "    </tr>\n",
       "    <tr>\n",
       "      <td>8</td>\n",
       "      <td>CustomerCustomerDemo</td>\n",
       "    </tr>\n",
       "    <tr>\n",
       "      <td>9</td>\n",
       "      <td>CustomerDemographic</td>\n",
       "    </tr>\n",
       "    <tr>\n",
       "      <td>10</td>\n",
       "      <td>Region</td>\n",
       "    </tr>\n",
       "    <tr>\n",
       "      <td>11</td>\n",
       "      <td>Territory</td>\n",
       "    </tr>\n",
       "    <tr>\n",
       "      <td>12</td>\n",
       "      <td>EmployeeTerritory</td>\n",
       "    </tr>\n",
       "  </tbody>\n",
       "</table>\n",
       "</div>"
      ],
      "text/plain": [
       "                   Table\n",
       "0               Employee\n",
       "1               Category\n",
       "2               Customer\n",
       "3                Shipper\n",
       "4               Supplier\n",
       "5                  Order\n",
       "6                Product\n",
       "7            OrderDetail\n",
       "8   CustomerCustomerDemo\n",
       "9    CustomerDemographic\n",
       "10                Region\n",
       "11             Territory\n",
       "12     EmployeeTerritory"
      ]
     },
     "execution_count": 4,
     "metadata": {},
     "output_type": "execute_result"
    }
   ],
   "source": [
    "cur.execute(\"\"\"SELECT name FROM sqlite_master WHERE type='table';\"\"\")\n",
    "df_tables = pd.DataFrame(cur.fetchall(), columns=['Table'])\n",
    "df_tables"
   ]
  },
  {
   "cell_type": "markdown",
   "metadata": {},
   "source": [
    "# HYPOTHESIS 1"
   ]
  },
  {
   "cell_type": "markdown",
   "metadata": {},
   "source": [
    "> ***Does discount amount have a statistically significant effect on the quantity of a product in an order? If so, at what level(s) of discount?***"
   ]
  },
  {
   "cell_type": "markdown",
   "metadata": {},
   "source": [
    "- $H_0$:There is no statistcally significant effect on the quantity of a product in an order in relation to a discount amount.\n",
    "- $H_1$:Discounts have a statistically significant effect on the quantiy of a product in an order.\n",
    "- $H_1a$:Certain discount values have a greater effect than others."
   ]
  },
  {
   "cell_type": "markdown",
   "metadata": {},
   "source": [
    "## Importing and inspecting data from OrderDetail table:\n",
    "\n",
    "This table includes order information on:\n",
    "\n",
    "    1) Quantity\n",
    "    2) Discount \n",
    "\n",
    "Will use the mean of the aggregate data of quantity ordered in comparison with orders where discounts were involved."
   ]
  },
  {
   "cell_type": "code",
   "execution_count": 33,
   "metadata": {
    "scrolled": true
   },
   "outputs": [
    {
     "data": {
      "text/html": [
       "<div>\n",
       "<style scoped>\n",
       "    .dataframe tbody tr th:only-of-type {\n",
       "        vertical-align: middle;\n",
       "    }\n",
       "\n",
       "    .dataframe tbody tr th {\n",
       "        vertical-align: top;\n",
       "    }\n",
       "\n",
       "    .dataframe thead th {\n",
       "        text-align: right;\n",
       "    }\n",
       "</style>\n",
       "<table border=\"1\" class=\"dataframe\">\n",
       "  <thead>\n",
       "    <tr style=\"text-align: right;\">\n",
       "      <th></th>\n",
       "      <th>Id</th>\n",
       "      <th>OrderId</th>\n",
       "      <th>ProductId</th>\n",
       "      <th>UnitPrice</th>\n",
       "      <th>Quantity</th>\n",
       "      <th>Discount</th>\n",
       "    </tr>\n",
       "  </thead>\n",
       "  <tbody>\n",
       "    <tr>\n",
       "      <td>0</td>\n",
       "      <td>10248/11</td>\n",
       "      <td>10248</td>\n",
       "      <td>11</td>\n",
       "      <td>14.0</td>\n",
       "      <td>12</td>\n",
       "      <td>0.0</td>\n",
       "    </tr>\n",
       "    <tr>\n",
       "      <td>1</td>\n",
       "      <td>10248/42</td>\n",
       "      <td>10248</td>\n",
       "      <td>42</td>\n",
       "      <td>9.8</td>\n",
       "      <td>10</td>\n",
       "      <td>0.0</td>\n",
       "    </tr>\n",
       "    <tr>\n",
       "      <td>2</td>\n",
       "      <td>10248/72</td>\n",
       "      <td>10248</td>\n",
       "      <td>72</td>\n",
       "      <td>34.8</td>\n",
       "      <td>5</td>\n",
       "      <td>0.0</td>\n",
       "    </tr>\n",
       "    <tr>\n",
       "      <td>3</td>\n",
       "      <td>10249/14</td>\n",
       "      <td>10249</td>\n",
       "      <td>14</td>\n",
       "      <td>18.6</td>\n",
       "      <td>9</td>\n",
       "      <td>0.0</td>\n",
       "    </tr>\n",
       "    <tr>\n",
       "      <td>4</td>\n",
       "      <td>10249/51</td>\n",
       "      <td>10249</td>\n",
       "      <td>51</td>\n",
       "      <td>42.4</td>\n",
       "      <td>40</td>\n",
       "      <td>0.0</td>\n",
       "    </tr>\n",
       "  </tbody>\n",
       "</table>\n",
       "</div>"
      ],
      "text/plain": [
       "         Id  OrderId  ProductId  UnitPrice  Quantity  Discount\n",
       "0  10248/11    10248         11       14.0        12       0.0\n",
       "1  10248/42    10248         42        9.8        10       0.0\n",
       "2  10248/72    10248         72       34.8         5       0.0\n",
       "3  10249/14    10249         14       18.6         9       0.0\n",
       "4  10249/51    10249         51       42.4        40       0.0"
      ]
     },
     "execution_count": 33,
     "metadata": {},
     "output_type": "execute_result"
    }
   ],
   "source": [
    "cur.execute(\"\"\"SELECT * FROM OrderDetail;\"\"\")\n",
    "df = pd.DataFrame(cur.fetchall(), columns=[x[0] for x in cur.description])\n",
    "df.head()\n"
   ]
  },
  {
   "cell_type": "code",
   "execution_count": 34,
   "metadata": {
    "scrolled": true
   },
   "outputs": [
    {
     "data": {
      "text/html": [
       "<div>\n",
       "<style scoped>\n",
       "    .dataframe tbody tr th:only-of-type {\n",
       "        vertical-align: middle;\n",
       "    }\n",
       "\n",
       "    .dataframe tbody tr th {\n",
       "        vertical-align: top;\n",
       "    }\n",
       "\n",
       "    .dataframe thead th {\n",
       "        text-align: right;\n",
       "    }\n",
       "</style>\n",
       "<table border=\"1\" class=\"dataframe\">\n",
       "  <thead>\n",
       "    <tr style=\"text-align: right;\">\n",
       "      <th></th>\n",
       "      <th>OrderId</th>\n",
       "      <th>ProductId</th>\n",
       "      <th>UnitPrice</th>\n",
       "      <th>Quantity</th>\n",
       "      <th>Discount</th>\n",
       "    </tr>\n",
       "  </thead>\n",
       "  <tbody>\n",
       "    <tr>\n",
       "      <td>count</td>\n",
       "      <td>2155.000000</td>\n",
       "      <td>2155.000000</td>\n",
       "      <td>2155.000000</td>\n",
       "      <td>2155.000000</td>\n",
       "      <td>2155.000000</td>\n",
       "    </tr>\n",
       "    <tr>\n",
       "      <td>mean</td>\n",
       "      <td>10659.375870</td>\n",
       "      <td>40.793039</td>\n",
       "      <td>26.218520</td>\n",
       "      <td>23.812993</td>\n",
       "      <td>0.056167</td>\n",
       "    </tr>\n",
       "    <tr>\n",
       "      <td>std</td>\n",
       "      <td>241.378032</td>\n",
       "      <td>22.159019</td>\n",
       "      <td>29.827418</td>\n",
       "      <td>19.022047</td>\n",
       "      <td>0.083450</td>\n",
       "    </tr>\n",
       "    <tr>\n",
       "      <td>min</td>\n",
       "      <td>10248.000000</td>\n",
       "      <td>1.000000</td>\n",
       "      <td>2.000000</td>\n",
       "      <td>1.000000</td>\n",
       "      <td>0.000000</td>\n",
       "    </tr>\n",
       "    <tr>\n",
       "      <td>25%</td>\n",
       "      <td>10451.000000</td>\n",
       "      <td>22.000000</td>\n",
       "      <td>12.000000</td>\n",
       "      <td>10.000000</td>\n",
       "      <td>0.000000</td>\n",
       "    </tr>\n",
       "    <tr>\n",
       "      <td>50%</td>\n",
       "      <td>10657.000000</td>\n",
       "      <td>41.000000</td>\n",
       "      <td>18.400000</td>\n",
       "      <td>20.000000</td>\n",
       "      <td>0.000000</td>\n",
       "    </tr>\n",
       "    <tr>\n",
       "      <td>75%</td>\n",
       "      <td>10862.500000</td>\n",
       "      <td>60.000000</td>\n",
       "      <td>32.000000</td>\n",
       "      <td>30.000000</td>\n",
       "      <td>0.100000</td>\n",
       "    </tr>\n",
       "    <tr>\n",
       "      <td>max</td>\n",
       "      <td>11077.000000</td>\n",
       "      <td>77.000000</td>\n",
       "      <td>263.500000</td>\n",
       "      <td>130.000000</td>\n",
       "      <td>0.250000</td>\n",
       "    </tr>\n",
       "  </tbody>\n",
       "</table>\n",
       "</div>"
      ],
      "text/plain": [
       "            OrderId    ProductId    UnitPrice     Quantity     Discount\n",
       "count   2155.000000  2155.000000  2155.000000  2155.000000  2155.000000\n",
       "mean   10659.375870    40.793039    26.218520    23.812993     0.056167\n",
       "std      241.378032    22.159019    29.827418    19.022047     0.083450\n",
       "min    10248.000000     1.000000     2.000000     1.000000     0.000000\n",
       "25%    10451.000000    22.000000    12.000000    10.000000     0.000000\n",
       "50%    10657.000000    41.000000    18.400000    20.000000     0.000000\n",
       "75%    10862.500000    60.000000    32.000000    30.000000     0.100000\n",
       "max    11077.000000    77.000000   263.500000   130.000000     0.250000"
      ]
     },
     "execution_count": 34,
     "metadata": {},
     "output_type": "execute_result"
    }
   ],
   "source": [
    "#explorting dataset\n",
    "specs = df.describe()\n",
    "specs"
   ]
  },
  {
   "cell_type": "code",
   "execution_count": 35,
   "metadata": {
    "scrolled": false
   },
   "outputs": [
    {
     "name": "stdout",
     "output_type": "stream",
     "text": [
      "<class 'pandas.core.frame.DataFrame'>\n",
      "RangeIndex: 2155 entries, 0 to 2154\n",
      "Data columns (total 6 columns):\n",
      "Id           2155 non-null object\n",
      "OrderId      2155 non-null int64\n",
      "ProductId    2155 non-null int64\n",
      "UnitPrice    2155 non-null float64\n",
      "Quantity     2155 non-null int64\n",
      "Discount     2155 non-null float64\n",
      "dtypes: float64(2), int64(3), object(1)\n",
      "memory usage: 101.1+ KB\n"
     ]
    }
   ],
   "source": [
    "df.info()"
   ]
  },
  {
   "cell_type": "markdown",
   "metadata": {},
   "source": [
    "### Initial Visual Inspection:\n",
    "\n",
    "From this dataset of 2155 orders, the average quantity ordered is 24 regardless of discount, the minimum ordered is 0 and max ordered is 130, although the IQR is between 10 and 30."
   ]
  },
  {
   "cell_type": "code",
   "execution_count": 36,
   "metadata": {
    "scrolled": true
   },
   "outputs": [
    {
     "data": {
      "text/plain": [
       "count    2155.000000\n",
       "mean       23.812993\n",
       "std        19.022047\n",
       "min         1.000000\n",
       "25%        10.000000\n",
       "50%        20.000000\n",
       "75%        30.000000\n",
       "max       130.000000\n",
       "Name: Quantity, dtype: float64"
      ]
     },
     "execution_count": 36,
     "metadata": {},
     "output_type": "execute_result"
    }
   ],
   "source": [
    "qty = df['Quantity']\n",
    "qty_specs = qty.describe()\n",
    "qty_specs"
   ]
  },
  {
   "cell_type": "code",
   "execution_count": 37,
   "metadata": {},
   "outputs": [
    {
     "name": "stdout",
     "output_type": "stream",
     "text": [
      "The average quantity ordered from this sample is : 24.0\n",
      "There are 2155 orders in this sample.\n"
     ]
    }
   ],
   "source": [
    "qty_mu = round(qty_specs['mean'],0)\n",
    "n = len(df)\n",
    "print(f'The average quantity ordered from this sample is : {qty_mu}')\n",
    "print(f'There are {n} orders in this sample.')"
   ]
  },
  {
   "cell_type": "code",
   "execution_count": 11,
   "metadata": {},
   "outputs": [
    {
     "data": {
      "text/plain": [
       "[0.0, 0.15, 0.05, 0.2, 0.25, 0.1, 0.02, 0.03, 0.04, 0.06, 0.01]"
      ]
     },
     "execution_count": 11,
     "metadata": {},
     "output_type": "execute_result"
    }
   ],
   "source": [
    "d =list(df['Discount'].unique())\n",
    "d\n",
    "#Dscounts are as follows:"
   ]
  },
  {
   "cell_type": "code",
   "execution_count": 38,
   "metadata": {
    "scrolled": false
   },
   "outputs": [
    {
     "data": {
      "image/png": "[encoded data removed]",
      "text/plain": [
       "<Figure size 432x288 with 1 Axes>"
      ]
     },
     "metadata": {
      "needs_background": "light"
     },
     "output_type": "display_data"
    }
   ],
   "source": [
    "import matplotlib.pyplot as plt\n",
    "import seaborn as sns\n",
    "sns.distplot(qty)\n",
    "plt.axvline(qty_mu, label='Qty Mean', color='purple')\n",
    "plt.show()\n"
   ]
  },
  {
   "cell_type": "markdown",
   "metadata": {},
   "source": [
    "\n"
   ]
  },
  {
   "cell_type": "code",
   "execution_count": 39,
   "metadata": {},
   "outputs": [],
   "source": [
    "import seaborn as sns\n",
    "from ipywidgets import interact"
   ]
  },
  {
   "cell_type": "code",
   "execution_count": 40,
   "metadata": {
    "scrolled": true
   },
   "outputs": [
    {
     "data": {
      "application/vnd.jupyter.widget-view+json": {
       "model_id": "3f7e82ccc0954927a7c8447c30d35e8b",
       "version_major": 2,
       "version_minor": 0
      },
      "text/plain": [
       "interactive(children=(Dropdown(description='d', options=(0.0, 0.15, 0.05, 0.2, 0.25, 0.1, 0.02, 0.03, 0.04, 0.…"
      ]
     },
     "metadata": {},
     "output_type": "display_data"
    }
   ],
   "source": [
    "\n",
    "@interact\n",
    "def plt_discounts(d=d):\n",
    "    sns.distplot(df.groupby('Discount').get_group(d)['Quantity'])\n",
    "    plt.axvline(qty_mu, color='purple')\n",
    "    "
   ]
  },
  {
   "cell_type": "code",
   "execution_count": 41,
   "metadata": {
    "scrolled": true
   },
   "outputs": [
    {
     "data": {
      "text/plain": [
       "Discount\n",
       "0.00    1317\n",
       "0.01       1\n",
       "0.02       2\n",
       "0.03       3\n",
       "0.04       1\n",
       "0.05     185\n",
       "0.06       1\n",
       "0.10     173\n",
       "0.15     157\n",
       "0.20     161\n",
       "0.25     154\n",
       "Name: Quantity, dtype: int64"
      ]
     },
     "metadata": {},
     "output_type": "display_data"
    }
   ],
   "source": [
    "dfa = df.groupby('Discount').count()['Quantity']\n",
    "display(dfa)\n"
   ]
  },
  {
   "cell_type": "markdown",
   "metadata": {},
   "source": [
    "**The sample sizes associated with discounts .01, .02, .03, .04 and .06 are relatively nominal <3, and will be dropped since this makes it difficult to evaulate their impact in comparison with the other groups.**"
   ]
  },
  {
   "cell_type": "code",
   "execution_count": 42,
   "metadata": {},
   "outputs": [],
   "source": [
    "discs = {}\n",
    "for disc in df['Discount'].unique():\n",
    "    discs[disc] = df.groupby('Discount').get_group(disc)['Quantity']"
   ]
  },
  {
   "cell_type": "code",
   "execution_count": 43,
   "metadata": {},
   "outputs": [
    {
     "name": "stdout",
     "output_type": "stream",
     "text": [
      "0.0\n",
      "0.15\n",
      "0.05\n",
      "0.2\n",
      "0.25\n",
      "0.1\n",
      "0.02\n",
      "0.03\n",
      "0.04\n",
      "0.06\n",
      "0.01\n"
     ]
    }
   ],
   "source": [
    "for k,v in discs.items():\n",
    "    print(k)"
   ]
  },
  {
   "cell_type": "code",
   "execution_count": 44,
   "metadata": {},
   "outputs": [],
   "source": [
    "l=[.01,.02,.03,.04,.06]\n",
    "oneper = discs.pop(.01)\n",
    "twoper = discs.pop(.02)\n",
    "threeper = discs.pop(.03)\n",
    "fourper = discs.pop(.04)\n",
    "sixper = discs.pop(.06)"
   ]
  },
  {
   "cell_type": "code",
   "execution_count": 45,
   "metadata": {
    "scrolled": true
   },
   "outputs": [
    {
     "data": {
      "text/plain": [
       "<matplotlib.axes._subplots.AxesSubplot at 0x1bc6848f518>"
      ]
     },
     "execution_count": 45,
     "metadata": {},
     "output_type": "execute_result"
    },
    {
     "data": {
      "image/png": "[encoded data removed]",
      "text/plain": [
       "<Figure size 432x288 with 1 Axes>"
      ]
     },
     "metadata": {
      "needs_background": "light"
     },
     "output_type": "display_data"
    }
   ],
   "source": [
    "sns.distplot(df['Quantity'])"
   ]
  },
  {
   "cell_type": "code",
   "execution_count": 47,
   "metadata": {},
   "outputs": [
    {
     "name": "stdout",
     "output_type": "stream",
     "text": [
      "Distributions appear roughly equal,\n"
     ]
    },
    {
     "data": {
      "image/png": "[encoded data removed]",
      "text/plain": [
       "<Figure size 720x360 with 1 Axes>"
      ]
     },
     "metadata": {
      "needs_background": "light"
     },
     "output_type": "display_data"
    }
   ],
   "source": [
    "fig, ax = plt.subplots(figsize=(10,5))\n",
    "for k,v in discs.items():\n",
    "    sns.distplot(v,label=v)\n",
    "\n",
    "plt.title('Discount Distribution')\n",
    "plt.legend()\n",
    "print('Distributions appear roughly equal,')"
   ]
  },
  {
   "cell_type": "markdown",
   "metadata": {},
   "source": [
    "## Initial Observations:\n",
    "\n",
    "Datatype is numeric.  \n",
    "\n",
    "The average quantity ordered from this sample is : 24.0\n",
    "There are 2155 orders in this sample. \n",
    "\n",
    "Discounts are as follows:\n",
    "0.0, 0.15, 0.05, 0.2, 0.25, 0.1, 0.02, 0.03, 0.04, 0.06, 0.01\n",
    "\n",
    "The majority of product purchases are without the discount(1317/2155) 61%, and frequency of discounts are as follows:\n",
    "5%\n",
    "10%\n",
    "20%\n",
    "15%\n",
    "25%\n",
    "\n",
    "For discounts 1%,2%,3%,4%, and 6% , the amount of data provided was relatively small to evaluate the impact on the whole.  This data was removed from further testing.\n",
    "\n",
    "Overall distributions appears relatively uniform. \n",
    "\n",
    "### Since we are comparing multiple discounts to inspect it's impact on quantity ordered an AVNOVA or Kruksal test will be run depending on how assumptions are met: \n",
    "   \n",
    "    \n",
    "Assumptions for ANOVA Testing: \n",
    "(see corresponding sections\n",
    "\n",
    "1) No significant outliers \n",
    "    * Upon a quick visual inspection, the distribution is skewed and visually there appears to be some outliers\n",
    "\n",
    "2) Equal variance\n",
    "    * Lavene's testing demonstrates NOT equal variance\n",
    "\n",
    "\n",
    "3) Normality (if n>15)\n",
    "      * Not required for discounts: 5%, 10%, 15%, 20% and 25% since n > 15\n",
    "\n",
    "\n"
   ]
  },
  {
   "cell_type": "markdown",
   "metadata": {},
   "source": [
    "### Assumption 1:  Outliers \n",
    "\n",
    "Evaluation and removal via Z-Score testing:\n"
   ]
  },
  {
   "cell_type": "code",
   "execution_count": 48,
   "metadata": {},
   "outputs": [
    {
     "name": "stdout",
     "output_type": "stream",
     "text": [
      "Found 20 outliers in Discount Group 0.0\n",
      "Found 2 outliers in Discount Group 0.15\n",
      "Found 3 outliers in Discount Group 0.05\n",
      "Found 2 outliers in Discount Group 0.2\n",
      "Found 3 outliers in Discount Group 0.25\n",
      "Found 3 outliers in Discount Group 0.1\n",
      "\n",
      " All of these outliers were removed\n"
     ]
    }
   ],
   "source": [
    "for disc, disc_data in discs.items():\n",
    "    idx_outs = fn.find_outliers_Z(disc_data)\n",
    "    print(f'Found {idx_outs.sum()} outliers in Discount Group {disc}')\n",
    "    discs[disc] = disc_data[~idx_outs]\n",
    "print('\\n All of these outliers were removed')"
   ]
  },
  {
   "cell_type": "markdown",
   "metadata": {},
   "source": [
    "### Assumption 2: Equal Variance\n",
    "\n",
    "Levines testing conducted on cleaned dataset\n"
   ]
  },
  {
   "cell_type": "code",
   "execution_count": 50,
   "metadata": {},
   "outputs": [],
   "source": [
    "#preparing data for levene's testing\n",
    "datad = []\n",
    "for k,v in discs.items():\n",
    "    datad.append(v)"
   ]
  },
  {
   "cell_type": "code",
   "execution_count": 51,
   "metadata": {},
   "outputs": [
    {
     "name": "stdout",
     "output_type": "stream",
     "text": [
      "Lavene test for equal variance results are 0.0003\n",
      "The groups do NOT have equal variance\n"
     ]
    }
   ],
   "source": [
    "import scipy.stats as stats\n",
    "stat,p = stats.levene(*datad)\n",
    "print(f'Lavene test for equal variance results are {round(p,4)}')\n",
    "sig = 'do NOT' if p < .05 else 'DO'\n",
    "\n",
    "print(f'The groups {sig} have equal variance')\n"
   ]
  },
  {
   "cell_type": "markdown",
   "metadata": {},
   "source": [
    "#### Since group does not prove to be equal variance, a **kruksal** will be conducted.\n",
    "Looking at sample sizes to determine if normality needs to be tested."
   ]
  },
  {
   "cell_type": "markdown",
   "metadata": {},
   "source": [
    "### Assumption 3: Normality\n",
    "\n",
    "First, checking sample sizes since assumption for normality depends on sample size. If 2-9 groups, each group n >= 15\n",
    "\n",
    "For Discounts of 5%, 10%, 15%, 20% and 25% n>15 "
   ]
  },
  {
   "cell_type": "code",
   "execution_count": 52,
   "metadata": {
    "scrolled": true
   },
   "outputs": [
    {
     "name": "stdout",
     "output_type": "stream",
     "text": [
      "There are 1297 samples in the 0.0 discount group.\n",
      "There are 155 samples in the 0.15 discount group.\n",
      "There are 182 samples in the 0.05 discount group.\n",
      "There are 159 samples in the 0.2 discount group.\n",
      "There are 151 samples in the 0.25 discount group.\n",
      "There are 170 samples in the 0.1 discount group.\n",
      "\n",
      "All samples are >15: Normality Assumption Criterion is met.\n"
     ]
    }
   ],
   "source": [
    "n = []\n",
    "for disc, disc_data in discs.items():\n",
    "    print(f'There are {len(disc_data)} samples in the {disc} discount group.')    \n",
    "    n.append(len(disc_data)>15)\n",
    "if all(n):\n",
    "    print('\\nAll samples are >15: Normality Assumption Criterion is met.')\n"
   ]
  },
  {
   "cell_type": "markdown",
   "metadata": {},
   "source": [
    "## Kruksal Testing:"
   ]
  },
  {
   "cell_type": "code",
   "execution_count": 53,
   "metadata": {},
   "outputs": [
    {
     "name": "stdout",
     "output_type": "stream",
     "text": [
      "Kruskal test p value: 0.0\n",
      "Reject the null hypothesis\n"
     ]
    }
   ],
   "source": [
    "stat, p = stats.kruskal(*datad)\n",
    "print(f\"Kruskal test p value: {round(p,4)}\")\n",
    "if p < .05 :\n",
    "    print(f'Reject the null hypothesis')\n",
    "else: \n",
    "    print(f'Null hypotheis remains true')\n",
    "    "
   ]
  },
  {
   "cell_type": "markdown",
   "metadata": {},
   "source": [
    "### ANOVA Testing for fun"
   ]
  },
  {
   "cell_type": "code",
   "execution_count": 54,
   "metadata": {},
   "outputs": [
    {
     "name": "stdout",
     "output_type": "stream",
     "text": [
      "ANOVA test p value: 0.0\n",
      "Reject the null hypothesis\n"
     ]
    }
   ],
   "source": [
    "stat, p = stats.f_oneway(*datad)\n",
    "print(f\"ANOVA test p value: {round(p,4)}\")\n",
    "if p < .05 :\n",
    "    print(f'Reject the null hypothesis')\n",
    "else: \n",
    "    print(f'Null hypotheis remains true')\n"
   ]
  },
  {
   "cell_type": "markdown",
   "metadata": {},
   "source": [
    "### Post-Hoc Testing: "
   ]
  },
  {
   "cell_type": "code",
   "execution_count": 60,
   "metadata": {},
   "outputs": [],
   "source": [
    "def prep_data_for_tukeys(reps):\n",
    "    \"\"\"Accepts a dictionary with group names as the keys \n",
    "    and pandas series as the values. \n",
    "    \n",
    "    Returns a dataframe ready for tukeys test:\n",
    "    - with a 'data' column and a 'group' column for sms.stats.multicomp.pairwise_tukeyhsd \n",
    "    \n",
    "    Example Use:\n",
    "    df_tukey = prep_data_for_tukeys(grp_data)\n",
    "    tukey = sms.stats.multicomp.pairwise_tukeyhsd(df_tukey['data'], df_tukey['group'])\n",
    "    tukey.summary()\"\"\"\n",
    "    import pandas as pd\n",
    "    df_tukey = pd.DataFrame(columns=['data','group'])\n",
    "    for k,v in  reps.items():\n",
    "        grp_df = v.rename('data').to_frame() \n",
    "        grp_df['group'] = k\n",
    "        df_tukey=pd.concat([df_tukey,grp_df],axis=0)\n",
    "        df_tukey['group']=df_tukey['group'].astype(str)\n",
    "        df_tukey['data']=df_tukey['data'].astype(float)\n",
    "    return df_tukey"
   ]
  },
  {
   "cell_type": "code",
   "execution_count": 61,
   "metadata": {
    "scrolled": true
   },
   "outputs": [
    {
     "data": {
      "text/html": [
       "<div>\n",
       "<style scoped>\n",
       "    .dataframe tbody tr th:only-of-type {\n",
       "        vertical-align: middle;\n",
       "    }\n",
       "\n",
       "    .dataframe tbody tr th {\n",
       "        vertical-align: top;\n",
       "    }\n",
       "\n",
       "    .dataframe thead th {\n",
       "        text-align: right;\n",
       "    }\n",
       "</style>\n",
       "<table border=\"1\" class=\"dataframe\">\n",
       "  <thead>\n",
       "    <tr style=\"text-align: right;\">\n",
       "      <th></th>\n",
       "      <th>data</th>\n",
       "      <th>group</th>\n",
       "    </tr>\n",
       "  </thead>\n",
       "  <tbody>\n",
       "    <tr>\n",
       "      <td>0</td>\n",
       "      <td>12.0</td>\n",
       "      <td>0.0</td>\n",
       "    </tr>\n",
       "    <tr>\n",
       "      <td>1</td>\n",
       "      <td>10.0</td>\n",
       "      <td>0.0</td>\n",
       "    </tr>\n",
       "    <tr>\n",
       "      <td>2</td>\n",
       "      <td>5.0</td>\n",
       "      <td>0.0</td>\n",
       "    </tr>\n",
       "    <tr>\n",
       "      <td>3</td>\n",
       "      <td>9.0</td>\n",
       "      <td>0.0</td>\n",
       "    </tr>\n",
       "    <tr>\n",
       "      <td>4</td>\n",
       "      <td>40.0</td>\n",
       "      <td>0.0</td>\n",
       "    </tr>\n",
       "    <tr>\n",
       "      <td>...</td>\n",
       "      <td>...</td>\n",
       "      <td>...</td>\n",
       "    </tr>\n",
       "    <tr>\n",
       "      <td>2095</td>\n",
       "      <td>30.0</td>\n",
       "      <td>0.1</td>\n",
       "    </tr>\n",
       "    <tr>\n",
       "      <td>2096</td>\n",
       "      <td>77.0</td>\n",
       "      <td>0.1</td>\n",
       "    </tr>\n",
       "    <tr>\n",
       "      <td>2098</td>\n",
       "      <td>25.0</td>\n",
       "      <td>0.1</td>\n",
       "    </tr>\n",
       "    <tr>\n",
       "      <td>2099</td>\n",
       "      <td>4.0</td>\n",
       "      <td>0.1</td>\n",
       "    </tr>\n",
       "    <tr>\n",
       "      <td>2135</td>\n",
       "      <td>2.0</td>\n",
       "      <td>0.1</td>\n",
       "    </tr>\n",
       "  </tbody>\n",
       "</table>\n",
       "<p>2114 rows × 2 columns</p>\n",
       "</div>"
      ],
      "text/plain": [
       "      data group\n",
       "0     12.0   0.0\n",
       "1     10.0   0.0\n",
       "2      5.0   0.0\n",
       "3      9.0   0.0\n",
       "4     40.0   0.0\n",
       "...    ...   ...\n",
       "2095  30.0   0.1\n",
       "2096  77.0   0.1\n",
       "2098  25.0   0.1\n",
       "2099   4.0   0.1\n",
       "2135   2.0   0.1\n",
       "\n",
       "[2114 rows x 2 columns]"
      ]
     },
     "execution_count": 61,
     "metadata": {},
     "output_type": "execute_result"
    }
   ],
   "source": [
    "disc_df = prep_data_for_tukeys(discs)\n",
    "disc_df"
   ]
  },
  {
   "cell_type": "code",
   "execution_count": 62,
   "metadata": {
    "scrolled": true
   },
   "outputs": [
    {
     "name": "stdout",
     "output_type": "stream",
     "text": [
      "<class 'pandas.core.frame.DataFrame'>\n",
      "Int64Index: 2114 entries, 0 to 2135\n",
      "Data columns (total 2 columns):\n",
      "data     2114 non-null float64\n",
      "group    2114 non-null object\n",
      "dtypes: float64(1), object(1)\n",
      "memory usage: 49.5+ KB\n"
     ]
    }
   ],
   "source": [
    "disc_df.info()"
   ]
  },
  {
   "cell_type": "code",
   "execution_count": 67,
   "metadata": {
    "scrolled": true
   },
   "outputs": [],
   "source": [
    "disc_df['data']=disc_df['data'].astype(float)\n",
    "disc_df['group']=disc_df['group'].astype(str)"
   ]
  },
  {
   "cell_type": "code",
   "execution_count": 68,
   "metadata": {},
   "outputs": [
    {
     "data": {
      "text/plain": [
       "data     float64\n",
       "group     object\n",
       "dtype: object"
      ]
     },
     "execution_count": 68,
     "metadata": {},
     "output_type": "execute_result"
    }
   ],
   "source": [
    "disc_df.dtypes"
   ]
  },
  {
   "cell_type": "code",
   "execution_count": 69,
   "metadata": {},
   "outputs": [
    {
     "data": {
      "text/plain": [
       "['0.0', '0.15', '0.05', '0.2', '0.25', '0.1']"
      ]
     },
     "execution_count": 69,
     "metadata": {},
     "output_type": "execute_result"
    }
   ],
   "source": [
    "d =list(disc_df['group'].unique())\n",
    "d"
   ]
  },
  {
   "cell_type": "code",
   "execution_count": 72,
   "metadata": {},
   "outputs": [],
   "source": [
    "import statsmodels.api as sms\n"
   ]
  },
  {
   "cell_type": "code",
   "execution_count": 135,
   "metadata": {
    "scrolled": true
   },
   "outputs": [
    {
     "data": {
      "text/html": [
       "<table class=\"simpletable\">\n",
       "<caption>Multiple Comparison of Means - Tukey HSD, FWER=0.05</caption>\n",
       "<tr>\n",
       "  <th>group1</th> <th>group2</th> <th>meandiff</th>  <th>p-adj</th>  <th>lower</th>   <th>upper</th>  <th>reject</th>\n",
       "</tr>\n",
       "<tr>\n",
       "    <td>0.0</td>   <td>0.05</td>   <td>6.0639</td>   <td>0.001</td> <td>2.4368</td>   <td>9.691</td>   <td>True</td> \n",
       "</tr>\n",
       "<tr>\n",
       "    <td>0.0</td>    <td>0.1</td>   <td>2.9654</td>  <td>0.2098</td> <td>-0.7723</td> <td>6.7031</td>   <td>False</td>\n",
       "</tr>\n",
       "<tr>\n",
       "    <td>0.0</td>   <td>0.15</td>   <td>6.9176</td>   <td>0.001</td> <td>3.0233</td>  <td>10.8119</td>  <td>True</td> \n",
       "</tr>\n",
       "<tr>\n",
       "    <td>0.0</td>    <td>0.2</td>   <td>5.6293</td>   <td>0.001</td> <td>1.7791</td>  <td>9.4796</td>   <td>True</td> \n",
       "</tr>\n",
       "<tr>\n",
       "    <td>0.0</td>   <td>0.25</td>   <td>6.1416</td>   <td>0.001</td> <td>2.2016</td>  <td>10.0817</td>  <td>True</td> \n",
       "</tr>\n",
       "<tr>\n",
       "   <td>0.05</td>    <td>0.1</td>   <td>-3.0985</td> <td>0.4621</td> <td>-7.9861</td>  <td>1.789</td>   <td>False</td>\n",
       "</tr>\n",
       "<tr>\n",
       "   <td>0.05</td>   <td>0.15</td>   <td>0.8537</td>    <td>0.9</td>  <td>-4.1547</td>  <td>5.862</td>   <td>False</td>\n",
       "</tr>\n",
       "<tr>\n",
       "   <td>0.05</td>    <td>0.2</td>   <td>-0.4346</td>   <td>0.9</td>  <td>-5.4088</td> <td>4.5396</td>   <td>False</td>\n",
       "</tr>\n",
       "<tr>\n",
       "   <td>0.05</td>   <td>0.25</td>   <td>0.0777</td>    <td>0.9</td>  <td>-4.9663</td> <td>5.1218</td>   <td>False</td>\n",
       "</tr>\n",
       "<tr>\n",
       "    <td>0.1</td>   <td>0.15</td>   <td>3.9522</td>  <td>0.2311</td> <td>-1.1368</td> <td>9.0412</td>   <td>False</td>\n",
       "</tr>\n",
       "<tr>\n",
       "    <td>0.1</td>    <td>0.2</td>   <td>2.6639</td>  <td>0.6409</td> <td>-2.3915</td> <td>7.7193</td>   <td>False</td>\n",
       "</tr>\n",
       "<tr>\n",
       "    <td>0.1</td>   <td>0.25</td>   <td>3.1762</td>  <td>0.4872</td> <td>-1.9479</td> <td>8.3004</td>   <td>False</td>\n",
       "</tr>\n",
       "<tr>\n",
       "   <td>0.15</td>    <td>0.2</td>   <td>-1.2883</td>   <td>0.9</td>  <td>-6.4605</td>  <td>3.884</td>   <td>False</td>\n",
       "</tr>\n",
       "<tr>\n",
       "   <td>0.15</td>   <td>0.25</td>   <td>-0.7759</td>   <td>0.9</td>  <td>-6.0154</td> <td>4.4635</td>   <td>False</td>\n",
       "</tr>\n",
       "<tr>\n",
       "    <td>0.2</td>   <td>0.25</td>   <td>0.5123</td>    <td>0.9</td>  <td>-4.6945</td> <td>5.7191</td>   <td>False</td>\n",
       "</tr>\n",
       "</table>"
      ],
      "text/plain": [
       "<class 'statsmodels.iolib.table.SimpleTable'>"
      ]
     },
     "execution_count": 135,
     "metadata": {},
     "output_type": "execute_result"
    }
   ],
   "source": [
    "tukey = sms.stats.multicomp.pairwise_tukeyhsd(disc_df['data'],disc_df['group'])\n",
    "tukey.summary()\n",
    "\n"
   ]
  },
  {
   "cell_type": "code",
   "execution_count": 74,
   "metadata": {
    "scrolled": false
   },
   "outputs": [
    {
     "data": {
      "application/vnd.jupyter.widget-view+json": {
       "model_id": "cdf6118317be48b98f929179a7d81666",
       "version_major": 2,
       "version_minor": 0
      },
      "text/plain": [
       "interactive(children=(Dropdown(description='d', options=('0.0', '0.15', '0.05', '0.2', '0.25', '0.1'), value='…"
      ]
     },
     "metadata": {},
     "output_type": "display_data"
    }
   ],
   "source": [
    "\n",
    "@interact\n",
    "def plt_discounts(d=d):\n",
    "    sns.distplot(disc_df.groupby('group').get_group(d)['data'])\n",
    "    plt.axvline(qty_mu, color='purple')\n",
    "    "
   ]
  },
  {
   "cell_type": "markdown",
   "metadata": {},
   "source": [
    "\n"
   ]
  },
  {
   "cell_type": "markdown",
   "metadata": {},
   "source": [
    "There is a statistically significant effect on quantity purchased based on discount.\n"
   ]
  },
  {
   "cell_type": "code",
   "execution_count": 116,
   "metadata": {},
   "outputs": [
    {
     "name": "stdout",
     "output_type": "stream",
     "text": [
      "Revised average quantity sold across all orders 23.0\n",
      "Average quantity sold for orders where no discount was extended was: 21.0\n"
     ]
    }
   ],
   "source": [
    "stats = disc_df['data'].describe()\n",
    "dataqty = stats['mean']\n",
    "print(f'Revised average quantity sold across all orders {round(dataqty)}')\n",
    "zeros = disc_df.groupby('group').get_group('0.0')['data']\n",
    "nodiscav = zeros.mean()\n",
    "print(f'Average quantity sold for orders where no discount was extended was: {round(nodiscav)}')"
   ]
  },
  {
   "cell_type": "code",
   "execution_count": 70,
   "metadata": {},
   "outputs": [
    {
     "data": {
      "text/plain": [
       "22.670293282876063"
      ]
     },
     "execution_count": 70,
     "metadata": {},
     "output_type": "execute_result"
    }
   ],
   "source": [
    "data_mu = disc_df['data'].mean()\n",
    "data_mu"
   ]
  },
  {
   "cell_type": "code",
   "execution_count": 134,
   "metadata": {},
   "outputs": [
    {
     "data": {
      "image/png": "[encoded data removed]",
      "text/plain": [
       "<Figure size 720x576 with 1 Axes>"
      ]
     },
     "metadata": {
      "needs_background": "light"
     },
     "output_type": "display_data"
    },
    {
     "data": {
      "image/png": "[encoded data removed]",
      "text/plain": [
       "<Figure size 360x360 with 1 Axes>"
      ]
     },
     "metadata": {
      "needs_background": "light"
     },
     "output_type": "display_data"
    }
   ],
   "source": [
    "fig, ax = plt.subplots(figsize=(10,8))\n",
    "sns.catplot(data=disc_df, x='group', y='data', ax=ax)\n",
    "plt.gca()\n",
    "plt.show()"
   ]
  },
  {
   "cell_type": "code",
   "execution_count": 121,
   "metadata": {},
   "outputs": [
    {
     "data": {
      "text/plain": [
       "Text(0, 0.5, 'Average Quantity Purchased')"
      ]
     },
     "execution_count": 121,
     "metadata": {},
     "output_type": "execute_result"
    },
    {
     "data": {
      "image/png": "[encoded data removed]",
      "text/plain": [
       "<Figure size 720x576 with 1 Axes>"
      ]
     },
     "metadata": {
      "needs_background": "light"
     },
     "output_type": "display_data"
    }
   ],
   "source": [
    "fig, ax = plt.subplots(figsize=(10,8))\n",
    "sns.barplot(data=disc_df, x='group', y='data', ci=68)\n",
    "#plt.axhline(data_mu, linestyle='--', color='gray')\n",
    "plt.axhline(nodiscav, linestyle='--', color='lightblue')\n",
    "plt.title('Average Quanity Purchased at Varying Discont Levels', fontsize=20)\n",
    "plt.xlabel('Discount Extended')\n",
    "plt.ylabel('Average Quantity Purchased')"
   ]
  },
  {
   "cell_type": "code",
   "execution_count": 107,
   "metadata": {
    "scrolled": true
   },
   "outputs": [
    {
     "name": "stdout",
     "output_type": "stream",
     "text": [
      "The effect size for 0.0 is 0.0\n",
      "The effect size for 0.15 is 0.453\n",
      "The effect size for 0.05 is 0.3949\n",
      "The effect size for 0.2 is 0.3751\n",
      "The effect size for 0.25 is 0.4109\n",
      "The effect size for 0.1 is 0.1982\n"
     ]
    }
   ],
   "source": [
    "for disc, disc_data in discs.items():\n",
    "    es = fn.Cohen_d(zeros, disc_data)\n",
    "    print(f'The effect size for {disc} is {round(np.abs(es),4)}')"
   ]
  },
  {
   "cell_type": "markdown",
   "metadata": {},
   "source": [
    "## Hypothesis 1 Findings and Recommendation:\n",
    "\n",
    "### Findings:\n",
    "Rejecting the null hypothesis that discounts held no bearing over quantity sold. \n",
    "\n",
    "All discounts statistically are equal in terms of their effect on quantity sold, with a p-value of .001.  Each have varying effect sizes in compared to orders placed with no discount extended.\n",
    " \n",
    " * 05% discount with p value of 0.001 and effect of .1982 (small)\n",
    " * 15% discount with p value of 0.001 and effect size of .454 (medium)\n",
    " * 25% discount with p value of 0.001 and effect of .4109 (medium)\n",
    " * 10% discount with p value of 0.001 and effect of .1982 (small)\n",
    " * 20% discount with p value of 0.0046 and effect size of .3751 (medium)\n",
    " \n",
    "Revised average qty sold is 23.\n",
    " \n",
    "###  Recommendation:\n",
    "\n",
    "While larger discounts did deomonstrate significant effect on quantity purchased, smaller discounts held a statistically equal effect.  To recognize the effect of driving higher quantities purchased and realize larger profit margins, offer the smaller discount.\n"
   ]
  },
  {
   "cell_type": "markdown",
   "metadata": {},
   "source": [
    "# HYPOTHESIS 2:"
   ]
  },
  {
   "cell_type": "markdown",
   "metadata": {},
   "source": [
    "> ***Do some categories sell better in different regions??***  "
   ]
  },
  {
   "cell_type": "markdown",
   "metadata": {},
   "source": [
    "\n",
    "- $𝐻0$ : All categories generate equal revenues.\n",
    "- $𝐻1$ : Certain categories sell at statistically higher rates of revneu than others.\n",
    "- $𝐻1𝑎$ : "
   ]
  },
  {
   "cell_type": "markdown",
   "metadata": {},
   "source": [
    "### Importing and inspecting data from Product and OrderDetail tables:\n",
    "\n",
    "These tables includes product information data including:\n",
    "\n",
    "1) Categories \n",
    "\n",
    "2) Pricing and discount information to generate revenues\n"
   ]
  },
  {
   "cell_type": "code",
   "execution_count": 136,
   "metadata": {},
   "outputs": [
    {
     "data": {
      "text/html": [
       "<div>\n",
       "<style scoped>\n",
       "    .dataframe tbody tr th:only-of-type {\n",
       "        vertical-align: middle;\n",
       "    }\n",
       "\n",
       "    .dataframe tbody tr th {\n",
       "        vertical-align: top;\n",
       "    }\n",
       "\n",
       "    .dataframe thead th {\n",
       "        text-align: right;\n",
       "    }\n",
       "</style>\n",
       "<table border=\"1\" class=\"dataframe\">\n",
       "  <thead>\n",
       "    <tr style=\"text-align: right;\">\n",
       "      <th></th>\n",
       "      <th>ProductId</th>\n",
       "      <th>ProductName</th>\n",
       "      <th>UnitPrice</th>\n",
       "      <th>CategoryId</th>\n",
       "      <th>CategoryName</th>\n",
       "      <th>Discount</th>\n",
       "      <th>Quantity</th>\n",
       "    </tr>\n",
       "  </thead>\n",
       "  <tbody>\n",
       "    <tr>\n",
       "      <td>0</td>\n",
       "      <td>11</td>\n",
       "      <td>Queso Cabrales</td>\n",
       "      <td>14.0</td>\n",
       "      <td>4</td>\n",
       "      <td>Dairy Products</td>\n",
       "      <td>0.0</td>\n",
       "      <td>12</td>\n",
       "    </tr>\n",
       "    <tr>\n",
       "      <td>1</td>\n",
       "      <td>42</td>\n",
       "      <td>Singaporean Hokkien Fried Mee</td>\n",
       "      <td>9.8</td>\n",
       "      <td>5</td>\n",
       "      <td>Grains/Cereals</td>\n",
       "      <td>0.0</td>\n",
       "      <td>10</td>\n",
       "    </tr>\n",
       "    <tr>\n",
       "      <td>2</td>\n",
       "      <td>72</td>\n",
       "      <td>Mozzarella di Giovanni</td>\n",
       "      <td>34.8</td>\n",
       "      <td>4</td>\n",
       "      <td>Dairy Products</td>\n",
       "      <td>0.0</td>\n",
       "      <td>5</td>\n",
       "    </tr>\n",
       "    <tr>\n",
       "      <td>3</td>\n",
       "      <td>14</td>\n",
       "      <td>Tofu</td>\n",
       "      <td>18.6</td>\n",
       "      <td>7</td>\n",
       "      <td>Produce</td>\n",
       "      <td>0.0</td>\n",
       "      <td>9</td>\n",
       "    </tr>\n",
       "    <tr>\n",
       "      <td>4</td>\n",
       "      <td>51</td>\n",
       "      <td>Manjimup Dried Apples</td>\n",
       "      <td>42.4</td>\n",
       "      <td>7</td>\n",
       "      <td>Produce</td>\n",
       "      <td>0.0</td>\n",
       "      <td>40</td>\n",
       "    </tr>\n",
       "  </tbody>\n",
       "</table>\n",
       "</div>"
      ],
      "text/plain": [
       "   ProductId                    ProductName  UnitPrice  CategoryId  \\\n",
       "0         11                 Queso Cabrales       14.0           4   \n",
       "1         42  Singaporean Hokkien Fried Mee        9.8           5   \n",
       "2         72         Mozzarella di Giovanni       34.8           4   \n",
       "3         14                           Tofu       18.6           7   \n",
       "4         51          Manjimup Dried Apples       42.4           7   \n",
       "\n",
       "     CategoryName  Discount  Quantity  \n",
       "0  Dairy Products       0.0        12  \n",
       "1  Grains/Cereals       0.0        10  \n",
       "2  Dairy Products       0.0         5  \n",
       "3         Produce       0.0         9  \n",
       "4         Produce       0.0        40  "
      ]
     },
     "execution_count": 136,
     "metadata": {},
     "output_type": "execute_result"
    }
   ],
   "source": [
    "##clean sql notation\n",
    "cur.execute(\"\"\"SELECT \n",
    "                ProductId, \n",
    "                ProductName, \n",
    "                od.UnitPrice,\n",
    "                CategoryID, \n",
    "                CategoryName, \n",
    "                Discount, \n",
    "                Quantity\n",
    "                FROM Product AS p\n",
    "                JOIN OrderDetail as od\n",
    "                ON p.ID = Od.ProductId\n",
    "                JOIN Category as c \n",
    "                ON c.ID = p.CategoryID;\"\"\")\n",
    "catavs = pd.DataFrame(cur.fetchall(), columns=[x[0] for x in cur.description])\n",
    "catavs.head()"
   ]
  },
  {
   "cell_type": "code",
   "execution_count": 137,
   "metadata": {},
   "outputs": [],
   "source": [
    "#Revenue is calculated by subtracting discounts from the UnitPrice and multiplying by quantity ordered.\n",
    "catavs['Revenue'] = (catavs['UnitPrice'] * (1 - catavs['Discount']))*catavs['Quantity']"
   ]
  },
  {
   "cell_type": "code",
   "execution_count": 138,
   "metadata": {},
   "outputs": [
    {
     "name": "stdout",
     "output_type": "stream",
     "text": [
      "587.0 2\n"
     ]
    }
   ],
   "source": [
    "avcrev = catavs['Revenue'].mean()\n",
    "print (round(avcrev),2)\n",
    "cg = catavs['CategoryName'].unique()\n",
    "\n",
    "\n"
   ]
  },
  {
   "cell_type": "markdown",
   "metadata": {},
   "source": [
    "### Initial Visual Inspection and Observations:\n",
    "\n",
    "There are 8 different categories sold in this company that represent 77 products.\n",
    "\n",
    "The average revenue generated across all categories is `$587.00`\n",
    "\n",
    "Visually, it appears that there are three categories that significantly generate higher revenues than others, additional testing will demonstrate their siginficance and effect.\n"
   ]
  },
  {
   "cell_type": "code",
   "execution_count": 139,
   "metadata": {},
   "outputs": [
    {
     "data": {
      "image/png": "[encoded data removed]",
      "text/plain": [
       "<Figure size 864x576 with 1 Axes>"
      ]
     },
     "metadata": {
      "needs_background": "light"
     },
     "output_type": "display_data"
    }
   ],
   "source": [
    "fig, ax = plt.subplots(figsize=(12,8))\n",
    "sns.barplot(data=catavs, x='CategoryName', y='Revenue', ci=68, ax=ax)\n",
    "plt.title('Average Revenue Generated Accross All Categories', fontsize=20)\n",
    "plt.axhline(avcrev,linestyle=\"--\", color='gray', linewidth=.6 )\n",
    "plt.xlabel('Category')\n",
    "plt.ylabel('Revenue')\n",
    "plt.show()"
   ]
  },
  {
   "cell_type": "code",
   "execution_count": 140,
   "metadata": {},
   "outputs": [
    {
     "name": "stdout",
     "output_type": "stream",
     "text": [
      "There are 8 different categories sold in this company\n",
      "The average revenue generated accross all categories is 587.0\n"
     ]
    }
   ],
   "source": [
    "catcount = len(catavs['CategoryId'].unique())\n",
    "avrev = catavs['Revenue'].mean()\n",
    "print(f'There are {catcount} different categories sold in this company')\n",
    "print(f'The average revenue generated accross all categories is {round(avcrev,0)}')"
   ]
  },
  {
   "cell_type": "code",
   "execution_count": 141,
   "metadata": {
    "scrolled": false
   },
   "outputs": [],
   "source": [
    "cats = {}\n",
    "for cat in catavs['CategoryName'].unique():\n",
    "    cats[cat] = catavs.groupby('CategoryName').get_group(cat)['Revenue']"
   ]
  },
  {
   "cell_type": "markdown",
   "metadata": {},
   "source": [
    "### Assumption 1: Outliers\n",
    "Outliers removed via z-score testing."
   ]
  },
  {
   "cell_type": "code",
   "execution_count": 142,
   "metadata": {
    "scrolled": true
   },
   "outputs": [
    {
     "name": "stdout",
     "output_type": "stream",
     "text": [
      "Found 5 outliers in Category # Dairy Products\n",
      "Found 6 outliers in Category # Grains/Cereals\n",
      "Found 1 outliers in Category # Produce\n",
      "Found 8 outliers in Category # Seafood\n",
      "Found 4 outliers in Category # Condiments\n",
      "Found 9 outliers in Category # Confections\n",
      "Found 12 outliers in Category # Beverages\n",
      "Found 4 outliers in Category # Meat/Poultry\n",
      "\n",
      " All of these outliers were removed\n"
     ]
    }
   ],
   "source": [
    "for cat, cat_data in cats.items():\n",
    "    idx_outs = fn.find_outliers_Z(cat_data)\n",
    "    print(f'Found {idx_outs.sum()} outliers in Category # {cat}')\n",
    "    cats[cat] = cat_data[~idx_outs]\n",
    "print('\\n All of these outliers were removed')"
   ]
  },
  {
   "cell_type": "code",
   "execution_count": 94,
   "metadata": {
    "scrolled": true
   },
   "outputs": [
    {
     "name": "stdout",
     "output_type": "stream",
     "text": [
      "There are 77 products\n"
     ]
    }
   ],
   "source": [
    "pids = catavs['ProductName'].unique()\n",
    "pids\n",
    "print(f'There are {len(pids)} products')"
   ]
  },
  {
   "cell_type": "markdown",
   "metadata": {},
   "source": [
    "### Assumption 2: Equal Variance\n",
    "\n",
    "Testing cleaned dataset for equal variance.\n",
    "\n",
    "Since the groups do NOT have euqal variance, a Kruksal test will be conducted."
   ]
  },
  {
   "cell_type": "code",
   "execution_count": 143,
   "metadata": {},
   "outputs": [],
   "source": [
    "datac = []\n",
    "for k,v in cats.items():\n",
    "    datac.append(v)"
   ]
  },
  {
   "cell_type": "code",
   "execution_count": 145,
   "metadata": {},
   "outputs": [
    {
     "name": "stdout",
     "output_type": "stream",
     "text": [
      "Lavene test for equal variance results are 0.0\n",
      "The groups do NOT have equal variance\n"
     ]
    }
   ],
   "source": [
    "import scipy.stats as stats\n",
    "stat,p = stats.levene(*datac)\n",
    "print(f'Lavene test for equal variance results are {round(p,4)}')\n",
    "sig = 'do NOT' if p < .05 else 'DO'\n",
    "\n",
    "print(f'The groups {sig} have equal variance')"
   ]
  },
  {
   "cell_type": "markdown",
   "metadata": {},
   "source": [
    "### Assumption 3: Normality\n",
    "\n",
    "All groups are > 15 samples = Assumption for normality is met."
   ]
  },
  {
   "cell_type": "code",
   "execution_count": 147,
   "metadata": {
    "scrolled": true
   },
   "outputs": [
    {
     "name": "stdout",
     "output_type": "stream",
     "text": [
      "There are 361 samples in the data set for Employee #Dairy Products.\n",
      "There are 190 samples in the data set for Employee #Grains/Cereals.\n",
      "There are 135 samples in the data set for Employee #Produce.\n",
      "There are 322 samples in the data set for Employee #Seafood.\n",
      "There are 212 samples in the data set for Employee #Condiments.\n",
      "There are 325 samples in the data set for Employee #Confections.\n",
      "There are 392 samples in the data set for Employee #Beverages.\n",
      "There are 169 samples in the data set for Employee #Meat/Poultry.\n",
      "\n",
      "All samples are >15: Normality Assumption Criterion is met.\n"
     ]
    }
   ],
   "source": [
    "n = []\n",
    "\n",
    "for cat, cat_data in cats.items():\n",
    "    print(f'There are {len(cat_data)} samples in the data set for Employee #{cat}.')\n",
    "    n.append(len(cat_data)>15)\n",
    "if all(n):\n",
    "    print('\\nAll samples are >15: Normality Assumption Criterion is met.')\n",
    "\n",
    "\n"
   ]
  },
  {
   "cell_type": "markdown",
   "metadata": {},
   "source": [
    "### Kruksal Testing:\n",
    "\n",
    "Results, reject the null hypothesis."
   ]
  },
  {
   "cell_type": "code",
   "execution_count": 148,
   "metadata": {
    "scrolled": true
   },
   "outputs": [
    {
     "name": "stdout",
     "output_type": "stream",
     "text": [
      "Kruskal test p value: 0.0\n",
      "Reject the null hypothesis\n"
     ]
    }
   ],
   "source": [
    "stat, p = stats.kruskal(*datac)\n",
    "print(f\"Kruskal test p value: {round(p,4)}\")\n",
    "if p < .05 :\n",
    "    print(f'Reject the null hypothesis')\n",
    "else: \n",
    "    print(f'Null hypotheis remains true')"
   ]
  },
  {
   "cell_type": "markdown",
   "metadata": {},
   "source": [
    "Visually inspecting:"
   ]
  },
  {
   "cell_type": "markdown",
   "metadata": {},
   "source": [
    "### Post-Hoc Testing: "
   ]
  },
  {
   "cell_type": "code",
   "execution_count": 149,
   "metadata": {},
   "outputs": [
    {
     "data": {
      "text/html": [
       "<div>\n",
       "<style scoped>\n",
       "    .dataframe tbody tr th:only-of-type {\n",
       "        vertical-align: middle;\n",
       "    }\n",
       "\n",
       "    .dataframe tbody tr th {\n",
       "        vertical-align: top;\n",
       "    }\n",
       "\n",
       "    .dataframe thead th {\n",
       "        text-align: right;\n",
       "    }\n",
       "</style>\n",
       "<table border=\"1\" class=\"dataframe\">\n",
       "  <thead>\n",
       "    <tr style=\"text-align: right;\">\n",
       "      <th></th>\n",
       "      <th>data</th>\n",
       "      <th>group</th>\n",
       "    </tr>\n",
       "  </thead>\n",
       "  <tbody>\n",
       "    <tr>\n",
       "      <td>0</td>\n",
       "      <td>168.00</td>\n",
       "      <td>Dairy Products</td>\n",
       "    </tr>\n",
       "    <tr>\n",
       "      <td>2</td>\n",
       "      <td>174.00</td>\n",
       "      <td>Dairy Products</td>\n",
       "    </tr>\n",
       "    <tr>\n",
       "      <td>12</td>\n",
       "      <td>47.50</td>\n",
       "      <td>Dairy Products</td>\n",
       "    </tr>\n",
       "    <tr>\n",
       "      <td>13</td>\n",
       "      <td>1088.00</td>\n",
       "      <td>Dairy Products</td>\n",
       "    </tr>\n",
       "    <tr>\n",
       "      <td>14</td>\n",
       "      <td>200.00</td>\n",
       "      <td>Dairy Products</td>\n",
       "    </tr>\n",
       "    <tr>\n",
       "      <td>...</td>\n",
       "      <td>...</td>\n",
       "      <td>...</td>\n",
       "    </tr>\n",
       "    <tr>\n",
       "      <td>2096</td>\n",
       "      <td>2702.70</td>\n",
       "      <td>Meat/Poultry</td>\n",
       "    </tr>\n",
       "    <tr>\n",
       "      <td>2098</td>\n",
       "      <td>738.00</td>\n",
       "      <td>Meat/Poultry</td>\n",
       "    </tr>\n",
       "    <tr>\n",
       "      <td>2099</td>\n",
       "      <td>86.40</td>\n",
       "      <td>Meat/Poultry</td>\n",
       "    </tr>\n",
       "    <tr>\n",
       "      <td>2102</td>\n",
       "      <td>111.75</td>\n",
       "      <td>Meat/Poultry</td>\n",
       "    </tr>\n",
       "    <tr>\n",
       "      <td>2148</td>\n",
       "      <td>48.00</td>\n",
       "      <td>Meat/Poultry</td>\n",
       "    </tr>\n",
       "  </tbody>\n",
       "</table>\n",
       "<p>2106 rows × 2 columns</p>\n",
       "</div>"
      ],
      "text/plain": [
       "         data           group\n",
       "0      168.00  Dairy Products\n",
       "2      174.00  Dairy Products\n",
       "12      47.50  Dairy Products\n",
       "13    1088.00  Dairy Products\n",
       "14     200.00  Dairy Products\n",
       "...       ...             ...\n",
       "2096  2702.70    Meat/Poultry\n",
       "2098   738.00    Meat/Poultry\n",
       "2099    86.40    Meat/Poultry\n",
       "2102   111.75    Meat/Poultry\n",
       "2148    48.00    Meat/Poultry\n",
       "\n",
       "[2106 rows x 2 columns]"
      ]
     },
     "execution_count": 149,
     "metadata": {},
     "output_type": "execute_result"
    }
   ],
   "source": [
    "cat_df = prep_data_for_tukeys(cats)\n",
    "cat_df"
   ]
  },
  {
   "cell_type": "code",
   "execution_count": 150,
   "metadata": {},
   "outputs": [],
   "source": [
    "catstats = cat_df['data'].describe()\n",
    "catav = catstats['mean']\n",
    "## need avrev for 2,3,5 and 1,8 based on Tukey\n",
    "\n"
   ]
  },
  {
   "cell_type": "code",
   "execution_count": 151,
   "metadata": {
    "scrolled": false
   },
   "outputs": [
    {
     "data": {
      "application/vnd.jupyter.widget-view+json": {
       "model_id": "6938c6eef4624e0ca8ee7e50e949a2ab",
       "version_major": 2,
       "version_minor": 0
      },
      "text/plain": [
       "interactive(children=(Dropdown(description='d', options=('Dairy Products', 'Grains/Cereals', 'Produce', 'Seafo…"
      ]
     },
     "metadata": {},
     "output_type": "display_data"
    }
   ],
   "source": [
    "\n",
    "@interact\n",
    "def plt_discounts(d=cg):\n",
    "    sns.distplot(catavs.groupby('CategoryName').get_group(d)['Revenue'])\n",
    "    plt.axvline(catav, color='purple')\n",
    "    plt.title('Average Revenue Generated by Category')\n",
    "    plt.ylabel('Disstribution')"
   ]
  },
  {
   "cell_type": "code",
   "execution_count": 152,
   "metadata": {
    "scrolled": true
   },
   "outputs": [
    {
     "data": {
      "text/html": [
       "<table class=\"simpletable\">\n",
       "<caption>Multiple Comparison of Means - Tukey HSD, FWER=0.05</caption>\n",
       "<tr>\n",
       "      <th>group1</th>         <th>group2</th>     <th>meandiff</th>   <th>p-adj</th>   <th>lower</th>     <th>upper</th>   <th>reject</th>\n",
       "</tr>\n",
       "<tr>\n",
       "     <td>Beverages</td>     <td>Condiments</td>    <td>55.7712</td>    <td>0.9</td>   <td>-78.858</td>  <td>190.4005</td>   <td>False</td>\n",
       "</tr>\n",
       "<tr>\n",
       "     <td>Beverages</td>     <td>Confections</td>   <td>27.0669</td>    <td>0.9</td>  <td>-91.4026</td>  <td>145.5364</td>   <td>False</td>\n",
       "</tr>\n",
       "<tr>\n",
       "     <td>Beverages</td>   <td>Dairy Products</td> <td>194.0913</td>   <td>0.001</td>  <td>78.8965</td>   <td>309.286</td>   <td>True</td> \n",
       "</tr>\n",
       "<tr>\n",
       "     <td>Beverages</td>   <td>Grains/Cereals</td>  <td>21.4034</td>    <td>0.9</td>  <td>-118.1928</td> <td>160.9996</td>   <td>False</td>\n",
       "</tr>\n",
       "<tr>\n",
       "     <td>Beverages</td>    <td>Meat/Poultry</td>   <td>411.042</td>   <td>0.001</td> <td>265.7215</td>  <td>556.3625</td>   <td>True</td> \n",
       "</tr>\n",
       "<tr>\n",
       "     <td>Beverages</td>       <td>Produce</td>    <td>296.1055</td>   <td>0.001</td>  <td>138.516</td>   <td>453.695</td>   <td>True</td> \n",
       "</tr>\n",
       "<tr>\n",
       "     <td>Beverages</td>       <td>Seafood</td>    <td>-46.1557</td>    <td>0.9</td>  <td>-164.9266</td>  <td>72.6151</td>   <td>False</td>\n",
       "</tr>\n",
       "<tr>\n",
       "    <td>Condiments</td>     <td>Confections</td>  <td>-28.7043</td>    <td>0.9</td>  <td>-168.1193</td> <td>110.7106</td>   <td>False</td>\n",
       "</tr>\n",
       "<tr>\n",
       "    <td>Condiments</td>   <td>Dairy Products</td>  <td>138.32</td>   <td>0.0449</td>  <td>1.6769</td>   <td>274.9631</td>   <td>True</td> \n",
       "</tr>\n",
       "<tr>\n",
       "    <td>Condiments</td>   <td>Grains/Cereals</td> <td>-34.3678</td>    <td>0.9</td>  <td>-192.129</td>  <td>123.3933</td>   <td>False</td>\n",
       "</tr>\n",
       "<tr>\n",
       "    <td>Condiments</td>    <td>Meat/Poultry</td>  <td>355.2707</td>   <td>0.001</td> <td>192.4225</td>   <td>518.119</td>   <td>True</td> \n",
       "</tr>\n",
       "<tr>\n",
       "    <td>Condiments</td>       <td>Produce</td>    <td>240.3342</td>   <td>0.001</td>  <td>66.4494</td>  <td>414.2191</td>   <td>True</td> \n",
       "</tr>\n",
       "<tr>\n",
       "    <td>Condiments</td>       <td>Seafood</td>    <td>-101.927</td>  <td>0.3439</td> <td>-241.5981</td>  <td>37.7441</td>   <td>False</td>\n",
       "</tr>\n",
       "<tr>\n",
       "    <td>Confections</td>  <td>Dairy Products</td> <td>167.0244</td>   <td>0.001</td>  <td>46.2712</td>  <td>287.7776</td>   <td>True</td> \n",
       "</tr>\n",
       "<tr>\n",
       "    <td>Confections</td>  <td>Grains/Cereals</td>  <td>-5.6635</td>    <td>0.9</td>  <td>-149.8807</td> <td>138.5537</td>   <td>False</td>\n",
       "</tr>\n",
       "<tr>\n",
       "    <td>Confections</td>   <td>Meat/Poultry</td>  <td>383.9751</td>   <td>0.001</td> <td>234.2101</td>  <td>533.7401</td>   <td>True</td> \n",
       "</tr>\n",
       "<tr>\n",
       "    <td>Confections</td>      <td>Produce</td>    <td>269.0386</td>   <td>0.001</td> <td>107.3415</td>  <td>430.7357</td>   <td>True</td> \n",
       "</tr>\n",
       "<tr>\n",
       "    <td>Confections</td>      <td>Seafood</td>    <td>-73.2226</td>  <td>0.6099</td> <td>-197.392</td>   <td>50.9467</td>   <td>False</td>\n",
       "</tr>\n",
       "<tr>\n",
       "  <td>Dairy Products</td> <td>Grains/Cereals</td> <td>-172.6879</td> <td>0.0054</td> <td>-314.2272</td> <td>-31.1485</td>   <td>True</td> \n",
       "</tr>\n",
       "<tr>\n",
       "  <td>Dairy Products</td>  <td>Meat/Poultry</td>  <td>216.9507</td>   <td>0.001</td>  <td>69.7626</td>  <td>364.1389</td>   <td>True</td> \n",
       "</tr>\n",
       "<tr>\n",
       "  <td>Dairy Products</td>     <td>Produce</td>    <td>102.0142</td>  <td>0.5181</td> <td>-57.2991</td>  <td>261.3276</td>   <td>False</td>\n",
       "</tr>\n",
       "<tr>\n",
       "  <td>Dairy Products</td>     <td>Seafood</td>    <td>-240.247</td>   <td>0.001</td> <td>-361.2959</td> <td>-119.1982</td>  <td>True</td> \n",
       "</tr>\n",
       "<tr>\n",
       "  <td>Grains/Cereals</td>  <td>Meat/Poultry</td>  <td>389.6386</td>   <td>0.001</td> <td>222.6607</td>  <td>556.6164</td>   <td>True</td> \n",
       "</tr>\n",
       "<tr>\n",
       "  <td>Grains/Cereals</td>     <td>Produce</td>    <td>274.7021</td>   <td>0.001</td>  <td>96.9438</td>  <td>452.4604</td>   <td>True</td> \n",
       "</tr>\n",
       "<tr>\n",
       "  <td>Grains/Cereals</td>     <td>Seafood</td>    <td>-67.5591</td>   <td>0.831</td> <td>-212.024</td>   <td>76.9057</td>   <td>False</td>\n",
       "</tr>\n",
       "<tr>\n",
       "   <td>Meat/Poultry</td>      <td>Produce</td>    <td>-114.9365</td> <td>0.5359</td> <td>-297.2246</td>  <td>67.3516</td>   <td>False</td>\n",
       "</tr>\n",
       "<tr>\n",
       "   <td>Meat/Poultry</td>      <td>Seafood</td>    <td>-457.1977</td>  <td>0.001</td> <td>-607.2012</td> <td>-307.1942</td>  <td>True</td> \n",
       "</tr>\n",
       "<tr>\n",
       "      <td>Produce</td>        <td>Seafood</td>    <td>-342.2612</td>  <td>0.001</td> <td>-504.1792</td> <td>-180.3432</td>  <td>True</td> \n",
       "</tr>\n",
       "</table>"
      ],
      "text/plain": [
       "<class 'statsmodels.iolib.table.SimpleTable'>"
      ]
     },
     "execution_count": 152,
     "metadata": {},
     "output_type": "execute_result"
    }
   ],
   "source": [
    "tukeyc = sms.stats.multicomp.pairwise_tukeyhsd(cat_df['data'],cat_df['group'])\n",
    "tukeyc.summary()"
   ]
  },
  {
   "cell_type": "code",
   "execution_count": 107,
   "metadata": {},
   "outputs": [],
   "source": [
    "import functions as fn"
   ]
  },
  {
   "cell_type": "code",
   "execution_count": 153,
   "metadata": {},
   "outputs": [
    {
     "name": "stdout",
     "output_type": "stream",
     "text": [
      "The average revenue for Dairy Products is $593.86\n",
      "The average revenue for Grains/Cereals is $421.17\n",
      "The average revenue for Produce is $695.87\n",
      "The average revenue for Seafood is $353.61\n",
      "The average revenue for Condiments is $455.54\n",
      "The average revenue for Confections is $426.83\n",
      "The average revenue for Beverages is $399.77\n",
      "The average revenue for Meat/Poultry is $810.81\n"
     ]
    }
   ],
   "source": [
    "for cat, cat_data in cats.items():\n",
    "    print(f'The average revenue for {cat} is ${round(cat_data.mean(),2)}')"
   ]
  },
  {
   "cell_type": "code",
   "execution_count": 109,
   "metadata": {},
   "outputs": [
    {
     "data": {
      "text/plain": [
       "data    20.007623\n",
       "dtype: float64"
      ]
     },
     "execution_count": 109,
     "metadata": {},
     "output_type": "execute_result"
    }
   ],
   "source": [
    "cond = cat_df.groupby('group').get_group('Condiments')\n",
    "conf = cat_df.groupby('group').get_group('Confections')\n",
    "gc = cat_df.groupby('group').get_group('Grains/Cereals')\n",
    "\n",
    "seg2 = pd.concat([cond, conf, gc])\n",
    "seg2av = seg2.mean()\n",
    "seg2av"
   ]
  },
  {
   "cell_type": "code",
   "execution_count": 110,
   "metadata": {},
   "outputs": [
    {
     "data": {
      "text/plain": [
       "data    15.985342\n",
       "dtype: float64"
      ]
     },
     "execution_count": 110,
     "metadata": {},
     "output_type": "execute_result"
    }
   ],
   "source": [
    "bev = cat_df.groupby('group').get_group('Beverages')\n",
    "sea = cat_df.groupby('group').get_group('Seafood')\n",
    "\n",
    "\n",
    "seg1 = pd.concat([sea, bev])\n",
    "seg1av = seg1.mean()\n",
    "seg1av"
   ]
  },
  {
   "cell_type": "markdown",
   "metadata": {},
   "source": [
    "### Hypothesis 2: A Clean Vizualization"
   ]
  },
  {
   "cell_type": "code",
   "execution_count": 111,
   "metadata": {},
   "outputs": [
    {
     "data": {
      "text/plain": [
       "Text(0.5, 1.0, 'Average Revenue Generated By Category')"
      ]
     },
     "execution_count": 111,
     "metadata": {},
     "output_type": "execute_result"
    },
    {
     "data": {
      "image/png": "[encoded data removed]",
      "text/plain": [
       "<Figure size 720x576 with 1 Axes>"
      ]
     },
     "metadata": {},
     "output_type": "display_data"
    }
   ],
   "source": [
    "fig, ax = plt.subplots(figsize=(10,8))\n",
    "sns.barplot(data=cat_df, x='group', y='data', ci=68)\n",
    "plt.axhline(catav, linestyle='--', color='gray')\n",
    "#plt.axhline(seg1av)\n",
    "#plt.axhline(seg2av)\n",
    "plt.ylabel('Average Revenue Generated per Order')\n",
    "plt.xlabel('Category')\n",
    "plt.xticks(rotation=45)\n",
    "plt.title('Average Revenue Generated By Category', fontsize=20)\n"
   ]
  },
  {
   "cell_type": "code",
   "execution_count": 112,
   "metadata": {},
   "outputs": [
    {
     "data": {
      "text/plain": [
       "0.904734987579963"
      ]
     },
     "execution_count": 112,
     "metadata": {},
     "output_type": "execute_result"
    }
   ],
   "source": [
    "## Meat/Poultry Effect Size against aggregate data:\n",
    "mp = cat_df.groupby('group').get_group('Meat/Poultry')\n",
    "np.abs(fn.Cohen_d(cat_df['data'], mp['data']))"
   ]
  },
  {
   "cell_type": "code",
   "execution_count": 113,
   "metadata": {},
   "outputs": [
    {
     "data": {
      "text/plain": [
       "0.6515716486660729"
      ]
     },
     "execution_count": 113,
     "metadata": {},
     "output_type": "execute_result"
    }
   ],
   "source": [
    "## Produce Effect Size against aggregate data:\n",
    "pdc = cat_df.groupby('group').get_group('Produce')\n",
    "np.abs(fn.Cohen_d(cat_df['data'], pdc['data']))"
   ]
  },
  {
   "cell_type": "code",
   "execution_count": 114,
   "metadata": {},
   "outputs": [
    {
     "data": {
      "text/plain": [
       "0.19649087394014503"
      ]
     },
     "execution_count": 114,
     "metadata": {},
     "output_type": "execute_result"
    }
   ],
   "source": [
    "## Produce Effect Size against aggregate data:\n",
    "dy = cat_df.groupby('group').get_group('Dairy Products')\n",
    "np.abs(fn.Cohen_d(cat_df['data'], dy['data']))"
   ]
  },
  {
   "cell_type": "code",
   "execution_count": 115,
   "metadata": {},
   "outputs": [
    {
     "data": {
      "text/plain": [
       "0.12960222062171836"
      ]
     },
     "execution_count": 115,
     "metadata": {},
     "output_type": "execute_result"
    }
   ],
   "source": [
    "##Seg 2 Cohen_d:\n",
    "fn.Cohen_d(cat_df['data'], seg2['data'])"
   ]
  },
  {
   "cell_type": "code",
   "execution_count": 116,
   "metadata": {
    "scrolled": true
   },
   "outputs": [
    {
     "data": {
      "text/plain": [
       "0.3647801694584493"
      ]
     },
     "execution_count": 116,
     "metadata": {},
     "output_type": "execute_result"
    }
   ],
   "source": [
    "##Seg 1 Cohen_d:\n",
    "fn.Cohen_d(cat_df['data'], seg1['data'])"
   ]
  },
  {
   "cell_type": "markdown",
   "metadata": {},
   "source": [
    "# HELP Cohen_f here?  Read below and help??"
   ]
  },
  {
   "cell_type": "markdown",
   "metadata": {},
   "source": [
    "### Hypothesis 2 Findings and Recommendation:\n",
    "\n",
    "#### Findings:\n",
    "\n",
    "the following categories are statistically equal:\n",
    "\n",
    "**Segment 1**   \n",
    "\n",
    "Item\t| Average Revenue\n",
    "--- | --- | \n",
    "Beverages |\t`$15.74`\n",
    "Seafood|\t`$16.28`\n",
    "\n",
    "\n",
    "With an effect size of .364 which is considered a medium effect size in comparison with mean average revenue amount.\n",
    "\n",
    "**Segment 2** \n",
    "\n",
    "Item\t| Average Revenue\n",
    "--- | --- | \n",
    "Grains/Cereals |\t`$20.19`\n",
    "Condiments|\t`$20.17`\n",
    "Confections\t| `$19.79`\n",
    "\n",
    "With an effect size of .130 which is considered a small effect size in comparison with the mean average revenue amount.\n",
    "\n",
    "\n",
    "**The following each had their own statistically significant average revenue as follows:**\n",
    "\n",
    "Item\t| Average Revenue | Effect Size\n",
    "--- | --- | ---\n",
    "Meat/Poultry |\t`$40.09` | .905\n",
    "Produce|\t`$33.66` | .651\n",
    "Dairy\t| `$25.55` | .196\n",
    "\n",
    "\n",
    "\n",
    "\n",
    "\n",
    "#### Recommendation: \n",
    "\n",
    "If there are additional products that align with the higher revenue generating categories, that category could be broadened to maximize revenue generating potential.\n",
    "\n",
    "Knowing what revenue each category generates could potentially influence the ability to appropriately categorize discounts.  However, not knowing profit margins - we'd need to take this into consideration.\n",
    "\n",
    "\n",
    "\n",
    "\n"
   ]
  },
  {
   "cell_type": "markdown",
   "metadata": {},
   "source": []
  },
  {
   "cell_type": "markdown",
   "metadata": {},
   "source": [
    "# HYPOTHESIS 3\n",
    "\n",
    "> ***Do certain sales representatives sell more than others?  Who are the top sellers?***\n",
    "\n",
    "$H0$: All sales representatives generate equal revenue.\n",
    "\n",
    "$H1$: Some sales representatives generate more than others in revenue."
   ]
  },
  {
   "cell_type": "markdown",
   "metadata": {},
   "source": [
    "### Importing and inspecting data from Product, OrderDetail, Order and Employee Tables\n",
    "These table includes information on:\n",
    "\n",
    "    1) Product information including SalesPrice, Discount and Quantity Sold\n",
    "    2) Sales Representative Information"
   ]
  },
  {
   "cell_type": "code",
   "execution_count": 154,
   "metadata": {
    "scrolled": true
   },
   "outputs": [
    {
     "data": {
      "text/html": [
       "<div>\n",
       "<style scoped>\n",
       "    .dataframe tbody tr th:only-of-type {\n",
       "        vertical-align: middle;\n",
       "    }\n",
       "\n",
       "    .dataframe tbody tr th {\n",
       "        vertical-align: top;\n",
       "    }\n",
       "\n",
       "    .dataframe thead th {\n",
       "        text-align: right;\n",
       "    }\n",
       "</style>\n",
       "<table border=\"1\" class=\"dataframe\">\n",
       "  <thead>\n",
       "    <tr style=\"text-align: right;\">\n",
       "      <th></th>\n",
       "      <th>ProductId</th>\n",
       "      <th>ProductName</th>\n",
       "      <th>Discontinued</th>\n",
       "      <th>OrderId</th>\n",
       "      <th>ProductId</th>\n",
       "      <th>SalesPrice</th>\n",
       "      <th>Quantity</th>\n",
       "      <th>Discount</th>\n",
       "      <th>EmployeeId</th>\n",
       "      <th>LastName</th>\n",
       "      <th>FirstName</th>\n",
       "      <th>Region</th>\n",
       "      <th>ShippedDate</th>\n",
       "    </tr>\n",
       "  </thead>\n",
       "  <tbody>\n",
       "    <tr>\n",
       "      <td>0</td>\n",
       "      <td>11</td>\n",
       "      <td>Queso Cabrales</td>\n",
       "      <td>0</td>\n",
       "      <td>10248</td>\n",
       "      <td>11</td>\n",
       "      <td>14.00</td>\n",
       "      <td>12</td>\n",
       "      <td>0.00</td>\n",
       "      <td>5</td>\n",
       "      <td>Buchanan</td>\n",
       "      <td>Steven</td>\n",
       "      <td>British Isles</td>\n",
       "      <td>2012-07-16</td>\n",
       "    </tr>\n",
       "    <tr>\n",
       "      <td>1</td>\n",
       "      <td>42</td>\n",
       "      <td>Singaporean Hokkien Fried Mee</td>\n",
       "      <td>1</td>\n",
       "      <td>10248</td>\n",
       "      <td>42</td>\n",
       "      <td>9.80</td>\n",
       "      <td>10</td>\n",
       "      <td>0.00</td>\n",
       "      <td>5</td>\n",
       "      <td>Buchanan</td>\n",
       "      <td>Steven</td>\n",
       "      <td>British Isles</td>\n",
       "      <td>2012-07-16</td>\n",
       "    </tr>\n",
       "    <tr>\n",
       "      <td>2</td>\n",
       "      <td>72</td>\n",
       "      <td>Mozzarella di Giovanni</td>\n",
       "      <td>0</td>\n",
       "      <td>10248</td>\n",
       "      <td>72</td>\n",
       "      <td>34.80</td>\n",
       "      <td>5</td>\n",
       "      <td>0.00</td>\n",
       "      <td>5</td>\n",
       "      <td>Buchanan</td>\n",
       "      <td>Steven</td>\n",
       "      <td>British Isles</td>\n",
       "      <td>2012-07-16</td>\n",
       "    </tr>\n",
       "    <tr>\n",
       "      <td>3</td>\n",
       "      <td>14</td>\n",
       "      <td>Tofu</td>\n",
       "      <td>0</td>\n",
       "      <td>10249</td>\n",
       "      <td>14</td>\n",
       "      <td>18.60</td>\n",
       "      <td>9</td>\n",
       "      <td>0.00</td>\n",
       "      <td>6</td>\n",
       "      <td>Suyama</td>\n",
       "      <td>Michael</td>\n",
       "      <td>British Isles</td>\n",
       "      <td>2012-07-10</td>\n",
       "    </tr>\n",
       "    <tr>\n",
       "      <td>4</td>\n",
       "      <td>51</td>\n",
       "      <td>Manjimup Dried Apples</td>\n",
       "      <td>0</td>\n",
       "      <td>10249</td>\n",
       "      <td>51</td>\n",
       "      <td>42.40</td>\n",
       "      <td>40</td>\n",
       "      <td>0.00</td>\n",
       "      <td>6</td>\n",
       "      <td>Suyama</td>\n",
       "      <td>Michael</td>\n",
       "      <td>British Isles</td>\n",
       "      <td>2012-07-10</td>\n",
       "    </tr>\n",
       "    <tr>\n",
       "      <td>...</td>\n",
       "      <td>...</td>\n",
       "      <td>...</td>\n",
       "      <td>...</td>\n",
       "      <td>...</td>\n",
       "      <td>...</td>\n",
       "      <td>...</td>\n",
       "      <td>...</td>\n",
       "      <td>...</td>\n",
       "      <td>...</td>\n",
       "      <td>...</td>\n",
       "      <td>...</td>\n",
       "      <td>...</td>\n",
       "      <td>...</td>\n",
       "    </tr>\n",
       "    <tr>\n",
       "      <td>2150</td>\n",
       "      <td>64</td>\n",
       "      <td>Wimmers gute Semmelknödel</td>\n",
       "      <td>0</td>\n",
       "      <td>11077</td>\n",
       "      <td>64</td>\n",
       "      <td>33.25</td>\n",
       "      <td>2</td>\n",
       "      <td>0.03</td>\n",
       "      <td>1</td>\n",
       "      <td>Davolio</td>\n",
       "      <td>Nancy</td>\n",
       "      <td>North America</td>\n",
       "      <td>None</td>\n",
       "    </tr>\n",
       "    <tr>\n",
       "      <td>2151</td>\n",
       "      <td>66</td>\n",
       "      <td>Louisiana Hot Spiced Okra</td>\n",
       "      <td>0</td>\n",
       "      <td>11077</td>\n",
       "      <td>66</td>\n",
       "      <td>17.00</td>\n",
       "      <td>1</td>\n",
       "      <td>0.00</td>\n",
       "      <td>1</td>\n",
       "      <td>Davolio</td>\n",
       "      <td>Nancy</td>\n",
       "      <td>North America</td>\n",
       "      <td>None</td>\n",
       "    </tr>\n",
       "    <tr>\n",
       "      <td>2152</td>\n",
       "      <td>73</td>\n",
       "      <td>Röd Kaviar</td>\n",
       "      <td>0</td>\n",
       "      <td>11077</td>\n",
       "      <td>73</td>\n",
       "      <td>15.00</td>\n",
       "      <td>2</td>\n",
       "      <td>0.01</td>\n",
       "      <td>1</td>\n",
       "      <td>Davolio</td>\n",
       "      <td>Nancy</td>\n",
       "      <td>North America</td>\n",
       "      <td>None</td>\n",
       "    </tr>\n",
       "    <tr>\n",
       "      <td>2153</td>\n",
       "      <td>75</td>\n",
       "      <td>Rhönbräu Klosterbier</td>\n",
       "      <td>0</td>\n",
       "      <td>11077</td>\n",
       "      <td>75</td>\n",
       "      <td>7.75</td>\n",
       "      <td>4</td>\n",
       "      <td>0.00</td>\n",
       "      <td>1</td>\n",
       "      <td>Davolio</td>\n",
       "      <td>Nancy</td>\n",
       "      <td>North America</td>\n",
       "      <td>None</td>\n",
       "    </tr>\n",
       "    <tr>\n",
       "      <td>2154</td>\n",
       "      <td>77</td>\n",
       "      <td>Original Frankfurter grüne Soße</td>\n",
       "      <td>0</td>\n",
       "      <td>11077</td>\n",
       "      <td>77</td>\n",
       "      <td>13.00</td>\n",
       "      <td>2</td>\n",
       "      <td>0.00</td>\n",
       "      <td>1</td>\n",
       "      <td>Davolio</td>\n",
       "      <td>Nancy</td>\n",
       "      <td>North America</td>\n",
       "      <td>None</td>\n",
       "    </tr>\n",
       "  </tbody>\n",
       "</table>\n",
       "<p>2155 rows × 13 columns</p>\n",
       "</div>"
      ],
      "text/plain": [
       "      ProductId                      ProductName  Discontinued  OrderId  \\\n",
       "0            11                   Queso Cabrales             0    10248   \n",
       "1            42    Singaporean Hokkien Fried Mee             1    10248   \n",
       "2            72           Mozzarella di Giovanni             0    10248   \n",
       "3            14                             Tofu             0    10249   \n",
       "4            51            Manjimup Dried Apples             0    10249   \n",
       "...         ...                              ...           ...      ...   \n",
       "2150         64        Wimmers gute Semmelknödel             0    11077   \n",
       "2151         66        Louisiana Hot Spiced Okra             0    11077   \n",
       "2152         73                       Röd Kaviar             0    11077   \n",
       "2153         75             Rhönbräu Klosterbier             0    11077   \n",
       "2154         77  Original Frankfurter grüne Soße             0    11077   \n",
       "\n",
       "      ProductId  SalesPrice  Quantity  Discount  EmployeeId  LastName  \\\n",
       "0            11       14.00        12      0.00           5  Buchanan   \n",
       "1            42        9.80        10      0.00           5  Buchanan   \n",
       "2            72       34.80         5      0.00           5  Buchanan   \n",
       "3            14       18.60         9      0.00           6    Suyama   \n",
       "4            51       42.40        40      0.00           6    Suyama   \n",
       "...         ...         ...       ...       ...         ...       ...   \n",
       "2150         64       33.25         2      0.03           1   Davolio   \n",
       "2151         66       17.00         1      0.00           1   Davolio   \n",
       "2152         73       15.00         2      0.01           1   Davolio   \n",
       "2153         75        7.75         4      0.00           1   Davolio   \n",
       "2154         77       13.00         2      0.00           1   Davolio   \n",
       "\n",
       "     FirstName         Region ShippedDate  \n",
       "0       Steven  British Isles  2012-07-16  \n",
       "1       Steven  British Isles  2012-07-16  \n",
       "2       Steven  British Isles  2012-07-16  \n",
       "3      Michael  British Isles  2012-07-10  \n",
       "4      Michael  British Isles  2012-07-10  \n",
       "...        ...            ...         ...  \n",
       "2150     Nancy  North America        None  \n",
       "2151     Nancy  North America        None  \n",
       "2152     Nancy  North America        None  \n",
       "2153     Nancy  North America        None  \n",
       "2154     Nancy  North America        None  \n",
       "\n",
       "[2155 rows x 13 columns]"
      ]
     },
     "execution_count": 154,
     "metadata": {},
     "output_type": "execute_result"
    }
   ],
   "source": [
    "cur.execute(\"\"\"SELECT \n",
    "                ProductID, \n",
    "                ProductName, \n",
    "                Discontinued,\n",
    "                OrderID, \n",
    "                ProductID, \n",
    "                od.UnitPrice AS SalesPrice, \n",
    "                Quantity, \n",
    "                Discount,\n",
    "                EmployeeID, \n",
    "                LastName, \n",
    "                FirstName, \n",
    "                e.Region, \n",
    "                ShippedDate\n",
    "                FROM Product AS p\n",
    "                JOIN OrderDetail AS od\n",
    "                ON od.ProductID = p.Id \n",
    "                JOIN 'Order' AS o\n",
    "                ON o.Id = od.OrderId\n",
    "                JOIN Employee AS e\n",
    "                ON o.EmployeeID = e.ID;\"\"\")\n",
    "dfr = pd.DataFrame(cur.fetchall(), columns=[x[0] for x in cur.description])\n",
    "dfr"
   ]
  },
  {
   "cell_type": "code",
   "execution_count": null,
   "metadata": {},
   "outputs": [],
   "source": []
  },
  {
   "cell_type": "code",
   "execution_count": 155,
   "metadata": {},
   "outputs": [],
   "source": [
    "\n",
    "\n",
    "#Sales Revenue is calculated by multiplying the adjusted price (accounting for any discounts) times quantity\n",
    "dfr['SaleRev'] = (dfr['SalesPrice'] * (1-dfr['Discount'])) * dfr['Quantity']\n"
   ]
  },
  {
   "cell_type": "code",
   "execution_count": 156,
   "metadata": {},
   "outputs": [
    {
     "name": "stdout",
     "output_type": "stream",
     "text": [
      "There are 9 employees in this company associated with sales information\n",
      "The calculated avarage revenue generated by a sales representative in this dataset is $587.0\n"
     ]
    }
   ],
   "source": [
    "empcount = len(dfr['EmployeeId'].unique())\n",
    "avrev = dfr['SaleRev'].mean()\n",
    "print(f'There are {empcount} employees in this company associated with sales information')\n",
    "print(f'The calculated avarage revenue generated by a sales representative in this dataset is ${round(avrev)}')"
   ]
  },
  {
   "cell_type": "markdown",
   "metadata": {},
   "source": [
    "### Hypothesis 3 Preliminary Visualizations:"
   ]
  },
  {
   "cell_type": "code",
   "execution_count": 157,
   "metadata": {},
   "outputs": [
    {
     "data": {
      "image/png": "[encoded data removed]",
      "text/plain": [
       "<Figure size 720x576 with 1 Axes>"
      ]
     },
     "metadata": {
      "needs_background": "light"
     },
     "output_type": "display_data"
    }
   ],
   "source": [
    "fig, ax = plt.subplots(figsize=(10,8))\n",
    "sns.distplot(dfr['SaleRev'], color='green')\n",
    "plt.axvline(avrev, color='lightgreen' )\n",
    "plt.xlabel('Sales Revenue')\n",
    "plt.ylabel('Distribution')\n",
    "plt.title('Average Sales Revenue Distribution', fontsize=18)\n",
    "plt.show()"
   ]
  },
  {
   "cell_type": "code",
   "execution_count": null,
   "metadata": {},
   "outputs": [],
   "source": []
  },
  {
   "cell_type": "code",
   "execution_count": 158,
   "metadata": {
    "scrolled": false
   },
   "outputs": [
    {
     "data": {
      "image/png": "[encoded data removed]",
      "text/plain": [
       "<Figure size 864x576 with 1 Axes>"
      ]
     },
     "metadata": {
      "needs_background": "light"
     },
     "output_type": "display_data"
    }
   ],
   "source": [
    "##is there a way to sort this???\n",
    "fig, ax = plt.subplots(figsize=(12,8))\n",
    "sns.barplot(data=dfr, x='EmployeeId', y='SaleRev', ci=68, ax=ax)\n",
    "plt.title('Average Revenue by Sales Representative', fontsize=20)\n",
    "plt.axhline(avrev,linestyle=\"--\", color='gray', linewidth=.6 )\n",
    "plt.xlabel('Employee Id')\n",
    "plt.ylabel('Sales Revenue')\n",
    "plt.show()\n"
   ]
  },
  {
   "cell_type": "markdown",
   "metadata": {},
   "source": [
    "Employees are listed in the table below:\n",
    "Although the employee names are unique, for the sake of data inspection we'll continue to use Employee Id as the unique identifier and reference the table above to gather additional insight."
   ]
  },
  {
   "cell_type": "code",
   "execution_count": 159,
   "metadata": {
    "scrolled": true
   },
   "outputs": [
    {
     "data": {
      "text/html": [
       "<div>\n",
       "<style scoped>\n",
       "    .dataframe tbody tr th:only-of-type {\n",
       "        vertical-align: middle;\n",
       "    }\n",
       "\n",
       "    .dataframe tbody tr th {\n",
       "        vertical-align: top;\n",
       "    }\n",
       "\n",
       "    .dataframe thead th {\n",
       "        text-align: right;\n",
       "    }\n",
       "</style>\n",
       "<table border=\"1\" class=\"dataframe\">\n",
       "  <thead>\n",
       "    <tr style=\"text-align: right;\">\n",
       "      <th></th>\n",
       "      <th>Id</th>\n",
       "      <th>LastName</th>\n",
       "      <th>FirstName</th>\n",
       "      <th>Title</th>\n",
       "      <th>Region</th>\n",
       "    </tr>\n",
       "  </thead>\n",
       "  <tbody>\n",
       "    <tr>\n",
       "      <td>0</td>\n",
       "      <td>1</td>\n",
       "      <td>Davolio</td>\n",
       "      <td>Nancy</td>\n",
       "      <td>Sales Representative</td>\n",
       "      <td>North America</td>\n",
       "    </tr>\n",
       "    <tr>\n",
       "      <td>1</td>\n",
       "      <td>2</td>\n",
       "      <td>Fuller</td>\n",
       "      <td>Andrew</td>\n",
       "      <td>Vice President, Sales</td>\n",
       "      <td>North America</td>\n",
       "    </tr>\n",
       "    <tr>\n",
       "      <td>2</td>\n",
       "      <td>3</td>\n",
       "      <td>Leverling</td>\n",
       "      <td>Janet</td>\n",
       "      <td>Sales Representative</td>\n",
       "      <td>North America</td>\n",
       "    </tr>\n",
       "    <tr>\n",
       "      <td>3</td>\n",
       "      <td>4</td>\n",
       "      <td>Peacock</td>\n",
       "      <td>Margaret</td>\n",
       "      <td>Sales Representative</td>\n",
       "      <td>North America</td>\n",
       "    </tr>\n",
       "    <tr>\n",
       "      <td>4</td>\n",
       "      <td>5</td>\n",
       "      <td>Buchanan</td>\n",
       "      <td>Steven</td>\n",
       "      <td>Sales Manager</td>\n",
       "      <td>British Isles</td>\n",
       "    </tr>\n",
       "    <tr>\n",
       "      <td>5</td>\n",
       "      <td>6</td>\n",
       "      <td>Suyama</td>\n",
       "      <td>Michael</td>\n",
       "      <td>Sales Representative</td>\n",
       "      <td>British Isles</td>\n",
       "    </tr>\n",
       "    <tr>\n",
       "      <td>6</td>\n",
       "      <td>7</td>\n",
       "      <td>King</td>\n",
       "      <td>Robert</td>\n",
       "      <td>Sales Representative</td>\n",
       "      <td>British Isles</td>\n",
       "    </tr>\n",
       "    <tr>\n",
       "      <td>7</td>\n",
       "      <td>8</td>\n",
       "      <td>Callahan</td>\n",
       "      <td>Laura</td>\n",
       "      <td>Inside Sales Coordinator</td>\n",
       "      <td>North America</td>\n",
       "    </tr>\n",
       "    <tr>\n",
       "      <td>8</td>\n",
       "      <td>9</td>\n",
       "      <td>Dodsworth</td>\n",
       "      <td>Anne</td>\n",
       "      <td>Sales Representative</td>\n",
       "      <td>British Isles</td>\n",
       "    </tr>\n",
       "  </tbody>\n",
       "</table>\n",
       "</div>"
      ],
      "text/plain": [
       "   Id   LastName FirstName                     Title         Region\n",
       "0   1    Davolio     Nancy      Sales Representative  North America\n",
       "1   2     Fuller    Andrew     Vice President, Sales  North America\n",
       "2   3  Leverling     Janet      Sales Representative  North America\n",
       "3   4    Peacock  Margaret      Sales Representative  North America\n",
       "4   5   Buchanan    Steven             Sales Manager  British Isles\n",
       "5   6     Suyama   Michael      Sales Representative  British Isles\n",
       "6   7       King    Robert      Sales Representative  British Isles\n",
       "7   8   Callahan     Laura  Inside Sales Coordinator  North America\n",
       "8   9  Dodsworth      Anne      Sales Representative  British Isles"
      ]
     },
     "execution_count": 159,
     "metadata": {},
     "output_type": "execute_result"
    }
   ],
   "source": [
    "cur.execute(\"\"\"SELECT ID, LastName, FirstName, Title, Region\n",
    "                from Employee\"\"\")\n",
    "empsdata = pd.DataFrame(cur.fetchall(), columns=[x[0] for x in cur.description])\n",
    "empsdata"
   ]
  },
  {
   "cell_type": "code",
   "execution_count": 160,
   "metadata": {},
   "outputs": [],
   "source": [
    "reps = {}\n",
    "for rep in dfr['EmployeeId'].unique():\n",
    "    reps[rep] = dfr.groupby('EmployeeId').get_group(rep)['SaleRev']\n"
   ]
  },
  {
   "cell_type": "code",
   "execution_count": 161,
   "metadata": {},
   "outputs": [
    {
     "name": "stdout",
     "output_type": "stream",
     "text": [
      "Distributions appear roughly equal\n"
     ]
    },
    {
     "data": {
      "image/png": "[encoded data removed]",
      "text/plain": [
       "<Figure size 720x360 with 1 Axes>"
      ]
     },
     "metadata": {
      "needs_background": "light"
     },
     "output_type": "display_data"
    }
   ],
   "source": [
    "fig, ax = plt.subplots(figsize=(10,5))\n",
    "for k,v in reps.items():\n",
    "    sns.distplot(v,label=v)\n",
    "\n",
    "plt.title('Sales Revenue By Distribution by Rep')\n",
    "print('Distributions appear roughly equal')"
   ]
  },
  {
   "cell_type": "markdown",
   "metadata": {},
   "source": [
    "#### Initial Observations:\n",
    "Datatype is numeric in this 2155 order sample.\n",
    "\n",
    "There are 9 employees in this company associated with sales information\n",
    "\n",
    "The avarage revenue generated by a sales representative is $629.00. \n",
    "\n",
    "Initial visual inspection indicates roughly uniform distribution in sales revenue, more than half of the sales representatives achieve the average.  Additional testing will demonstrate if it is significant.\n",
    "\n",
    "Since we are comparing multiple discounts to inspect it's impact on quantity ordered an AVNOVA test will be run:\n",
    "Assumptions for ANOVA Testing: \n",
    "\n",
    "1) No significant outliers \n",
    "    Upon a quick visual inspection, there appears to be some outliers that could be removed\n",
    "\n",
    "2) Equal variance\n",
    "    \n",
    "\n",
    "\n",
    "3) Normality (if n>15)\n",
    "      Not required for samples greater than 15"
   ]
  },
  {
   "cell_type": "code",
   "execution_count": null,
   "metadata": {},
   "outputs": [],
   "source": []
  },
  {
   "cell_type": "markdown",
   "metadata": {},
   "source": [
    "### Assumption 1: Outliers"
   ]
  },
  {
   "cell_type": "code",
   "execution_count": 162,
   "metadata": {
    "scrolled": false
   },
   "outputs": [
    {
     "name": "stdout",
     "output_type": "stream",
     "text": [
      "Found 3 outliers in Employee # 5\n",
      "Found 3 outliers in Employee # 6\n",
      "Found 7 outliers in Employee # 4\n",
      "Found 4 outliers in Employee # 3\n",
      "Found 2 outliers in Employee # 9\n",
      "Found 4 outliers in Employee # 1\n",
      "Found 5 outliers in Employee # 8\n",
      "Found 5 outliers in Employee # 2\n",
      "Found 5 outliers in Employee # 7\n",
      "\n",
      " All of these outliers were removed\n"
     ]
    }
   ],
   "source": [
    "for rep, rep_data in reps.items():\n",
    "    idx_outs = fn.find_outliers_Z(rep_data)\n",
    "    print(f'Found {idx_outs.sum()} outliers in Employee # {rep}')\n",
    "    reps[rep] = rep_data[~idx_outs]\n",
    "print('\\n All of these outliers were removed')\n",
    "\n"
   ]
  },
  {
   "cell_type": "markdown",
   "metadata": {},
   "source": [
    "###  Asumption 2: Equal Variance\n",
    "\n",
    "Results are NOT equal variance for this group"
   ]
  },
  {
   "cell_type": "code",
   "execution_count": 56,
   "metadata": {},
   "outputs": [],
   "source": [
    "#from functions import test_equal_variance\n",
    "import scipy.stats as stats"
   ]
  },
  {
   "cell_type": "code",
   "execution_count": 163,
   "metadata": {},
   "outputs": [],
   "source": [
    "data = []\n",
    "for k,v in reps.items():\n",
    "    data.append(v)\n",
    "    "
   ]
  },
  {
   "cell_type": "code",
   "execution_count": 164,
   "metadata": {},
   "outputs": [
    {
     "name": "stdout",
     "output_type": "stream",
     "text": [
      "Lavene test for equal variance results are 0.0143\n",
      "The groups do NOT have equal variance\n"
     ]
    }
   ],
   "source": [
    "stat,p = stats.levene(*data)\n",
    "print(f'Lavene test for equal variance results are {round(p,4)}')\n",
    "sig = 'do NOT' if p < .05 else 'DO'\n",
    "\n",
    "print(f'The groups {sig} have equal variance')\n",
    "      \n",
    "          "
   ]
  },
  {
   "cell_type": "markdown",
   "metadata": {},
   "source": [
    "### Assumption 3:  Normality\n",
    "The lengths of these samples are >15 so normality criteria is met."
   ]
  },
  {
   "cell_type": "code",
   "execution_count": 165,
   "metadata": {
    "scrolled": true
   },
   "outputs": [
    {
     "name": "stdout",
     "output_type": "stream",
     "text": [
      "There are 114 samples in the data set for Employee #5.\n",
      "There are 165 samples in the data set for Employee #6.\n",
      "There are 413 samples in the data set for Employee #4.\n",
      "There are 317 samples in the data set for Employee #3.\n",
      "There are 105 samples in the data set for Employee #9.\n",
      "There are 341 samples in the data set for Employee #1.\n",
      "There are 255 samples in the data set for Employee #8.\n",
      "There are 236 samples in the data set for Employee #2.\n",
      "There are 171 samples in the data set for Employee #7.\n",
      "\n",
      "All samples are >15: Normality Assumption Criterion is met.\n"
     ]
    }
   ],
   "source": [
    "n = []\n",
    "\n",
    "for rep,samples in reps.items():\n",
    "    print(f'There are {len(samples)} samples in the data set for Employee #{rep}.')\n",
    "    n.append(len(samples)>15)\n",
    "if all(n):\n",
    "    print('\\nAll samples are >15: Normality Assumption Criterion is met.')\n",
    "    \n",
    "\n",
    "\n",
    "\n"
   ]
  },
  {
   "cell_type": "code",
   "execution_count": null,
   "metadata": {},
   "outputs": [],
   "source": []
  },
  {
   "cell_type": "markdown",
   "metadata": {},
   "source": [
    "# HELP: Using non-parametric Kruskal since the data set was not of equal variance AND Possible Cohen_f here possibly t-test since tukey isn't showing significant differences."
   ]
  },
  {
   "cell_type": "code",
   "execution_count": 60,
   "metadata": {
    "scrolled": true
   },
   "outputs": [
    {
     "name": "stdout",
     "output_type": "stream",
     "text": [
      "Kruskal test p value: 0.2968\n"
     ]
    }
   ],
   "source": [
    "stat, p = stats.kruskal(*data)\n",
    "print(f\"Kruskal test p value: {round(p,4)}\")"
   ]
  },
  {
   "cell_type": "code",
   "execution_count": 61,
   "metadata": {
    "scrolled": true
   },
   "outputs": [
    {
     "name": "stdout",
     "output_type": "stream",
     "text": [
      "2.180626766904163 0.026222185205141618\n"
     ]
    }
   ],
   "source": [
    "stat, p = stats.f_oneway(*data)\n",
    "print(stat,p)"
   ]
  },
  {
   "cell_type": "code",
   "execution_count": 62,
   "metadata": {},
   "outputs": [],
   "source": [
    "def prep_data_for_tukeys(reps):\n",
    "    \"\"\"Accepts a dictionary with group names as the keys \n",
    "    and pandas series as the values. \n",
    "\n",
    "    Returns a dataframe ready for tukeys test:\n",
    "    - with a 'data' column and a 'group' column for sms.stats.multicomp.pairwise_tukeyhsd \n",
    "\n",
    "    Example Use:\n",
    "    df_tukey = prep_data_for_tukeys(grp_data)\n",
    "    tukey = sms.stats.multicomp.pairwise_tukeyhsd(df_tukey['data'], df_tukey['group'])\n",
    "    tukey.summary()\"\"\"\n",
    "        \n",
    "    import pandas as pd\n",
    "    df_tukey = pd.DataFrame(columns=['data','group'])\n",
    "    for k,v in  reps.items():\n",
    "        grp_df = v.rename('data').to_frame() \n",
    "        grp_df['group'] = k\n",
    "        df_tukey=pd.concat([df_tukey,grp_df],axis=0)\n",
    "    return df_tukey"
   ]
  },
  {
   "cell_type": "code",
   "execution_count": 63,
   "metadata": {
    "scrolled": false
   },
   "outputs": [
    {
     "data": {
      "text/html": [
       "<div>\n",
       "<style scoped>\n",
       "    .dataframe tbody tr th:only-of-type {\n",
       "        vertical-align: middle;\n",
       "    }\n",
       "\n",
       "    .dataframe tbody tr th {\n",
       "        vertical-align: top;\n",
       "    }\n",
       "\n",
       "    .dataframe thead th {\n",
       "        text-align: right;\n",
       "    }\n",
       "</style>\n",
       "<table border=\"1\" class=\"dataframe\">\n",
       "  <thead>\n",
       "    <tr style=\"text-align: right;\">\n",
       "      <th></th>\n",
       "      <th>data</th>\n",
       "      <th>group</th>\n",
       "    </tr>\n",
       "  </thead>\n",
       "  <tbody>\n",
       "    <tr>\n",
       "      <td>0</td>\n",
       "      <td>168.000</td>\n",
       "      <td>5</td>\n",
       "    </tr>\n",
       "    <tr>\n",
       "      <td>1</td>\n",
       "      <td>98.000</td>\n",
       "      <td>5</td>\n",
       "    </tr>\n",
       "    <tr>\n",
       "      <td>2</td>\n",
       "      <td>174.000</td>\n",
       "      <td>5</td>\n",
       "    </tr>\n",
       "    <tr>\n",
       "      <td>17</td>\n",
       "      <td>45.900</td>\n",
       "      <td>5</td>\n",
       "    </tr>\n",
       "    <tr>\n",
       "      <td>18</td>\n",
       "      <td>342.720</td>\n",
       "      <td>5</td>\n",
       "    </tr>\n",
       "    <tr>\n",
       "      <td>...</td>\n",
       "      <td>...</td>\n",
       "      <td>...</td>\n",
       "    </tr>\n",
       "    <tr>\n",
       "      <td>2077</td>\n",
       "      <td>390.000</td>\n",
       "      <td>7</td>\n",
       "    </tr>\n",
       "    <tr>\n",
       "      <td>2103</td>\n",
       "      <td>52.350</td>\n",
       "      <td>7</td>\n",
       "    </tr>\n",
       "    <tr>\n",
       "      <td>2104</td>\n",
       "      <td>386.400</td>\n",
       "      <td>7</td>\n",
       "    </tr>\n",
       "    <tr>\n",
       "      <td>2105</td>\n",
       "      <td>490.000</td>\n",
       "      <td>7</td>\n",
       "    </tr>\n",
       "    <tr>\n",
       "      <td>2123</td>\n",
       "      <td>232.085</td>\n",
       "      <td>7</td>\n",
       "    </tr>\n",
       "  </tbody>\n",
       "</table>\n",
       "<p>2117 rows × 2 columns</p>\n",
       "</div>"
      ],
      "text/plain": [
       "         data group\n",
       "0     168.000     5\n",
       "1      98.000     5\n",
       "2     174.000     5\n",
       "17     45.900     5\n",
       "18    342.720     5\n",
       "...       ...   ...\n",
       "2077  390.000     7\n",
       "2103   52.350     7\n",
       "2104  386.400     7\n",
       "2105  490.000     7\n",
       "2123  232.085     7\n",
       "\n",
       "[2117 rows x 2 columns]"
      ]
     },
     "execution_count": 63,
     "metadata": {},
     "output_type": "execute_result"
    }
   ],
   "source": [
    "clean_data = prep_data_for_tukeys(reps)\n",
    "clean_data"
   ]
  },
  {
   "cell_type": "markdown",
   "metadata": {},
   "source": [
    "### Hypothesis 3: A Clean Visualization:"
   ]
  },
  {
   "cell_type": "code",
   "execution_count": 64,
   "metadata": {
    "scrolled": false
   },
   "outputs": [
    {
     "data": {
      "text/plain": [
       "Text(0.5, 1.0, 'Average Revenue Generated by Sales Representative')"
      ]
     },
     "execution_count": 64,
     "metadata": {},
     "output_type": "execute_result"
    },
    {
     "data": {
      "image/png": "[encoded data removed]",
      "text/plain": [
       "<Figure size 864x720 with 1 Axes>"
      ]
     },
     "metadata": {
      "needs_background": "light"
     },
     "output_type": "display_data"
    }
   ],
   "source": [
    "f, ax = plt.subplots(figsize=(12,10))\n",
    "sns.set(style=\"whitegrid\")\n",
    "sns.barplot(data=clean_data, x='group', y='data', ci=68)\n",
    "plt.xlabel('Employee Id')\n",
    "plt.ylabel('Average Revenue Generated')\n",
    "plt.axhline(clean_data['data'].mean(), linestyle=\"--\", color='darkgray')\n",
    "\n",
    "plt.title('Average Revenue Generated by Sales Representative', fontsize=20)\n"
   ]
  },
  {
   "cell_type": "code",
   "execution_count": 65,
   "metadata": {},
   "outputs": [],
   "source": [
    "clean_data['data'] = clean_data['data'].astype(float)\n",
    "clean_data['group'] = clean_data['group'].astype(str)"
   ]
  },
  {
   "cell_type": "code",
   "execution_count": 66,
   "metadata": {},
   "outputs": [
    {
     "data": {
      "text/html": [
       "<div>\n",
       "<style scoped>\n",
       "    .dataframe tbody tr th:only-of-type {\n",
       "        vertical-align: middle;\n",
       "    }\n",
       "\n",
       "    .dataframe tbody tr th {\n",
       "        vertical-align: top;\n",
       "    }\n",
       "\n",
       "    .dataframe thead th {\n",
       "        text-align: right;\n",
       "    }\n",
       "</style>\n",
       "<table border=\"1\" class=\"dataframe\">\n",
       "  <thead>\n",
       "    <tr style=\"text-align: right;\">\n",
       "      <th></th>\n",
       "      <th>data</th>\n",
       "      <th>group</th>\n",
       "    </tr>\n",
       "  </thead>\n",
       "  <tbody>\n",
       "    <tr>\n",
       "      <td>0</td>\n",
       "      <td>168.000</td>\n",
       "      <td>5</td>\n",
       "    </tr>\n",
       "    <tr>\n",
       "      <td>1</td>\n",
       "      <td>98.000</td>\n",
       "      <td>5</td>\n",
       "    </tr>\n",
       "    <tr>\n",
       "      <td>2</td>\n",
       "      <td>174.000</td>\n",
       "      <td>5</td>\n",
       "    </tr>\n",
       "    <tr>\n",
       "      <td>17</td>\n",
       "      <td>45.900</td>\n",
       "      <td>5</td>\n",
       "    </tr>\n",
       "    <tr>\n",
       "      <td>18</td>\n",
       "      <td>342.720</td>\n",
       "      <td>5</td>\n",
       "    </tr>\n",
       "    <tr>\n",
       "      <td>...</td>\n",
       "      <td>...</td>\n",
       "      <td>...</td>\n",
       "    </tr>\n",
       "    <tr>\n",
       "      <td>2077</td>\n",
       "      <td>390.000</td>\n",
       "      <td>7</td>\n",
       "    </tr>\n",
       "    <tr>\n",
       "      <td>2103</td>\n",
       "      <td>52.350</td>\n",
       "      <td>7</td>\n",
       "    </tr>\n",
       "    <tr>\n",
       "      <td>2104</td>\n",
       "      <td>386.400</td>\n",
       "      <td>7</td>\n",
       "    </tr>\n",
       "    <tr>\n",
       "      <td>2105</td>\n",
       "      <td>490.000</td>\n",
       "      <td>7</td>\n",
       "    </tr>\n",
       "    <tr>\n",
       "      <td>2123</td>\n",
       "      <td>232.085</td>\n",
       "      <td>7</td>\n",
       "    </tr>\n",
       "  </tbody>\n",
       "</table>\n",
       "<p>2117 rows × 2 columns</p>\n",
       "</div>"
      ],
      "text/plain": [
       "         data group\n",
       "0     168.000     5\n",
       "1      98.000     5\n",
       "2     174.000     5\n",
       "17     45.900     5\n",
       "18    342.720     5\n",
       "...       ...   ...\n",
       "2077  390.000     7\n",
       "2103   52.350     7\n",
       "2104  386.400     7\n",
       "2105  490.000     7\n",
       "2123  232.085     7\n",
       "\n",
       "[2117 rows x 2 columns]"
      ]
     },
     "execution_count": 66,
     "metadata": {},
     "output_type": "execute_result"
    }
   ],
   "source": [
    "clean_data"
   ]
  },
  {
   "cell_type": "code",
   "execution_count": 67,
   "metadata": {},
   "outputs": [],
   "source": [
    "## run t-test manually to look deeper"
   ]
  },
  {
   "cell_type": "code",
   "execution_count": 68,
   "metadata": {},
   "outputs": [
    {
     "data": {
      "text/html": [
       "<table class=\"simpletable\">\n",
       "<caption>Multiple Comparison of Means - Tukey HSD, FWER=0.05</caption>\n",
       "<tr>\n",
       "  <th>group1</th> <th>group2</th> <th>meandiff</th>   <th>p-adj</th>   <th>lower</th>     <th>upper</th>  <th>reject</th>\n",
       "</tr>\n",
       "<tr>\n",
       "     <td>1</td>      <td>2</td>    <td>70.6795</td>  <td>0.7896</td> <td>-67.9146</td>  <td>209.2736</td>  <td>False</td>\n",
       "</tr>\n",
       "<tr>\n",
       "     <td>1</td>      <td>3</td>    <td>62.1979</td>  <td>0.8328</td> <td>-65.5036</td>  <td>189.8995</td>  <td>False</td>\n",
       "</tr>\n",
       "<tr>\n",
       "     <td>1</td>      <td>4</td>    <td>-2.0207</td>    <td>0.9</td>  <td>-121.7839</td> <td>117.7426</td>  <td>False</td>\n",
       "</tr>\n",
       "<tr>\n",
       "     <td>1</td>      <td>5</td>    <td>2.7041</td>     <td>0.9</td>  <td>-174.3746</td> <td>179.7827</td>  <td>False</td>\n",
       "</tr>\n",
       "<tr>\n",
       "     <td>1</td>      <td>6</td>   <td>-81.4678</td>  <td>0.7616</td> <td>-236.6872</td>  <td>73.7517</td>  <td>False</td>\n",
       "</tr>\n",
       "<tr>\n",
       "     <td>1</td>      <td>7</td>    <td>68.5247</td>    <td>0.9</td>  <td>-84.8486</td>  <td>221.8981</td>  <td>False</td>\n",
       "</tr>\n",
       "<tr>\n",
       "     <td>1</td>      <td>8</td>   <td>-24.7293</td>    <td>0.9</td>  <td>-160.2376</td>  <td>110.779</td>  <td>False</td>\n",
       "</tr>\n",
       "<tr>\n",
       "     <td>1</td>      <td>9</td>   <td>101.7408</td>  <td>0.7013</td> <td>-80.9369</td>  <td>284.4186</td>  <td>False</td>\n",
       "</tr>\n",
       "<tr>\n",
       "     <td>2</td>      <td>3</td>    <td>-8.4815</td>    <td>0.9</td>  <td>-149.2052</td> <td>132.2421</td>  <td>False</td>\n",
       "</tr>\n",
       "<tr>\n",
       "     <td>2</td>      <td>4</td>   <td>-72.7002</td>   <td>0.725</td> <td>-206.2617</td>  <td>60.8614</td>  <td>False</td>\n",
       "</tr>\n",
       "<tr>\n",
       "     <td>2</td>      <td>5</td>   <td>-67.9754</td>    <td>0.9</td>  <td>-254.6631</td> <td>118.7123</td>  <td>False</td>\n",
       "</tr>\n",
       "<tr>\n",
       "     <td>2</td>      <td>6</td>   <td>-152.1472</td> <td>0.1034</td> <td>-318.2452</td>  <td>13.9507</td>  <td>False</td>\n",
       "</tr>\n",
       "<tr>\n",
       "     <td>2</td>      <td>7</td>    <td>-2.1547</td>    <td>0.9</td>  <td>-166.5288</td> <td>162.2193</td>  <td>False</td>\n",
       "</tr>\n",
       "<tr>\n",
       "     <td>2</td>      <td>8</td>   <td>-95.4088</td>  <td>0.5349</td> <td>-243.2531</td>  <td>52.4356</td>  <td>False</td>\n",
       "</tr>\n",
       "<tr>\n",
       "     <td>2</td>      <td>9</td>    <td>31.0613</td>    <td>0.9</td>  <td>-160.9455</td> <td>223.0682</td>  <td>False</td>\n",
       "</tr>\n",
       "<tr>\n",
       "     <td>3</td>      <td>4</td>   <td>-64.2186</td>  <td>0.7606</td> <td>-186.4399</td>  <td>58.0027</td>  <td>False</td>\n",
       "</tr>\n",
       "<tr>\n",
       "     <td>3</td>      <td>5</td>   <td>-59.4939</td>    <td>0.9</td>  <td>-238.2441</td> <td>119.2564</td>  <td>False</td>\n",
       "</tr>\n",
       "<tr>\n",
       "     <td>3</td>      <td>6</td>   <td>-143.6657</td> <td>0.1049</td> <td>-300.7895</td>  <td>13.4581</td>  <td>False</td>\n",
       "</tr>\n",
       "<tr>\n",
       "     <td>3</td>      <td>7</td>    <td>6.3268</td>     <td>0.9</td>  <td>-148.9735</td> <td>161.6271</td>  <td>False</td>\n",
       "</tr>\n",
       "<tr>\n",
       "     <td>3</td>      <td>8</td>   <td>-86.9273</td>  <td>0.5613</td> <td>-224.6128</td>  <td>50.7583</td>  <td>False</td>\n",
       "</tr>\n",
       "<tr>\n",
       "     <td>3</td>      <td>9</td>    <td>39.5429</td>    <td>0.9</td>  <td>-144.7557</td> <td>223.8415</td>  <td>False</td>\n",
       "</tr>\n",
       "<tr>\n",
       "     <td>4</td>      <td>5</td>    <td>4.7247</td>     <td>0.9</td>  <td>-168.4434</td> <td>177.8929</td>  <td>False</td>\n",
       "</tr>\n",
       "<tr>\n",
       "     <td>4</td>      <td>6</td>   <td>-79.4471</td>  <td>0.7575</td>  <td>-230.19</td>   <td>71.2959</td>  <td>False</td>\n",
       "</tr>\n",
       "<tr>\n",
       "     <td>4</td>      <td>7</td>    <td>70.5454</td>  <td>0.8574</td> <td>-78.2959</td>  <td>219.3867</td>  <td>False</td>\n",
       "</tr>\n",
       "<tr>\n",
       "     <td>4</td>      <td>8</td>   <td>-22.7086</td>    <td>0.9</td>  <td>-153.0653</td>  <td>107.648</td>  <td>False</td>\n",
       "</tr>\n",
       "<tr>\n",
       "     <td>4</td>      <td>9</td>   <td>103.7615</td>  <td>0.6578</td> <td>-75.1282</td>  <td>282.6512</td>  <td>False</td>\n",
       "</tr>\n",
       "<tr>\n",
       "     <td>5</td>      <td>6</td>   <td>-84.1718</td>    <td>0.9</td>  <td>-283.5134</td> <td>115.1697</td>  <td>False</td>\n",
       "</tr>\n",
       "<tr>\n",
       "     <td>5</td>      <td>7</td>    <td>65.8207</td>    <td>0.9</td>  <td>-132.0867</td> <td>263.7281</td>  <td>False</td>\n",
       "</tr>\n",
       "<tr>\n",
       "     <td>5</td>      <td>8</td>   <td>-27.4334</td>    <td>0.9</td>  <td>-211.8418</td>  <td>156.975</td>  <td>False</td>\n",
       "</tr>\n",
       "<tr>\n",
       "     <td>5</td>      <td>9</td>    <td>99.0368</td>    <td>0.9</td>  <td>-122.3569</td> <td>320.4304</td>  <td>False</td>\n",
       "</tr>\n",
       "<tr>\n",
       "     <td>6</td>      <td>7</td>   <td>149.9925</td>  <td>0.1837</td> <td>-28.6232</td>  <td>328.6082</td>  <td>False</td>\n",
       "</tr>\n",
       "<tr>\n",
       "     <td>6</td>      <td>8</td>    <td>56.7384</td>    <td>0.9</td>  <td>-106.7935</td> <td>220.2704</td>  <td>False</td>\n",
       "</tr>\n",
       "<tr>\n",
       "     <td>6</td>      <td>9</td>   <td>183.2086</td>  <td>0.1211</td> <td>-21.1229</td>  <td>387.5401</td>  <td>False</td>\n",
       "</tr>\n",
       "<tr>\n",
       "     <td>7</td>      <td>8</td>   <td>-93.2541</td>  <td>0.6646</td> <td>-255.0348</td>  <td>68.5267</td>  <td>False</td>\n",
       "</tr>\n",
       "<tr>\n",
       "     <td>7</td>      <td>9</td>    <td>33.2161</td>    <td>0.9</td>  <td>-169.7166</td> <td>236.1487</td>  <td>False</td>\n",
       "</tr>\n",
       "<tr>\n",
       "     <td>8</td>      <td>9</td>   <td>126.4701</td>  <td>0.4952</td> <td>-63.3213</td>  <td>316.2616</td>  <td>False</td>\n",
       "</tr>\n",
       "</table>"
      ],
      "text/plain": [
       "<class 'statsmodels.iolib.table.SimpleTable'>"
      ]
     },
     "execution_count": 68,
     "metadata": {},
     "output_type": "execute_result"
    }
   ],
   "source": [
    "tukey = sms.stats.multicomp.pairwise_tukeyhsd(clean_data['data'], clean_data['group'])\n",
    "tukey.summary()"
   ]
  },
  {
   "cell_type": "markdown",
   "metadata": {
    "heading_collapsed": true
   },
   "source": [
    "### Effect Size Testing:"
   ]
  },
  {
   "cell_type": "code",
   "execution_count": 69,
   "metadata": {
    "hidden": true
   },
   "outputs": [
    {
     "ename": "KeyError",
     "evalue": "'9.0'",
     "output_type": "error",
     "traceback": [
      "\u001b[1;31m---------------------------------------------------------------------------\u001b[0m",
      "\u001b[1;31mKeyError\u001b[0m                                  Traceback (most recent call last)",
      "\u001b[1;32m<ipython-input-69-ecaa248c04ae>\u001b[0m in \u001b[0;36m<module>\u001b[1;34m\u001b[0m\n\u001b[1;32m----> 1\u001b[1;33m \u001b[0mnine\u001b[0m \u001b[1;33m=\u001b[0m \u001b[0mclean_data\u001b[0m\u001b[1;33m.\u001b[0m\u001b[0mgroupby\u001b[0m\u001b[1;33m(\u001b[0m\u001b[1;34m'group'\u001b[0m\u001b[1;33m)\u001b[0m\u001b[1;33m.\u001b[0m\u001b[0mget_group\u001b[0m\u001b[1;33m(\u001b[0m\u001b[1;34m'9.0'\u001b[0m\u001b[1;33m)\u001b[0m\u001b[1;33m\u001b[0m\u001b[1;33m\u001b[0m\u001b[0m\n\u001b[0m\u001b[0;32m      2\u001b[0m \u001b[0meight\u001b[0m \u001b[1;33m=\u001b[0m \u001b[0mclean_data\u001b[0m\u001b[1;33m.\u001b[0m\u001b[0mgroupby\u001b[0m\u001b[1;33m(\u001b[0m\u001b[1;34m'group'\u001b[0m\u001b[1;33m)\u001b[0m\u001b[1;33m.\u001b[0m\u001b[0mget_group\u001b[0m\u001b[1;33m(\u001b[0m\u001b[1;34m'8.0'\u001b[0m\u001b[1;33m)\u001b[0m\u001b[1;33m\u001b[0m\u001b[1;33m\u001b[0m\u001b[0m\n\u001b[0;32m      3\u001b[0m \u001b[0mseven\u001b[0m \u001b[1;33m=\u001b[0m\u001b[0mclean_data\u001b[0m\u001b[1;33m.\u001b[0m\u001b[0mgroupby\u001b[0m\u001b[1;33m(\u001b[0m\u001b[1;34m'group'\u001b[0m\u001b[1;33m)\u001b[0m\u001b[1;33m.\u001b[0m\u001b[0mget_group\u001b[0m\u001b[1;33m(\u001b[0m\u001b[1;34m'7.0'\u001b[0m\u001b[1;33m)\u001b[0m\u001b[1;33m\u001b[0m\u001b[1;33m\u001b[0m\u001b[0m\n\u001b[0;32m      4\u001b[0m \u001b[0msix\u001b[0m \u001b[1;33m=\u001b[0m \u001b[0mclean_data\u001b[0m\u001b[1;33m.\u001b[0m\u001b[0mgroupby\u001b[0m\u001b[1;33m(\u001b[0m\u001b[1;34m'group'\u001b[0m\u001b[1;33m)\u001b[0m\u001b[1;33m.\u001b[0m\u001b[0mget_group\u001b[0m\u001b[1;33m(\u001b[0m\u001b[1;34m'6.0'\u001b[0m\u001b[1;33m)\u001b[0m\u001b[1;33m\u001b[0m\u001b[1;33m\u001b[0m\u001b[0m\n\u001b[0;32m      5\u001b[0m \u001b[0mfive\u001b[0m \u001b[1;33m=\u001b[0m\u001b[0mclean_data\u001b[0m\u001b[1;33m.\u001b[0m\u001b[0mgroupby\u001b[0m\u001b[1;33m(\u001b[0m\u001b[1;34m'group'\u001b[0m\u001b[1;33m)\u001b[0m\u001b[1;33m.\u001b[0m\u001b[0mget_group\u001b[0m\u001b[1;33m(\u001b[0m\u001b[1;34m'5.0'\u001b[0m\u001b[1;33m)\u001b[0m\u001b[1;33m\u001b[0m\u001b[1;33m\u001b[0m\u001b[0m\n",
      "\u001b[1;32m~\\AppData\\Local\\Continuum\\anaconda3\\envs\\learn-env\\lib\\site-packages\\pandas\\core\\groupby\\groupby.py\u001b[0m in \u001b[0;36mget_group\u001b[1;34m(self, name, obj)\u001b[0m\n\u001b[0;32m    678\u001b[0m         \u001b[0minds\u001b[0m \u001b[1;33m=\u001b[0m \u001b[0mself\u001b[0m\u001b[1;33m.\u001b[0m\u001b[0m_get_index\u001b[0m\u001b[1;33m(\u001b[0m\u001b[0mname\u001b[0m\u001b[1;33m)\u001b[0m\u001b[1;33m\u001b[0m\u001b[1;33m\u001b[0m\u001b[0m\n\u001b[0;32m    679\u001b[0m         \u001b[1;32mif\u001b[0m \u001b[1;32mnot\u001b[0m \u001b[0mlen\u001b[0m\u001b[1;33m(\u001b[0m\u001b[0minds\u001b[0m\u001b[1;33m)\u001b[0m\u001b[1;33m:\u001b[0m\u001b[1;33m\u001b[0m\u001b[1;33m\u001b[0m\u001b[0m\n\u001b[1;32m--> 680\u001b[1;33m             \u001b[1;32mraise\u001b[0m \u001b[0mKeyError\u001b[0m\u001b[1;33m(\u001b[0m\u001b[0mname\u001b[0m\u001b[1;33m)\u001b[0m\u001b[1;33m\u001b[0m\u001b[1;33m\u001b[0m\u001b[0m\n\u001b[0m\u001b[0;32m    681\u001b[0m \u001b[1;33m\u001b[0m\u001b[0m\n\u001b[0;32m    682\u001b[0m         \u001b[1;32mreturn\u001b[0m \u001b[0mobj\u001b[0m\u001b[1;33m.\u001b[0m\u001b[0mtake\u001b[0m\u001b[1;33m(\u001b[0m\u001b[0minds\u001b[0m\u001b[1;33m,\u001b[0m \u001b[0maxis\u001b[0m\u001b[1;33m=\u001b[0m\u001b[0mself\u001b[0m\u001b[1;33m.\u001b[0m\u001b[0maxis\u001b[0m\u001b[1;33m)\u001b[0m\u001b[1;33m\u001b[0m\u001b[1;33m\u001b[0m\u001b[0m\n",
      "\u001b[1;31mKeyError\u001b[0m: '9.0'"
     ]
    }
   ],
   "source": [
    "nine = clean_data.groupby('group').get_group('9.0')\n",
    "eight = clean_data.groupby('group').get_group('8.0')\n",
    "seven =clean_data.groupby('group').get_group('7.0')\n",
    "six = clean_data.groupby('group').get_group('6.0')\n",
    "five =clean_data.groupby('group').get_group('5.0')\n",
    "four = clean_data.groupby('group').get_group('4.0')\n",
    "three = clean_data.groupby('group').get_group('3.0')\n",
    "two = clean_data.groupby('group').get_group('2.0')\n",
    "one = clean_data.groupby('group').get_group('1.0')\n",
    "\n",
    "\n",
    "fn.Cohen_d(clean_data['data'], nine)"
   ]
  },
  {
   "cell_type": "code",
   "execution_count": null,
   "metadata": {
    "hidden": true
   },
   "outputs": [],
   "source": [
    "fn.Cohen_d(clean_data['data'], eight)"
   ]
  },
  {
   "cell_type": "code",
   "execution_count": null,
   "metadata": {
    "hidden": true,
    "scrolled": true
   },
   "outputs": [],
   "source": [
    "fn.Cohen_d(clean_data['data'], seven)"
   ]
  },
  {
   "cell_type": "code",
   "execution_count": null,
   "metadata": {
    "hidden": true,
    "scrolled": true
   },
   "outputs": [],
   "source": [
    "fn.Cohen_d(clean_data['data'], six)"
   ]
  },
  {
   "cell_type": "code",
   "execution_count": null,
   "metadata": {
    "hidden": true
   },
   "outputs": [],
   "source": [
    "fn.Cohen_d(clean_data['data'], five)"
   ]
  },
  {
   "cell_type": "code",
   "execution_count": null,
   "metadata": {
    "hidden": true,
    "scrolled": true
   },
   "outputs": [],
   "source": [
    "fn.Cohen_d(clean_data['data'], four)"
   ]
  },
  {
   "cell_type": "code",
   "execution_count": null,
   "metadata": {
    "hidden": true,
    "scrolled": true
   },
   "outputs": [],
   "source": [
    "fn.Cohen_d(clean_data['data'], three)"
   ]
  },
  {
   "cell_type": "code",
   "execution_count": null,
   "metadata": {
    "hidden": true
   },
   "outputs": [],
   "source": [
    "fn.Cohen_d(clean_data['data'], two)"
   ]
  },
  {
   "cell_type": "code",
   "execution_count": null,
   "metadata": {
    "hidden": true
   },
   "outputs": [],
   "source": [
    "fn.Cohen_d(clean_data['data'], one)"
   ]
  },
  {
   "cell_type": "markdown",
   "metadata": {},
   "source": [
    "### Observations and recommendations: \n",
    "    Not sure that I agree with these results based on visual inspetion of data, perhaps testing was inaccurate???\n",
    "    \n",
    "    If there is no statistical difference, and effect size is small at best, best practices can still be shared by those who have a higher average revenue, examples 2,3 and 9 still have higher than average sales.\n",
    "    \n",
    "    Since no one is currently \"top dog\", perhaps a little healthy, insentivised competition might spur increased revenues if not by one, by many.  Also, remind sales teams that the lower discounts have demonstrated greater quantities sold.\n",
    "   \n",
    "    "
   ]
  },
  {
   "cell_type": "code",
   "execution_count": null,
   "metadata": {},
   "outputs": [],
   "source": []
  },
  {
   "cell_type": "markdown",
   "metadata": {},
   "source": [
    "# HYPOTHESIS 4:\n",
    "\n",
    "> ***Where are our customers from that spend the most money?***\n",
    "\n",
    "$H0$: Customers spend equal amounts regardless of region.\n",
    "\n",
    "$H1$: Region has an effect on total amount spent.\n",
    "\n",
    "\n",
    "    "
   ]
  },
  {
   "cell_type": "markdown",
   "metadata": {},
   "source": [
    "#### Importing and inspecting data from  OrderDetail and Order\n",
    "\n",
    "These table includes information on:\n",
    "\n",
    "    1) Sales total information \n",
    "    2) Regions where orders shipped to indicating the location of customers"
   ]
  },
  {
   "cell_type": "code",
   "execution_count": 118,
   "metadata": {
    "scrolled": true
   },
   "outputs": [
    {
     "data": {
      "text/html": [
       "<div>\n",
       "<style scoped>\n",
       "    .dataframe tbody tr th:only-of-type {\n",
       "        vertical-align: middle;\n",
       "    }\n",
       "\n",
       "    .dataframe tbody tr th {\n",
       "        vertical-align: top;\n",
       "    }\n",
       "\n",
       "    .dataframe thead th {\n",
       "        text-align: right;\n",
       "    }\n",
       "</style>\n",
       "<table border=\"1\" class=\"dataframe\">\n",
       "  <thead>\n",
       "    <tr style=\"text-align: right;\">\n",
       "      <th></th>\n",
       "      <th>ShipRegion</th>\n",
       "      <th>OrderId</th>\n",
       "      <th>ProductId</th>\n",
       "      <th>UnitPrice</th>\n",
       "      <th>Quantity</th>\n",
       "      <th>Discount</th>\n",
       "    </tr>\n",
       "  </thead>\n",
       "  <tbody>\n",
       "    <tr>\n",
       "      <td>0</td>\n",
       "      <td>Western Europe</td>\n",
       "      <td>10248</td>\n",
       "      <td>11</td>\n",
       "      <td>14.0</td>\n",
       "      <td>12</td>\n",
       "      <td>0.0</td>\n",
       "    </tr>\n",
       "    <tr>\n",
       "      <td>1</td>\n",
       "      <td>Western Europe</td>\n",
       "      <td>10248</td>\n",
       "      <td>42</td>\n",
       "      <td>9.8</td>\n",
       "      <td>10</td>\n",
       "      <td>0.0</td>\n",
       "    </tr>\n",
       "    <tr>\n",
       "      <td>2</td>\n",
       "      <td>Western Europe</td>\n",
       "      <td>10248</td>\n",
       "      <td>72</td>\n",
       "      <td>34.8</td>\n",
       "      <td>5</td>\n",
       "      <td>0.0</td>\n",
       "    </tr>\n",
       "    <tr>\n",
       "      <td>3</td>\n",
       "      <td>Western Europe</td>\n",
       "      <td>10249</td>\n",
       "      <td>14</td>\n",
       "      <td>18.6</td>\n",
       "      <td>9</td>\n",
       "      <td>0.0</td>\n",
       "    </tr>\n",
       "    <tr>\n",
       "      <td>4</td>\n",
       "      <td>Western Europe</td>\n",
       "      <td>10249</td>\n",
       "      <td>51</td>\n",
       "      <td>42.4</td>\n",
       "      <td>40</td>\n",
       "      <td>0.0</td>\n",
       "    </tr>\n",
       "  </tbody>\n",
       "</table>\n",
       "</div>"
      ],
      "text/plain": [
       "       ShipRegion  OrderId  ProductId  UnitPrice  Quantity  Discount\n",
       "0  Western Europe    10248         11       14.0        12       0.0\n",
       "1  Western Europe    10248         42        9.8        10       0.0\n",
       "2  Western Europe    10248         72       34.8         5       0.0\n",
       "3  Western Europe    10249         14       18.6         9       0.0\n",
       "4  Western Europe    10249         51       42.4        40       0.0"
      ]
     },
     "execution_count": 118,
     "metadata": {},
     "output_type": "execute_result"
    }
   ],
   "source": [
    "cur.execute(\"\"\"SELECT \n",
    "                ShipRegion, \n",
    "                OrderID, \n",
    "                ProductID, \n",
    "                UnitPrice,\n",
    "                Quantity, \n",
    "                Discount\n",
    "                FROM `Order` AS o\n",
    "                JOIN OrderDetail AS od\n",
    "                on o.ID = od.OrderId ;\"\"\")\n",
    "dfreg = pd.DataFrame(cur.fetchall(), columns=[x[0] for x in cur.description])\n",
    "dfreg.head()"
   ]
  },
  {
   "cell_type": "code",
   "execution_count": 119,
   "metadata": {},
   "outputs": [],
   "source": [
    "dfreg['TotalSpend'] = ((dfreg['UnitPrice'])*(1 - dfreg['Discount']))*dfreg['Quantity']"
   ]
  },
  {
   "cell_type": "markdown",
   "metadata": {},
   "source": [
    "### Hypothesis 4 Preliminary Visualizations:"
   ]
  },
  {
   "cell_type": "code",
   "execution_count": 120,
   "metadata": {
    "scrolled": false
   },
   "outputs": [
    {
     "name": "stdout",
     "output_type": "stream",
     "text": [
      "The average total spend is $587.37\n"
     ]
    },
    {
     "data": {
      "image/png": "[encoded data removed]",
      "text/plain": [
       "<Figure size 432x288 with 1 Axes>"
      ]
     },
     "metadata": {},
     "output_type": "display_data"
    }
   ],
   "source": [
    "fig, ax = plt.subplots()\n",
    "spend_mu = dfreg['TotalSpend'].mean()\n",
    "sns.distplot(dfreg['TotalSpend'], ax=ax)\n",
    "plt.axvline(spend_mu, color='lightgreen')\n",
    "plt.title('Average Total Spend')\n",
    "print(f'The average total spend is ${round(spend_mu,2)}')"
   ]
  },
  {
   "cell_type": "code",
   "execution_count": 123,
   "metadata": {},
   "outputs": [],
   "source": [
    "regs = {}\n",
    "for reg in dfreg['ShipRegion'].unique():\n",
    "    regs[reg] = dfreg.groupby('ShipRegion').get_group(reg)['TotalSpend']\n"
   ]
  },
  {
   "cell_type": "code",
   "execution_count": 124,
   "metadata": {
    "scrolled": true
   },
   "outputs": [
    {
     "name": "stdout",
     "output_type": "stream",
     "text": [
      "There are 9 regions.\n"
     ]
    }
   ],
   "source": [
    "regions = list(dfreg['ShipRegion'].unique())\n",
    "regions\n",
    "print(f'There are {len(regions)} regions.')"
   ]
  },
  {
   "cell_type": "code",
   "execution_count": 125,
   "metadata": {},
   "outputs": [
    {
     "name": "stdout",
     "output_type": "stream",
     "text": [
      "Distributions appear roughly equal\n"
     ]
    },
    {
     "data": {
      "image/png": "[encoded data removed]",
      "text/plain": [
       "<Figure size 720x360 with 1 Axes>"
      ]
     },
     "metadata": {},
     "output_type": "display_data"
    }
   ],
   "source": [
    "fig, ax = plt.subplots(figsize=(10,5))\n",
    "for k,v in regs.items():\n",
    "    sns.distplot(v,label=v)\n",
    "\n",
    "\n",
    "plt.title('Sales Revenue Distribution')\n",
    "print('Distributions appear roughly equal')"
   ]
  },
  {
   "cell_type": "code",
   "execution_count": 126,
   "metadata": {
    "scrolled": false
   },
   "outputs": [
    {
     "data": {
      "application/vnd.jupyter.widget-view+json": {
       "model_id": "453a53d8ae5645b6ab72195d51f9bc2a",
       "version_major": 2,
       "version_minor": 0
      },
      "text/plain": [
       "interactive(children=(Dropdown(description='d', options=('Western Europe', 'South America', 'Central America',…"
      ]
     },
     "metadata": {},
     "output_type": "display_data"
    }
   ],
   "source": [
    "@interact\n",
    "def plt_discounts(d=regions):\n",
    "    sns.distplot(dfreg.groupby('ShipRegion').get_group(d)['TotalSpend'])\n",
    "    plt.axvline(spend_mu, color='purple')\n",
    "    plt.gca()"
   ]
  },
  {
   "cell_type": "code",
   "execution_count": 127,
   "metadata": {},
   "outputs": [
    {
     "data": {
      "image/png": "[encoded data removed]",
      "text/plain": [
       "<Figure size 864x576 with 1 Axes>"
      ]
     },
     "metadata": {},
     "output_type": "display_data"
    }
   ],
   "source": [
    "fig, ax = plt.subplots(figsize=(12,8))\n",
    "sns.barplot(data=dfreg, x='ShipRegion', y='TotalSpend', ci=68, palette=\"rocket\", ax=ax)\n",
    "plt.title('Total Spend by Region', fontsize=20)\n",
    "plt.axhline(spend_mu,linestyle=\"--\", color='orange', linewidth=.6 )\n",
    "plt.xlabel('Region')\n",
    "plt.xticks(rotation=45)\n",
    "plt.ylabel('Total Spend')\n",
    "plt.show()"
   ]
  },
  {
   "cell_type": "code",
   "execution_count": null,
   "metadata": {},
   "outputs": [],
   "source": []
  },
  {
   "cell_type": "markdown",
   "metadata": {},
   "source": [
    "#### Hypothesis 4 Initial Observations:\n",
    "Datatype is numeric in this 2155 order sample.\n",
    "\n",
    "There are 9 regions in reflected in this dataset\n",
    "\n",
    "The avarage of total spent is $587.37.\n",
    "\n",
    "Initial visual inspection indicates skewed, but roughly uniform distribution in total sales, more than half of the sales representatives achieve the average. Additional testing will demonstrate if it is significant.\n",
    "\n",
    "Since we are comparing multiple regions to inspect it's impact on quantity ordered an AVNOVA test will be run: Assumptions for ANOVA Testing:\n",
    "\n",
    "1) Upon a quick visual inspection, there appears to be some outliers that could be removed\n",
    "\n",
    "2) Equal variance\n",
    "\n",
    "3) Normality (if n>15) Not required for samples greater than 15"
   ]
  },
  {
   "cell_type": "markdown",
   "metadata": {},
   "source": [
    "### Hypothesis 4 Assumption 1: Outlier \n",
    "Outliers were identified and removed via z-score testing.  Details are below:"
   ]
  },
  {
   "cell_type": "code",
   "execution_count": 128,
   "metadata": {},
   "outputs": [],
   "source": [
    "regs = {}\n",
    "for reg in dfreg['ShipRegion'].unique():\n",
    "    regs[reg] = dfreg.groupby('ShipRegion').get_group(reg)['TotalSpend']\n"
   ]
  },
  {
   "cell_type": "code",
   "execution_count": 129,
   "metadata": {
    "scrolled": false
   },
   "outputs": [
    {
     "name": "stdout",
     "output_type": "stream",
     "text": [
      "Found 11 outliers in the Western Europe\n",
      "Found 2 outliers in the South America\n",
      "Found 1 outliers in the Central America\n",
      "Found 9 outliers in the North America\n",
      "Found 2 outliers in the Northern Europe\n",
      "Found 1 outliers in the Scandinavia\n",
      "Found 3 outliers in the Southern Europe\n",
      "Found 4 outliers in the British Isles\n",
      "Found 0 outliers in the Eastern Europe\n",
      "\n",
      " All of these outliers were removed\n"
     ]
    }
   ],
   "source": [
    "for reg, reg_data in regs.items():\n",
    "    idx_outs = fn.find_outliers_Z(reg_data)\n",
    "    print(f'Found {idx_outs.sum()} outliers in the {reg}')\n",
    "    regs[reg] = reg_data[~idx_outs]\n",
    "print('\\n All of these outliers were removed')"
   ]
  },
  {
   "cell_type": "markdown",
   "metadata": {},
   "source": [
    "### Hypothesis 4 Assumption 2: Equal Variance"
   ]
  },
  {
   "cell_type": "code",
   "execution_count": 130,
   "metadata": {
    "scrolled": false
   },
   "outputs": [],
   "source": [
    "data = []\n",
    "labels = []\n",
    "for k,v in regs.items():\n",
    "    data.append(v)\n",
    "    labels.append(k)"
   ]
  },
  {
   "cell_type": "code",
   "execution_count": 131,
   "metadata": {
    "scrolled": true
   },
   "outputs": [
    {
     "name": "stdout",
     "output_type": "stream",
     "text": [
      "Lavene test for equal variance results are 0.0\n",
      "The groups do NOT have equal variance\n"
     ]
    }
   ],
   "source": [
    "stat,p = stats.levene(*data, center = 'median')\n",
    "print(f'Lavene test for equal variance results are {round(p,4)}')\n",
    "sig = 'do NOT' if p < .05 else 'DO'\n",
    "\n",
    "print(f'The groups {sig} have equal variance')\n",
    "      "
   ]
  },
  {
   "cell_type": "markdown",
   "metadata": {},
   "source": [
    "### Hypothesis 4 Assumption 3: Normality"
   ]
  },
  {
   "cell_type": "code",
   "execution_count": 132,
   "metadata": {},
   "outputs": [
    {
     "name": "stdout",
     "output_type": "stream",
     "text": [
      "There are 734 samples in the data set for Regions #Western Europe.\n",
      "There are 353 samples in the data set for Regions #South America.\n",
      "There are 71 samples in the data set for Regions #Central America.\n",
      "There are 418 samples in the data set for Regions #North America.\n",
      "There are 141 samples in the data set for Regions #Northern Europe.\n",
      "There are 69 samples in the data set for Regions #Scandinavia.\n",
      "There are 134 samples in the data set for Regions #Southern Europe.\n",
      "There are 186 samples in the data set for Regions #British Isles.\n",
      "There are 16 samples in the data set for Regions #Eastern Europe.\n",
      "\n",
      "All samples are >15: Normality Assumption Criterion is met.\n"
     ]
    }
   ],
   "source": [
    "n =[]\n",
    "for reg, samples in regs.items():\n",
    "    print(f'There are {len(samples)} samples in the data set for Regions #{reg}.')\n",
    "    n.append(len(samples)>15)\n",
    "if all(n):\n",
    "    print('\\nAll samples are >15: Normality Assumption Criterion is met.')"
   ]
  },
  {
   "cell_type": "markdown",
   "metadata": {},
   "source": [
    "#### Using non-parametric Kruskal since the data set was not of equal variance:"
   ]
  },
  {
   "cell_type": "code",
   "execution_count": 133,
   "metadata": {
    "scrolled": true
   },
   "outputs": [
    {
     "name": "stdout",
     "output_type": "stream",
     "text": [
      "Kruskal test p value: 0.0\n"
     ]
    }
   ],
   "source": [
    "stat, p = stats.kruskal(*data)\n",
    "print(f\"Kruskal test p value: {round(p,6)}\")"
   ]
  },
  {
   "cell_type": "markdown",
   "metadata": {},
   "source": [
    "# HELP: Post-Hoc Testing Cohen_f??\n"
   ]
  },
  {
   "cell_type": "code",
   "execution_count": 134,
   "metadata": {},
   "outputs": [
    {
     "data": {
      "text/html": [
       "<div>\n",
       "<style scoped>\n",
       "    .dataframe tbody tr th:only-of-type {\n",
       "        vertical-align: middle;\n",
       "    }\n",
       "\n",
       "    .dataframe tbody tr th {\n",
       "        vertical-align: top;\n",
       "    }\n",
       "\n",
       "    .dataframe thead th {\n",
       "        text-align: right;\n",
       "    }\n",
       "</style>\n",
       "<table border=\"1\" class=\"dataframe\">\n",
       "  <thead>\n",
       "    <tr style=\"text-align: right;\">\n",
       "      <th></th>\n",
       "      <th>data</th>\n",
       "      <th>group</th>\n",
       "    </tr>\n",
       "  </thead>\n",
       "  <tbody>\n",
       "    <tr>\n",
       "      <td>0</td>\n",
       "      <td>168.0</td>\n",
       "      <td>Western Europe</td>\n",
       "    </tr>\n",
       "    <tr>\n",
       "      <td>1</td>\n",
       "      <td>98.0</td>\n",
       "      <td>Western Europe</td>\n",
       "    </tr>\n",
       "    <tr>\n",
       "      <td>2</td>\n",
       "      <td>174.0</td>\n",
       "      <td>Western Europe</td>\n",
       "    </tr>\n",
       "    <tr>\n",
       "      <td>3</td>\n",
       "      <td>167.4</td>\n",
       "      <td>Western Europe</td>\n",
       "    </tr>\n",
       "    <tr>\n",
       "      <td>4</td>\n",
       "      <td>1696.0</td>\n",
       "      <td>Western Europe</td>\n",
       "    </tr>\n",
       "    <tr>\n",
       "      <td>...</td>\n",
       "      <td>...</td>\n",
       "      <td>...</td>\n",
       "    </tr>\n",
       "    <tr>\n",
       "      <td>1933</td>\n",
       "      <td>54.0</td>\n",
       "      <td>Eastern Europe</td>\n",
       "    </tr>\n",
       "    <tr>\n",
       "      <td>1934</td>\n",
       "      <td>199.5</td>\n",
       "      <td>Eastern Europe</td>\n",
       "    </tr>\n",
       "    <tr>\n",
       "      <td>1935</td>\n",
       "      <td>200.0</td>\n",
       "      <td>Eastern Europe</td>\n",
       "    </tr>\n",
       "    <tr>\n",
       "      <td>1936</td>\n",
       "      <td>232.5</td>\n",
       "      <td>Eastern Europe</td>\n",
       "    </tr>\n",
       "    <tr>\n",
       "      <td>2054</td>\n",
       "      <td>591.6</td>\n",
       "      <td>Eastern Europe</td>\n",
       "    </tr>\n",
       "  </tbody>\n",
       "</table>\n",
       "<p>2122 rows × 2 columns</p>\n",
       "</div>"
      ],
      "text/plain": [
       "        data           group\n",
       "0      168.0  Western Europe\n",
       "1       98.0  Western Europe\n",
       "2      174.0  Western Europe\n",
       "3      167.4  Western Europe\n",
       "4     1696.0  Western Europe\n",
       "...      ...             ...\n",
       "1933    54.0  Eastern Europe\n",
       "1934   199.5  Eastern Europe\n",
       "1935   200.0  Eastern Europe\n",
       "1936   232.5  Eastern Europe\n",
       "2054   591.6  Eastern Europe\n",
       "\n",
       "[2122 rows x 2 columns]"
      ]
     },
     "execution_count": 134,
     "metadata": {},
     "output_type": "execute_result"
    }
   ],
   "source": [
    "cregs = fn.prep_data_for_tukeys(regs)  \n",
    "cregs"
   ]
  },
  {
   "cell_type": "code",
   "execution_count": 82,
   "metadata": {},
   "outputs": [],
   "source": [
    "cregs['data']=cregs['data'].astype(float)\n",
    "cregs['group']=cregs['group'].astype(str)"
   ]
  },
  {
   "cell_type": "code",
   "execution_count": 135,
   "metadata": {
    "scrolled": false
   },
   "outputs": [
    {
     "data": {
      "text/html": [
       "<table class=\"simpletable\">\n",
       "<caption>Multiple Comparison of Means - Tukey HSD, FWER=0.05</caption>\n",
       "<tr>\n",
       "      <th>group1</th>          <th>group2</th>      <th>meandiff</th>   <th>p-adj</th>   <th>lower</th>     <th>upper</th>   <th>reject</th>\n",
       "</tr>\n",
       "<tr>\n",
       "   <td>British Isles</td>  <td>Central America</td> <td>-185.8522</td> <td>0.2271</td> <td>-415.6671</td>  <td>43.9628</td>   <td>False</td>\n",
       "</tr>\n",
       "<tr>\n",
       "   <td>British Isles</td>  <td>Eastern Europe</td>  <td>-241.5782</td> <td>0.6901</td> <td>-670.7752</td> <td>187.6188</td>   <td>False</td>\n",
       "</tr>\n",
       "<tr>\n",
       "   <td>British Isles</td>   <td>North America</td>  <td>108.0077</td>  <td>0.3368</td> <td>-37.1939</td>  <td>253.2093</td>   <td>False</td>\n",
       "</tr>\n",
       "<tr>\n",
       "   <td>British Isles</td>  <td>Northern Europe</td>  <td>48.1291</td>    <td>0.9</td>  <td>-135.8232</td> <td>232.0814</td>   <td>False</td>\n",
       "</tr>\n",
       "<tr>\n",
       "   <td>British Isles</td>    <td>Scandinavia</td>   <td>-137.1482</td> <td>0.6379</td> <td>-369.3612</td>  <td>95.0647</td>   <td>False</td>\n",
       "</tr>\n",
       "<tr>\n",
       "   <td>British Isles</td>   <td>South America</td>  <td>-38.1848</td>    <td>0.9</td>  <td>-187.4464</td> <td>111.0767</td>   <td>False</td>\n",
       "</tr>\n",
       "<tr>\n",
       "   <td>British Isles</td>  <td>Southern Europe</td> <td>-172.9738</td> <td>0.0946</td> <td>-359.6391</td>  <td>13.6914</td>   <td>False</td>\n",
       "</tr>\n",
       "<tr>\n",
       "   <td>British Isles</td>  <td>Western Europe</td>  <td>124.6055</td>  <td>0.0989</td> <td>-10.6288</td>  <td>259.8398</td>   <td>False</td>\n",
       "</tr>\n",
       "<tr>\n",
       "  <td>Central America</td> <td>Eastern Europe</td>   <td>-55.726</td>    <td>0.9</td>  <td>-511.6242</td> <td>400.1721</td>   <td>False</td>\n",
       "</tr>\n",
       "<tr>\n",
       "  <td>Central America</td>  <td>North America</td>  <td>293.8599</td>   <td>0.001</td>  <td>82.3968</td>  <td>505.3229</td>   <td>True</td> \n",
       "</tr>\n",
       "<tr>\n",
       "  <td>Central America</td> <td>Northern Europe</td> <td>233.9812</td>  <td>0.0623</td>  <td>-5.7511</td>  <td>473.7136</td>   <td>False</td>\n",
       "</tr>\n",
       "<tr>\n",
       "  <td>Central America</td>   <td>Scandinavia</td>    <td>48.7039</td>    <td>0.9</td>  <td>-229.7849</td> <td>327.1927</td>   <td>False</td>\n",
       "</tr>\n",
       "<tr>\n",
       "  <td>Central America</td>  <td>South America</td>  <td>147.6673</td>  <td>0.4491</td> <td>-66.6039</td>  <td>361.9385</td>   <td>False</td>\n",
       "</tr>\n",
       "<tr>\n",
       "  <td>Central America</td> <td>Southern Europe</td>  <td>12.8783</td>    <td>0.9</td>  <td>-228.942</td>  <td>254.6986</td>   <td>False</td>\n",
       "</tr>\n",
       "<tr>\n",
       "  <td>Central America</td> <td>Western Europe</td>  <td>310.4577</td>   <td>0.001</td> <td>105.7104</td>   <td>515.205</td>   <td>True</td> \n",
       "</tr>\n",
       "<tr>\n",
       "  <td>Eastern Europe</td>   <td>North America</td>  <td>349.5859</td>  <td>0.1926</td> <td>-70.0708</td>  <td>769.2426</td>   <td>False</td>\n",
       "</tr>\n",
       "<tr>\n",
       "  <td>Eastern Europe</td>  <td>Northern Europe</td> <td>289.7073</td>  <td>0.4947</td> <td>-144.8807</td> <td>724.2953</td>   <td>False</td>\n",
       "</tr>\n",
       "<tr>\n",
       "  <td>Eastern Europe</td>    <td>Scandinavia</td>    <td>104.43</td>     <td>0.9</td>  <td>-352.6817</td> <td>561.5417</td>   <td>False</td>\n",
       "</tr>\n",
       "<tr>\n",
       "  <td>Eastern Europe</td>   <td>South America</td>  <td>203.3934</td>  <td>0.8404</td> <td>-217.6853</td>  <td>624.472</td>   <td>False</td>\n",
       "</tr>\n",
       "<tr>\n",
       "  <td>Eastern Europe</td>  <td>Southern Europe</td>  <td>68.6044</td>    <td>0.9</td>  <td>-367.1389</td> <td>504.3476</td>   <td>False</td>\n",
       "</tr>\n",
       "<tr>\n",
       "  <td>Eastern Europe</td>  <td>Western Europe</td>  <td>366.1837</td>  <td>0.1372</td> <td>-50.1293</td>  <td>782.4968</td>   <td>False</td>\n",
       "</tr>\n",
       "<tr>\n",
       "   <td>North America</td>  <td>Northern Europe</td> <td>-59.8786</td>    <td>0.9</td>  <td>-220.316</td>  <td>100.5588</td>   <td>False</td>\n",
       "</tr>\n",
       "<tr>\n",
       "   <td>North America</td>    <td>Scandinavia</td>   <td>-245.1559</td> <td>0.0115</td> <td>-459.2227</td> <td>-31.0892</td>   <td>True</td> \n",
       "</tr>\n",
       "<tr>\n",
       "   <td>North America</td>   <td>South America</td>  <td>-146.1925</td> <td>0.0045</td> <td>-265.2754</td> <td>-27.1097</td>   <td>True</td> \n",
       "</tr>\n",
       "<tr>\n",
       "   <td>North America</td>  <td>Southern Europe</td> <td>-280.9815</td>  <td>0.001</td> <td>-444.5224</td> <td>-117.4406</td>  <td>True</td> \n",
       "</tr>\n",
       "<tr>\n",
       "   <td>North America</td>  <td>Western Europe</td>   <td>16.5978</td>    <td>0.9</td>  <td>-84.3478</td>  <td>117.5435</td>   <td>False</td>\n",
       "</tr>\n",
       "<tr>\n",
       "  <td>Northern Europe</td>   <td>Scandinavia</td>   <td>-185.2773</td> <td>0.2974</td> <td>-427.3094</td>  <td>56.7548</td>   <td>False</td>\n",
       "</tr>\n",
       "<tr>\n",
       "  <td>Northern Europe</td>  <td>South America</td>  <td>-86.3139</td>  <td>0.7597</td> <td>-250.4349</td>  <td>77.807</td>    <td>False</td>\n",
       "</tr>\n",
       "<tr>\n",
       "  <td>Northern Europe</td> <td>Southern Europe</td> <td>-221.1029</td> <td>0.0164</td> <td>-419.8505</td> <td>-22.3554</td>   <td>True</td> \n",
       "</tr>\n",
       "<tr>\n",
       "  <td>Northern Europe</td> <td>Western Europe</td>   <td>76.4764</td>  <td>0.7992</td> <td>-74.9996</td>  <td>227.9525</td>   <td>False</td>\n",
       "</tr>\n",
       "<tr>\n",
       "    <td>Scandinavia</td>    <td>South America</td>   <td>98.9634</td>  <td>0.8905</td> <td>-117.8778</td> <td>315.8046</td>   <td>False</td>\n",
       "</tr>\n",
       "<tr>\n",
       "    <td>Scandinavia</td>   <td>Southern Europe</td> <td>-35.8256</td>    <td>0.9</td>  <td>-279.926</td>  <td>208.2748</td>   <td>False</td>\n",
       "</tr>\n",
       "<tr>\n",
       "    <td>Scandinavia</td>   <td>Western Europe</td>  <td>261.7538</td>   <td>0.003</td>  <td>54.3185</td>   <td>469.189</td>   <td>True</td> \n",
       "</tr>\n",
       "<tr>\n",
       "   <td>South America</td>  <td>Southern Europe</td> <td>-134.789</td>  <td>0.2306</td> <td>-301.9451</td>  <td>32.3671</td>   <td>False</td>\n",
       "</tr>\n",
       "<tr>\n",
       "   <td>South America</td>  <td>Western Europe</td>  <td>162.7904</td>   <td>0.001</td>  <td>56.0873</td>  <td>269.4934</td>   <td>True</td> \n",
       "</tr>\n",
       "<tr>\n",
       "  <td>Southern Europe</td> <td>Western Europe</td>  <td>297.5794</td>   <td>0.001</td>  <td>142.82</td>   <td>452.3387</td>   <td>True</td> \n",
       "</tr>\n",
       "</table>"
      ],
      "text/plain": [
       "<class 'statsmodels.iolib.table.SimpleTable'>"
      ]
     },
     "execution_count": 135,
     "metadata": {},
     "output_type": "execute_result"
    }
   ],
   "source": [
    "tukey = sms.stats.multicomp.pairwise_tukeyhsd(cregs['data'],cregs['group'])\n",
    "tukey.summary()"
   ]
  },
  {
   "cell_type": "markdown",
   "metadata": {},
   "source": [
    "### Hypothesis 4 Observations and Recommendations:\n",
    "\n",
    "#### Obeservations \n",
    "The average spend for this dataset was $500.\n",
    "\n",
    "The p value for the kruskal test was singificant, which can reject the null hypothesis that all regions spend the same amounts. \n",
    "\n",
    "Orders shipped to Western Europe, and North America and Northern Europe generated the highest amount of revenue, statistically these regions are equal.  \n",
    "\n",
    "\n",
    "\n",
    "\n",
    "\n",
    "\n",
    "\n",
    "This is true in comparison over\n",
    "Central America, \n",
    "\n",
    "\n",
    "\n",
    "#### Recommendations:\n",
    "Ensure that products are stocked and available in regions and focus marketing and sales training in areas that need to be developed.\n"
   ]
  },
  {
   "cell_type": "code",
   "execution_count": 84,
   "metadata": {},
   "outputs": [
    {
     "data": {
      "image/png": "[encoded data removed]",
      "text/plain": [
       "<Figure size 864x576 with 1 Axes>"
      ]
     },
     "metadata": {},
     "output_type": "display_data"
    }
   ],
   "source": [
    "avspend = cregs['data'].mean()\n",
    "avspend\n",
    "fig, ax = plt.subplots(figsize=(12,8))\n",
    "sns.barplot(data=cregs, x='group', y='data', ci=68, palette=\"rocket\", ax=ax)\n",
    "plt.title('Average Order Spend by Region', fontsize=20)\n",
    "plt.axhline(avspend,linestyle=\"--\", color='orange', linewidth=.6 )\n",
    "plt.xlabel('Region')\n",
    "plt.xticks(rotation=45)\n",
    "plt.ylabel('Average Spend')\n",
    "plt.show()"
   ]
  },
  {
   "cell_type": "code",
   "execution_count": 166,
   "metadata": {},
   "outputs": [
    {
     "ename": "NameError",
     "evalue": "name 'avspend' is not defined",
     "output_type": "error",
     "traceback": [
      "\u001b[1;31m---------------------------------------------------------------------------\u001b[0m",
      "\u001b[1;31mNameError\u001b[0m                                 Traceback (most recent call last)",
      "\u001b[1;32m<ipython-input-166-6ba2a7fccc0a>\u001b[0m in \u001b[0;36m<module>\u001b[1;34m\u001b[0m\n\u001b[1;32m----> 1\u001b[1;33m \u001b[0mavspend\u001b[0m\u001b[1;33m\u001b[0m\u001b[1;33m\u001b[0m\u001b[0m\n\u001b[0m",
      "\u001b[1;31mNameError\u001b[0m: name 'avspend' is not defined"
     ]
    }
   ],
   "source": [
    "avspend"
   ]
  },
  {
   "cell_type": "code",
   "execution_count": null,
   "metadata": {},
   "outputs": [],
   "source": []
  }
 ],
 "metadata": {
  "kernelspec": {
   "display_name": "Python [conda env:learn-env] *",
   "language": "python",
   "name": "conda-env-learn-env-py"
  },
  "language_info": {
   "codemirror_mode": {
    "name": "ipython",
    "version": 3
   },
   "file_extension": ".py",
   "mimetype": "text/x-python",
   "name": "python",
   "nbconvert_exporter": "python",
   "pygments_lexer": "ipython3",
   "version": "3.6.9"
  },
  "latex_envs": {
   "LaTeX_envs_menu_present": true,
   "autoclose": false,
   "autocomplete": true,
   "bibliofile": "biblio.bib",
   "cite_by": "apalike",
   "current_citInitial": 1,
   "eqLabelWithNumbers": true,
   "eqNumInitial": 1,
   "hotkeys": {
    "equation": "Ctrl-E",
    "itemize": "Ctrl-I"
   },
   "labels_anchors": false,
   "latex_user_defs": false,
   "report_style_numbering": false,
   "user_envs_cfg": false
  },
  "toc": {
   "base_numbering": 1,
   "nav_menu": {},
   "number_sections": false,
   "sideBar": true,
   "skip_h1_title": false,
   "title_cell": "Table of Contents",
   "title_sidebar": "Contents",
   "toc_cell": false,
   "toc_position": {
    "height": "calc(100% - 180px)",
    "left": "10px",
    "top": "150px",
    "width": "346.528px"
   },
   "toc_section_display": true,
   "toc_window_display": true
  },
  "varInspector": {
   "cols": {
    "lenName": 16,
    "lenType": 16,
    "lenVar": 40
   },
   "kernels_config": {
    "python": {
     "delete_cmd_postfix": "",
     "delete_cmd_prefix": "del ",
     "library": "var_list.py",
     "varRefreshCmd": "print(var_dic_list())"
    },
    "r": {
     "delete_cmd_postfix": ") ",
     "delete_cmd_prefix": "rm(",
     "library": "var_list.r",
     "varRefreshCmd": "cat(var_dic_list()) "
    }
   },
   "types_to_exclude": [
    "module",
    "function",
    "builtin_function_or_method",
    "instance",
    "_Feature"
   ],
   "window_display": false
  }
 },
 "nbformat": 4,
 "nbformat_minor": 2
}
