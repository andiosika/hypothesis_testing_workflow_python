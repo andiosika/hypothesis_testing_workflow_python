{
 "cells": [
  {
   "cell_type": "markdown",
   "metadata": {},
   "source": [
    "# Mod 3 Final Project"
   ]
  },
  {
   "cell_type": "markdown",
   "metadata": {},
   "source": [
    "## Student Info\n",
    "\n",
    "- Name: Andi Osika\n",
    "- Cohort: ptds_100719\n",
    "- Instructor: James Irving, PhD\n"
   ]
  },
  {
   "cell_type": "markdown",
   "metadata": {},
   "source": [
    "## Instructions:"
   ]
  },
  {
   "cell_type": "markdown",
   "metadata": {},
   "source": [
    "- Open and read the project assignment and guidelines in `MOD_PROJECT_README.ipynb`\n",
    "- Review the hypothesis testing workflow found in this repo's `README.md` and at the bottom of the `MOD_PROJECT_README.ipynb`\n",
    "- 3 functions from study group/learn.co lessons have been provided inside `functions.py`\n",
    "    - `Cohen_d`, `find_outliers_IQR`,`find_outliers_Z`"
   ]
  },
  {
   "cell_type": "markdown",
   "metadata": {},
   "source": []
  },
  {
   "cell_type": "markdown",
   "metadata": {},
   "source": [
    "<img src=\"https://raw.githubusercontent.com/jirvingphd/dsc-mod-3-project-online-ds-ft-100719/master/Northwind_ERD_updated.png\">"
   ]
  },
  {
   "cell_type": "code",
   "execution_count": 1,
   "metadata": {
    "ExecuteTime": {
     "end_time": "2020-01-31T00:26:56.223159Z",
     "start_time": "2020-01-31T00:26:56.220980Z"
    }
   },
   "outputs": [],
   "source": [
    "# !pip install -U fsds_100719\n",
    "# from fsds_100719.imports import *\n",
    "\n",
    "import pandas as pd\n"
   ]
  },
  {
   "cell_type": "code",
   "execution_count": 51,
   "metadata": {
    "ExecuteTime": {
     "end_time": "2020-01-31T00:26:48.243683Z",
     "start_time": "2020-01-31T00:26:48.241435Z"
    }
   },
   "outputs": [
    {
     "ename": "ImportError",
     "evalue": "cannot import name 'test_equal_variance'",
     "output_type": "error",
     "traceback": [
      "\u001b[1;31m---------------------------------------------------------------------------\u001b[0m",
      "\u001b[1;31mImportError\u001b[0m                               Traceback (most recent call last)",
      "\u001b[1;32m<ipython-input-51-3d919fb0cbab>\u001b[0m in \u001b[0;36m<module>\u001b[1;34m\u001b[0m\n\u001b[1;32m----> 1\u001b[1;33m \u001b[1;32mfrom\u001b[0m \u001b[0mfunctions\u001b[0m \u001b[1;32mimport\u001b[0m \u001b[0mCohen_d\u001b[0m\u001b[1;33m,\u001b[0m \u001b[0mfind_outliers_IQR\u001b[0m\u001b[1;33m,\u001b[0m\u001b[0mfind_outliers_Z\u001b[0m\u001b[1;33m,\u001b[0m \u001b[0mtest_equal_variance\u001b[0m\u001b[1;33m,\u001b[0m \u001b[0mtest_normality\u001b[0m\u001b[1;33m,\u001b[0m \u001b[0mtest_assumptions\u001b[0m\u001b[1;33m\u001b[0m\u001b[1;33m\u001b[0m\u001b[0m\n\u001b[0m\u001b[0;32m      2\u001b[0m \u001b[1;33m\u001b[0m\u001b[0m\n\u001b[0;32m      3\u001b[0m \u001b[1;31m## Uncomment the line below to see the source code for the imported functions\u001b[0m\u001b[1;33m\u001b[0m\u001b[1;33m\u001b[0m\u001b[1;33m\u001b[0m\u001b[0m\n\u001b[0;32m      4\u001b[0m \u001b[1;31m# fs.ihelp(Cohen_d,False),fs.ihelp(find_outliers_IQR,False), fs.ihelp(find_outliers_Z,False)\u001b[0m\u001b[1;33m\u001b[0m\u001b[1;33m\u001b[0m\u001b[1;33m\u001b[0m\u001b[0m\n",
      "\u001b[1;31mImportError\u001b[0m: cannot import name 'test_equal_variance'"
     ]
    }
   ],
   "source": [
    "from functions import Cohen_d, find_outliers_IQR,find_outliers_Z\n",
    "\n",
    "## Uncomment the line below to see the source code for the imported functions\n",
    "# fs.ihelp(Cohen_d,False),fs.ihelp(find_outliers_IQR,False), fs.ihelp(find_outliers_Z,False)"
   ]
  },
  {
   "cell_type": "code",
   "execution_count": 3,
   "metadata": {
    "ExecuteTime": {
     "end_time": "2020-01-31T00:27:39.848908Z",
     "start_time": "2020-01-31T00:27:39.845403Z"
    }
   },
   "outputs": [],
   "source": [
    "import sqlite3\n",
    "connect = sqlite3.connect('Northwind_small.sqlite')\n",
    "cur = connect.cursor()"
   ]
  },
  {
   "cell_type": "markdown",
   "metadata": {},
   "source": [
    "# List of Tables:"
   ]
  },
  {
   "cell_type": "code",
   "execution_count": 4,
   "metadata": {
    "ExecuteTime": {
     "end_time": "2020-01-31T00:28:03.375218Z",
     "start_time": "2020-01-31T00:28:03.360094Z"
    },
    "scrolled": true
   },
   "outputs": [
    {
     "data": {
      "text/html": [
       "<div>\n",
       "<style scoped>\n",
       "    .dataframe tbody tr th:only-of-type {\n",
       "        vertical-align: middle;\n",
       "    }\n",
       "\n",
       "    .dataframe tbody tr th {\n",
       "        vertical-align: top;\n",
       "    }\n",
       "\n",
       "    .dataframe thead th {\n",
       "        text-align: right;\n",
       "    }\n",
       "</style>\n",
       "<table border=\"1\" class=\"dataframe\">\n",
       "  <thead>\n",
       "    <tr style=\"text-align: right;\">\n",
       "      <th></th>\n",
       "      <th>Table</th>\n",
       "    </tr>\n",
       "  </thead>\n",
       "  <tbody>\n",
       "    <tr>\n",
       "      <td>0</td>\n",
       "      <td>Employee</td>\n",
       "    </tr>\n",
       "    <tr>\n",
       "      <td>1</td>\n",
       "      <td>Category</td>\n",
       "    </tr>\n",
       "    <tr>\n",
       "      <td>2</td>\n",
       "      <td>Customer</td>\n",
       "    </tr>\n",
       "    <tr>\n",
       "      <td>3</td>\n",
       "      <td>Shipper</td>\n",
       "    </tr>\n",
       "    <tr>\n",
       "      <td>4</td>\n",
       "      <td>Supplier</td>\n",
       "    </tr>\n",
       "    <tr>\n",
       "      <td>5</td>\n",
       "      <td>Order</td>\n",
       "    </tr>\n",
       "    <tr>\n",
       "      <td>6</td>\n",
       "      <td>Product</td>\n",
       "    </tr>\n",
       "    <tr>\n",
       "      <td>7</td>\n",
       "      <td>OrderDetail</td>\n",
       "    </tr>\n",
       "    <tr>\n",
       "      <td>8</td>\n",
       "      <td>CustomerCustomerDemo</td>\n",
       "    </tr>\n",
       "    <tr>\n",
       "      <td>9</td>\n",
       "      <td>CustomerDemographic</td>\n",
       "    </tr>\n",
       "    <tr>\n",
       "      <td>10</td>\n",
       "      <td>Region</td>\n",
       "    </tr>\n",
       "    <tr>\n",
       "      <td>11</td>\n",
       "      <td>Territory</td>\n",
       "    </tr>\n",
       "    <tr>\n",
       "      <td>12</td>\n",
       "      <td>EmployeeTerritory</td>\n",
       "    </tr>\n",
       "  </tbody>\n",
       "</table>\n",
       "</div>"
      ],
      "text/plain": [
       "                   Table\n",
       "0               Employee\n",
       "1               Category\n",
       "2               Customer\n",
       "3                Shipper\n",
       "4               Supplier\n",
       "5                  Order\n",
       "6                Product\n",
       "7            OrderDetail\n",
       "8   CustomerCustomerDemo\n",
       "9    CustomerDemographic\n",
       "10                Region\n",
       "11             Territory\n",
       "12     EmployeeTerritory"
      ]
     },
     "execution_count": 4,
     "metadata": {},
     "output_type": "execute_result"
    }
   ],
   "source": [
    "cur.execute(\"\"\"SELECT name FROM sqlite_master WHERE type='table';\"\"\")\n",
    "df_tables = pd.DataFrame(cur.fetchall(), columns=['Table'])\n",
    "df_tables"
   ]
  },
  {
   "cell_type": "markdown",
   "metadata": {},
   "source": [
    "# HYPOTHESIS 1"
   ]
  },
  {
   "cell_type": "markdown",
   "metadata": {},
   "source": [
    "> ***Does discount amount have a statistically significant effect on the quantity of a product in an order? If so, at what level(s) of discount?***"
   ]
  },
  {
   "cell_type": "markdown",
   "metadata": {},
   "source": [
    "- $H_0$:There is no statistcally significant effect on the quantity of a product in an order in relation to a discount amount.\n",
    "- $H_1$:Discounts have a statistically significant effect on the quantiy of a product in an order.\n",
    "- $H_1a$:Certain discount values have a greater effect than others."
   ]
  },
  {
   "cell_type": "markdown",
   "metadata": {},
   "source": [
    "## Importing and inspecting data from OrderDetail table:\n",
    "\n",
    "This table includes order information on:\n",
    "\n",
    "    1) Quantity\n",
    "    2) Discount \n",
    "\n",
    "Will use the mean of the aggregate data of quantity ordered in comparison with orders where discounts were involved."
   ]
  },
  {
   "cell_type": "code",
   "execution_count": 5,
   "metadata": {
    "scrolled": true
   },
   "outputs": [
    {
     "data": {
      "text/html": [
       "<div>\n",
       "<style scoped>\n",
       "    .dataframe tbody tr th:only-of-type {\n",
       "        vertical-align: middle;\n",
       "    }\n",
       "\n",
       "    .dataframe tbody tr th {\n",
       "        vertical-align: top;\n",
       "    }\n",
       "\n",
       "    .dataframe thead th {\n",
       "        text-align: right;\n",
       "    }\n",
       "</style>\n",
       "<table border=\"1\" class=\"dataframe\">\n",
       "  <thead>\n",
       "    <tr style=\"text-align: right;\">\n",
       "      <th></th>\n",
       "      <th>Id</th>\n",
       "      <th>OrderId</th>\n",
       "      <th>ProductId</th>\n",
       "      <th>UnitPrice</th>\n",
       "      <th>Quantity</th>\n",
       "      <th>Discount</th>\n",
       "    </tr>\n",
       "  </thead>\n",
       "  <tbody>\n",
       "    <tr>\n",
       "      <td>0</td>\n",
       "      <td>10248/11</td>\n",
       "      <td>10248</td>\n",
       "      <td>11</td>\n",
       "      <td>14.0</td>\n",
       "      <td>12</td>\n",
       "      <td>0.0</td>\n",
       "    </tr>\n",
       "    <tr>\n",
       "      <td>1</td>\n",
       "      <td>10248/42</td>\n",
       "      <td>10248</td>\n",
       "      <td>42</td>\n",
       "      <td>9.8</td>\n",
       "      <td>10</td>\n",
       "      <td>0.0</td>\n",
       "    </tr>\n",
       "    <tr>\n",
       "      <td>2</td>\n",
       "      <td>10248/72</td>\n",
       "      <td>10248</td>\n",
       "      <td>72</td>\n",
       "      <td>34.8</td>\n",
       "      <td>5</td>\n",
       "      <td>0.0</td>\n",
       "    </tr>\n",
       "    <tr>\n",
       "      <td>3</td>\n",
       "      <td>10249/14</td>\n",
       "      <td>10249</td>\n",
       "      <td>14</td>\n",
       "      <td>18.6</td>\n",
       "      <td>9</td>\n",
       "      <td>0.0</td>\n",
       "    </tr>\n",
       "    <tr>\n",
       "      <td>4</td>\n",
       "      <td>10249/51</td>\n",
       "      <td>10249</td>\n",
       "      <td>51</td>\n",
       "      <td>42.4</td>\n",
       "      <td>40</td>\n",
       "      <td>0.0</td>\n",
       "    </tr>\n",
       "  </tbody>\n",
       "</table>\n",
       "</div>"
      ],
      "text/plain": [
       "         Id  OrderId  ProductId  UnitPrice  Quantity  Discount\n",
       "0  10248/11    10248         11       14.0        12       0.0\n",
       "1  10248/42    10248         42        9.8        10       0.0\n",
       "2  10248/72    10248         72       34.8         5       0.0\n",
       "3  10249/14    10249         14       18.6         9       0.0\n",
       "4  10249/51    10249         51       42.4        40       0.0"
      ]
     },
     "execution_count": 5,
     "metadata": {},
     "output_type": "execute_result"
    }
   ],
   "source": [
    "cur.execute(\"\"\"SELECT * FROM OrderDetail;\"\"\")\n",
    "df = pd.DataFrame(cur.fetchall(), columns=[x[0] for x in cur.description])\n",
    "df.head()\n"
   ]
  },
  {
   "cell_type": "code",
   "execution_count": 7,
   "metadata": {
    "scrolled": true
   },
   "outputs": [
    {
     "data": {
      "text/html": [
       "<div>\n",
       "<style scoped>\n",
       "    .dataframe tbody tr th:only-of-type {\n",
       "        vertical-align: middle;\n",
       "    }\n",
       "\n",
       "    .dataframe tbody tr th {\n",
       "        vertical-align: top;\n",
       "    }\n",
       "\n",
       "    .dataframe thead th {\n",
       "        text-align: right;\n",
       "    }\n",
       "</style>\n",
       "<table border=\"1\" class=\"dataframe\">\n",
       "  <thead>\n",
       "    <tr style=\"text-align: right;\">\n",
       "      <th></th>\n",
       "      <th>OrderId</th>\n",
       "      <th>ProductId</th>\n",
       "      <th>UnitPrice</th>\n",
       "      <th>Quantity</th>\n",
       "      <th>Discount</th>\n",
       "    </tr>\n",
       "  </thead>\n",
       "  <tbody>\n",
       "    <tr>\n",
       "      <td>count</td>\n",
       "      <td>2155.000000</td>\n",
       "      <td>2155.000000</td>\n",
       "      <td>2155.000000</td>\n",
       "      <td>2155.000000</td>\n",
       "      <td>2155.000000</td>\n",
       "    </tr>\n",
       "    <tr>\n",
       "      <td>mean</td>\n",
       "      <td>10659.375870</td>\n",
       "      <td>40.793039</td>\n",
       "      <td>26.218520</td>\n",
       "      <td>23.812993</td>\n",
       "      <td>0.056167</td>\n",
       "    </tr>\n",
       "    <tr>\n",
       "      <td>std</td>\n",
       "      <td>241.378032</td>\n",
       "      <td>22.159019</td>\n",
       "      <td>29.827418</td>\n",
       "      <td>19.022047</td>\n",
       "      <td>0.083450</td>\n",
       "    </tr>\n",
       "    <tr>\n",
       "      <td>min</td>\n",
       "      <td>10248.000000</td>\n",
       "      <td>1.000000</td>\n",
       "      <td>2.000000</td>\n",
       "      <td>1.000000</td>\n",
       "      <td>0.000000</td>\n",
       "    </tr>\n",
       "    <tr>\n",
       "      <td>25%</td>\n",
       "      <td>10451.000000</td>\n",
       "      <td>22.000000</td>\n",
       "      <td>12.000000</td>\n",
       "      <td>10.000000</td>\n",
       "      <td>0.000000</td>\n",
       "    </tr>\n",
       "    <tr>\n",
       "      <td>50%</td>\n",
       "      <td>10657.000000</td>\n",
       "      <td>41.000000</td>\n",
       "      <td>18.400000</td>\n",
       "      <td>20.000000</td>\n",
       "      <td>0.000000</td>\n",
       "    </tr>\n",
       "    <tr>\n",
       "      <td>75%</td>\n",
       "      <td>10862.500000</td>\n",
       "      <td>60.000000</td>\n",
       "      <td>32.000000</td>\n",
       "      <td>30.000000</td>\n",
       "      <td>0.100000</td>\n",
       "    </tr>\n",
       "    <tr>\n",
       "      <td>max</td>\n",
       "      <td>11077.000000</td>\n",
       "      <td>77.000000</td>\n",
       "      <td>263.500000</td>\n",
       "      <td>130.000000</td>\n",
       "      <td>0.250000</td>\n",
       "    </tr>\n",
       "  </tbody>\n",
       "</table>\n",
       "</div>"
      ],
      "text/plain": [
       "            OrderId    ProductId    UnitPrice     Quantity     Discount\n",
       "count   2155.000000  2155.000000  2155.000000  2155.000000  2155.000000\n",
       "mean   10659.375870    40.793039    26.218520    23.812993     0.056167\n",
       "std      241.378032    22.159019    29.827418    19.022047     0.083450\n",
       "min    10248.000000     1.000000     2.000000     1.000000     0.000000\n",
       "25%    10451.000000    22.000000    12.000000    10.000000     0.000000\n",
       "50%    10657.000000    41.000000    18.400000    20.000000     0.000000\n",
       "75%    10862.500000    60.000000    32.000000    30.000000     0.100000\n",
       "max    11077.000000    77.000000   263.500000   130.000000     0.250000"
      ]
     },
     "execution_count": 7,
     "metadata": {},
     "output_type": "execute_result"
    }
   ],
   "source": [
    "specs = df.describe()\n",
    "specs"
   ]
  },
  {
   "cell_type": "code",
   "execution_count": 8,
   "metadata": {
    "scrolled": false
   },
   "outputs": [
    {
     "name": "stdout",
     "output_type": "stream",
     "text": [
      "<class 'pandas.core.frame.DataFrame'>\n",
      "RangeIndex: 2155 entries, 0 to 2154\n",
      "Data columns (total 6 columns):\n",
      "Id           2155 non-null object\n",
      "OrderId      2155 non-null int64\n",
      "ProductId    2155 non-null int64\n",
      "UnitPrice    2155 non-null float64\n",
      "Quantity     2155 non-null int64\n",
      "Discount     2155 non-null float64\n",
      "dtypes: float64(2), int64(3), object(1)\n",
      "memory usage: 101.1+ KB\n"
     ]
    }
   ],
   "source": [
    "df.info()"
   ]
  },
  {
   "cell_type": "markdown",
   "metadata": {},
   "source": [
    "### Initial Visual Inspection:\n",
    "\n",
    "From this dataset of 2155 orders, the average quantity ordered is 24 regardless of discount, the minimum ordered is 0 and max ordered is 130, although the IQR is between 10 and 30."
   ]
  },
  {
   "cell_type": "code",
   "execution_count": 9,
   "metadata": {
    "scrolled": true
   },
   "outputs": [
    {
     "data": {
      "text/plain": [
       "count    2155.000000\n",
       "mean       23.812993\n",
       "std        19.022047\n",
       "min         1.000000\n",
       "25%        10.000000\n",
       "50%        20.000000\n",
       "75%        30.000000\n",
       "max       130.000000\n",
       "Name: Quantity, dtype: float64"
      ]
     },
     "execution_count": 9,
     "metadata": {},
     "output_type": "execute_result"
    }
   ],
   "source": [
    "qty = df['Quantity']\n",
    "qty_specs = qty.describe()\n",
    "qty_specs"
   ]
  },
  {
   "cell_type": "code",
   "execution_count": 10,
   "metadata": {},
   "outputs": [
    {
     "name": "stdout",
     "output_type": "stream",
     "text": [
      "The average quantity ordered from this sample is : 24.0\n",
      "There are 2155 orders in this sample.\n"
     ]
    }
   ],
   "source": [
    "qty_mu = round(qty_specs['mean'],0)\n",
    "n = len(df)\n",
    "print(f'The average quantity ordered from this sample is : {qty_mu}')\n",
    "print(f'There are {n} orders in this sample.')"
   ]
  },
  {
   "cell_type": "code",
   "execution_count": 11,
   "metadata": {},
   "outputs": [
    {
     "data": {
      "text/plain": [
       "[0.0, 0.15, 0.05, 0.2, 0.25, 0.1, 0.02, 0.03, 0.04, 0.06, 0.01]"
      ]
     },
     "execution_count": 11,
     "metadata": {},
     "output_type": "execute_result"
    }
   ],
   "source": [
    "d =list(df['Discount'].unique())\n",
    "d\n",
    "#Dscounts are as follows:"
   ]
  },
  {
   "cell_type": "code",
   "execution_count": 13,
   "metadata": {
    "scrolled": false
   },
   "outputs": [
    {
     "data": {
      "text/plain": [
       "<matplotlib.lines.Line2D at 0x27964833208>"
      ]
     },
     "execution_count": 13,
     "metadata": {},
     "output_type": "execute_result"
    },
    {
     "data": {
      "image/png": "[encoded data removed]",
      "text/plain": [
       "<Figure size 432x288 with 1 Axes>"
      ]
     },
     "metadata": {
      "needs_background": "light"
     },
     "output_type": "display_data"
    }
   ],
   "source": [
    "import matplotlib.pyplot as plt\n",
    "import seaborn as sns\n",
    "sns.distplot(qty)\n",
    "plt.axvline(qty_mu, label='Qty Mean', color='purple')\n"
   ]
  },
  {
   "cell_type": "markdown",
   "metadata": {},
   "source": [
    "\n"
   ]
  },
  {
   "cell_type": "code",
   "execution_count": 14,
   "metadata": {},
   "outputs": [],
   "source": [
    "import seaborn as sns\n",
    "from ipywidgets import interact"
   ]
  },
  {
   "cell_type": "code",
   "execution_count": 15,
   "metadata": {
    "scrolled": true
   },
   "outputs": [
    {
     "data": {
      "application/vnd.jupyter.widget-view+json": {
       "model_id": "2659fb45c067497f85a05434541fc6f9",
       "version_major": 2,
       "version_minor": 0
      },
      "text/plain": [
       "interactive(children=(Dropdown(description='d', options=(0.0, 0.15, 0.05, 0.2, 0.25, 0.1, 0.02, 0.03, 0.04, 0.…"
      ]
     },
     "metadata": {},
     "output_type": "display_data"
    }
   ],
   "source": [
    "\n",
    "@interact\n",
    "def plt_discounts(d=d):\n",
    "    sns.distplot(df.groupby('Discount').get_group(d)['Quantity'])\n",
    "    plt.axvline(qty_mu, color='purple')\n",
    "    "
   ]
  },
  {
   "cell_type": "code",
   "execution_count": 16,
   "metadata": {
    "scrolled": true
   },
   "outputs": [
    {
     "data": {
      "text/plain": [
       "Discount\n",
       "0.00    1317\n",
       "0.01       1\n",
       "0.02       2\n",
       "0.03       3\n",
       "0.04       1\n",
       "0.05     185\n",
       "0.06       1\n",
       "0.10     173\n",
       "0.15     157\n",
       "0.20     161\n",
       "0.25     154\n",
       "Name: Quantity, dtype: int64"
      ]
     },
     "metadata": {},
     "output_type": "display_data"
    }
   ],
   "source": [
    "dfa = df.groupby('Discount').count()['Quantity']\n",
    "display(dfa)\n"
   ]
  },
  {
   "cell_type": "code",
   "execution_count": null,
   "metadata": {},
   "outputs": [],
   "source": []
  },
  {
   "cell_type": "markdown",
   "metadata": {},
   "source": [
    "## Initial Observations:\n",
    "\n",
    "Datatype is numeric.  \n",
    "\n",
    "The average quantity ordered from this sample is : 24.0\n",
    "There are 2155 orders in this sample. \n",
    "\n",
    "Discounts are as follows:\n",
    "0.0, 0.15, 0.05, 0.2, 0.25, 0.1, 0.02, 0.03, 0.04, 0.06, 0.01\n",
    "The majority of product purchases are without the discount, and frequency of discounts are as follows:\n",
    "5%\n",
    "10%\n",
    "20%\n",
    "15%\n",
    "25%\n",
    "\n",
    "For discounts 1%,2%,3%,4%, and 6% , the amount of data is relatively small to evaluate it's impact on a whole.\n",
    "\n",
    "### Since we are comparing multiple discounts to inspect it's impact on quantity ordered an AVNOVA test will be run: \n",
    "    \n",
    "    \n",
    "    Assumptions for ANOVA Testing: \n",
    "\n",
    "    1) No significant outliers \n",
    "        Upon a quick visual inspection, there appears to be some outliers that could be removed\n",
    "    \n",
    "    2) Equal variance\n",
    "        Lavene's testing demonstrates equal variance\n",
    "    \n",
    "    \n",
    "    3) Normality (if n>15)\n",
    "          Not required for discounts: 5%, 10%, 15%, 20% and 25% since n > 15\n",
    "\n",
    "\n"
   ]
  },
  {
   "cell_type": "markdown",
   "metadata": {},
   "source": [
    "### Remvoving outliers via Z-Scores:\n"
   ]
  },
  {
   "cell_type": "code",
   "execution_count": 19,
   "metadata": {
    "scrolled": true
   },
   "outputs": [],
   "source": [
    "import pandas as pd\n",
    "idx_outs = find_outliers_Z(df['Quantity'])\n",
    "df1 = df[~idx_outs].copy()"
   ]
  },
  {
   "cell_type": "code",
   "execution_count": 20,
   "metadata": {
    "scrolled": true
   },
   "outputs": [
    {
     "data": {
      "text/plain": [
       "count    2125.000000\n",
       "mean       22.657882\n",
       "std        16.387295\n",
       "min         1.000000\n",
       "25%        10.000000\n",
       "50%        20.000000\n",
       "75%        30.000000\n",
       "max        80.000000\n",
       "Name: Quantity, dtype: float64"
      ]
     },
     "execution_count": 20,
     "metadata": {},
     "output_type": "execute_result"
    }
   ],
   "source": [
    "qty1 = df1['Quantity']\n",
    "qty_specs1 = qty1.describe()\n",
    "qty_specs1"
   ]
  },
  {
   "cell_type": "markdown",
   "metadata": {
    "heading_collapsed": true
   },
   "source": [
    "### Revised mean for quantity ordered is 23 regardless of discount of the 2,125 orders in the revised dataset: df1"
   ]
  },
  {
   "cell_type": "code",
   "execution_count": 17,
   "metadata": {
    "hidden": true
   },
   "outputs": [
    {
     "name": "stdout",
     "output_type": "stream",
     "text": [
      "The average quantity ordered from this sample is : 23.0\n",
      "There are 2125 orders in this sample.\n"
     ]
    }
   ],
   "source": [
    "qty_mu1 = round(qty_specs1['mean'],0)\n",
    "n1 = len(df1)\n",
    "print(f'The average quantity ordered from this sample is : {qty_mu1}')\n",
    "print(f'There are {n1} orders in this sample.')"
   ]
  },
  {
   "cell_type": "markdown",
   "metadata": {},
   "source": [
    "### Checking sample sizes for discounts:\n",
    "\n",
    "For Discounts of 5%, 10%, 15%, 20% and 25% n>15 for other discounts, the qty sold is below mean, not qualifying for further testing."
   ]
  },
  {
   "cell_type": "code",
   "execution_count": 21,
   "metadata": {
    "scrolled": false
   },
   "outputs": [
    {
     "data": {
      "application/vnd.jupyter.widget-view+json": {
       "model_id": "842f99248cb642b3939597b065ea799a",
       "version_major": 2,
       "version_minor": 0
      },
      "text/plain": [
       "interactive(children=(Dropdown(description='d', options=(0.0, 0.15, 0.05, 0.2, 0.25, 0.1, 0.02, 0.03, 0.04, 0.…"
      ]
     },
     "metadata": {},
     "output_type": "display_data"
    }
   ],
   "source": [
    "@interact\n",
    "def plt_discounts(d=d):\n",
    "    sns.distplot(df1.groupby('Discount').get_group(d)['Quantity'])\n",
    "    plt.axvline(qty_mu, color='purple')\n",
    "    "
   ]
  },
  {
   "cell_type": "code",
   "execution_count": 22,
   "metadata": {
    "scrolled": true
   },
   "outputs": [
    {
     "data": {
      "text/html": [
       "<div>\n",
       "<style scoped>\n",
       "    .dataframe tbody tr th:only-of-type {\n",
       "        vertical-align: middle;\n",
       "    }\n",
       "\n",
       "    .dataframe tbody tr th {\n",
       "        vertical-align: top;\n",
       "    }\n",
       "\n",
       "    .dataframe thead th {\n",
       "        text-align: right;\n",
       "    }\n",
       "</style>\n",
       "<table border=\"1\" class=\"dataframe\">\n",
       "  <thead>\n",
       "    <tr style=\"text-align: right;\">\n",
       "      <th></th>\n",
       "      <th>Id</th>\n",
       "      <th>OrderId</th>\n",
       "      <th>ProductId</th>\n",
       "      <th>UnitPrice</th>\n",
       "      <th>Quantity</th>\n",
       "    </tr>\n",
       "    <tr>\n",
       "      <th>Discount</th>\n",
       "      <th></th>\n",
       "      <th></th>\n",
       "      <th></th>\n",
       "      <th></th>\n",
       "      <th></th>\n",
       "    </tr>\n",
       "  </thead>\n",
       "  <tbody>\n",
       "    <tr>\n",
       "      <td>0.00</td>\n",
       "      <td>1304</td>\n",
       "      <td>1304</td>\n",
       "      <td>1304</td>\n",
       "      <td>1304</td>\n",
       "      <td>1304</td>\n",
       "    </tr>\n",
       "    <tr>\n",
       "      <td>0.01</td>\n",
       "      <td>1</td>\n",
       "      <td>1</td>\n",
       "      <td>1</td>\n",
       "      <td>1</td>\n",
       "      <td>1</td>\n",
       "    </tr>\n",
       "    <tr>\n",
       "      <td>0.02</td>\n",
       "      <td>2</td>\n",
       "      <td>2</td>\n",
       "      <td>2</td>\n",
       "      <td>2</td>\n",
       "      <td>2</td>\n",
       "    </tr>\n",
       "    <tr>\n",
       "      <td>0.03</td>\n",
       "      <td>3</td>\n",
       "      <td>3</td>\n",
       "      <td>3</td>\n",
       "      <td>3</td>\n",
       "      <td>3</td>\n",
       "    </tr>\n",
       "    <tr>\n",
       "      <td>0.04</td>\n",
       "      <td>1</td>\n",
       "      <td>1</td>\n",
       "      <td>1</td>\n",
       "      <td>1</td>\n",
       "      <td>1</td>\n",
       "    </tr>\n",
       "    <tr>\n",
       "      <td>0.05</td>\n",
       "      <td>181</td>\n",
       "      <td>181</td>\n",
       "      <td>181</td>\n",
       "      <td>181</td>\n",
       "      <td>181</td>\n",
       "    </tr>\n",
       "    <tr>\n",
       "      <td>0.06</td>\n",
       "      <td>1</td>\n",
       "      <td>1</td>\n",
       "      <td>1</td>\n",
       "      <td>1</td>\n",
       "      <td>1</td>\n",
       "    </tr>\n",
       "    <tr>\n",
       "      <td>0.10</td>\n",
       "      <td>170</td>\n",
       "      <td>170</td>\n",
       "      <td>170</td>\n",
       "      <td>170</td>\n",
       "      <td>170</td>\n",
       "    </tr>\n",
       "    <tr>\n",
       "      <td>0.15</td>\n",
       "      <td>152</td>\n",
       "      <td>152</td>\n",
       "      <td>152</td>\n",
       "      <td>152</td>\n",
       "      <td>152</td>\n",
       "    </tr>\n",
       "    <tr>\n",
       "      <td>0.20</td>\n",
       "      <td>159</td>\n",
       "      <td>159</td>\n",
       "      <td>159</td>\n",
       "      <td>159</td>\n",
       "      <td>159</td>\n",
       "    </tr>\n",
       "    <tr>\n",
       "      <td>0.25</td>\n",
       "      <td>151</td>\n",
       "      <td>151</td>\n",
       "      <td>151</td>\n",
       "      <td>151</td>\n",
       "      <td>151</td>\n",
       "    </tr>\n",
       "  </tbody>\n",
       "</table>\n",
       "</div>"
      ],
      "text/plain": [
       "            Id  OrderId  ProductId  UnitPrice  Quantity\n",
       "Discount                                               \n",
       "0.00      1304     1304       1304       1304      1304\n",
       "0.01         1        1          1          1         1\n",
       "0.02         2        2          2          2         2\n",
       "0.03         3        3          3          3         3\n",
       "0.04         1        1          1          1         1\n",
       "0.05       181      181        181        181       181\n",
       "0.06         1        1          1          1         1\n",
       "0.10       170      170        170        170       170\n",
       "0.15       152      152        152        152       152\n",
       "0.20       159      159        159        159       159\n",
       "0.25       151      151        151        151       151"
      ]
     },
     "metadata": {},
     "output_type": "display_data"
    }
   ],
   "source": [
    "dfb = df1.groupby('Discount').count()\n",
    "display(dfb)\n",
    "\n"
   ]
  },
  {
   "cell_type": "markdown",
   "metadata": {},
   "source": [
    "### Testing for Equal Variance:"
   ]
  },
  {
   "cell_type": "markdown",
   "metadata": {},
   "source": [
    "## This is an ogre way to code.. need a for loop or function here:\n"
   ]
  },
  {
   "cell_type": "code",
   "execution_count": 23,
   "metadata": {},
   "outputs": [],
   "source": [
    "fivepercent = df1.groupby('Discount').get_group(.05)['Quantity']\n",
    "tenpercent = df1.groupby('Discount').get_group(.10)['Quantity']\n",
    "fifteenpercent = df1.groupby('Discount').get_group(.15)['Quantity']\n",
    "twentypercent = df1.groupby('Discount').get_group(.2)['Quantity']\n",
    "twentyfivepercent = df1.groupby('Discount').get_group(.25)['Quantity']"
   ]
  },
  {
   "cell_type": "code",
   "execution_count": 24,
   "metadata": {},
   "outputs": [],
   "source": [
    "dataqty = df1['Quantity']"
   ]
  },
  {
   "cell_type": "code",
   "execution_count": 25,
   "metadata": {},
   "outputs": [],
   "source": [
    "import scipy.stats as stats"
   ]
  },
  {
   "cell_type": "code",
   "execution_count": 26,
   "metadata": {},
   "outputs": [],
   "source": [
    "def test_equal_variance(grp1,grp2, alpha=.05):\n",
    "    stat,p = stats.levene(grp1,grp2)\n",
    "    if p<alpha:\n",
    "        print(f\"Levene's test p value of {np.round(p,3)} is < {alpha}, therefore groups do NOT have equal variance.\")\n",
    "    else:\n",
    "        print(f\"Normal test p value of {np.round(p,3)} is > {alpha},  therefore groups DOES have equal variance.\")\n",
    "    return p"
   ]
  },
  {
   "cell_type": "code",
   "execution_count": 27,
   "metadata": {
    "scrolled": true
   },
   "outputs": [
    {
     "name": "stdout",
     "output_type": "stream",
     "text": [
      "Normal test p value of 0.154 is > 0.05,  therefore groups DOES have equal variance.\n"
     ]
    },
    {
     "data": {
      "text/plain": [
       "0.1544710031524037"
      ]
     },
     "execution_count": 27,
     "metadata": {},
     "output_type": "execute_result"
    }
   ],
   "source": [
    "test_equal_variance(dataqty, fivepercent)"
   ]
  },
  {
   "cell_type": "code",
   "execution_count": 28,
   "metadata": {
    "scrolled": true
   },
   "outputs": [
    {
     "data": {
      "text/plain": [
       "Discount\n",
       "0.00    20.86\n",
       "0.01     2.00\n",
       "0.02     2.00\n",
       "0.03     1.67\n",
       "0.04     1.00\n",
       "0.05    26.25\n",
       "0.06     2.00\n",
       "0.10    23.51\n",
       "0.15    26.30\n",
       "0.20    26.17\n",
       "0.25    26.68\n",
       "Name: Quantity, dtype: float64"
      ]
     },
     "execution_count": 28,
     "metadata": {},
     "output_type": "execute_result"
    }
   ],
   "source": [
    "dfv = round(df1.groupby('Discount').mean(),2)['Quantity']\n",
    "dfv"
   ]
  },
  {
   "cell_type": "code",
   "execution_count": 31,
   "metadata": {},
   "outputs": [
    {
     "data": {
      "text/plain": [
       "Text(0.5, 1.0, 'Average Qty Ordered At Varying Discount Levels')"
      ]
     },
     "execution_count": 31,
     "metadata": {},
     "output_type": "execute_result"
    },
    {
     "data": {
      "image/png": "[encoded data removed]",
      "text/plain": [
       "<Figure size 720x576 with 1 Axes>"
      ]
     },
     "metadata": {
      "needs_background": "light"
     },
     "output_type": "display_data"
    }
   ],
   "source": [
    "fig, ax = plt.subplots(figsize=(10,8))\n",
    "sns.barplot(data=df1, x=df1['Discount'], y=df1['Quantity'], ci=68, ax=ax)\n",
    "plt.axhline(23,color='gray',ls='--')\n",
    "#plt.axhline(28,color='gray',ls='--')\n",
    "plt.title('Average Qty Ordered At Varying Discount Levels',fontsize=18)\n"
   ]
  },
  {
   "cell_type": "markdown",
   "metadata": {},
   "source": [
    "## ANOVA Testing:"
   ]
  },
  {
   "cell_type": "code",
   "execution_count": 32,
   "metadata": {},
   "outputs": [
    {
     "data": {
      "text/plain": [
       "F_onewayResult(statistic=4.817895668725112, pvalue=0.00021679426012476426)"
      ]
     },
     "execution_count": 32,
     "metadata": {},
     "output_type": "execute_result"
    }
   ],
   "source": [
    "stats.f_oneway(dataqty,fivepercent,tenpercent,fifteenpercent,twentypercent,twentyfivepercent)\n"
   ]
  },
  {
   "cell_type": "markdown",
   "metadata": {},
   "source": [
    "There is a statistically significant effect on quantity purchased based on discount.\n"
   ]
  },
  {
   "cell_type": "code",
   "execution_count": 33,
   "metadata": {
    "scrolled": true
   },
   "outputs": [
    {
     "data": {
      "text/html": [
       "<div>\n",
       "<style scoped>\n",
       "    .dataframe tbody tr th:only-of-type {\n",
       "        vertical-align: middle;\n",
       "    }\n",
       "\n",
       "    .dataframe tbody tr th {\n",
       "        vertical-align: top;\n",
       "    }\n",
       "\n",
       "    .dataframe thead th {\n",
       "        text-align: right;\n",
       "    }\n",
       "</style>\n",
       "<table border=\"1\" class=\"dataframe\">\n",
       "  <thead>\n",
       "    <tr style=\"text-align: right;\">\n",
       "      <th></th>\n",
       "      <th>OrderId</th>\n",
       "      <th>ProductId</th>\n",
       "      <th>UnitPrice</th>\n",
       "      <th>Quantity</th>\n",
       "    </tr>\n",
       "    <tr>\n",
       "      <th>Discount</th>\n",
       "      <th></th>\n",
       "      <th></th>\n",
       "      <th></th>\n",
       "      <th></th>\n",
       "    </tr>\n",
       "  </thead>\n",
       "  <tbody>\n",
       "    <tr>\n",
       "      <td>0.00</td>\n",
       "      <td>10661.994632</td>\n",
       "      <td>41.437883</td>\n",
       "      <td>26.154532</td>\n",
       "      <td>20.857362</td>\n",
       "    </tr>\n",
       "    <tr>\n",
       "      <td>0.01</td>\n",
       "      <td>11077.000000</td>\n",
       "      <td>73.000000</td>\n",
       "      <td>15.000000</td>\n",
       "      <td>2.000000</td>\n",
       "    </tr>\n",
       "    <tr>\n",
       "      <td>0.02</td>\n",
       "      <td>11077.000000</td>\n",
       "      <td>26.000000</td>\n",
       "      <td>18.500000</td>\n",
       "      <td>2.000000</td>\n",
       "    </tr>\n",
       "    <tr>\n",
       "      <td>0.03</td>\n",
       "      <td>11077.000000</td>\n",
       "      <td>31.333333</td>\n",
       "      <td>24.650000</td>\n",
       "      <td>1.666667</td>\n",
       "    </tr>\n",
       "    <tr>\n",
       "      <td>0.04</td>\n",
       "      <td>11077.000000</td>\n",
       "      <td>20.000000</td>\n",
       "      <td>81.000000</td>\n",
       "      <td>1.000000</td>\n",
       "    </tr>\n",
       "    <tr>\n",
       "      <td>0.05</td>\n",
       "      <td>10659.044199</td>\n",
       "      <td>39.265193</td>\n",
       "      <td>30.978287</td>\n",
       "      <td>26.254144</td>\n",
       "    </tr>\n",
       "    <tr>\n",
       "      <td>0.06</td>\n",
       "      <td>11077.000000</td>\n",
       "      <td>60.000000</td>\n",
       "      <td>34.000000</td>\n",
       "      <td>2.000000</td>\n",
       "    </tr>\n",
       "    <tr>\n",
       "      <td>0.10</td>\n",
       "      <td>10599.470588</td>\n",
       "      <td>41.264706</td>\n",
       "      <td>25.284000</td>\n",
       "      <td>23.505882</td>\n",
       "    </tr>\n",
       "    <tr>\n",
       "      <td>0.15</td>\n",
       "      <td>10655.625000</td>\n",
       "      <td>40.539474</td>\n",
       "      <td>23.052105</td>\n",
       "      <td>26.302632</td>\n",
       "    </tr>\n",
       "    <tr>\n",
       "      <td>0.20</td>\n",
       "      <td>10629.723270</td>\n",
       "      <td>39.792453</td>\n",
       "      <td>23.621447</td>\n",
       "      <td>26.169811</td>\n",
       "    </tr>\n",
       "    <tr>\n",
       "      <td>0.25</td>\n",
       "      <td>10702.953642</td>\n",
       "      <td>37.735099</td>\n",
       "      <td>28.096159</td>\n",
       "      <td>26.682119</td>\n",
       "    </tr>\n",
       "  </tbody>\n",
       "</table>\n",
       "</div>"
      ],
      "text/plain": [
       "               OrderId  ProductId  UnitPrice   Quantity\n",
       "Discount                                               \n",
       "0.00      10661.994632  41.437883  26.154532  20.857362\n",
       "0.01      11077.000000  73.000000  15.000000   2.000000\n",
       "0.02      11077.000000  26.000000  18.500000   2.000000\n",
       "0.03      11077.000000  31.333333  24.650000   1.666667\n",
       "0.04      11077.000000  20.000000  81.000000   1.000000\n",
       "0.05      10659.044199  39.265193  30.978287  26.254144\n",
       "0.06      11077.000000  60.000000  34.000000   2.000000\n",
       "0.10      10599.470588  41.264706  25.284000  23.505882\n",
       "0.15      10655.625000  40.539474  23.052105  26.302632\n",
       "0.20      10629.723270  39.792453  23.621447  26.169811\n",
       "0.25      10702.953642  37.735099  28.096159  26.682119"
      ]
     },
     "execution_count": 33,
     "metadata": {},
     "output_type": "execute_result"
    }
   ],
   "source": [
    "dft = df1.groupby('Discount').mean()\n",
    "dft"
   ]
  },
  {
   "cell_type": "code",
   "execution_count": 34,
   "metadata": {},
   "outputs": [
    {
     "data": {
      "text/html": [
       "<table class=\"simpletable\">\n",
       "<caption>Multiple Comparison of Means - Tukey HSD, FWER=0.05</caption>\n",
       "<tr>\n",
       "  <th>group1</th> <th>group2</th> <th>meandiff</th>  <th>p-adj</th>   <th>lower</th>   <th>upper</th>  <th>reject</th>\n",
       "</tr>\n",
       "<tr>\n",
       "    <td>0.0</td>   <td>0.01</td>  <td>-18.8574</td>   <td>0.9</td>  <td>-71.0298</td> <td>33.3151</td>  <td>False</td>\n",
       "</tr>\n",
       "<tr>\n",
       "    <td>0.0</td>   <td>0.02</td>  <td>-18.8574</td>  <td>0.848</td>  <td>-55.763</td> <td>18.0483</td>  <td>False</td>\n",
       "</tr>\n",
       "<tr>\n",
       "    <td>0.0</td>   <td>0.03</td>  <td>-19.1907</td> <td>0.5966</td> <td>-49.3355</td> <td>10.9541</td>  <td>False</td>\n",
       "</tr>\n",
       "<tr>\n",
       "    <td>0.0</td>   <td>0.04</td>  <td>-19.8574</td>   <td>0.9</td>  <td>-72.0298</td> <td>32.3151</td>  <td>False</td>\n",
       "</tr>\n",
       "<tr>\n",
       "    <td>0.0</td>   <td>0.05</td>   <td>5.3968</td>  <td>0.0014</td>   <td>1.26</td>   <td>9.5335</td>   <td>True</td> \n",
       "</tr>\n",
       "<tr>\n",
       "    <td>0.0</td>   <td>0.06</td>  <td>-18.8574</td>   <td>0.9</td>  <td>-71.0298</td> <td>33.3151</td>  <td>False</td>\n",
       "</tr>\n",
       "<tr>\n",
       "    <td>0.0</td>    <td>0.1</td>   <td>2.6485</td>  <td>0.6242</td>  <td>-1.6041</td> <td>6.9012</td>   <td>False</td>\n",
       "</tr>\n",
       "<tr>\n",
       "    <td>0.0</td>   <td>0.15</td>   <td>5.4453</td>  <td>0.0043</td>  <td>0.9754</td>  <td>9.9151</td>   <td>True</td> \n",
       "</tr>\n",
       "<tr>\n",
       "    <td>0.0</td>    <td>0.2</td>   <td>5.3124</td>  <td>0.0046</td>  <td>0.9316</td>  <td>9.6933</td>   <td>True</td> \n",
       "</tr>\n",
       "<tr>\n",
       "    <td>0.0</td>   <td>0.25</td>   <td>5.8248</td>  <td>0.0015</td>  <td>1.3417</td>  <td>10.3079</td>  <td>True</td> \n",
       "</tr>\n",
       "<tr>\n",
       "   <td>0.01</td>   <td>0.02</td>     <td>0.0</td>     <td>0.9</td>  <td>-63.8734</td> <td>63.8734</td>  <td>False</td>\n",
       "</tr>\n",
       "<tr>\n",
       "   <td>0.01</td>   <td>0.03</td>   <td>-0.3333</td>   <td>0.9</td>  <td>-60.5538</td> <td>59.8871</td>  <td>False</td>\n",
       "</tr>\n",
       "<tr>\n",
       "   <td>0.01</td>   <td>0.04</td>    <td>-1.0</td>     <td>0.9</td>  <td>-74.7547</td> <td>72.7547</td>  <td>False</td>\n",
       "</tr>\n",
       "<tr>\n",
       "   <td>0.01</td>   <td>0.05</td>   <td>24.2541</td>   <td>0.9</td>  <td>-28.0422</td> <td>76.5505</td>  <td>False</td>\n",
       "</tr>\n",
       "<tr>\n",
       "   <td>0.01</td>   <td>0.06</td>     <td>0.0</td>     <td>0.9</td>  <td>-73.7547</td> <td>73.7547</td>  <td>False</td>\n",
       "</tr>\n",
       "<tr>\n",
       "   <td>0.01</td>    <td>0.1</td>   <td>21.5059</td>   <td>0.9</td>  <td>-30.7997</td> <td>73.8115</td>  <td>False</td>\n",
       "</tr>\n",
       "<tr>\n",
       "   <td>0.01</td>   <td>0.15</td>   <td>24.3026</td>   <td>0.9</td>  <td>-28.0211</td> <td>76.6263</td>  <td>False</td>\n",
       "</tr>\n",
       "<tr>\n",
       "   <td>0.01</td>    <td>0.2</td>   <td>24.1698</td>   <td>0.9</td>  <td>-28.1464</td> <td>76.486</td>   <td>False</td>\n",
       "</tr>\n",
       "<tr>\n",
       "   <td>0.01</td>   <td>0.25</td>   <td>24.6821</td>   <td>0.9</td>  <td>-27.6427</td> <td>77.007</td>   <td>False</td>\n",
       "</tr>\n",
       "<tr>\n",
       "   <td>0.02</td>   <td>0.03</td>   <td>-0.3333</td>   <td>0.9</td>  <td>-47.9418</td> <td>47.2751</td>  <td>False</td>\n",
       "</tr>\n",
       "<tr>\n",
       "   <td>0.02</td>   <td>0.04</td>    <td>-1.0</td>     <td>0.9</td>  <td>-64.8734</td> <td>62.8734</td>  <td>False</td>\n",
       "</tr>\n",
       "<tr>\n",
       "   <td>0.02</td>   <td>0.05</td>   <td>24.2541</td> <td>0.5616</td> <td>-12.8264</td> <td>61.3347</td>  <td>False</td>\n",
       "</tr>\n",
       "<tr>\n",
       "   <td>0.02</td>   <td>0.06</td>     <td>0.0</td>     <td>0.9</td>  <td>-63.8734</td> <td>63.8734</td>  <td>False</td>\n",
       "</tr>\n",
       "<tr>\n",
       "   <td>0.02</td>    <td>0.1</td>   <td>21.5059</td> <td>0.7103</td> <td>-15.5878</td> <td>58.5995</td>  <td>False</td>\n",
       "</tr>\n",
       "<tr>\n",
       "   <td>0.02</td>   <td>0.15</td>   <td>24.3026</td> <td>0.5603</td> <td>-12.8165</td> <td>61.4218</td>  <td>False</td>\n",
       "</tr>\n",
       "<tr>\n",
       "   <td>0.02</td>    <td>0.2</td>   <td>24.1698</td> <td>0.5671</td> <td>-12.9387</td> <td>61.2784</td>  <td>False</td>\n",
       "</tr>\n",
       "<tr>\n",
       "   <td>0.02</td>   <td>0.25</td>   <td>24.6821</td> <td>0.5399</td> <td>-12.4386</td> <td>61.8029</td>  <td>False</td>\n",
       "</tr>\n",
       "<tr>\n",
       "   <td>0.03</td>   <td>0.04</td>   <td>-0.6667</td>   <td>0.9</td>  <td>-60.8871</td> <td>59.5538</td>  <td>False</td>\n",
       "</tr>\n",
       "<tr>\n",
       "   <td>0.03</td>   <td>0.05</td>   <td>24.5875</td>  <td>0.244</td>  <td>-5.7713</td> <td>54.9462</td>  <td>False</td>\n",
       "</tr>\n",
       "<tr>\n",
       "   <td>0.03</td>   <td>0.06</td>   <td>0.3333</td>    <td>0.9</td>  <td>-59.8871</td> <td>60.5538</td>  <td>False</td>\n",
       "</tr>\n",
       "<tr>\n",
       "   <td>0.03</td>    <td>0.1</td>   <td>21.8392</td> <td>0.4262</td>  <td>-8.5355</td> <td>52.214</td>   <td>False</td>\n",
       "</tr>\n",
       "<tr>\n",
       "   <td>0.03</td>   <td>0.15</td>   <td>24.636</td>  <td>0.2435</td>   <td>-5.77</td>  <td>55.0419</td>  <td>False</td>\n",
       "</tr>\n",
       "<tr>\n",
       "   <td>0.03</td>    <td>0.2</td>   <td>24.5031</td> <td>0.2503</td>  <td>-5.8898</td> <td>54.8961</td>  <td>False</td>\n",
       "</tr>\n",
       "<tr>\n",
       "   <td>0.03</td>   <td>0.25</td>   <td>25.0155</td> <td>0.2237</td>  <td>-5.3924</td> <td>55.4233</td>  <td>False</td>\n",
       "</tr>\n",
       "<tr>\n",
       "   <td>0.04</td>   <td>0.05</td>   <td>25.2541</td>   <td>0.9</td>  <td>-27.0422</td> <td>77.5505</td>  <td>False</td>\n",
       "</tr>\n",
       "<tr>\n",
       "   <td>0.04</td>   <td>0.06</td>     <td>1.0</td>     <td>0.9</td>  <td>-72.7547</td> <td>74.7547</td>  <td>False</td>\n",
       "</tr>\n",
       "<tr>\n",
       "   <td>0.04</td>    <td>0.1</td>   <td>22.5059</td>   <td>0.9</td>  <td>-29.7997</td> <td>74.8115</td>  <td>False</td>\n",
       "</tr>\n",
       "<tr>\n",
       "   <td>0.04</td>   <td>0.15</td>   <td>25.3026</td>   <td>0.9</td>  <td>-27.0211</td> <td>77.6263</td>  <td>False</td>\n",
       "</tr>\n",
       "<tr>\n",
       "   <td>0.04</td>    <td>0.2</td>   <td>25.1698</td>   <td>0.9</td>  <td>-27.1464</td> <td>77.486</td>   <td>False</td>\n",
       "</tr>\n",
       "<tr>\n",
       "   <td>0.04</td>   <td>0.25</td>   <td>25.6821</td> <td>0.8883</td> <td>-26.6427</td> <td>78.007</td>   <td>False</td>\n",
       "</tr>\n",
       "<tr>\n",
       "   <td>0.05</td>   <td>0.06</td>  <td>-24.2541</td>   <td>0.9</td>  <td>-76.5505</td> <td>28.0422</td>  <td>False</td>\n",
       "</tr>\n",
       "<tr>\n",
       "   <td>0.05</td>    <td>0.1</td>   <td>-2.7483</td> <td>0.8832</td>  <td>-8.3184</td> <td>2.8219</td>   <td>False</td>\n",
       "</tr>\n",
       "<tr>\n",
       "   <td>0.05</td>   <td>0.15</td>   <td>0.0485</td>    <td>0.9</td>   <td>-5.6892</td> <td>5.7862</td>   <td>False</td>\n",
       "</tr>\n",
       "<tr>\n",
       "   <td>0.05</td>    <td>0.2</td>   <td>-0.0843</td>   <td>0.9</td>   <td>-5.7529</td> <td>5.5843</td>   <td>False</td>\n",
       "</tr>\n",
       "<tr>\n",
       "   <td>0.05</td>   <td>0.25</td>    <td>0.428</td>    <td>0.9</td>    <td>-5.32</td>   <td>6.176</td>   <td>False</td>\n",
       "</tr>\n",
       "<tr>\n",
       "   <td>0.06</td>    <td>0.1</td>   <td>21.5059</td>   <td>0.9</td>  <td>-30.7997</td> <td>73.8115</td>  <td>False</td>\n",
       "</tr>\n",
       "<tr>\n",
       "   <td>0.06</td>   <td>0.15</td>   <td>24.3026</td>   <td>0.9</td>  <td>-28.0211</td> <td>76.6263</td>  <td>False</td>\n",
       "</tr>\n",
       "<tr>\n",
       "   <td>0.06</td>    <td>0.2</td>   <td>24.1698</td>   <td>0.9</td>  <td>-28.1464</td> <td>76.486</td>   <td>False</td>\n",
       "</tr>\n",
       "<tr>\n",
       "   <td>0.06</td>   <td>0.25</td>   <td>24.6821</td>   <td>0.9</td>  <td>-27.6427</td> <td>77.007</td>   <td>False</td>\n",
       "</tr>\n",
       "<tr>\n",
       "    <td>0.1</td>   <td>0.15</td>   <td>2.7967</td>    <td>0.9</td>   <td>-3.025</td>  <td>8.6185</td>   <td>False</td>\n",
       "</tr>\n",
       "<tr>\n",
       "    <td>0.1</td>    <td>0.2</td>   <td>2.6639</td>    <td>0.9</td>   <td>-3.0898</td> <td>8.4177</td>   <td>False</td>\n",
       "</tr>\n",
       "<tr>\n",
       "    <td>0.1</td>   <td>0.25</td>   <td>3.1762</td>  <td>0.7806</td>  <td>-2.6557</td> <td>9.0082</td>   <td>False</td>\n",
       "</tr>\n",
       "<tr>\n",
       "   <td>0.15</td>    <td>0.2</td>   <td>-0.1328</td>   <td>0.9</td>   <td>-6.0489</td> <td>5.7833</td>   <td>False</td>\n",
       "</tr>\n",
       "<tr>\n",
       "   <td>0.15</td>   <td>0.25</td>   <td>0.3795</td>    <td>0.9</td>   <td>-5.6127</td> <td>6.3717</td>   <td>False</td>\n",
       "</tr>\n",
       "<tr>\n",
       "    <td>0.2</td>   <td>0.25</td>   <td>0.5123</td>    <td>0.9</td>   <td>-5.4138</td> <td>6.4384</td>   <td>False</td>\n",
       "</tr>\n",
       "</table>"
      ],
      "text/plain": [
       "<class 'statsmodels.iolib.table.SimpleTable'>"
      ]
     },
     "execution_count": 34,
     "metadata": {},
     "output_type": "execute_result"
    }
   ],
   "source": [
    "import statsmodels.api as sms\n",
    "\n",
    "tukey = sms.stats.multicomp.pairwise_tukeyhsd(df1['Quantity'],df1['Discount'])\n",
    "tukey.summary()"
   ]
  },
  {
   "cell_type": "code",
   "execution_count": 35,
   "metadata": {
    "scrolled": true
   },
   "outputs": [
    {
     "data": {
      "text/plain": [
       "-0.05164732914513401"
      ]
     },
     "execution_count": 35,
     "metadata": {},
     "output_type": "execute_result"
    }
   ],
   "source": [
    "Cohen_d(dataqty,tenpercent)"
   ]
  },
  {
   "cell_type": "code",
   "execution_count": 36,
   "metadata": {},
   "outputs": [
    {
     "data": {
      "text/plain": [
       "-0.2211706531102785"
      ]
     },
     "execution_count": 36,
     "metadata": {},
     "output_type": "execute_result"
    }
   ],
   "source": [
    "Cohen_d(dataqty,fifteenpercent)"
   ]
  },
  {
   "cell_type": "code",
   "execution_count": 37,
   "metadata": {},
   "outputs": [
    {
     "data": {
      "text/plain": [
       "-0.21344989934579986"
      ]
     },
     "execution_count": 37,
     "metadata": {},
     "output_type": "execute_result"
    }
   ],
   "source": [
    "Cohen_d(dataqty,twentypercent)"
   ]
  },
  {
   "cell_type": "code",
   "execution_count": 38,
   "metadata": {},
   "outputs": [
    {
     "data": {
      "text/plain": [
       "-0.24505179957472048"
      ]
     },
     "execution_count": 38,
     "metadata": {},
     "output_type": "execute_result"
    }
   ],
   "source": [
    "Cohen_d(dataqty,twentyfivepercent)"
   ]
  },
  {
   "cell_type": "code",
   "execution_count": 39,
   "metadata": {},
   "outputs": [
    {
     "data": {
      "text/plain": [
       "-0.21670300205742482"
      ]
     },
     "execution_count": 39,
     "metadata": {},
     "output_type": "execute_result"
    }
   ],
   "source": [
    "Cohen_d(dataqty,fivepercent)"
   ]
  },
  {
   "cell_type": "markdown",
   "metadata": {},
   "source": [
    "## Hypothesis 1 Findings and Recommendation:\n",
    "\n",
    "### Findings:\n",
    "Rejecting the null hypothesis that discounts held no bearing over quantity sold.  \n",
    " In order, the following had an effect on quantity sold:\n",
    " \n",
    " * 05% discount with p value of 0.0014 and effect of .31626950124118597\n",
    " \n",
    " * 25% discount with p value of 0.0015 and effect of .24505179957472048\n",
    " \n",
    " * 15% discount with p value of 0.0043 and effect size of .2211706531102785\n",
    " \n",
    " * 20% discount with p value of 0.0046 and effect size of .21344989934579986\n",
    " \n",
    "###  Recommendation:\n",
    "\n",
    "While larger discounts did deomonstrate significant effect on quantity purchased, a 5% discount had a stronger proability of correlating to larger quantities.  To regocnize the effect of driving higher quantities purchased, offer the smaller discount to realize larger profit margins.\n"
   ]
  },
  {
   "cell_type": "markdown",
   "metadata": {},
   "source": [
    "# HYPOTHESIS 2:"
   ]
  },
  {
   "cell_type": "markdown",
   "metadata": {},
   "source": [
    "> ***What is the top selling product, of the top selling products, what are the margins?***"
   ]
  },
  {
   "cell_type": "markdown",
   "metadata": {},
   "source": [
    "\n",
    "- $𝐻0$ : There are no products that sell at a significantly higher rate than the others.\n",
    "- $𝐻1$ : There are products that sell at a higher rate than others.\n",
    "- $𝐻1𝑎$ : "
   ]
  },
  {
   "cell_type": "code",
   "execution_count": 155,
   "metadata": {
    "scrolled": true
   },
   "outputs": [
    {
     "data": {
      "text/html": [
       "<div>\n",
       "<style scoped>\n",
       "    .dataframe tbody tr th:only-of-type {\n",
       "        vertical-align: middle;\n",
       "    }\n",
       "\n",
       "    .dataframe tbody tr th {\n",
       "        vertical-align: top;\n",
       "    }\n",
       "\n",
       "    .dataframe thead th {\n",
       "        text-align: right;\n",
       "    }\n",
       "</style>\n",
       "<table border=\"1\" class=\"dataframe\">\n",
       "  <thead>\n",
       "    <tr style=\"text-align: right;\">\n",
       "      <th></th>\n",
       "      <th>Id</th>\n",
       "      <th>OrderId</th>\n",
       "      <th>ProductId</th>\n",
       "      <th>UnitPrice</th>\n",
       "      <th>Quantity</th>\n",
       "      <th>Discount</th>\n",
       "      <th>Id</th>\n",
       "      <th>ProductName</th>\n",
       "      <th>SupplierId</th>\n",
       "      <th>CategoryId</th>\n",
       "      <th>QuantityPerUnit</th>\n",
       "      <th>UnitPrice</th>\n",
       "      <th>UnitsInStock</th>\n",
       "      <th>UnitsOnOrder</th>\n",
       "      <th>ReorderLevel</th>\n",
       "      <th>Discontinued</th>\n",
       "    </tr>\n",
       "  </thead>\n",
       "  <tbody>\n",
       "    <tr>\n",
       "      <td>0</td>\n",
       "      <td>10248/11</td>\n",
       "      <td>10248</td>\n",
       "      <td>11</td>\n",
       "      <td>14.0</td>\n",
       "      <td>12</td>\n",
       "      <td>0.0</td>\n",
       "      <td>11</td>\n",
       "      <td>Queso Cabrales</td>\n",
       "      <td>5</td>\n",
       "      <td>4</td>\n",
       "      <td>1 kg pkg.</td>\n",
       "      <td>21.00</td>\n",
       "      <td>22</td>\n",
       "      <td>30</td>\n",
       "      <td>30</td>\n",
       "      <td>0</td>\n",
       "    </tr>\n",
       "    <tr>\n",
       "      <td>1</td>\n",
       "      <td>10248/42</td>\n",
       "      <td>10248</td>\n",
       "      <td>42</td>\n",
       "      <td>9.8</td>\n",
       "      <td>10</td>\n",
       "      <td>0.0</td>\n",
       "      <td>42</td>\n",
       "      <td>Singaporean Hokkien Fried Mee</td>\n",
       "      <td>20</td>\n",
       "      <td>5</td>\n",
       "      <td>32 - 1 kg pkgs.</td>\n",
       "      <td>14.00</td>\n",
       "      <td>26</td>\n",
       "      <td>0</td>\n",
       "      <td>0</td>\n",
       "      <td>1</td>\n",
       "    </tr>\n",
       "    <tr>\n",
       "      <td>2</td>\n",
       "      <td>10248/72</td>\n",
       "      <td>10248</td>\n",
       "      <td>72</td>\n",
       "      <td>34.8</td>\n",
       "      <td>5</td>\n",
       "      <td>0.0</td>\n",
       "      <td>72</td>\n",
       "      <td>Mozzarella di Giovanni</td>\n",
       "      <td>14</td>\n",
       "      <td>4</td>\n",
       "      <td>24 - 200 g pkgs.</td>\n",
       "      <td>34.80</td>\n",
       "      <td>14</td>\n",
       "      <td>0</td>\n",
       "      <td>0</td>\n",
       "      <td>0</td>\n",
       "    </tr>\n",
       "    <tr>\n",
       "      <td>3</td>\n",
       "      <td>10249/14</td>\n",
       "      <td>10249</td>\n",
       "      <td>14</td>\n",
       "      <td>18.6</td>\n",
       "      <td>9</td>\n",
       "      <td>0.0</td>\n",
       "      <td>14</td>\n",
       "      <td>Tofu</td>\n",
       "      <td>6</td>\n",
       "      <td>7</td>\n",
       "      <td>40 - 100 g pkgs.</td>\n",
       "      <td>23.25</td>\n",
       "      <td>35</td>\n",
       "      <td>0</td>\n",
       "      <td>0</td>\n",
       "      <td>0</td>\n",
       "    </tr>\n",
       "    <tr>\n",
       "      <td>4</td>\n",
       "      <td>10249/51</td>\n",
       "      <td>10249</td>\n",
       "      <td>51</td>\n",
       "      <td>42.4</td>\n",
       "      <td>40</td>\n",
       "      <td>0.0</td>\n",
       "      <td>51</td>\n",
       "      <td>Manjimup Dried Apples</td>\n",
       "      <td>24</td>\n",
       "      <td>7</td>\n",
       "      <td>50 - 300 g pkgs.</td>\n",
       "      <td>53.00</td>\n",
       "      <td>20</td>\n",
       "      <td>0</td>\n",
       "      <td>10</td>\n",
       "      <td>0</td>\n",
       "    </tr>\n",
       "  </tbody>\n",
       "</table>\n",
       "</div>"
      ],
      "text/plain": [
       "         Id  OrderId  ProductId  UnitPrice  Quantity  Discount  Id  \\\n",
       "0  10248/11    10248         11       14.0        12       0.0  11   \n",
       "1  10248/42    10248         42        9.8        10       0.0  42   \n",
       "2  10248/72    10248         72       34.8         5       0.0  72   \n",
       "3  10249/14    10249         14       18.6         9       0.0  14   \n",
       "4  10249/51    10249         51       42.4        40       0.0  51   \n",
       "\n",
       "                     ProductName  SupplierId  CategoryId   QuantityPerUnit  \\\n",
       "0                 Queso Cabrales           5           4         1 kg pkg.   \n",
       "1  Singaporean Hokkien Fried Mee          20           5   32 - 1 kg pkgs.   \n",
       "2         Mozzarella di Giovanni          14           4  24 - 200 g pkgs.   \n",
       "3                           Tofu           6           7  40 - 100 g pkgs.   \n",
       "4          Manjimup Dried Apples          24           7  50 - 300 g pkgs.   \n",
       "\n",
       "   UnitPrice  UnitsInStock  UnitsOnOrder  ReorderLevel  Discontinued  \n",
       "0      21.00            22            30            30             0  \n",
       "1      14.00            26             0             0             1  \n",
       "2      34.80            14             0             0             0  \n",
       "3      23.25            35             0             0             0  \n",
       "4      53.00            20             0            10             0  "
      ]
     },
     "execution_count": 155,
     "metadata": {},
     "output_type": "execute_result"
    }
   ],
   "source": [
    "cur.execute(\"\"\"SELECT * FROM OrderDetail o\n",
    "                JOIN Product p\n",
    "                on o.ProductID = p.Id ;\"\"\")\n",
    "prods = pd.DataFrame(cur.fetchall(), columns=[x[0] for x in cur.description])\n",
    "prods.head()\n"
   ]
  },
  {
   "cell_type": "code",
   "execution_count": 36,
   "metadata": {},
   "outputs": [
    {
     "name": "stdout",
     "output_type": "stream",
     "text": [
      "<class 'pandas.core.frame.DataFrame'>\n",
      "RangeIndex: 2155 entries, 0 to 2154\n",
      "Data columns (total 16 columns):\n",
      "Id                 2155 non-null object\n",
      "OrderId            2155 non-null int64\n",
      "ProductId          2155 non-null int64\n",
      "UnitPrice          2155 non-null float64\n",
      "Quantity           2155 non-null int64\n",
      "Discount           2155 non-null float64\n",
      "Id                 2155 non-null int64\n",
      "ProductName        2155 non-null object\n",
      "SupplierId         2155 non-null int64\n",
      "CategoryId         2155 non-null int64\n",
      "QuantityPerUnit    2155 non-null object\n",
      "UnitPrice          2155 non-null float64\n",
      "UnitsInStock       2155 non-null int64\n",
      "UnitsOnOrder       2155 non-null int64\n",
      "ReorderLevel       2155 non-null int64\n",
      "Discontinued       2155 non-null int64\n",
      "dtypes: float64(3), int64(10), object(3)\n",
      "memory usage: 269.5+ KB\n"
     ]
    }
   ],
   "source": [
    "prods.info()"
   ]
  },
  {
   "cell_type": "code",
   "execution_count": 37,
   "metadata": {
    "scrolled": true
   },
   "outputs": [
    {
     "data": {
      "text/html": [
       "<div>\n",
       "<style scoped>\n",
       "    .dataframe tbody tr th:only-of-type {\n",
       "        vertical-align: middle;\n",
       "    }\n",
       "\n",
       "    .dataframe tbody tr th {\n",
       "        vertical-align: top;\n",
       "    }\n",
       "\n",
       "    .dataframe thead th {\n",
       "        text-align: right;\n",
       "    }\n",
       "</style>\n",
       "<table border=\"1\" class=\"dataframe\">\n",
       "  <thead>\n",
       "    <tr style=\"text-align: right;\">\n",
       "      <th></th>\n",
       "      <th>OrderId</th>\n",
       "      <th>ProductId</th>\n",
       "      <th>UnitPrice</th>\n",
       "      <th>Quantity</th>\n",
       "      <th>Discount</th>\n",
       "      <th>Id</th>\n",
       "      <th>SupplierId</th>\n",
       "      <th>CategoryId</th>\n",
       "      <th>UnitPrice</th>\n",
       "      <th>UnitsInStock</th>\n",
       "      <th>UnitsOnOrder</th>\n",
       "      <th>ReorderLevel</th>\n",
       "      <th>Discontinued</th>\n",
       "    </tr>\n",
       "  </thead>\n",
       "  <tbody>\n",
       "    <tr>\n",
       "      <td>count</td>\n",
       "      <td>2155.000000</td>\n",
       "      <td>2155.000000</td>\n",
       "      <td>2155.000000</td>\n",
       "      <td>2155.000000</td>\n",
       "      <td>2155.000000</td>\n",
       "      <td>2155.000000</td>\n",
       "      <td>2155.000000</td>\n",
       "      <td>2155.000000</td>\n",
       "      <td>2155.000000</td>\n",
       "      <td>2155.000000</td>\n",
       "      <td>2155.000000</td>\n",
       "      <td>2155.000000</td>\n",
       "      <td>2155.000000</td>\n",
       "    </tr>\n",
       "    <tr>\n",
       "      <td>mean</td>\n",
       "      <td>10659.375870</td>\n",
       "      <td>40.793039</td>\n",
       "      <td>26.218520</td>\n",
       "      <td>23.812993</td>\n",
       "      <td>0.056167</td>\n",
       "      <td>40.793039</td>\n",
       "      <td>14.488167</td>\n",
       "      <td>4.135499</td>\n",
       "      <td>27.948687</td>\n",
       "      <td>39.795824</td>\n",
       "      <td>8.074246</td>\n",
       "      <td>11.900232</td>\n",
       "      <td>0.105800</td>\n",
       "    </tr>\n",
       "    <tr>\n",
       "      <td>std</td>\n",
       "      <td>241.378032</td>\n",
       "      <td>22.159019</td>\n",
       "      <td>29.827418</td>\n",
       "      <td>19.022047</td>\n",
       "      <td>0.083450</td>\n",
       "      <td>22.159019</td>\n",
       "      <td>8.228640</td>\n",
       "      <td>2.378567</td>\n",
       "      <td>31.610706</td>\n",
       "      <td>36.055668</td>\n",
       "      <td>19.748983</td>\n",
       "      <td>10.791421</td>\n",
       "      <td>0.307653</td>\n",
       "    </tr>\n",
       "    <tr>\n",
       "      <td>min</td>\n",
       "      <td>10248.000000</td>\n",
       "      <td>1.000000</td>\n",
       "      <td>2.000000</td>\n",
       "      <td>1.000000</td>\n",
       "      <td>0.000000</td>\n",
       "      <td>1.000000</td>\n",
       "      <td>1.000000</td>\n",
       "      <td>1.000000</td>\n",
       "      <td>2.500000</td>\n",
       "      <td>0.000000</td>\n",
       "      <td>0.000000</td>\n",
       "      <td>0.000000</td>\n",
       "      <td>0.000000</td>\n",
       "    </tr>\n",
       "    <tr>\n",
       "      <td>25%</td>\n",
       "      <td>10451.000000</td>\n",
       "      <td>22.000000</td>\n",
       "      <td>12.000000</td>\n",
       "      <td>10.000000</td>\n",
       "      <td>0.000000</td>\n",
       "      <td>22.000000</td>\n",
       "      <td>7.000000</td>\n",
       "      <td>2.000000</td>\n",
       "      <td>12.500000</td>\n",
       "      <td>17.000000</td>\n",
       "      <td>0.000000</td>\n",
       "      <td>0.000000</td>\n",
       "      <td>0.000000</td>\n",
       "    </tr>\n",
       "    <tr>\n",
       "      <td>50%</td>\n",
       "      <td>10657.000000</td>\n",
       "      <td>41.000000</td>\n",
       "      <td>18.400000</td>\n",
       "      <td>20.000000</td>\n",
       "      <td>0.000000</td>\n",
       "      <td>41.000000</td>\n",
       "      <td>14.000000</td>\n",
       "      <td>4.000000</td>\n",
       "      <td>19.450000</td>\n",
       "      <td>25.000000</td>\n",
       "      <td>0.000000</td>\n",
       "      <td>10.000000</td>\n",
       "      <td>0.000000</td>\n",
       "    </tr>\n",
       "    <tr>\n",
       "      <td>75%</td>\n",
       "      <td>10862.500000</td>\n",
       "      <td>60.000000</td>\n",
       "      <td>32.000000</td>\n",
       "      <td>30.000000</td>\n",
       "      <td>0.100000</td>\n",
       "      <td>60.000000</td>\n",
       "      <td>21.000000</td>\n",
       "      <td>6.000000</td>\n",
       "      <td>34.000000</td>\n",
       "      <td>57.000000</td>\n",
       "      <td>0.000000</td>\n",
       "      <td>20.000000</td>\n",
       "      <td>0.000000</td>\n",
       "    </tr>\n",
       "    <tr>\n",
       "      <td>max</td>\n",
       "      <td>11077.000000</td>\n",
       "      <td>77.000000</td>\n",
       "      <td>263.500000</td>\n",
       "      <td>130.000000</td>\n",
       "      <td>0.250000</td>\n",
       "      <td>77.000000</td>\n",
       "      <td>29.000000</td>\n",
       "      <td>8.000000</td>\n",
       "      <td>263.500000</td>\n",
       "      <td>125.000000</td>\n",
       "      <td>100.000000</td>\n",
       "      <td>30.000000</td>\n",
       "      <td>1.000000</td>\n",
       "    </tr>\n",
       "  </tbody>\n",
       "</table>\n",
       "</div>"
      ],
      "text/plain": [
       "            OrderId    ProductId    UnitPrice     Quantity     Discount  \\\n",
       "count   2155.000000  2155.000000  2155.000000  2155.000000  2155.000000   \n",
       "mean   10659.375870    40.793039    26.218520    23.812993     0.056167   \n",
       "std      241.378032    22.159019    29.827418    19.022047     0.083450   \n",
       "min    10248.000000     1.000000     2.000000     1.000000     0.000000   \n",
       "25%    10451.000000    22.000000    12.000000    10.000000     0.000000   \n",
       "50%    10657.000000    41.000000    18.400000    20.000000     0.000000   \n",
       "75%    10862.500000    60.000000    32.000000    30.000000     0.100000   \n",
       "max    11077.000000    77.000000   263.500000   130.000000     0.250000   \n",
       "\n",
       "                Id   SupplierId   CategoryId    UnitPrice  UnitsInStock  \\\n",
       "count  2155.000000  2155.000000  2155.000000  2155.000000   2155.000000   \n",
       "mean     40.793039    14.488167     4.135499    27.948687     39.795824   \n",
       "std      22.159019     8.228640     2.378567    31.610706     36.055668   \n",
       "min       1.000000     1.000000     1.000000     2.500000      0.000000   \n",
       "25%      22.000000     7.000000     2.000000    12.500000     17.000000   \n",
       "50%      41.000000    14.000000     4.000000    19.450000     25.000000   \n",
       "75%      60.000000    21.000000     6.000000    34.000000     57.000000   \n",
       "max      77.000000    29.000000     8.000000   263.500000    125.000000   \n",
       "\n",
       "       UnitsOnOrder  ReorderLevel  Discontinued  \n",
       "count   2155.000000   2155.000000   2155.000000  \n",
       "mean       8.074246     11.900232      0.105800  \n",
       "std       19.748983     10.791421      0.307653  \n",
       "min        0.000000      0.000000      0.000000  \n",
       "25%        0.000000      0.000000      0.000000  \n",
       "50%        0.000000     10.000000      0.000000  \n",
       "75%        0.000000     20.000000      0.000000  \n",
       "max      100.000000     30.000000      1.000000  "
      ]
     },
     "execution_count": 37,
     "metadata": {},
     "output_type": "execute_result"
    }
   ],
   "source": [
    "stats = prods['Quantity'].describe()\n",
    "prods.describe()"
   ]
  },
  {
   "cell_type": "code",
   "execution_count": 156,
   "metadata": {},
   "outputs": [
    {
     "name": "stdout",
     "output_type": "stream",
     "text": [
      "There are 8 products\n"
     ]
    }
   ],
   "source": [
    "cats = prods['CategoryId'].unique()\n",
    "print(f'There are {len(cats)} categories')"
   ]
  },
  {
   "cell_type": "code",
   "execution_count": 157,
   "metadata": {},
   "outputs": [],
   "source": [
    "#...margins greater on one than the other?"
   ]
  },
  {
   "cell_type": "code",
   "execution_count": 38,
   "metadata": {
    "scrolled": true
   },
   "outputs": [
    {
     "name": "stdout",
     "output_type": "stream",
     "text": [
      "There are 77 products\n"
     ]
    }
   ],
   "source": [
    "pids = prods['ProductName'].unique()\n",
    "pids\n",
    "print(f'There are {len(pids)} products')"
   ]
  },
  {
   "cell_type": "markdown",
   "metadata": {},
   "source": [
    "Visually inspecting:"
   ]
  },
  {
   "cell_type": "code",
   "execution_count": 39,
   "metadata": {
    "scrolled": true
   },
   "outputs": [
    {
     "data": {
      "application/vnd.jupyter.widget-view+json": {
       "model_id": "bed3df66d3274371ac38febb6c9159ea",
       "version_major": 2,
       "version_minor": 0
      },
      "text/plain": [
       "interactive(children=(Dropdown(description='d', options=('Queso Cabrales', 'Singaporean Hokkien Fried Mee', 'M…"
      ]
     },
     "metadata": {},
     "output_type": "display_data"
    }
   ],
   "source": [
    "\n",
    "@interact\n",
    "def plt_discounts(d=pids):\n",
    "    sns.distplot(prods.groupby('ProductName').get_group(d)['Quantity'])\n",
    "    plt.axvline(qty_mu, color='purple')\n",
    "    plt.title('Quantity Disribution')"
   ]
  },
  {
   "cell_type": "markdown",
   "metadata": {},
   "source": [
    "### Initial Visual Inspection and Data Cleaning:"
   ]
  },
  {
   "cell_type": "code",
   "execution_count": 40,
   "metadata": {},
   "outputs": [],
   "source": [
    "qtystats = prods['Quantity'].describe()\n",
    "qty_mu = qtystats['mean']"
   ]
  },
  {
   "cell_type": "code",
   "execution_count": 41,
   "metadata": {
    "scrolled": false
   },
   "outputs": [
    {
     "data": {
      "text/plain": [
       "<matplotlib.axes._subplots.AxesSubplot at 0x2346d4149e8>"
      ]
     },
     "execution_count": 41,
     "metadata": {},
     "output_type": "execute_result"
    },
    {
     "data": {
      "image/png": "[encoded data removed]",
      "text/plain": [
       "<Figure size 432x288 with 1 Axes>"
      ]
     },
     "metadata": {
      "needs_background": "light"
     },
     "output_type": "display_data"
    }
   ],
   "source": [
    "sns.distplot(prods['Quantity'])\n",
    "plt.axvline(qty_mu, color='purple', label='Average Qty Purchased' )\n",
    "plt.title('Distribution of Qty Purchased', size=(16))\n",
    "plt.gca()\n"
   ]
  },
  {
   "cell_type": "markdown",
   "metadata": {},
   "source": [
    "##### Removing Outliers:"
   ]
  },
  {
   "cell_type": "markdown",
   "metadata": {},
   "source": [
    "### Adjusted Dataset"
   ]
  },
  {
   "cell_type": "markdown",
   "metadata": {},
   "source": [
    "### Addditional Visual Inspection:"
   ]
  },
  {
   "cell_type": "code",
   "execution_count": 42,
   "metadata": {
    "scrolled": true
   },
   "outputs": [
    {
     "data": {
      "application/vnd.jupyter.widget-view+json": {
       "model_id": "ccc64f6e49f547d1ba46b9c259fae1e6",
       "version_major": 2,
       "version_minor": 0
      },
      "text/plain": [
       "interactive(children=(Dropdown(description='d', options=('Queso Cabrales', 'Singaporean Hokkien Fried Mee', 'M…"
      ]
     },
     "metadata": {},
     "output_type": "display_data"
    }
   ],
   "source": [
    "@interact\n",
    "def plt_discounts(d=pids):\n",
    "    sns.distplot(prods.groupby('ProductName').get_group(d)['Quantity'])\n",
    "    plt.axvline(qty_mu, color='purple')"
   ]
  },
  {
   "cell_type": "markdown",
   "metadata": {},
   "source": [
    "### Initial Observations:\n",
    "\n",
    "Datatype is numeric.  \n",
    "\n",
    "There are 77 products, and we are looking for those that sell\n",
    "\n",
    "\n",
    "\n",
    "### Since we are comparing multiple product quanitesto inspect it's impact on quantity ordered an AVNOVA test will be run: \n",
    "    \n",
    "    \n",
    "Assumptions for ANOVA Testing: \n",
    "\n",
    "1) No significant outliers \n",
    "    Upon a quick visual inspection, there appears to be some outliers that could be removed in \n",
    "\n",
    "2) Equal variance\n",
    "    Lavene's testing demonstrates equal variance\n",
    "\n",
    "\n",
    "3) Normality (if n<15)\n",
    "      Not required for discounts: 5%, 10%, 15%, 20% and 25% since n > 15"
   ]
  },
  {
   "cell_type": "markdown",
   "metadata": {},
   "source": [
    "#### Data Processing: \n",
    "\n",
    "Grouping products by ProductId and then by quantity to evaulate top 5 selling products, also calculating margins."
   ]
  },
  {
   "cell_type": "code",
   "execution_count": 43,
   "metadata": {},
   "outputs": [
    {
     "data": {
      "text/plain": [
       "77"
      ]
     },
     "execution_count": 43,
     "metadata": {},
     "output_type": "execute_result"
    }
   ],
   "source": [
    "len(prods['ProductName'].unique())"
   ]
  },
  {
   "cell_type": "code",
   "execution_count": 44,
   "metadata": {},
   "outputs": [
    {
     "data": {
      "text/plain": [
       "(array([ 0,  1,  2,  3,  4,  5,  6,  7,  8,  9, 10, 11, 12, 13, 14, 15, 16,\n",
       "        17, 18, 19, 20, 21, 22, 23, 24, 25, 26, 27, 28, 29, 30, 31, 32, 33,\n",
       "        34, 35, 36, 37, 38, 39, 40, 41, 42, 43, 44, 45, 46, 47, 48, 49, 50,\n",
       "        51, 52, 53, 54, 55, 56, 57, 58, 59, 60, 61, 62, 63, 64, 65, 66, 67,\n",
       "        68, 69, 70, 71, 72, 73, 74, 75, 76]),\n",
       " <a list of 77 Text xticklabel objects>)"
      ]
     },
     "execution_count": 44,
     "metadata": {},
     "output_type": "execute_result"
    },
    {
     "data": {
      "image/png": "[encoded data removed]",
      "text/plain": [
       "<Figure size 1440x1440 with 1 Axes>"
      ]
     },
     "metadata": {
      "needs_background": "light"
     },
     "output_type": "display_data"
    }
   ],
   "source": [
    "fig, ax = plt.subplots(figsize=(20,20))\n",
    "sns.barplot(data=prods, x='ProductName', y='Quantity',ci=68)\n",
    "plt.xticks(rotation=90)\n"
   ]
  },
  {
   "cell_type": "code",
   "execution_count": null,
   "metadata": {},
   "outputs": [],
   "source": []
  },
  {
   "cell_type": "code",
   "execution_count": null,
   "metadata": {},
   "outputs": [],
   "source": []
  },
  {
   "cell_type": "code",
   "execution_count": 46,
   "metadata": {
    "scrolled": true
   },
   "outputs": [
    {
     "ename": "AttributeError",
     "evalue": "'numpy.ndarray' object has no attribute 'items'",
     "output_type": "error",
     "traceback": [
      "\u001b[1;31m---------------------------------------------------------------------------\u001b[0m",
      "\u001b[1;31mAttributeError\u001b[0m                            Traceback (most recent call last)",
      "\u001b[1;32m<ipython-input-46-ccc5131ac278>\u001b[0m in \u001b[0;36m<module>\u001b[1;34m\u001b[0m\n\u001b[1;32m----> 1\u001b[1;33m \u001b[1;32mfor\u001b[0m \u001b[0mpid\u001b[0m \u001b[1;33m,\u001b[0m \u001b[0mqty\u001b[0m \u001b[1;32min\u001b[0m \u001b[0mpids\u001b[0m\u001b[1;33m.\u001b[0m\u001b[0mitems\u001b[0m\u001b[1;33m(\u001b[0m\u001b[1;33m)\u001b[0m\u001b[1;33m:\u001b[0m\u001b[1;33m\u001b[0m\u001b[1;33m\u001b[0m\u001b[0m\n\u001b[0m\u001b[0;32m      2\u001b[0m     \u001b[0midx_outs\u001b[0m \u001b[1;33m=\u001b[0m \u001b[0mfind_outliers_Z\u001b[0m\u001b[1;33m(\u001b[0m\u001b[0mqty\u001b[0m\u001b[1;33m)\u001b[0m\u001b[1;33m\u001b[0m\u001b[1;33m\u001b[0m\u001b[0m\n\u001b[0;32m      3\u001b[0m     \u001b[0mprint\u001b[0m\u001b[1;33m(\u001b[0m\u001b[1;34mf'Found {idx_outs.sum()} outliers in  {pid} using z-scores'\u001b[0m\u001b[1;33m)\u001b[0m\u001b[1;33m\u001b[0m\u001b[1;33m\u001b[0m\u001b[0m\n",
      "\u001b[1;31mAttributeError\u001b[0m: 'numpy.ndarray' object has no attribute 'items'"
     ]
    }
   ],
   "source": [
    "pids ={}\n",
    "for pid , qty in pids.items():\n",
    "    idx_outs = find_outliers_Z(qty)\n",
    "    print(f'Found {idx_outs.sum()} outliers in  {pid} using z-scores')\n"
   ]
  },
  {
   "cell_type": "code",
   "execution_count": 47,
   "metadata": {},
   "outputs": [
    {
     "ename": "AttributeError",
     "evalue": "'numpy.ndarray' object has no attribute 'items'",
     "output_type": "error",
     "traceback": [
      "\u001b[1;31m---------------------------------------------------------------------------\u001b[0m",
      "\u001b[1;31mAttributeError\u001b[0m                            Traceback (most recent call last)",
      "\u001b[1;32m<ipython-input-47-d3464bb703f6>\u001b[0m in \u001b[0;36m<module>\u001b[1;34m\u001b[0m\n\u001b[1;32m----> 1\u001b[1;33m \u001b[1;32mfor\u001b[0m \u001b[0mk\u001b[0m\u001b[1;33m,\u001b[0m\u001b[0mv\u001b[0m \u001b[1;32min\u001b[0m \u001b[0mpids\u001b[0m\u001b[1;33m.\u001b[0m\u001b[0mitems\u001b[0m\u001b[1;33m(\u001b[0m\u001b[1;33m)\u001b[0m\u001b[1;33m:\u001b[0m\u001b[1;33m\u001b[0m\u001b[1;33m\u001b[0m\u001b[0m\n\u001b[0m\u001b[0;32m      2\u001b[0m     \u001b[0msns\u001b[0m\u001b[1;33m.\u001b[0m\u001b[0mdistplot\u001b[0m\u001b[1;33m(\u001b[0m\u001b[0mv\u001b[0m\u001b[1;33m,\u001b[0m \u001b[0mlabel\u001b[0m\u001b[1;33m=\u001b[0m\u001b[0mk\u001b[0m\u001b[1;33m)\u001b[0m\u001b[1;33m\u001b[0m\u001b[1;33m\u001b[0m\u001b[0m\n\u001b[0;32m      3\u001b[0m \u001b[0max\u001b[0m \u001b[1;33m=\u001b[0m \u001b[0mplt\u001b[0m\u001b[1;33m.\u001b[0m\u001b[0mgca\u001b[0m\u001b[1;33m(\u001b[0m\u001b[1;33m)\u001b[0m\u001b[1;33m\u001b[0m\u001b[1;33m\u001b[0m\u001b[0m\n",
      "\u001b[1;31mAttributeError\u001b[0m: 'numpy.ndarray' object has no attribute 'items'"
     ]
    }
   ],
   "source": [
    "for k,v in pids.items():\n",
    "    sns.distplot(v, label=k)\n",
    "ax = plt.gca()"
   ]
  },
  {
   "cell_type": "code",
   "execution_count": null,
   "metadata": {},
   "outputs": [],
   "source": [
    "for pid , qty in pids.items():\n",
    "    i = len(pid)\n",
    "    print(f'There are {i} values for the product {pid}')"
   ]
  },
  {
   "cell_type": "code",
   "execution_count": null,
   "metadata": {},
   "outputs": [],
   "source": [
    "prods_info ={}\n",
    "for pid in pids: \n",
    "    prods_info[pid] = prods.groupby('ProductName').get_group(pid)\n"
   ]
  },
  {
   "cell_type": "code",
   "execution_count": null,
   "metadata": {},
   "outputs": [],
   "source": [
    "# prodsqty_info ={}\n",
    "# prosdmarg_info = {}\n",
    "# for pid in pids: \n",
    "#     prodsqty_info[pid] = prods1.groupby('ProductId').get_group(pid)['Quantity']\n",
    "#     prodsmarg_info = prods1.groupby('ProductId').get_group(pid)['Margin']"
   ]
  },
  {
   "cell_type": "code",
   "execution_count": null,
   "metadata": {
    "scrolled": true
   },
   "outputs": [],
   "source": [
    "prodsa = pd.DataFrame(prods_info)\n",
    "top5 = prods_info.sort_values(by='Quantity',axis=1, ascending=False).loc['Margin']\n",
    "top5.head()"
   ]
  },
  {
   "cell_type": "markdown",
   "metadata": {},
   "source": [
    "Top 5 product ID's that are NOT discontinued are:\n",
    "\n",
    "Product ID | Avg Qty Ordered |\n",
    "---| ---| ---|\n",
    " 27| 30 | 3.30|\n",
    " 66 |30 |1.7|\n",
    " 58 |30 | .58|\n",
    " 23 | 29|.63|\n",
    "  8| 29 | 3\n",
    "  \n",
    "  * 5(discontinued) average ordered 30"
   ]
  },
  {
   "cell_type": "code",
   "execution_count": null,
   "metadata": {},
   "outputs": [],
   "source": [
    "top5\n",
    "@interact\n",
    "def plt_discounts(d=top5):\n",
    "    sns.distplot(prods1.groupby('ProductId').get_group(d)['Quantity'])\n",
    "    plt.axvline(qty_mu, color='purple')"
   ]
  },
  {
   "cell_type": "code",
   "execution_count": null,
   "metadata": {},
   "outputs": [],
   "source": []
  },
  {
   "cell_type": "code",
   "execution_count": null,
   "metadata": {},
   "outputs": [],
   "source": [
    "#Differentiating between COGs ('UnitPrice_1') and Sale Price ('UnitPrice_2') to calculate margins\n",
    "cols = []\n",
    "count = 1\n",
    "for column in prods1.columns:\n",
    "    if column == 'UnitPrice':\n",
    "        cols.append(f'UnitPrice_{count}')\n",
    "        count+=1\n",
    "        continue\n",
    "    cols.append(column)\n",
    "prods1.columns = cols"
   ]
  },
  {
   "cell_type": "code",
   "execution_count": null,
   "metadata": {
    "scrolled": true
   },
   "outputs": [],
   "source": [
    "prods1.head()"
   ]
  },
  {
   "cell_type": "markdown",
   "metadata": {},
   "source": [
    "...noting 70% of orders pull in < mean in terms of margins"
   ]
  },
  {
   "cell_type": "markdown",
   "metadata": {},
   "source": [
    "# HYPOTHESIS 3\n",
    "\n",
    "> ***Do certain sales representatives sell more than others?  Who are the top sellers?***\n",
    "\n",
    "$H0$: All sales representatives generate equal revenue.\n",
    "\n",
    "$H1$: Some sales representatives generate more than others in revenue."
   ]
  },
  {
   "cell_type": "markdown",
   "metadata": {},
   "source": [
    "### Importing and inspecting data from Product, OrderDetail, Order and Employee Tables\n",
    "These table includes information on:\n",
    "\n",
    "    1) Product information including cost of goods sold and sale price sold\n",
    "    2) Sales Representative Information"
   ]
  },
  {
   "cell_type": "code",
   "execution_count": 165,
   "metadata": {
    "scrolled": true
   },
   "outputs": [
    {
     "data": {
      "text/html": [
       "<div>\n",
       "<style scoped>\n",
       "    .dataframe tbody tr th:only-of-type {\n",
       "        vertical-align: middle;\n",
       "    }\n",
       "\n",
       "    .dataframe tbody tr th {\n",
       "        vertical-align: top;\n",
       "    }\n",
       "\n",
       "    .dataframe thead th {\n",
       "        text-align: right;\n",
       "    }\n",
       "</style>\n",
       "<table border=\"1\" class=\"dataframe\">\n",
       "  <thead>\n",
       "    <tr style=\"text-align: right;\">\n",
       "      <th></th>\n",
       "      <th>ProductId</th>\n",
       "      <th>ProductName</th>\n",
       "      <th>COGS</th>\n",
       "      <th>Discontinued</th>\n",
       "      <th>OrderId</th>\n",
       "      <th>ProductId</th>\n",
       "      <th>SalesPrice</th>\n",
       "      <th>Quantity</th>\n",
       "      <th>Discount</th>\n",
       "      <th>EmployeeId</th>\n",
       "      <th>LastName</th>\n",
       "      <th>FirstName</th>\n",
       "      <th>Region</th>\n",
       "    </tr>\n",
       "  </thead>\n",
       "  <tbody>\n",
       "    <tr>\n",
       "      <td>0</td>\n",
       "      <td>11</td>\n",
       "      <td>Queso Cabrales</td>\n",
       "      <td>21.00</td>\n",
       "      <td>0</td>\n",
       "      <td>10248</td>\n",
       "      <td>11</td>\n",
       "      <td>14.00</td>\n",
       "      <td>12</td>\n",
       "      <td>0.00</td>\n",
       "      <td>5</td>\n",
       "      <td>Buchanan</td>\n",
       "      <td>Steven</td>\n",
       "      <td>British Isles</td>\n",
       "    </tr>\n",
       "    <tr>\n",
       "      <td>1</td>\n",
       "      <td>42</td>\n",
       "      <td>Singaporean Hokkien Fried Mee</td>\n",
       "      <td>14.00</td>\n",
       "      <td>1</td>\n",
       "      <td>10248</td>\n",
       "      <td>42</td>\n",
       "      <td>9.80</td>\n",
       "      <td>10</td>\n",
       "      <td>0.00</td>\n",
       "      <td>5</td>\n",
       "      <td>Buchanan</td>\n",
       "      <td>Steven</td>\n",
       "      <td>British Isles</td>\n",
       "    </tr>\n",
       "    <tr>\n",
       "      <td>2</td>\n",
       "      <td>72</td>\n",
       "      <td>Mozzarella di Giovanni</td>\n",
       "      <td>34.80</td>\n",
       "      <td>0</td>\n",
       "      <td>10248</td>\n",
       "      <td>72</td>\n",
       "      <td>34.80</td>\n",
       "      <td>5</td>\n",
       "      <td>0.00</td>\n",
       "      <td>5</td>\n",
       "      <td>Buchanan</td>\n",
       "      <td>Steven</td>\n",
       "      <td>British Isles</td>\n",
       "    </tr>\n",
       "    <tr>\n",
       "      <td>3</td>\n",
       "      <td>14</td>\n",
       "      <td>Tofu</td>\n",
       "      <td>23.25</td>\n",
       "      <td>0</td>\n",
       "      <td>10249</td>\n",
       "      <td>14</td>\n",
       "      <td>18.60</td>\n",
       "      <td>9</td>\n",
       "      <td>0.00</td>\n",
       "      <td>6</td>\n",
       "      <td>Suyama</td>\n",
       "      <td>Michael</td>\n",
       "      <td>British Isles</td>\n",
       "    </tr>\n",
       "    <tr>\n",
       "      <td>4</td>\n",
       "      <td>51</td>\n",
       "      <td>Manjimup Dried Apples</td>\n",
       "      <td>53.00</td>\n",
       "      <td>0</td>\n",
       "      <td>10249</td>\n",
       "      <td>51</td>\n",
       "      <td>42.40</td>\n",
       "      <td>40</td>\n",
       "      <td>0.00</td>\n",
       "      <td>6</td>\n",
       "      <td>Suyama</td>\n",
       "      <td>Michael</td>\n",
       "      <td>British Isles</td>\n",
       "    </tr>\n",
       "    <tr>\n",
       "      <td>...</td>\n",
       "      <td>...</td>\n",
       "      <td>...</td>\n",
       "      <td>...</td>\n",
       "      <td>...</td>\n",
       "      <td>...</td>\n",
       "      <td>...</td>\n",
       "      <td>...</td>\n",
       "      <td>...</td>\n",
       "      <td>...</td>\n",
       "      <td>...</td>\n",
       "      <td>...</td>\n",
       "      <td>...</td>\n",
       "      <td>...</td>\n",
       "    </tr>\n",
       "    <tr>\n",
       "      <td>2150</td>\n",
       "      <td>64</td>\n",
       "      <td>Wimmers gute Semmelknödel</td>\n",
       "      <td>33.25</td>\n",
       "      <td>0</td>\n",
       "      <td>11077</td>\n",
       "      <td>64</td>\n",
       "      <td>33.25</td>\n",
       "      <td>2</td>\n",
       "      <td>0.03</td>\n",
       "      <td>1</td>\n",
       "      <td>Davolio</td>\n",
       "      <td>Nancy</td>\n",
       "      <td>North America</td>\n",
       "    </tr>\n",
       "    <tr>\n",
       "      <td>2151</td>\n",
       "      <td>66</td>\n",
       "      <td>Louisiana Hot Spiced Okra</td>\n",
       "      <td>17.00</td>\n",
       "      <td>0</td>\n",
       "      <td>11077</td>\n",
       "      <td>66</td>\n",
       "      <td>17.00</td>\n",
       "      <td>1</td>\n",
       "      <td>0.00</td>\n",
       "      <td>1</td>\n",
       "      <td>Davolio</td>\n",
       "      <td>Nancy</td>\n",
       "      <td>North America</td>\n",
       "    </tr>\n",
       "    <tr>\n",
       "      <td>2152</td>\n",
       "      <td>73</td>\n",
       "      <td>Röd Kaviar</td>\n",
       "      <td>15.00</td>\n",
       "      <td>0</td>\n",
       "      <td>11077</td>\n",
       "      <td>73</td>\n",
       "      <td>15.00</td>\n",
       "      <td>2</td>\n",
       "      <td>0.01</td>\n",
       "      <td>1</td>\n",
       "      <td>Davolio</td>\n",
       "      <td>Nancy</td>\n",
       "      <td>North America</td>\n",
       "    </tr>\n",
       "    <tr>\n",
       "      <td>2153</td>\n",
       "      <td>75</td>\n",
       "      <td>Rhönbräu Klosterbier</td>\n",
       "      <td>7.75</td>\n",
       "      <td>0</td>\n",
       "      <td>11077</td>\n",
       "      <td>75</td>\n",
       "      <td>7.75</td>\n",
       "      <td>4</td>\n",
       "      <td>0.00</td>\n",
       "      <td>1</td>\n",
       "      <td>Davolio</td>\n",
       "      <td>Nancy</td>\n",
       "      <td>North America</td>\n",
       "    </tr>\n",
       "    <tr>\n",
       "      <td>2154</td>\n",
       "      <td>77</td>\n",
       "      <td>Original Frankfurter grüne Soße</td>\n",
       "      <td>13.00</td>\n",
       "      <td>0</td>\n",
       "      <td>11077</td>\n",
       "      <td>77</td>\n",
       "      <td>13.00</td>\n",
       "      <td>2</td>\n",
       "      <td>0.00</td>\n",
       "      <td>1</td>\n",
       "      <td>Davolio</td>\n",
       "      <td>Nancy</td>\n",
       "      <td>North America</td>\n",
       "    </tr>\n",
       "  </tbody>\n",
       "</table>\n",
       "<p>2155 rows × 13 columns</p>\n",
       "</div>"
      ],
      "text/plain": [
       "      ProductId                      ProductName   COGS  Discontinued  \\\n",
       "0            11                   Queso Cabrales  21.00             0   \n",
       "1            42    Singaporean Hokkien Fried Mee  14.00             1   \n",
       "2            72           Mozzarella di Giovanni  34.80             0   \n",
       "3            14                             Tofu  23.25             0   \n",
       "4            51            Manjimup Dried Apples  53.00             0   \n",
       "...         ...                              ...    ...           ...   \n",
       "2150         64        Wimmers gute Semmelknödel  33.25             0   \n",
       "2151         66        Louisiana Hot Spiced Okra  17.00             0   \n",
       "2152         73                       Röd Kaviar  15.00             0   \n",
       "2153         75             Rhönbräu Klosterbier   7.75             0   \n",
       "2154         77  Original Frankfurter grüne Soße  13.00             0   \n",
       "\n",
       "      OrderId  ProductId  SalesPrice  Quantity  Discount  EmployeeId  \\\n",
       "0       10248         11       14.00        12      0.00           5   \n",
       "1       10248         42        9.80        10      0.00           5   \n",
       "2       10248         72       34.80         5      0.00           5   \n",
       "3       10249         14       18.60         9      0.00           6   \n",
       "4       10249         51       42.40        40      0.00           6   \n",
       "...       ...        ...         ...       ...       ...         ...   \n",
       "2150    11077         64       33.25         2      0.03           1   \n",
       "2151    11077         66       17.00         1      0.00           1   \n",
       "2152    11077         73       15.00         2      0.01           1   \n",
       "2153    11077         75        7.75         4      0.00           1   \n",
       "2154    11077         77       13.00         2      0.00           1   \n",
       "\n",
       "      LastName FirstName         Region  \n",
       "0     Buchanan    Steven  British Isles  \n",
       "1     Buchanan    Steven  British Isles  \n",
       "2     Buchanan    Steven  British Isles  \n",
       "3       Suyama   Michael  British Isles  \n",
       "4       Suyama   Michael  British Isles  \n",
       "...        ...       ...            ...  \n",
       "2150   Davolio     Nancy  North America  \n",
       "2151   Davolio     Nancy  North America  \n",
       "2152   Davolio     Nancy  North America  \n",
       "2153   Davolio     Nancy  North America  \n",
       "2154   Davolio     Nancy  North America  \n",
       "\n",
       "[2155 rows x 13 columns]"
      ]
     },
     "execution_count": 165,
     "metadata": {},
     "output_type": "execute_result"
    }
   ],
   "source": [
    "cur.execute(\"\"\"SELECT ProductID, ProductName,p.UnitPrice as COGS, Discontinued,\n",
    "                OrderID, ProductID, od.UnitPrice AS SalesPrice, Quantity, Discount,\n",
    "                EmployeeID, LastName, FirstName, e.Region\n",
    "                FROM Product AS p\n",
    "                JOIN OrderDetail AS od\n",
    "                ON od.ProductID = p.Id \n",
    "                JOIN 'Order' AS o\n",
    "                ON o.Id = od.OrderId\n",
    "                JOIN Employee AS e\n",
    "                ON o.EmployeeID = e.ID;\"\"\")\n",
    "dfr = pd.DataFrame(cur.fetchall(), columns=[x[0] for x in cur.description])\n",
    "dfr"
   ]
  },
  {
   "cell_type": "code",
   "execution_count": 166,
   "metadata": {},
   "outputs": [],
   "source": [
    "dfr['Margin'] = (dfr['SalesPrice']-(dfr['SalesPrice']*dfr['Discount'])) - dfr['COGS']\n",
    "\n",
    "#Sales Revenue is calculated by multiplying the adjusted price (accounting for any discounts) times quantity\n",
    "dfr['SaleRev'] = (dfr['SalesPrice'] - (dfr['SalesPrice']*dfr['Discount'])) * dfr['Quantity']\n"
   ]
  },
  {
   "cell_type": "code",
   "execution_count": 167,
   "metadata": {},
   "outputs": [
    {
     "name": "stdout",
     "output_type": "stream",
     "text": [
      "There are 9 employees in this company associated with sales information\n",
      "The calculated avarage revenue generated by a sales representative is $587.0\n"
     ]
    }
   ],
   "source": [
    "empcount = len(dfr['EmployeeId'].unique())\n",
    "avrev = dfr['SaleRev'].mean()\n",
    "print(f'There are {empcount} employees in this company associated with sales information')\n",
    "print(f'The calculated avarage revenue generated by a sales representative is ${round(avrev)}')"
   ]
  },
  {
   "cell_type": "markdown",
   "metadata": {},
   "source": [
    "### Hypothesis 3 Visualizations:"
   ]
  },
  {
   "cell_type": "code",
   "execution_count": 111,
   "metadata": {},
   "outputs": [
    {
     "data": {
      "image/png": "[encoded data removed]",
      "text/plain": [
       "<Figure size 720x360 with 1 Axes>"
      ]
     },
     "metadata": {
      "needs_background": "light"
     },
     "output_type": "display_data"
    }
   ],
   "source": [
    "fig, ax = plt.subplots(figsize=(10,5))\n",
    "sns.distplot(dfr['SaleRev'], color='green')\n",
    "plt.axvline(avrev, color='lightgreen')\n",
    "plt.xlabel('Sales Revenue')\n",
    "plt.ylabel('Distribution')\n",
    "plt.title('Sales Revenue Distribution', fontsize=18)\n",
    "plt.show()"
   ]
  },
  {
   "cell_type": "code",
   "execution_count": 45,
   "metadata": {
    "scrolled": false
   },
   "outputs": [
    {
     "data": {
      "image/png": "[encoded data removed]",
      "text/plain": [
       "<Figure size 864x576 with 1 Axes>"
      ]
     },
     "metadata": {
      "needs_background": "light"
     },
     "output_type": "display_data"
    }
   ],
   "source": [
    "fig, ax = plt.subplots(figsize=(12,8))\n",
    "sns.barplot(data=dfr, x='EmployeeId', y='SaleRev', ci=68, ax=ax)\n",
    "plt.title('Total Revenue by Sales Representative', fontsize=20)\n",
    "plt.axhline(avrev,linestyle=\"--\", color='gray', linewidth=.6 )\n",
    "plt.xlabel('Employee Id')\n",
    "plt.ylabel('Sales Revenue')\n",
    "plt.show()\n"
   ]
  },
  {
   "cell_type": "code",
   "execution_count": 46,
   "metadata": {},
   "outputs": [],
   "source": [
    "reps = {}\n",
    "for rep in dfr['EmployeeId'].unique():\n",
    "    reps[rep] = dfr.groupby('EmployeeId').get_group(rep)['SaleRev']\n"
   ]
  },
  {
   "cell_type": "code",
   "execution_count": 47,
   "metadata": {},
   "outputs": [
    {
     "name": "stdout",
     "output_type": "stream",
     "text": [
      "Distributions appear roughly equal\n"
     ]
    },
    {
     "data": {
      "image/png": "[encoded data removed]",
      "text/plain": [
       "<Figure size 720x360 with 1 Axes>"
      ]
     },
     "metadata": {
      "needs_background": "light"
     },
     "output_type": "display_data"
    }
   ],
   "source": [
    "fig, ax = plt.subplots(figsize=(10,5))\n",
    "for k,v in reps.items():\n",
    "    sns.distplot(v,label=v)\n",
    "\n",
    "plt.title('Sales Revenue By Distribution by Rep')\n",
    "print('Distributions appear roughly equal')"
   ]
  },
  {
   "cell_type": "markdown",
   "metadata": {},
   "source": [
    "#### Initial Observations:\n",
    "Datatype is numeric in this 2155 order sample.\n",
    "\n",
    "There are 9 employees in this company associated with sales information\n",
    "\n",
    "The avarage revenue generated by a sales representative is $629.00. \n",
    "\n",
    "Initial visual inspection indicates roughly uniform distribution in sales revenue, more than half of the sales representatives achieve the average.  Additional testing will demonstrate if it is significant.\n",
    "\n",
    "Since we are comparing multiple discounts to inspect it's impact on quantity ordered an AVNOVA test will be run:\n",
    "Assumptions for ANOVA Testing: \n",
    "\n",
    "1) No significant outliers \n",
    "    Upon a quick visual inspection, there appears to be some outliers that could be removed\n",
    "\n",
    "2) Equal variance\n",
    "    \n",
    "\n",
    "\n",
    "3) Normality (if n>15)\n",
    "      Not required for samples greater than 15"
   ]
  },
  {
   "cell_type": "markdown",
   "metadata": {},
   "source": [
    "#### Removing Outliers:"
   ]
  },
  {
   "cell_type": "code",
   "execution_count": 48,
   "metadata": {
    "scrolled": true
   },
   "outputs": [
    {
     "name": "stdout",
     "output_type": "stream",
     "text": [
      "Found 3 outliers in Employee # 5\n",
      "Found 4 outliers in Employee # 6\n",
      "Found 6 outliers in Employee # 4\n",
      "Found 4 outliers in Employee # 3\n",
      "Found 2 outliers in Employee # 9\n",
      "Found 4 outliers in Employee # 1\n",
      "Found 4 outliers in Employee # 8\n",
      "Found 5 outliers in Employee # 2\n",
      "Found 5 outliers in Employee # 7\n",
      "\n",
      " All of these outliers were removed\n"
     ]
    }
   ],
   "source": [
    "for rep, rep_data in reps.items():\n",
    "    idx_outs = find_outliers_Z(rep_data)\n",
    "    print(f'Found {idx_outs.sum()} outliers in Employee # {rep}')\n",
    "    reps[rep] = rep_data[~idx_outs]\n",
    "print('\\n All of these outliers were removed')\n",
    "\n"
   ]
  },
  {
   "cell_type": "markdown",
   "metadata": {},
   "source": [
    "#### Testing Asumption of equal variance:\n",
    "\n",
    "Results are NOT equal variance for this group"
   ]
  },
  {
   "cell_type": "code",
   "execution_count": 53,
   "metadata": {},
   "outputs": [],
   "source": [
    "#from functions import test_equal_variance\n",
    "import scipy.stats as stats"
   ]
  },
  {
   "cell_type": "code",
   "execution_count": 54,
   "metadata": {},
   "outputs": [],
   "source": [
    "data = []\n",
    "for k,v in reps.items():\n",
    "    data.append(v)\n",
    "    "
   ]
  },
  {
   "cell_type": "code",
   "execution_count": 61,
   "metadata": {},
   "outputs": [
    {
     "name": "stdout",
     "output_type": "stream",
     "text": [
      "Lavene test for equal variance results are 0.0085\n",
      "The groups do NOT have equal variance\n"
     ]
    }
   ],
   "source": [
    "stat,p = stats.levene(*data, center = 'median')\n",
    "print(f'Lavene test for equal variance results are {round(p,4)}')\n",
    "sig = 'do NOT' if p < .05 else 'DO'\n",
    "\n",
    "print(f'The groups {sig} have equal variance')\n",
    "      \n",
    "          "
   ]
  },
  {
   "cell_type": "markdown",
   "metadata": {},
   "source": [
    "#### Assumptions for Normality\n",
    "The lengths of these samples are >15 so normality criteria is met."
   ]
  },
  {
   "cell_type": "code",
   "execution_count": 168,
   "metadata": {
    "scrolled": true
   },
   "outputs": [
    {
     "data": {
      "text/plain": [
       "5    0       168.0\n",
       "1        98.0\n",
       "2       174.0\n",
       "17  ...\n",
       "6    3        167.4\n",
       "4       1696.0\n",
       "47       532.0\n",
       "4...\n",
       "4    5         77.0\n",
       "6       1484.0\n",
       "7        252.0\n",
       "1...\n",
       "3    8       100.8\n",
       "9       234.0\n",
       "10      336.0\n",
       "14  ...\n",
       "9    20       304.0\n",
       "21       486.5\n",
       "22       380.0\n",
       "2...\n",
       "1    29       760.0\n",
       "30      1105.0\n",
       "31       153.6\n",
       "5...\n",
       "8    40       204.0\n",
       "41       360.0\n",
       "42        60.8\n",
       "5...\n",
       "2    49      936.0\n",
       "50      240.0\n",
       "76      728.0\n",
       "77  ...\n",
       "7    109     240.00\n",
       "110     239.40\n",
       "147     588.00\n",
       "1...\n",
       "dtype: object"
      ]
     },
     "execution_count": 168,
     "metadata": {},
     "output_type": "execute_result"
    }
   ],
   "source": [
    "pd.Series(reps)"
   ]
  },
  {
   "cell_type": "code",
   "execution_count": 169,
   "metadata": {
    "scrolled": true
   },
   "outputs": [
    {
     "name": "stdout",
     "output_type": "stream",
     "text": [
      "There are 114 samples in the data set for Employee #5.\n",
      "There are 164 samples in the data set for Employee #6.\n",
      "There are 414 samples in the data set for Employee #4.\n",
      "There are 317 samples in the data set for Employee #3.\n",
      "There are 105 samples in the data set for Employee #9.\n",
      "There are 341 samples in the data set for Employee #1.\n",
      "There are 256 samples in the data set for Employee #8.\n",
      "There are 236 samples in the data set for Employee #2.\n",
      "There are 171 samples in the data set for Employee #7.\n",
      "\n",
      "All samples are >15: Normality Assumption Criterion is met.\n"
     ]
    }
   ],
   "source": [
    "n = []\n",
    "\n",
    "for rep,samples in reps.items():\n",
    "    print(f'There are {len(samples)} samples in the data set for Employee #{rep}.')\n",
    "    n.append(len(samples)>15)\n",
    "if all(n):\n",
    "    print('\\nAll samples are >15: Normality Assumption Criterion is met.')\n",
    "    \n",
    "###ADD IF STATEMENT TO CHECK \n",
    "\n",
    "\n"
   ]
  },
  {
   "cell_type": "markdown",
   "metadata": {},
   "source": [
    "# Help Using non-parametric Kruskal since the data set was not of equal variance:"
   ]
  },
  {
   "cell_type": "code",
   "execution_count": 66,
   "metadata": {
    "scrolled": true
   },
   "outputs": [
    {
     "name": "stdout",
     "output_type": "stream",
     "text": [
      "Kruskal test p value: 0.2356\n"
     ]
    }
   ],
   "source": [
    "stat, p = stats.kruskal(*data)\n",
    "print(f\"Kruskal test p value: {round(p,4)}\")"
   ]
  },
  {
   "cell_type": "code",
   "execution_count": 171,
   "metadata": {
    "scrolled": true
   },
   "outputs": [
    {
     "name": "stdout",
     "output_type": "stream",
     "text": [
      "10.113332465853006 6.13929809682399e-14\n"
     ]
    }
   ],
   "source": [
    "stat, p = stats.f_oneway(*data)\n",
    "print(stat,p)"
   ]
  },
  {
   "cell_type": "code",
   "execution_count": 210,
   "metadata": {},
   "outputs": [
    {
     "data": {
      "text/plain": [
       "0       168.0\n",
       "1        98.0\n",
       "2       174.0\n",
       "17       54.0\n",
       "18      403.2\n",
       "        ...  \n",
       "1829    488.6\n",
       "1830    312.5\n",
       "1831    285.0\n",
       "1832    816.0\n",
       "2053    210.0\n",
       "Name: SaleRev, Length: 114, dtype: float64"
      ]
     },
     "execution_count": 210,
     "metadata": {},
     "output_type": "execute_result"
    }
   ],
   "source": [
    "reps[5]"
   ]
  },
  {
   "cell_type": "code",
   "execution_count": 214,
   "metadata": {},
   "outputs": [
    {
     "name": "stdout",
     "output_type": "stream",
     "text": [
      "5\n",
      "0       168.0\n",
      "1        98.0\n",
      "2       174.0\n",
      "17       54.0\n",
      "18      403.2\n",
      "        ...  \n",
      "1829    488.6\n",
      "1830    312.5\n",
      "1831    285.0\n",
      "1832    816.0\n",
      "2053    210.0\n",
      "Name: SaleRev, Length: 114, dtype: float64 114\n",
      "6\n",
      "3        167.4\n",
      "4       1696.0\n",
      "47       532.0\n",
      "48       192.5\n",
      "61        48.0\n",
      "         ...  \n",
      "2023      94.5\n",
      "2024     665.0\n",
      "2025     344.0\n",
      "2055      37.5\n",
      "2056    1272.0\n",
      "Name: SaleRev, Length: 164, dtype: float64 164\n",
      "4\n",
      "5         77.0\n",
      "6       1484.0\n",
      "7        252.0\n",
      "11      2592.0\n",
      "12        50.0\n",
      "         ...  \n",
      "2118     386.0\n",
      "2119     357.5\n",
      "2127     500.0\n",
      "2128     465.0\n",
      "2129      92.0\n",
      "Name: SaleRev, Length: 414, dtype: float64 414\n",
      "3\n",
      "8       100.8\n",
      "9       234.0\n",
      "10      336.0\n",
      "14      200.0\n",
      "15      604.8\n",
      "        ...  \n",
      "2068    285.0\n",
      "2081     45.0\n",
      "2093    420.0\n",
      "2094    736.0\n",
      "2095    289.5\n",
      "Name: SaleRev, Length: 317, dtype: float64 317\n",
      "9\n",
      "20       304.0\n",
      "21       486.5\n",
      "22       380.0\n",
      "23      1320.0\n",
      "43       834.0\n",
      "         ...  \n",
      "1999     322.0\n",
      "2000    1080.0\n",
      "2082      30.0\n",
      "2083     714.0\n",
      "2084     114.0\n",
      "Name: SaleRev, Length: 105, dtype: float64 105\n",
      "1\n",
      "29       760.0\n",
      "30      1105.0\n",
      "31       153.6\n",
      "59       456.0\n",
      "60       920.0\n",
      "         ...  \n",
      "2150      66.5\n",
      "2151      17.0\n",
      "2152      30.0\n",
      "2153      31.0\n",
      "2154      26.0\n",
      "Name: SaleRev, Length: 341, dtype: float64 341\n",
      "8\n",
      "40       204.0\n",
      "41       360.0\n",
      "42        60.8\n",
      "55       990.0\n",
      "56       111.2\n",
      "         ...  \n",
      "2108    1656.0\n",
      "2109     364.0\n",
      "2124     190.0\n",
      "2125     360.0\n",
      "2126      36.0\n",
      "Name: SaleRev, Length: 256, dtype: float64 256\n",
      "2\n",
      "49      936.0\n",
      "50      240.0\n",
      "76      728.0\n",
      "77      472.8\n",
      "83       43.2\n",
      "        ...  \n",
      "2112    380.0\n",
      "2113    523.5\n",
      "2114    250.0\n",
      "2121    210.0\n",
      "2122     90.0\n",
      "Name: SaleRev, Length: 236, dtype: float64 236\n",
      "7\n",
      "109     240.00\n",
      "110     239.40\n",
      "147     588.00\n",
      "148     504.00\n",
      "149     150.00\n",
      "         ...  \n",
      "2077    390.00\n",
      "2103     52.35\n",
      "2104    386.40\n",
      "2105    490.00\n",
      "2123    244.30\n",
      "Name: SaleRev, Length: 171, dtype: float64 171\n"
     ]
    }
   ],
   "source": [
    "data = []\n",
    "labels = []\n",
    "for k,v in reps.items():\n",
    "    print(str(k)\n",
    "    print(v,len(v.to_list()))\n",
    "    data.append(v.values)\n",
    "    #labels.append(list((str(k)*len(v)))\n",
    "    \n",
    "labels = np.array(labels)"
   ]
  },
  {
   "cell_type": "code",
   "execution_count": 207,
   "metadata": {},
   "outputs": [],
   "source": [
    "data = np.concatenate(data)"
   ]
  },
  {
   "cell_type": "code",
   "execution_count": 208,
   "metadata": {},
   "outputs": [
    {
     "ename": "ValueError",
     "evalue": "data has 2118 elements and groups has 9",
     "output_type": "error",
     "traceback": [
      "\u001b[1;31m---------------------------------------------------------------------------\u001b[0m",
      "\u001b[1;31mValueError\u001b[0m                                Traceback (most recent call last)",
      "\u001b[1;32m<ipython-input-208-78287e16b480>\u001b[0m in \u001b[0;36m<module>\u001b[1;34m\u001b[0m\n\u001b[1;32m----> 1\u001b[1;33m \u001b[0mtukey\u001b[0m \u001b[1;33m=\u001b[0m \u001b[0msms\u001b[0m\u001b[1;33m.\u001b[0m\u001b[0mstats\u001b[0m\u001b[1;33m.\u001b[0m\u001b[0mmulticomp\u001b[0m\u001b[1;33m.\u001b[0m\u001b[0mpairwise_tukeyhsd\u001b[0m\u001b[1;33m(\u001b[0m\u001b[0mdata\u001b[0m\u001b[1;33m,\u001b[0m \u001b[0mlabels\u001b[0m\u001b[1;33m)\u001b[0m\u001b[1;33m\u001b[0m\u001b[1;33m\u001b[0m\u001b[0m\n\u001b[0m\u001b[0;32m      2\u001b[0m \u001b[0mtukey\u001b[0m\u001b[1;33m.\u001b[0m\u001b[0msummary\u001b[0m\u001b[1;33m(\u001b[0m\u001b[1;33m)\u001b[0m\u001b[1;33m\u001b[0m\u001b[1;33m\u001b[0m\u001b[0m\n",
      "\u001b[1;32m~\\AppData\\Local\\Continuum\\anaconda3\\envs\\learn-env\\lib\\site-packages\\statsmodels\\stats\\multicomp.py\u001b[0m in \u001b[0;36mpairwise_tukeyhsd\u001b[1;34m(endog, groups, alpha)\u001b[0m\n\u001b[0;32m     42\u001b[0m     \"\"\"\n\u001b[0;32m     43\u001b[0m \u001b[1;33m\u001b[0m\u001b[0m\n\u001b[1;32m---> 44\u001b[1;33m     \u001b[1;32mreturn\u001b[0m \u001b[0mMultiComparison\u001b[0m\u001b[1;33m(\u001b[0m\u001b[0mendog\u001b[0m\u001b[1;33m,\u001b[0m \u001b[0mgroups\u001b[0m\u001b[1;33m)\u001b[0m\u001b[1;33m.\u001b[0m\u001b[0mtukeyhsd\u001b[0m\u001b[1;33m(\u001b[0m\u001b[0malpha\u001b[0m\u001b[1;33m=\u001b[0m\u001b[0malpha\u001b[0m\u001b[1;33m)\u001b[0m\u001b[1;33m\u001b[0m\u001b[1;33m\u001b[0m\u001b[0m\n\u001b[0m",
      "\u001b[1;32m~\\AppData\\Local\\Continuum\\anaconda3\\envs\\learn-env\\lib\\site-packages\\statsmodels\\sandbox\\stats\\multicomp.py\u001b[0m in \u001b[0;36m__init__\u001b[1;34m(self, data, groups, group_order)\u001b[0m\n\u001b[0;32m    818\u001b[0m \u001b[1;33m\u001b[0m\u001b[0m\n\u001b[0;32m    819\u001b[0m         \u001b[1;32mif\u001b[0m \u001b[0mlen\u001b[0m\u001b[1;33m(\u001b[0m\u001b[0mdata\u001b[0m\u001b[1;33m)\u001b[0m \u001b[1;33m!=\u001b[0m \u001b[0mlen\u001b[0m\u001b[1;33m(\u001b[0m\u001b[0mgroups\u001b[0m\u001b[1;33m)\u001b[0m\u001b[1;33m:\u001b[0m\u001b[1;33m\u001b[0m\u001b[1;33m\u001b[0m\u001b[0m\n\u001b[1;32m--> 820\u001b[1;33m             \u001b[1;32mraise\u001b[0m \u001b[0mValueError\u001b[0m\u001b[1;33m(\u001b[0m\u001b[1;34m'data has %d elements and groups has %d'\u001b[0m \u001b[1;33m%\u001b[0m \u001b[1;33m(\u001b[0m\u001b[0mlen\u001b[0m\u001b[1;33m(\u001b[0m\u001b[0mdata\u001b[0m\u001b[1;33m)\u001b[0m\u001b[1;33m,\u001b[0m \u001b[0mlen\u001b[0m\u001b[1;33m(\u001b[0m\u001b[0mgroups\u001b[0m\u001b[1;33m)\u001b[0m\u001b[1;33m)\u001b[0m\u001b[1;33m)\u001b[0m\u001b[1;33m\u001b[0m\u001b[1;33m\u001b[0m\u001b[0m\n\u001b[0m\u001b[0;32m    821\u001b[0m         \u001b[0mself\u001b[0m\u001b[1;33m.\u001b[0m\u001b[0mdata\u001b[0m \u001b[1;33m=\u001b[0m \u001b[0mnp\u001b[0m\u001b[1;33m.\u001b[0m\u001b[0masarray\u001b[0m\u001b[1;33m(\u001b[0m\u001b[0mdata\u001b[0m\u001b[1;33m)\u001b[0m\u001b[1;33m\u001b[0m\u001b[1;33m\u001b[0m\u001b[0m\n\u001b[0;32m    822\u001b[0m         \u001b[0mself\u001b[0m\u001b[1;33m.\u001b[0m\u001b[0mgroups\u001b[0m \u001b[1;33m=\u001b[0m \u001b[0mgroups\u001b[0m \u001b[1;33m=\u001b[0m \u001b[0mnp\u001b[0m\u001b[1;33m.\u001b[0m\u001b[0masarray\u001b[0m\u001b[1;33m(\u001b[0m\u001b[0mgroups\u001b[0m\u001b[1;33m)\u001b[0m\u001b[1;33m\u001b[0m\u001b[1;33m\u001b[0m\u001b[0m\n",
      "\u001b[1;31mValueError\u001b[0m: data has 2118 elements and groups has 9"
     ]
    }
   ],
   "source": [
    "tukey = sms.stats.multicomp.pairwise_tukeyhsd(data, labels)\n",
    "tukey.summary()"
   ]
  },
  {
   "cell_type": "markdown",
   "metadata": {},
   "source": [
    "### Observations and recommendations: \n",
    "    Not sure that I agree with these results based on visual inspetion of data, perhaps testing was inaccurate???\n",
    "    "
   ]
  },
  {
   "cell_type": "markdown",
   "metadata": {},
   "source": [
    "# HYPOTHESIS 4:\n",
    "\n",
    "> ***Where are our customers from that spend the most money?***\n",
    "\n",
    "$H0$: Customers spend equal amounts regardless of region.\n",
    "\n",
    "$H1$: Region has an effect on total amount spent.\n",
    "\n",
    "\n",
    "    "
   ]
  },
  {
   "cell_type": "markdown",
   "metadata": {},
   "source": [
    "#### Importing and inspecting data from  OrderDetail and Order\n",
    "\n",
    "These table includes information on:\n",
    "\n",
    "    1) Sales total information \n",
    "    2) Regions where orders shipped to indicating the location of customers"
   ]
  },
  {
   "cell_type": "code",
   "execution_count": 158,
   "metadata": {
    "scrolled": true
   },
   "outputs": [
    {
     "data": {
      "text/html": [
       "<div>\n",
       "<style scoped>\n",
       "    .dataframe tbody tr th:only-of-type {\n",
       "        vertical-align: middle;\n",
       "    }\n",
       "\n",
       "    .dataframe tbody tr th {\n",
       "        vertical-align: top;\n",
       "    }\n",
       "\n",
       "    .dataframe thead th {\n",
       "        text-align: right;\n",
       "    }\n",
       "</style>\n",
       "<table border=\"1\" class=\"dataframe\">\n",
       "  <thead>\n",
       "    <tr style=\"text-align: right;\">\n",
       "      <th></th>\n",
       "      <th>ShipRegion</th>\n",
       "      <th>OrderId</th>\n",
       "      <th>ProductId</th>\n",
       "      <th>UnitPrice</th>\n",
       "      <th>Quantity</th>\n",
       "      <th>Discount</th>\n",
       "    </tr>\n",
       "  </thead>\n",
       "  <tbody>\n",
       "    <tr>\n",
       "      <td>0</td>\n",
       "      <td>Western Europe</td>\n",
       "      <td>10248</td>\n",
       "      <td>11</td>\n",
       "      <td>14.0</td>\n",
       "      <td>12</td>\n",
       "      <td>0.0</td>\n",
       "    </tr>\n",
       "    <tr>\n",
       "      <td>1</td>\n",
       "      <td>Western Europe</td>\n",
       "      <td>10248</td>\n",
       "      <td>42</td>\n",
       "      <td>9.8</td>\n",
       "      <td>10</td>\n",
       "      <td>0.0</td>\n",
       "    </tr>\n",
       "    <tr>\n",
       "      <td>2</td>\n",
       "      <td>Western Europe</td>\n",
       "      <td>10248</td>\n",
       "      <td>72</td>\n",
       "      <td>34.8</td>\n",
       "      <td>5</td>\n",
       "      <td>0.0</td>\n",
       "    </tr>\n",
       "    <tr>\n",
       "      <td>3</td>\n",
       "      <td>Western Europe</td>\n",
       "      <td>10249</td>\n",
       "      <td>14</td>\n",
       "      <td>18.6</td>\n",
       "      <td>9</td>\n",
       "      <td>0.0</td>\n",
       "    </tr>\n",
       "    <tr>\n",
       "      <td>4</td>\n",
       "      <td>Western Europe</td>\n",
       "      <td>10249</td>\n",
       "      <td>51</td>\n",
       "      <td>42.4</td>\n",
       "      <td>40</td>\n",
       "      <td>0.0</td>\n",
       "    </tr>\n",
       "  </tbody>\n",
       "</table>\n",
       "</div>"
      ],
      "text/plain": [
       "       ShipRegion  OrderId  ProductId  UnitPrice  Quantity  Discount\n",
       "0  Western Europe    10248         11       14.0        12       0.0\n",
       "1  Western Europe    10248         42        9.8        10       0.0\n",
       "2  Western Europe    10248         72       34.8         5       0.0\n",
       "3  Western Europe    10249         14       18.6         9       0.0\n",
       "4  Western Europe    10249         51       42.4        40       0.0"
      ]
     },
     "execution_count": 158,
     "metadata": {},
     "output_type": "execute_result"
    }
   ],
   "source": [
    "cur.execute(\"\"\"SELECT ShipRegion, OrderID, ProductID, UnitPrice,\n",
    "                Quantity, Discount\n",
    "                FROM `Order` AS o\n",
    "                JOIN OrderDetail AS od\n",
    "                on o.ID = od.OrderId ;\"\"\")\n",
    "dfreg = pd.DataFrame(cur.fetchall(), columns=[x[0] for x in cur.description])\n",
    "dfreg.head()"
   ]
  },
  {
   "cell_type": "code",
   "execution_count": 159,
   "metadata": {},
   "outputs": [],
   "source": [
    "dfreg['TotalSpend'] = ((dfreg['UnitPrice'])-(dfreg['UnitPrice']*dfreg['Discount']))*dfreg['Quantity']"
   ]
  },
  {
   "cell_type": "markdown",
   "metadata": {},
   "source": [
    "### Hypothesis 4 Visualizations:"
   ]
  },
  {
   "cell_type": "code",
   "execution_count": 162,
   "metadata": {
    "scrolled": false
   },
   "outputs": [
    {
     "name": "stdout",
     "output_type": "stream",
     "text": [
      "The average total spend is $587.37\n"
     ]
    },
    {
     "data": {
      "image/png": "[encoded data removed]",
      "text/plain": [
       "<Figure size 432x288 with 1 Axes>"
      ]
     },
     "metadata": {
      "needs_background": "light"
     },
     "output_type": "display_data"
    }
   ],
   "source": [
    "fig, ax = plt.subplots()\n",
    "spend_mu = dfreg['TotalSpend'].mean()\n",
    "sns.distplot(dfreg['TotalSpend'], ax=ax)\n",
    "plt.axvline(spend_mu, color='lightgreen')\n",
    "plt.title('Average Total Spend')\n",
    "print(f'The average total spend is ${round(spend_mu,2)}')"
   ]
  },
  {
   "cell_type": "raw",
   "metadata": {},
   "source": [
    "regs = {}\n",
    "for reg in dfregs['ShipRegion'].unique():\n",
    "    regs[reg] = dfreg.groupby('ShipRegion').get_group(reg)['TotalSpend']\n"
   ]
  },
  {
   "cell_type": "code",
   "execution_count": 163,
   "metadata": {
    "scrolled": true
   },
   "outputs": [
    {
     "name": "stdout",
     "output_type": "stream",
     "text": [
      "There are 9 regions.\n"
     ]
    }
   ],
   "source": [
    "regions = list(dfreg['ShipRegion'].unique())\n",
    "regions\n",
    "print(f'There are {len(regions)} regions.')"
   ]
  },
  {
   "cell_type": "code",
   "execution_count": 125,
   "metadata": {},
   "outputs": [
    {
     "name": "stdout",
     "output_type": "stream",
     "text": [
      "Distributions appear roughly equal\n"
     ]
    },
    {
     "data": {
      "image/png": "[encoded data removed]",
      "text/plain": [
       "<Figure size 720x360 with 1 Axes>"
      ]
     },
     "metadata": {
      "needs_background": "light"
     },
     "output_type": "display_data"
    }
   ],
   "source": [
    "fig, ax = plt.subplots(figsize=(10,5))\n",
    "for k,v in reps.items():\n",
    "    sns.distplot(v,label=v)\n",
    "\n",
    "plt.title('Sales Revenue By Distribution by Rep')\n",
    "print('Distributions appear roughly equal')"
   ]
  },
  {
   "cell_type": "code",
   "execution_count": 97,
   "metadata": {
    "scrolled": false
   },
   "outputs": [
    {
     "data": {
      "application/vnd.jupyter.widget-view+json": {
       "model_id": "e17e29f32e324834905b5d067335faa0",
       "version_major": 2,
       "version_minor": 0
      },
      "text/plain": [
       "interactive(children=(Dropdown(description='d', options=('Western Europe', 'South America', 'Central America',…"
      ]
     },
     "metadata": {},
     "output_type": "display_data"
    }
   ],
   "source": [
    "@interact\n",
    "def plt_discounts(d=regions):\n",
    "    sns.distplot(prods.groupby('ShipRegion').get_group(d)['TotalSpend'])\n",
    "    plt.axvline(spend_mu, color='purple')"
   ]
  },
  {
   "cell_type": "code",
   "execution_count": 127,
   "metadata": {
    "scrolled": false
   },
   "outputs": [
    {
     "data": {
      "image/png": "[encoded data removed]",
      "text/plain": [
       "<Figure size 864x576 with 1 Axes>"
      ]
     },
     "metadata": {
      "needs_background": "light"
     },
     "output_type": "display_data"
    }
   ],
   "source": [
    "fig, ax = plt.subplots(figsize=(12,8))\n",
    "sns.barplot(data=prods, x='ShipRegion', y='TotalSpend', ci=68, ax=ax)\n",
    "plt.title('Total Spend by Region', fontsize=20)\n",
    "plt.axhline(spend_mu,linestyle=\"--\", color='gray', linewidth=.6 )\n",
    "plt.xlabel('Region')\n",
    "plt.xticks(rotation=45)\n",
    "plt.ylabel('Total Spend')\n",
    "plt.show()"
   ]
  },
  {
   "cell_type": "markdown",
   "metadata": {},
   "source": [
    "#### Hypothesis 4 Initial Observations:\n",
    "Datatype is numeric in this 2155 order sample.\n",
    "\n",
    "There are 9 regions in reflected in this dataset\n",
    "\n",
    "The avarage of total spent is $587.37.\n",
    "\n",
    "Initial visual inspection indicates skewed, but roughly uniform distribution in total sales, more than half of the sales representatives achieve the average. Additional testing will demonstrate if it is significant.\n",
    "\n",
    "Since we are comparing multiple regions to inspect it's impact on quantity ordered an AVNOVA test will be run: Assumptions for ANOVA Testing:\n",
    "\n",
    "1) Upon a quick visual inspection, there appears to be some outliers that could be removed\n",
    "\n",
    "2) Equal variance\n",
    "\n",
    "3) Normality (if n>15) Not required for samples greater than 15"
   ]
  },
  {
   "cell_type": "markdown",
   "metadata": {},
   "source": [
    "#### Outlier Removal:"
   ]
  },
  {
   "cell_type": "code",
   "execution_count": 176,
   "metadata": {},
   "outputs": [
    {
     "data": {
      "text/plain": [
       "0       Western Europe\n",
       "1       Western Europe\n",
       "2       Western Europe\n",
       "3       Western Europe\n",
       "4       Western Europe\n",
       "             ...      \n",
       "2150     North America\n",
       "2151     North America\n",
       "2152     North America\n",
       "2153     North America\n",
       "2154     North America\n",
       "Name: ShipRegion, Length: 2155, dtype: object"
      ]
     },
     "execution_count": 176,
     "metadata": {},
     "output_type": "execute_result"
    }
   ],
   "source": [
    "dfreg['ShipRegion']"
   ]
  },
  {
   "cell_type": "code",
   "execution_count": 178,
   "metadata": {},
   "outputs": [],
   "source": [
    "regs = {}\n",
    "for reg in dfreg['ShipRegion'].unique():\n",
    "    regs[reg] = dfreg.groupby('ShipRegion').get_group(reg)['TotalSpend']\n"
   ]
  },
  {
   "cell_type": "code",
   "execution_count": 179,
   "metadata": {
    "scrolled": false
   },
   "outputs": [
    {
     "name": "stdout",
     "output_type": "stream",
     "text": [
      "Found 11 outliers in the Western Europe\n",
      "Found 2 outliers in the South America\n",
      "Found 1 outliers in the Central America\n",
      "Found 9 outliers in the North America\n",
      "Found 2 outliers in the Northern Europe\n",
      "Found 1 outliers in the Scandinavia\n",
      "Found 3 outliers in the Southern Europe\n",
      "Found 4 outliers in the British Isles\n",
      "Found 0 outliers in the Eastern Europe\n",
      "\n",
      " All of these outliers were removed\n"
     ]
    }
   ],
   "source": [
    "for reg, reg_data in regs.items():\n",
    "    idx_outs = find_outliers_Z(reg_data)\n",
    "    print(f'Found {idx_outs.sum()} outliers in the {reg}')\n",
    "    regs[reg] = reg_data[~idx_outs]\n",
    "print('\\n All of these outliers were removed')"
   ]
  },
  {
   "cell_type": "markdown",
   "metadata": {},
   "source": [
    "### Testing for Equal Variance:"
   ]
  },
  {
   "cell_type": "code",
   "execution_count": 183,
   "metadata": {
    "scrolled": false
   },
   "outputs": [],
   "source": [
    "data = []\n",
    "labels = []\n",
    "for k,v in regs.items():\n",
    "    data.append(v)\n",
    "    labels.append(k)"
   ]
  },
  {
   "cell_type": "code",
   "execution_count": 181,
   "metadata": {},
   "outputs": [
    {
     "name": "stdout",
     "output_type": "stream",
     "text": [
      "Lavene test for equal variance results are 0.0\n",
      "The groups do NOT have equal variance\n"
     ]
    }
   ],
   "source": [
    "stat,p = stats.levene(*data, center = 'median')\n",
    "print(f'Lavene test for equal variance results are {round(p,4)}')\n",
    "sig = 'do NOT' if p < .05 else 'DO'\n",
    "\n",
    "print(f'The groups {sig} have equal variance')\n",
    "      "
   ]
  },
  {
   "cell_type": "markdown",
   "metadata": {},
   "source": [
    "#### Using non-parametric Kruskal since the data set was not of equal variance:"
   ]
  },
  {
   "cell_type": "code",
   "execution_count": 144,
   "metadata": {
    "scrolled": true
   },
   "outputs": [
    {
     "name": "stdout",
     "output_type": "stream",
     "text": [
      "Kruskal test p value: 0.0\n"
     ]
    }
   ],
   "source": [
    "stat, p = stats.kruskal(*data)\n",
    "print(f\"Kruskal test p value: {round(p,6)}\")"
   ]
  },
  {
   "cell_type": "markdown",
   "metadata": {},
   "source": [
    "# Help: Post-Hoc Testing"
   ]
  },
  {
   "cell_type": "code",
   "execution_count": 182,
   "metadata": {
    "collapsed": true
   },
   "outputs": [
    {
     "data": {
      "text/plain": [
       "{'Western Europe': 0        168.00\n",
       " 1         98.00\n",
       " 2        174.00\n",
       " 3        167.40\n",
       " 4       1696.00\n",
       "          ...   \n",
       " 2125     306.00\n",
       " 2126      30.60\n",
       " 2127     375.00\n",
       " 2128     348.75\n",
       " 2129      69.00\n",
       " Name: TotalSpend, Length: 734, dtype: float64,\n",
       " 'South America': 5         77.00\n",
       " 6       1261.40\n",
       " 7        214.20\n",
       " 14       200.00\n",
       " 15       604.80\n",
       "          ...   \n",
       " 2107     310.08\n",
       " 2108    1407.60\n",
       " 2109     309.40\n",
       " 2115     427.50\n",
       " 2116      57.00\n",
       " Name: TotalSpend, Length: 353, dtype: float64,\n",
       " 'Central America': 32        80.0\n",
       " 33        20.8\n",
       " 74       372.0\n",
       " 75        48.0\n",
       " 119      600.0\n",
       "          ...  \n",
       " 1927    1060.0\n",
       " 1928     136.0\n",
       " 2110     360.0\n",
       " 2121     210.0\n",
       " 2122      90.0\n",
       " Name: TotalSpend, Length: 71, dtype: float64,\n",
       " 'North America': 40      163.200\n",
       " 41      360.000\n",
       " 42       60.800\n",
       " 57      114.000\n",
       " 58      528.200\n",
       "          ...   \n",
       " 2150     64.505\n",
       " 2151     17.000\n",
       " 2152     29.700\n",
       " 2153     31.000\n",
       " 2154     26.000\n",
       " Name: TotalSpend, Length: 418, dtype: float64,\n",
       " 'Northern Europe': 47      532.000\n",
       " 48      163.625\n",
       " 78      248.000\n",
       " 79      660.000\n",
       " 80      280.800\n",
       "          ...   \n",
       " 1944    525.000\n",
       " 1945    300.000\n",
       " 1946    144.000\n",
       " 2065    810.000\n",
       " 2123    232.085\n",
       " Name: TotalSpend, Length: 141, dtype: float64,\n",
       " 'Scandinavia': 51      346.56\n",
       " 59      456.00\n",
       " 60      920.00\n",
       " 190     516.00\n",
       " 226     186.00\n",
       "          ...  \n",
       " 1957    550.00\n",
       " 1981    388.35\n",
       " 1982    234.00\n",
       " 2007    162.00\n",
       " 2008    108.00\n",
       " Name: TotalSpend, Length: 69, dtype: float64,\n",
       " 'Southern Europe': 72       41.04\n",
       " 73      250.80\n",
       " 86        7.30\n",
       " 87       21.60\n",
       " 88       57.60\n",
       "          ...  \n",
       " 2040     60.00\n",
       " 2088    136.00\n",
       " 2089    130.00\n",
       " 2091    262.40\n",
       " 2092    144.00\n",
       " Name: TotalSpend, Length: 134, dtype: float64,\n",
       " 'British Isles': 109      240.00\n",
       " 110      239.40\n",
       " 134      608.00\n",
       " 135      456.00\n",
       " 136      990.00\n",
       "          ...   \n",
       " 2080    1700.00\n",
       " 2081      45.00\n",
       " 2093     420.00\n",
       " 2094     662.40\n",
       " 2095     260.55\n",
       " Name: TotalSpend, Length: 186, dtype: float64,\n",
       " 'Eastern Europe': 336     300.00\n",
       " 337     159.00\n",
       " 957     108.00\n",
       " 958     190.00\n",
       " 959     510.00\n",
       " 1424    190.00\n",
       " 1425     22.35\n",
       " 1426    187.50\n",
       " 1633     54.00\n",
       " 1634    106.00\n",
       " 1713    427.50\n",
       " 1933     54.00\n",
       " 1934    199.50\n",
       " 1935    200.00\n",
       " 1936    232.50\n",
       " 2054    591.60\n",
       " Name: TotalSpend, dtype: float64}"
      ]
     },
     "execution_count": 182,
     "metadata": {},
     "output_type": "execute_result"
    }
   ],
   "source": [
    "for k,v in regs.items():\n",
    "    \n",
    "    "
   ]
  },
  {
   "cell_type": "code",
   "execution_count": 172,
   "metadata": {},
   "outputs": [
    {
     "data": {
      "text/plain": [
       "array([168. ,  98. , 174. , ..., 200. , 232.5, 591.6])"
      ]
     },
     "execution_count": 172,
     "metadata": {},
     "output_type": "execute_result"
    }
   ],
   "source": [
    "v = np.concatenate(data)\n",
    "# labels = ['a'] * len(a) + ['b'] * len(b) + ['c'] * len(c)\n",
    "# tukey_results = pairwise_tukeyhsd(v, labels, 0.05)\n",
    "v"
   ]
  },
  {
   "cell_type": "code",
   "execution_count": 184,
   "metadata": {
    "scrolled": false
   },
   "outputs": [
    {
     "ename": "TypeError",
     "evalue": "Cannot cast array data from dtype('O') to dtype('float64') according to the rule 'safe'",
     "output_type": "error",
     "traceback": [
      "\u001b[1;31m---------------------------------------------------------------------------\u001b[0m",
      "\u001b[1;31mTypeError\u001b[0m                                 Traceback (most recent call last)",
      "\u001b[1;32m<ipython-input-184-78287e16b480>\u001b[0m in \u001b[0;36m<module>\u001b[1;34m\u001b[0m\n\u001b[1;32m----> 1\u001b[1;33m \u001b[0mtukey\u001b[0m \u001b[1;33m=\u001b[0m \u001b[0msms\u001b[0m\u001b[1;33m.\u001b[0m\u001b[0mstats\u001b[0m\u001b[1;33m.\u001b[0m\u001b[0mmulticomp\u001b[0m\u001b[1;33m.\u001b[0m\u001b[0mpairwise_tukeyhsd\u001b[0m\u001b[1;33m(\u001b[0m\u001b[0mdata\u001b[0m\u001b[1;33m,\u001b[0m \u001b[0mlabels\u001b[0m\u001b[1;33m)\u001b[0m\u001b[1;33m\u001b[0m\u001b[1;33m\u001b[0m\u001b[0m\n\u001b[0m\u001b[0;32m      2\u001b[0m \u001b[0mtukey\u001b[0m\u001b[1;33m.\u001b[0m\u001b[0msummary\u001b[0m\u001b[1;33m(\u001b[0m\u001b[1;33m)\u001b[0m\u001b[1;33m\u001b[0m\u001b[1;33m\u001b[0m\u001b[0m\n",
      "\u001b[1;32m~\\AppData\\Local\\Continuum\\anaconda3\\envs\\learn-env\\lib\\site-packages\\statsmodels\\stats\\multicomp.py\u001b[0m in \u001b[0;36mpairwise_tukeyhsd\u001b[1;34m(endog, groups, alpha)\u001b[0m\n\u001b[0;32m     42\u001b[0m     \"\"\"\n\u001b[0;32m     43\u001b[0m \u001b[1;33m\u001b[0m\u001b[0m\n\u001b[1;32m---> 44\u001b[1;33m     \u001b[1;32mreturn\u001b[0m \u001b[0mMultiComparison\u001b[0m\u001b[1;33m(\u001b[0m\u001b[0mendog\u001b[0m\u001b[1;33m,\u001b[0m \u001b[0mgroups\u001b[0m\u001b[1;33m)\u001b[0m\u001b[1;33m.\u001b[0m\u001b[0mtukeyhsd\u001b[0m\u001b[1;33m(\u001b[0m\u001b[0malpha\u001b[0m\u001b[1;33m=\u001b[0m\u001b[0malpha\u001b[0m\u001b[1;33m)\u001b[0m\u001b[1;33m\u001b[0m\u001b[1;33m\u001b[0m\u001b[0m\n\u001b[0m",
      "\u001b[1;32m~\\AppData\\Local\\Continuum\\anaconda3\\envs\\learn-env\\lib\\site-packages\\statsmodels\\sandbox\\stats\\multicomp.py\u001b[0m in \u001b[0;36mtukeyhsd\u001b[1;34m(self, alpha)\u001b[0m\n\u001b[0;32m    994\u001b[0m         self.groupstats = GroupsStats(\n\u001b[0;32m    995\u001b[0m             \u001b[0mnp\u001b[0m\u001b[1;33m.\u001b[0m\u001b[0mcolumn_stack\u001b[0m\u001b[1;33m(\u001b[0m\u001b[1;33m[\u001b[0m\u001b[0mself\u001b[0m\u001b[1;33m.\u001b[0m\u001b[0mdata\u001b[0m\u001b[1;33m,\u001b[0m \u001b[0mself\u001b[0m\u001b[1;33m.\u001b[0m\u001b[0mgroupintlab\u001b[0m\u001b[1;33m]\u001b[0m\u001b[1;33m)\u001b[0m\u001b[1;33m,\u001b[0m\u001b[1;33m\u001b[0m\u001b[1;33m\u001b[0m\u001b[0m\n\u001b[1;32m--> 996\u001b[1;33m             useranks=False)\n\u001b[0m\u001b[0;32m    997\u001b[0m \u001b[1;33m\u001b[0m\u001b[0m\n\u001b[0;32m    998\u001b[0m         \u001b[0mgmeans\u001b[0m \u001b[1;33m=\u001b[0m \u001b[0mself\u001b[0m\u001b[1;33m.\u001b[0m\u001b[0mgroupstats\u001b[0m\u001b[1;33m.\u001b[0m\u001b[0mgroupmean\u001b[0m\u001b[1;33m\u001b[0m\u001b[1;33m\u001b[0m\u001b[0m\n",
      "\u001b[1;32m~\\AppData\\Local\\Continuum\\anaconda3\\envs\\learn-env\\lib\\site-packages\\statsmodels\\sandbox\\stats\\multicomp.py\u001b[0m in \u001b[0;36m__init__\u001b[1;34m(self, x, useranks, uni, intlab)\u001b[0m\n\u001b[0;32m    559\u001b[0m \u001b[1;33m\u001b[0m\u001b[0m\n\u001b[0;32m    560\u001b[0m         \u001b[1;31m#temporary until separated and made all lazy\u001b[0m\u001b[1;33m\u001b[0m\u001b[1;33m\u001b[0m\u001b[1;33m\u001b[0m\u001b[0m\n\u001b[1;32m--> 561\u001b[1;33m         \u001b[0mself\u001b[0m\u001b[1;33m.\u001b[0m\u001b[0mrunbasic\u001b[0m\u001b[1;33m(\u001b[0m\u001b[0museranks\u001b[0m\u001b[1;33m=\u001b[0m\u001b[0museranks\u001b[0m\u001b[1;33m)\u001b[0m\u001b[1;33m\u001b[0m\u001b[1;33m\u001b[0m\u001b[0m\n\u001b[0m\u001b[0;32m    562\u001b[0m \u001b[1;33m\u001b[0m\u001b[0m\n\u001b[0;32m    563\u001b[0m \u001b[1;33m\u001b[0m\u001b[0m\n",
      "\u001b[1;32m~\\AppData\\Local\\Continuum\\anaconda3\\envs\\learn-env\\lib\\site-packages\\statsmodels\\sandbox\\stats\\multicomp.py\u001b[0m in \u001b[0;36mrunbasic\u001b[1;34m(self, useranks)\u001b[0m\n\u001b[0;32m    595\u001b[0m         \u001b[1;32melse\u001b[0m\u001b[1;33m:\u001b[0m\u001b[1;33m\u001b[0m\u001b[1;33m\u001b[0m\u001b[0m\n\u001b[0;32m    596\u001b[0m             \u001b[0mself\u001b[0m\u001b[1;33m.\u001b[0m\u001b[0mxx\u001b[0m \u001b[1;33m=\u001b[0m \u001b[0mx\u001b[0m\u001b[1;33m[\u001b[0m\u001b[1;33m:\u001b[0m\u001b[1;33m,\u001b[0m\u001b[1;36m0\u001b[0m\u001b[1;33m]\u001b[0m\u001b[1;33m\u001b[0m\u001b[1;33m\u001b[0m\u001b[0m\n\u001b[1;32m--> 597\u001b[1;33m         \u001b[0mself\u001b[0m\u001b[1;33m.\u001b[0m\u001b[0mgroupsum\u001b[0m \u001b[1;33m=\u001b[0m \u001b[0mgroupranksum\u001b[0m \u001b[1;33m=\u001b[0m \u001b[0mnp\u001b[0m\u001b[1;33m.\u001b[0m\u001b[0mbincount\u001b[0m\u001b[1;33m(\u001b[0m\u001b[0mself\u001b[0m\u001b[1;33m.\u001b[0m\u001b[0mintlab\u001b[0m\u001b[1;33m,\u001b[0m \u001b[0mweights\u001b[0m\u001b[1;33m=\u001b[0m\u001b[0mself\u001b[0m\u001b[1;33m.\u001b[0m\u001b[0mxx\u001b[0m\u001b[1;33m)\u001b[0m\u001b[1;33m\u001b[0m\u001b[1;33m\u001b[0m\u001b[0m\n\u001b[0m\u001b[0;32m    598\u001b[0m         \u001b[1;31m#print('groupranksum', groupranksum, groupranksum.shape, self.groupnobs.shape\u001b[0m\u001b[1;33m\u001b[0m\u001b[1;33m\u001b[0m\u001b[1;33m\u001b[0m\u001b[0m\n\u001b[0;32m    599\u001b[0m         \u001b[1;31m# start at 1 for stats.rankdata :\u001b[0m\u001b[1;33m\u001b[0m\u001b[1;33m\u001b[0m\u001b[1;33m\u001b[0m\u001b[0m\n",
      "\u001b[1;31mTypeError\u001b[0m: Cannot cast array data from dtype('O') to dtype('float64') according to the rule 'safe'"
     ]
    }
   ],
   "source": [
    "tukey = sms.stats.multicomp.pairwise_tukeyhsd(data, labels)\n",
    "tukey.summary()"
   ]
  },
  {
   "cell_type": "markdown",
   "metadata": {},
   "source": [
    "### Hypothesis 4 Conclusions:\n",
    "\n",
    "#### Obeservations \n",
    "The p value for the kruskal test was singificant, which can reject the null hypothesis that all regions spend the same amounts. Further testing can demonstrate which regions\n",
    "\n",
    "\n",
    "\n",
    "#### Recommendations:\n",
    "Ensure that products are stocked and available in regions and focus marketing and sales training in areas that need to be developed.\n"
   ]
  },
  {
   "cell_type": "markdown",
   "metadata": {},
   "source": [
    "# Hypothesis 5:\n",
    "\n",
    "\n",
    "> ***What are the largest margins?***\n",
    "\n",
    "$𝐻0 :$ All products have equal return on investment\n",
    "\n",
    "$𝐻1 :$ There are products that sell at a higher margin.\n",
    "𝐻1𝑎 : \n",
    "\n"
   ]
  },
  {
   "cell_type": "code",
   "execution_count": 68,
   "metadata": {},
   "outputs": [
    {
     "data": {
      "text/html": [
       "<div>\n",
       "<style scoped>\n",
       "    .dataframe tbody tr th:only-of-type {\n",
       "        vertical-align: middle;\n",
       "    }\n",
       "\n",
       "    .dataframe tbody tr th {\n",
       "        vertical-align: top;\n",
       "    }\n",
       "\n",
       "    .dataframe thead th {\n",
       "        text-align: right;\n",
       "    }\n",
       "</style>\n",
       "<table border=\"1\" class=\"dataframe\">\n",
       "  <thead>\n",
       "    <tr style=\"text-align: right;\">\n",
       "      <th></th>\n",
       "      <th>Id</th>\n",
       "      <th>OrderId</th>\n",
       "      <th>ProductId</th>\n",
       "      <th>UnitPrice</th>\n",
       "      <th>Quantity</th>\n",
       "      <th>Discount</th>\n",
       "      <th>Id</th>\n",
       "      <th>ProductName</th>\n",
       "      <th>SupplierId</th>\n",
       "      <th>CategoryId</th>\n",
       "      <th>QuantityPerUnit</th>\n",
       "      <th>UnitPrice</th>\n",
       "      <th>UnitsInStock</th>\n",
       "      <th>UnitsOnOrder</th>\n",
       "      <th>ReorderLevel</th>\n",
       "      <th>Discontinued</th>\n",
       "    </tr>\n",
       "  </thead>\n",
       "  <tbody>\n",
       "    <tr>\n",
       "      <td>0</td>\n",
       "      <td>10248/11</td>\n",
       "      <td>10248</td>\n",
       "      <td>11</td>\n",
       "      <td>14.0</td>\n",
       "      <td>12</td>\n",
       "      <td>0.0</td>\n",
       "      <td>11</td>\n",
       "      <td>Queso Cabrales</td>\n",
       "      <td>5</td>\n",
       "      <td>4</td>\n",
       "      <td>1 kg pkg.</td>\n",
       "      <td>21.00</td>\n",
       "      <td>22</td>\n",
       "      <td>30</td>\n",
       "      <td>30</td>\n",
       "      <td>0</td>\n",
       "    </tr>\n",
       "    <tr>\n",
       "      <td>1</td>\n",
       "      <td>10248/42</td>\n",
       "      <td>10248</td>\n",
       "      <td>42</td>\n",
       "      <td>9.8</td>\n",
       "      <td>10</td>\n",
       "      <td>0.0</td>\n",
       "      <td>42</td>\n",
       "      <td>Singaporean Hokkien Fried Mee</td>\n",
       "      <td>20</td>\n",
       "      <td>5</td>\n",
       "      <td>32 - 1 kg pkgs.</td>\n",
       "      <td>14.00</td>\n",
       "      <td>26</td>\n",
       "      <td>0</td>\n",
       "      <td>0</td>\n",
       "      <td>1</td>\n",
       "    </tr>\n",
       "    <tr>\n",
       "      <td>2</td>\n",
       "      <td>10248/72</td>\n",
       "      <td>10248</td>\n",
       "      <td>72</td>\n",
       "      <td>34.8</td>\n",
       "      <td>5</td>\n",
       "      <td>0.0</td>\n",
       "      <td>72</td>\n",
       "      <td>Mozzarella di Giovanni</td>\n",
       "      <td>14</td>\n",
       "      <td>4</td>\n",
       "      <td>24 - 200 g pkgs.</td>\n",
       "      <td>34.80</td>\n",
       "      <td>14</td>\n",
       "      <td>0</td>\n",
       "      <td>0</td>\n",
       "      <td>0</td>\n",
       "    </tr>\n",
       "    <tr>\n",
       "      <td>3</td>\n",
       "      <td>10249/14</td>\n",
       "      <td>10249</td>\n",
       "      <td>14</td>\n",
       "      <td>18.6</td>\n",
       "      <td>9</td>\n",
       "      <td>0.0</td>\n",
       "      <td>14</td>\n",
       "      <td>Tofu</td>\n",
       "      <td>6</td>\n",
       "      <td>7</td>\n",
       "      <td>40 - 100 g pkgs.</td>\n",
       "      <td>23.25</td>\n",
       "      <td>35</td>\n",
       "      <td>0</td>\n",
       "      <td>0</td>\n",
       "      <td>0</td>\n",
       "    </tr>\n",
       "    <tr>\n",
       "      <td>4</td>\n",
       "      <td>10249/51</td>\n",
       "      <td>10249</td>\n",
       "      <td>51</td>\n",
       "      <td>42.4</td>\n",
       "      <td>40</td>\n",
       "      <td>0.0</td>\n",
       "      <td>51</td>\n",
       "      <td>Manjimup Dried Apples</td>\n",
       "      <td>24</td>\n",
       "      <td>7</td>\n",
       "      <td>50 - 300 g pkgs.</td>\n",
       "      <td>53.00</td>\n",
       "      <td>20</td>\n",
       "      <td>0</td>\n",
       "      <td>10</td>\n",
       "      <td>0</td>\n",
       "    </tr>\n",
       "  </tbody>\n",
       "</table>\n",
       "</div>"
      ],
      "text/plain": [
       "         Id  OrderId  ProductId  UnitPrice  Quantity  Discount  Id  \\\n",
       "0  10248/11    10248         11       14.0        12       0.0  11   \n",
       "1  10248/42    10248         42        9.8        10       0.0  42   \n",
       "2  10248/72    10248         72       34.8         5       0.0  72   \n",
       "3  10249/14    10249         14       18.6         9       0.0  14   \n",
       "4  10249/51    10249         51       42.4        40       0.0  51   \n",
       "\n",
       "                     ProductName  SupplierId  CategoryId   QuantityPerUnit  \\\n",
       "0                 Queso Cabrales           5           4         1 kg pkg.   \n",
       "1  Singaporean Hokkien Fried Mee          20           5   32 - 1 kg pkgs.   \n",
       "2         Mozzarella di Giovanni          14           4  24 - 200 g pkgs.   \n",
       "3                           Tofu           6           7  40 - 100 g pkgs.   \n",
       "4          Manjimup Dried Apples          24           7  50 - 300 g pkgs.   \n",
       "\n",
       "   UnitPrice  UnitsInStock  UnitsOnOrder  ReorderLevel  Discontinued  \n",
       "0      21.00            22            30            30             0  \n",
       "1      14.00            26             0             0             1  \n",
       "2      34.80            14             0             0             0  \n",
       "3      23.25            35             0             0             0  \n",
       "4      53.00            20             0            10             0  "
      ]
     },
     "execution_count": 68,
     "metadata": {},
     "output_type": "execute_result"
    }
   ],
   "source": [
    "cur.execute(\"\"\"SELECT * FROM OrderDetail o\n",
    "                JOIN Product p\n",
    "                on o.ProductID = p.Id ;\"\"\")\n",
    "prods = pd.DataFrame(cur.fetchall(), columns=[x[0] for x in cur.description])\n",
    "prods.head()"
   ]
  },
  {
   "cell_type": "code",
   "execution_count": 69,
   "metadata": {},
   "outputs": [],
   "source": [
    "#differentiating between cogs and sale price with Unit Price1\n",
    "cols = []\n",
    "count = 1\n",
    "for column in prods.columns:\n",
    "    if column == 'UnitPrice':\n",
    "        cols.append(f'UnitPrice_{count}')\n",
    "        count+=1\n",
    "        continue\n",
    "    cols.append(column)\n",
    "prods.columns = cols"
   ]
  },
  {
   "cell_type": "code",
   "execution_count": 57,
   "metadata": {},
   "outputs": [],
   "source": [
    "#prods.rename(columns = {'UnitPrice_1':'GOGS', 'UnitPrice_2':'SalePrice'}, inplace=True)"
   ]
  },
  {
   "cell_type": "code",
   "execution_count": 71,
   "metadata": {
    "scrolled": true
   },
   "outputs": [],
   "source": [
    "prods['Margin'] = prods['UnitPrice_2'] - prods['UnitPrice_1']"
   ]
  },
  {
   "cell_type": "code",
   "execution_count": 72,
   "metadata": {
    "scrolled": true
   },
   "outputs": [
    {
     "data": {
      "text/plain": [
       "count    2155.000000\n",
       "mean        1.730167\n",
       "std         4.431286\n",
       "min         0.000000\n",
       "25%         0.000000\n",
       "50%         0.000000\n",
       "75%         2.000000\n",
       "max        52.700000\n",
       "Name: Margin, dtype: float64"
      ]
     },
     "execution_count": 72,
     "metadata": {},
     "output_type": "execute_result"
    }
   ],
   "source": [
    "margstats = prods['Margin'].describe()\n",
    "margstats"
   ]
  },
  {
   "cell_type": "code",
   "execution_count": 73,
   "metadata": {},
   "outputs": [
    {
     "data": {
      "text/plain": [
       "1.7301670533642692"
      ]
     },
     "execution_count": 73,
     "metadata": {},
     "output_type": "execute_result"
    }
   ],
   "source": [
    "marg_mu = margstats['mean']\n",
    "marg_mu"
   ]
  },
  {
   "cell_type": "code",
   "execution_count": 61,
   "metadata": {
    "scrolled": false
   },
   "outputs": [],
   "source": [
    "# prods_info = prods1.groupby('ProductId')\n",
    "# topsellers = sorted(prods_info['Quantity'].sum(), reverse = True)\n",
    "# topsellers"
   ]
  },
  {
   "cell_type": "code",
   "execution_count": 74,
   "metadata": {
    "scrolled": true
   },
   "outputs": [
    {
     "data": {
      "text/plain": [
       "<matplotlib.lines.Line2D at 0x27965aa4b70>"
      ]
     },
     "execution_count": 74,
     "metadata": {},
     "output_type": "execute_result"
    },
    {
     "data": {
      "image/png": "[encoded data removed]",
      "text/plain": [
       "<Figure size 432x288 with 1 Axes>"
      ]
     },
     "metadata": {
      "needs_background": "light"
     },
     "output_type": "display_data"
    }
   ],
   "source": [
    "sns.distplot(prods['Margin'], color = 'lightgreen')\n",
    "plt.axvline(marg_mu, color='darkgreen')"
   ]
  },
  {
   "cell_type": "markdown",
   "metadata": {},
   "source": [
    "# Hypothesis 6 (Use in Case of Emergency) \n",
    "\n",
    "> ***Does discount amount have a statistically significant effect on the total amount spent?***\n",
    "\n",
    "$H0$: Customers spend the same on both discounted and regular priced items.\n",
    "$H1$: C\n",
    "\n"
   ]
  },
  {
   "cell_type": "code",
   "execution_count": null,
   "metadata": {},
   "outputs": [],
   "source": []
  }
 ],
 "metadata": {
  "kernelspec": {
   "display_name": "Python [conda env:learn-env] *",
   "language": "python",
   "name": "conda-env-learn-env-py"
  },
  "language_info": {
   "codemirror_mode": {
    "name": "ipython",
    "version": 3
   },
   "file_extension": ".py",
   "mimetype": "text/x-python",
   "name": "python",
   "nbconvert_exporter": "python",
   "pygments_lexer": "ipython3",
   "version": "3.6.9"
  },
  "latex_envs": {
   "LaTeX_envs_menu_present": true,
   "autoclose": false,
   "autocomplete": true,
   "bibliofile": "biblio.bib",
   "cite_by": "apalike",
   "current_citInitial": 1,
   "eqLabelWithNumbers": true,
   "eqNumInitial": 1,
   "hotkeys": {
    "equation": "Ctrl-E",
    "itemize": "Ctrl-I"
   },
   "labels_anchors": false,
   "latex_user_defs": false,
   "report_style_numbering": false,
   "user_envs_cfg": false
  },
  "toc": {
   "base_numbering": 1,
   "nav_menu": {},
   "number_sections": false,
   "sideBar": true,
   "skip_h1_title": false,
   "title_cell": "Table of Contents",
   "title_sidebar": "Contents",
   "toc_cell": false,
   "toc_position": {
    "height": "calc(100% - 180px)",
    "left": "10px",
    "top": "150px",
    "width": "451.319px"
   },
   "toc_section_display": true,
   "toc_window_display": true
  },
  "varInspector": {
   "cols": {
    "lenName": 16,
    "lenType": 16,
    "lenVar": 40
   },
   "kernels_config": {
    "python": {
     "delete_cmd_postfix": "",
     "delete_cmd_prefix": "del ",
     "library": "var_list.py",
     "varRefreshCmd": "print(var_dic_list())"
    },
    "r": {
     "delete_cmd_postfix": ") ",
     "delete_cmd_prefix": "rm(",
     "library": "var_list.r",
     "varRefreshCmd": "cat(var_dic_list()) "
    }
   },
   "types_to_exclude": [
    "module",
    "function",
    "builtin_function_or_method",
    "instance",
    "_Feature"
   ],
   "window_display": false
  }
 },
 "nbformat": 4,
 "nbformat_minor": 2
}
