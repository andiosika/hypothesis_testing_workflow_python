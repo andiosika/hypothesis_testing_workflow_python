{
 "cells": [
  {
   "cell_type": "markdown",
   "metadata": {},
   "source": [
    "# Mod 3 Final Project"
   ]
  },
  {
   "cell_type": "markdown",
   "metadata": {},
   "source": [
    "## Student Info\n",
    "\n",
    "- Name: Andi Osika\n",
    "- Cohort: ptds_100719\n",
    "- Instructor: James Irving, PhD\n"
   ]
  },
  {
   "cell_type": "markdown",
   "metadata": {},
   "source": [
    "## Instructions:"
   ]
  },
  {
   "cell_type": "markdown",
   "metadata": {},
   "source": [
    "- Open and read the project assignment and guidelines in `MOD_PROJECT_README.ipynb`\n",
    "- Review the hypothesis testing workflow found in this repo's `README.md` and at the bottom of the `MOD_PROJECT_README.ipynb`\n",
    "- 3 functions from study group/learn.co lessons have been provided inside `functions.py`\n",
    "    - `Cohen_d`, `find_outliers_IQR`,`find_outliers_Z`, additional functions were added as the workflow developed."
   ]
  },
  {
   "cell_type": "markdown",
   "metadata": {},
   "source": []
  },
  {
   "cell_type": "markdown",
   "metadata": {},
   "source": [
    "<img src=\"https://raw.githubusercontent.com/jirvingphd/dsc-mod-3-project-online-ds-ft-100719/master/Northwind_ERD_updated.png\">"
   ]
  },
  {
   "cell_type": "code",
   "execution_count": 1,
   "metadata": {
    "ExecuteTime": {
     "end_time": "2020-01-31T00:26:56.223159Z",
     "start_time": "2020-01-31T00:26:56.220980Z"
    }
   },
   "outputs": [],
   "source": [
    "# !pip install -U fsds_100719\n",
    "# from fsds_100719.imports import *\n",
    "\n",
    "import pandas as pd\n"
   ]
  },
  {
   "cell_type": "code",
   "execution_count": 2,
   "metadata": {
    "ExecuteTime": {
     "end_time": "2020-01-31T00:26:48.243683Z",
     "start_time": "2020-01-31T00:26:48.241435Z"
    }
   },
   "outputs": [],
   "source": [
    "import functions as fn\n",
    "\n",
    "## Uncomment the line below to see the source code for the imported functions\n",
    "# fs.ihelp(Cohen_d,False),fs.ihelp(find_outliers_IQR,False), fs.ihelp(find_outliers_Z,False)"
   ]
  },
  {
   "cell_type": "code",
   "execution_count": 3,
   "metadata": {
    "ExecuteTime": {
     "end_time": "2020-01-31T00:27:39.848908Z",
     "start_time": "2020-01-31T00:27:39.845403Z"
    }
   },
   "outputs": [],
   "source": [
    "import sqlite3\n",
    "connect = sqlite3.connect('Northwind_small.sqlite')\n",
    "cur = connect.cursor()"
   ]
  },
  {
   "cell_type": "markdown",
   "metadata": {},
   "source": [
    "# List of Tables:"
   ]
  },
  {
   "cell_type": "code",
   "execution_count": 4,
   "metadata": {
    "ExecuteTime": {
     "end_time": "2020-01-31T00:28:03.375218Z",
     "start_time": "2020-01-31T00:28:03.360094Z"
    },
    "scrolled": true
   },
   "outputs": [
    {
     "data": {
      "text/html": [
       "<div>\n",
       "<style scoped>\n",
       "    .dataframe tbody tr th:only-of-type {\n",
       "        vertical-align: middle;\n",
       "    }\n",
       "\n",
       "    .dataframe tbody tr th {\n",
       "        vertical-align: top;\n",
       "    }\n",
       "\n",
       "    .dataframe thead th {\n",
       "        text-align: right;\n",
       "    }\n",
       "</style>\n",
       "<table border=\"1\" class=\"dataframe\">\n",
       "  <thead>\n",
       "    <tr style=\"text-align: right;\">\n",
       "      <th></th>\n",
       "      <th>Table</th>\n",
       "    </tr>\n",
       "  </thead>\n",
       "  <tbody>\n",
       "    <tr>\n",
       "      <td>0</td>\n",
       "      <td>Employee</td>\n",
       "    </tr>\n",
       "    <tr>\n",
       "      <td>1</td>\n",
       "      <td>Category</td>\n",
       "    </tr>\n",
       "    <tr>\n",
       "      <td>2</td>\n",
       "      <td>Customer</td>\n",
       "    </tr>\n",
       "    <tr>\n",
       "      <td>3</td>\n",
       "      <td>Shipper</td>\n",
       "    </tr>\n",
       "    <tr>\n",
       "      <td>4</td>\n",
       "      <td>Supplier</td>\n",
       "    </tr>\n",
       "    <tr>\n",
       "      <td>5</td>\n",
       "      <td>Order</td>\n",
       "    </tr>\n",
       "    <tr>\n",
       "      <td>6</td>\n",
       "      <td>Product</td>\n",
       "    </tr>\n",
       "    <tr>\n",
       "      <td>7</td>\n",
       "      <td>OrderDetail</td>\n",
       "    </tr>\n",
       "    <tr>\n",
       "      <td>8</td>\n",
       "      <td>CustomerCustomerDemo</td>\n",
       "    </tr>\n",
       "    <tr>\n",
       "      <td>9</td>\n",
       "      <td>CustomerDemographic</td>\n",
       "    </tr>\n",
       "    <tr>\n",
       "      <td>10</td>\n",
       "      <td>Region</td>\n",
       "    </tr>\n",
       "    <tr>\n",
       "      <td>11</td>\n",
       "      <td>Territory</td>\n",
       "    </tr>\n",
       "    <tr>\n",
       "      <td>12</td>\n",
       "      <td>EmployeeTerritory</td>\n",
       "    </tr>\n",
       "  </tbody>\n",
       "</table>\n",
       "</div>"
      ],
      "text/plain": [
       "                   Table\n",
       "0               Employee\n",
       "1               Category\n",
       "2               Customer\n",
       "3                Shipper\n",
       "4               Supplier\n",
       "5                  Order\n",
       "6                Product\n",
       "7            OrderDetail\n",
       "8   CustomerCustomerDemo\n",
       "9    CustomerDemographic\n",
       "10                Region\n",
       "11             Territory\n",
       "12     EmployeeTerritory"
      ]
     },
     "execution_count": 4,
     "metadata": {},
     "output_type": "execute_result"
    }
   ],
   "source": [
    "cur.execute(\"\"\"SELECT name FROM sqlite_master WHERE type='table';\"\"\")\n",
    "df_tables = pd.DataFrame(cur.fetchall(), columns=['Table'])\n",
    "df_tables"
   ]
  },
  {
   "cell_type": "code",
   "execution_count": 5,
   "metadata": {
    "scrolled": true
   },
   "outputs": [
    {
     "data": {
      "text/html": [
       "<div>\n",
       "<style scoped>\n",
       "    .dataframe tbody tr th:only-of-type {\n",
       "        vertical-align: middle;\n",
       "    }\n",
       "\n",
       "    .dataframe tbody tr th {\n",
       "        vertical-align: top;\n",
       "    }\n",
       "\n",
       "    .dataframe thead th {\n",
       "        text-align: right;\n",
       "    }\n",
       "</style>\n",
       "<table border=\"1\" class=\"dataframe\">\n",
       "  <thead>\n",
       "    <tr style=\"text-align: right;\">\n",
       "      <th></th>\n",
       "      <th>Id</th>\n",
       "      <th>CustomerId</th>\n",
       "      <th>EmployeeId</th>\n",
       "      <th>OrderDate</th>\n",
       "      <th>RequiredDate</th>\n",
       "      <th>ShippedDate</th>\n",
       "      <th>ShipVia</th>\n",
       "      <th>Freight</th>\n",
       "      <th>ShipName</th>\n",
       "      <th>ShipAddress</th>\n",
       "      <th>ShipCity</th>\n",
       "      <th>ShipRegion</th>\n",
       "      <th>ShipPostalCode</th>\n",
       "      <th>ShipCountry</th>\n",
       "    </tr>\n",
       "  </thead>\n",
       "  <tbody>\n",
       "    <tr>\n",
       "      <td>0</td>\n",
       "      <td>10248</td>\n",
       "      <td>VINET</td>\n",
       "      <td>5</td>\n",
       "      <td>2012-07-04</td>\n",
       "      <td>2012-08-01</td>\n",
       "      <td>2012-07-16</td>\n",
       "      <td>3</td>\n",
       "      <td>32.38</td>\n",
       "      <td>Vins et alcools Chevalier</td>\n",
       "      <td>59 rue de l'Abbaye</td>\n",
       "      <td>Reims</td>\n",
       "      <td>Western Europe</td>\n",
       "      <td>51100</td>\n",
       "      <td>France</td>\n",
       "    </tr>\n",
       "    <tr>\n",
       "      <td>1</td>\n",
       "      <td>10249</td>\n",
       "      <td>TOMSP</td>\n",
       "      <td>6</td>\n",
       "      <td>2012-07-05</td>\n",
       "      <td>2012-08-16</td>\n",
       "      <td>2012-07-10</td>\n",
       "      <td>1</td>\n",
       "      <td>11.61</td>\n",
       "      <td>Toms Spezialitäten</td>\n",
       "      <td>Luisenstr. 48</td>\n",
       "      <td>Münster</td>\n",
       "      <td>Western Europe</td>\n",
       "      <td>44087</td>\n",
       "      <td>Germany</td>\n",
       "    </tr>\n",
       "    <tr>\n",
       "      <td>2</td>\n",
       "      <td>10250</td>\n",
       "      <td>HANAR</td>\n",
       "      <td>4</td>\n",
       "      <td>2012-07-08</td>\n",
       "      <td>2012-08-05</td>\n",
       "      <td>2012-07-12</td>\n",
       "      <td>2</td>\n",
       "      <td>65.83</td>\n",
       "      <td>Hanari Carnes</td>\n",
       "      <td>Rua do Paço, 67</td>\n",
       "      <td>Rio de Janeiro</td>\n",
       "      <td>South America</td>\n",
       "      <td>05454-876</td>\n",
       "      <td>Brazil</td>\n",
       "    </tr>\n",
       "    <tr>\n",
       "      <td>3</td>\n",
       "      <td>10251</td>\n",
       "      <td>VICTE</td>\n",
       "      <td>3</td>\n",
       "      <td>2012-07-08</td>\n",
       "      <td>2012-08-05</td>\n",
       "      <td>2012-07-15</td>\n",
       "      <td>1</td>\n",
       "      <td>41.34</td>\n",
       "      <td>Victuailles en stock</td>\n",
       "      <td>2, rue du Commerce</td>\n",
       "      <td>Lyon</td>\n",
       "      <td>Western Europe</td>\n",
       "      <td>69004</td>\n",
       "      <td>France</td>\n",
       "    </tr>\n",
       "    <tr>\n",
       "      <td>4</td>\n",
       "      <td>10252</td>\n",
       "      <td>SUPRD</td>\n",
       "      <td>4</td>\n",
       "      <td>2012-07-09</td>\n",
       "      <td>2012-08-06</td>\n",
       "      <td>2012-07-11</td>\n",
       "      <td>2</td>\n",
       "      <td>51.30</td>\n",
       "      <td>Suprêmes délices</td>\n",
       "      <td>Boulevard Tirou, 255</td>\n",
       "      <td>Charleroi</td>\n",
       "      <td>Western Europe</td>\n",
       "      <td>B-6000</td>\n",
       "      <td>Belgium</td>\n",
       "    </tr>\n",
       "  </tbody>\n",
       "</table>\n",
       "</div>"
      ],
      "text/plain": [
       "      Id CustomerId  EmployeeId   OrderDate RequiredDate ShippedDate  ShipVia  \\\n",
       "0  10248      VINET           5  2012-07-04   2012-08-01  2012-07-16        3   \n",
       "1  10249      TOMSP           6  2012-07-05   2012-08-16  2012-07-10        1   \n",
       "2  10250      HANAR           4  2012-07-08   2012-08-05  2012-07-12        2   \n",
       "3  10251      VICTE           3  2012-07-08   2012-08-05  2012-07-15        1   \n",
       "4  10252      SUPRD           4  2012-07-09   2012-08-06  2012-07-11        2   \n",
       "\n",
       "   Freight                   ShipName           ShipAddress        ShipCity  \\\n",
       "0    32.38  Vins et alcools Chevalier    59 rue de l'Abbaye           Reims   \n",
       "1    11.61         Toms Spezialitäten         Luisenstr. 48         Münster   \n",
       "2    65.83              Hanari Carnes       Rua do Paço, 67  Rio de Janeiro   \n",
       "3    41.34       Victuailles en stock    2, rue du Commerce            Lyon   \n",
       "4    51.30           Suprêmes délices  Boulevard Tirou, 255       Charleroi   \n",
       "\n",
       "       ShipRegion ShipPostalCode ShipCountry  \n",
       "0  Western Europe          51100      France  \n",
       "1  Western Europe          44087     Germany  \n",
       "2   South America      05454-876      Brazil  \n",
       "3  Western Europe          69004      France  \n",
       "4  Western Europe         B-6000     Belgium  "
      ]
     },
     "execution_count": 5,
     "metadata": {},
     "output_type": "execute_result"
    }
   ],
   "source": [
    "cur.execute(\"\"\"SELECT * FROM `Order`;\"\"\")\n",
    "df = pd.DataFrame(cur.fetchall(), columns=[x[0] for x in cur.description])\n",
    "df.head()\n"
   ]
  },
  {
   "cell_type": "code",
   "execution_count": 6,
   "metadata": {},
   "outputs": [],
   "source": [
    "## looking at dates to get an idea of timeframe\n",
    "df['OrderDate']=pd.to_datetime(df['OrderDate'])"
   ]
  },
  {
   "cell_type": "code",
   "execution_count": 7,
   "metadata": {
    "scrolled": true
   },
   "outputs": [
    {
     "data": {
      "text/plain": [
       "count                     830\n",
       "unique                    480\n",
       "top       2014-02-26 00:00:00\n",
       "freq                        6\n",
       "first     2012-07-04 00:00:00\n",
       "last      2014-05-06 00:00:00\n",
       "Name: OrderDate, dtype: object"
      ]
     },
     "execution_count": 7,
     "metadata": {},
     "output_type": "execute_result"
    }
   ],
   "source": [
    "df['OrderDate'].describe()"
   ]
  },
  {
   "cell_type": "markdown",
   "metadata": {},
   "source": [
    "Timespan is ~ 2 years : April 7 2012 - June 5 2014"
   ]
  },
  {
   "cell_type": "markdown",
   "metadata": {},
   "source": [
    "# HYPOTHESIS 1"
   ]
  },
  {
   "cell_type": "markdown",
   "metadata": {},
   "source": [
    "> ***Does discount amount have a statistically significant effect on the quantity of a product in an order? If so, at what level(s) of discount?***"
   ]
  },
  {
   "cell_type": "markdown",
   "metadata": {},
   "source": [
    "- $H_0$:There is no statistcally significant effect on the quantity of a product in an order in relation to a discount amount.\n",
    "- $H_1$:Discounts have a statistically significant effect on the quantiy of a product in an order.\n",
    "- $H_1a$:Certain discount values have a greater effect than others."
   ]
  },
  {
   "cell_type": "markdown",
   "metadata": {},
   "source": [
    "## Importing and inspecting data from OrderDetail table:\n",
    "\n",
    "This table from the Northwind database includes order information on:\n",
    "\n",
    "    1) Quantity\n",
    "    2) Discount \n",
    "\n",
    "Once imported, the data will be grouped by discount level and the means of the quantity sold for each will be compared against each other to evaluate if they are statistically significantly different.  This will determine if the null hypothesis can be rejected with a probability of 5% error in reporting a false negative."
   ]
  },
  {
   "cell_type": "code",
   "execution_count": 8,
   "metadata": {
    "scrolled": true
   },
   "outputs": [
    {
     "data": {
      "text/html": [
       "<div>\n",
       "<style scoped>\n",
       "    .dataframe tbody tr th:only-of-type {\n",
       "        vertical-align: middle;\n",
       "    }\n",
       "\n",
       "    .dataframe tbody tr th {\n",
       "        vertical-align: top;\n",
       "    }\n",
       "\n",
       "    .dataframe thead th {\n",
       "        text-align: right;\n",
       "    }\n",
       "</style>\n",
       "<table border=\"1\" class=\"dataframe\">\n",
       "  <thead>\n",
       "    <tr style=\"text-align: right;\">\n",
       "      <th></th>\n",
       "      <th>Id</th>\n",
       "      <th>OrderId</th>\n",
       "      <th>ProductId</th>\n",
       "      <th>UnitPrice</th>\n",
       "      <th>Quantity</th>\n",
       "      <th>Discount</th>\n",
       "    </tr>\n",
       "  </thead>\n",
       "  <tbody>\n",
       "    <tr>\n",
       "      <td>0</td>\n",
       "      <td>10248/11</td>\n",
       "      <td>10248</td>\n",
       "      <td>11</td>\n",
       "      <td>14.0</td>\n",
       "      <td>12</td>\n",
       "      <td>0.0</td>\n",
       "    </tr>\n",
       "    <tr>\n",
       "      <td>1</td>\n",
       "      <td>10248/42</td>\n",
       "      <td>10248</td>\n",
       "      <td>42</td>\n",
       "      <td>9.8</td>\n",
       "      <td>10</td>\n",
       "      <td>0.0</td>\n",
       "    </tr>\n",
       "    <tr>\n",
       "      <td>2</td>\n",
       "      <td>10248/72</td>\n",
       "      <td>10248</td>\n",
       "      <td>72</td>\n",
       "      <td>34.8</td>\n",
       "      <td>5</td>\n",
       "      <td>0.0</td>\n",
       "    </tr>\n",
       "    <tr>\n",
       "      <td>3</td>\n",
       "      <td>10249/14</td>\n",
       "      <td>10249</td>\n",
       "      <td>14</td>\n",
       "      <td>18.6</td>\n",
       "      <td>9</td>\n",
       "      <td>0.0</td>\n",
       "    </tr>\n",
       "    <tr>\n",
       "      <td>4</td>\n",
       "      <td>10249/51</td>\n",
       "      <td>10249</td>\n",
       "      <td>51</td>\n",
       "      <td>42.4</td>\n",
       "      <td>40</td>\n",
       "      <td>0.0</td>\n",
       "    </tr>\n",
       "  </tbody>\n",
       "</table>\n",
       "</div>"
      ],
      "text/plain": [
       "         Id  OrderId  ProductId  UnitPrice  Quantity  Discount\n",
       "0  10248/11    10248         11       14.0        12       0.0\n",
       "1  10248/42    10248         42        9.8        10       0.0\n",
       "2  10248/72    10248         72       34.8         5       0.0\n",
       "3  10249/14    10249         14       18.6         9       0.0\n",
       "4  10249/51    10249         51       42.4        40       0.0"
      ]
     },
     "execution_count": 8,
     "metadata": {},
     "output_type": "execute_result"
    }
   ],
   "source": [
    "cur.execute(\"\"\"SELECT * FROM OrderDetail;\"\"\")\n",
    "df = pd.DataFrame(cur.fetchall(), columns=[x[0] for x in cur.description])\n",
    "df.head()\n"
   ]
  },
  {
   "cell_type": "code",
   "execution_count": 9,
   "metadata": {
    "scrolled": true
   },
   "outputs": [
    {
     "data": {
      "text/html": [
       "<div>\n",
       "<style scoped>\n",
       "    .dataframe tbody tr th:only-of-type {\n",
       "        vertical-align: middle;\n",
       "    }\n",
       "\n",
       "    .dataframe tbody tr th {\n",
       "        vertical-align: top;\n",
       "    }\n",
       "\n",
       "    .dataframe thead th {\n",
       "        text-align: right;\n",
       "    }\n",
       "</style>\n",
       "<table border=\"1\" class=\"dataframe\">\n",
       "  <thead>\n",
       "    <tr style=\"text-align: right;\">\n",
       "      <th></th>\n",
       "      <th>OrderId</th>\n",
       "      <th>ProductId</th>\n",
       "      <th>UnitPrice</th>\n",
       "      <th>Quantity</th>\n",
       "      <th>Discount</th>\n",
       "    </tr>\n",
       "  </thead>\n",
       "  <tbody>\n",
       "    <tr>\n",
       "      <td>count</td>\n",
       "      <td>2155.000000</td>\n",
       "      <td>2155.000000</td>\n",
       "      <td>2155.000000</td>\n",
       "      <td>2155.000000</td>\n",
       "      <td>2155.000000</td>\n",
       "    </tr>\n",
       "    <tr>\n",
       "      <td>mean</td>\n",
       "      <td>10659.375870</td>\n",
       "      <td>40.793039</td>\n",
       "      <td>26.218520</td>\n",
       "      <td>23.812993</td>\n",
       "      <td>0.056167</td>\n",
       "    </tr>\n",
       "    <tr>\n",
       "      <td>std</td>\n",
       "      <td>241.378032</td>\n",
       "      <td>22.159019</td>\n",
       "      <td>29.827418</td>\n",
       "      <td>19.022047</td>\n",
       "      <td>0.083450</td>\n",
       "    </tr>\n",
       "    <tr>\n",
       "      <td>min</td>\n",
       "      <td>10248.000000</td>\n",
       "      <td>1.000000</td>\n",
       "      <td>2.000000</td>\n",
       "      <td>1.000000</td>\n",
       "      <td>0.000000</td>\n",
       "    </tr>\n",
       "    <tr>\n",
       "      <td>25%</td>\n",
       "      <td>10451.000000</td>\n",
       "      <td>22.000000</td>\n",
       "      <td>12.000000</td>\n",
       "      <td>10.000000</td>\n",
       "      <td>0.000000</td>\n",
       "    </tr>\n",
       "    <tr>\n",
       "      <td>50%</td>\n",
       "      <td>10657.000000</td>\n",
       "      <td>41.000000</td>\n",
       "      <td>18.400000</td>\n",
       "      <td>20.000000</td>\n",
       "      <td>0.000000</td>\n",
       "    </tr>\n",
       "    <tr>\n",
       "      <td>75%</td>\n",
       "      <td>10862.500000</td>\n",
       "      <td>60.000000</td>\n",
       "      <td>32.000000</td>\n",
       "      <td>30.000000</td>\n",
       "      <td>0.100000</td>\n",
       "    </tr>\n",
       "    <tr>\n",
       "      <td>max</td>\n",
       "      <td>11077.000000</td>\n",
       "      <td>77.000000</td>\n",
       "      <td>263.500000</td>\n",
       "      <td>130.000000</td>\n",
       "      <td>0.250000</td>\n",
       "    </tr>\n",
       "  </tbody>\n",
       "</table>\n",
       "</div>"
      ],
      "text/plain": [
       "            OrderId    ProductId    UnitPrice     Quantity     Discount\n",
       "count   2155.000000  2155.000000  2155.000000  2155.000000  2155.000000\n",
       "mean   10659.375870    40.793039    26.218520    23.812993     0.056167\n",
       "std      241.378032    22.159019    29.827418    19.022047     0.083450\n",
       "min    10248.000000     1.000000     2.000000     1.000000     0.000000\n",
       "25%    10451.000000    22.000000    12.000000    10.000000     0.000000\n",
       "50%    10657.000000    41.000000    18.400000    20.000000     0.000000\n",
       "75%    10862.500000    60.000000    32.000000    30.000000     0.100000\n",
       "max    11077.000000    77.000000   263.500000   130.000000     0.250000"
      ]
     },
     "execution_count": 9,
     "metadata": {},
     "output_type": "execute_result"
    }
   ],
   "source": [
    "#explorting dataset\n",
    "specs = df.describe()\n",
    "specs"
   ]
  },
  {
   "cell_type": "markdown",
   "metadata": {},
   "source": [
    "General Observation: Pricing ranges from `$2` - `$263` with an average price of `$26.21` and average qty of 23 items ordered, no null values"
   ]
  },
  {
   "cell_type": "code",
   "execution_count": 10,
   "metadata": {
    "scrolled": true
   },
   "outputs": [
    {
     "name": "stdout",
     "output_type": "stream",
     "text": [
      "<class 'pandas.core.frame.DataFrame'>\n",
      "RangeIndex: 2155 entries, 0 to 2154\n",
      "Data columns (total 6 columns):\n",
      "Id           2155 non-null object\n",
      "OrderId      2155 non-null int64\n",
      "ProductId    2155 non-null int64\n",
      "UnitPrice    2155 non-null float64\n",
      "Quantity     2155 non-null int64\n",
      "Discount     2155 non-null float64\n",
      "dtypes: float64(2), int64(3), object(1)\n",
      "memory usage: 101.1+ KB\n"
     ]
    }
   ],
   "source": [
    "df.info()"
   ]
  },
  {
   "cell_type": "code",
   "execution_count": 10,
   "metadata": {},
   "outputs": [
    {
     "data": {
      "text/plain": [
       "830"
      ]
     },
     "execution_count": 10,
     "metadata": {},
     "output_type": "execute_result"
    }
   ],
   "source": [
    "len(df['OrderId'].unique())"
   ]
  },
  {
   "cell_type": "code",
   "execution_count": null,
   "metadata": {},
   "outputs": [],
   "source": []
  },
  {
   "cell_type": "markdown",
   "metadata": {},
   "source": [
    "### Initial Visual Inspection:\n",
    "\n",
    "From this dataset of 2155 line items that span 830 orders, the average quantity ordered is 24 regardless of discount, the minimum ordered is 0 and max ordered is 130, although the IQR is between 10 and 30."
   ]
  },
  {
   "cell_type": "code",
   "execution_count": 12,
   "metadata": {
    "scrolled": true
   },
   "outputs": [
    {
     "data": {
      "text/plain": [
       "count    2155.000000\n",
       "mean       23.812993\n",
       "std        19.022047\n",
       "min         1.000000\n",
       "25%        10.000000\n",
       "50%        20.000000\n",
       "75%        30.000000\n",
       "max       130.000000\n",
       "Name: Quantity, dtype: float64"
      ]
     },
     "execution_count": 12,
     "metadata": {},
     "output_type": "execute_result"
    }
   ],
   "source": [
    "qty = df['Quantity']\n",
    "qty_specs = qty.describe()\n",
    "qty_specs"
   ]
  },
  {
   "cell_type": "code",
   "execution_count": 13,
   "metadata": {},
   "outputs": [
    {
     "name": "stdout",
     "output_type": "stream",
     "text": [
      "The average quantity ordered from this sample is : 24.0\n",
      "There are 2155 orders in this sample.\n"
     ]
    }
   ],
   "source": [
    "qty_mu = round(qty_specs['mean'],0)\n",
    "n = len(df)\n",
    "print(f'The average quantity ordered from this sample is : {qty_mu}')\n",
    "print(f'There are {n} orders in this sample.')"
   ]
  },
  {
   "cell_type": "code",
   "execution_count": 14,
   "metadata": {},
   "outputs": [
    {
     "data": {
      "text/plain": [
       "[0.0, 0.15, 0.05, 0.2, 0.25, 0.1, 0.02, 0.03, 0.04, 0.06, 0.01]"
      ]
     },
     "execution_count": 14,
     "metadata": {},
     "output_type": "execute_result"
    }
   ],
   "source": [
    "d =list(df['Discount'].unique())\n",
    "d\n",
    "#Dscounts are as follows:"
   ]
  },
  {
   "cell_type": "code",
   "execution_count": 16,
   "metadata": {
    "scrolled": false
   },
   "outputs": [
    {
     "data": {
      "image/png": "[encoded data removed]",
      "text/plain": [
       "<Figure size 432x288 with 1 Axes>"
      ]
     },
     "metadata": {
      "needs_background": "light"
     },
     "output_type": "display_data"
    }
   ],
   "source": [
    "import matplotlib.pyplot as plt\n",
    "import seaborn as sns\n",
    "sns.distplot(qty)\n",
    "plt.axvline(qty_mu, label='Qty Mean', color='purple')\n",
    "plt.show()\n"
   ]
  },
  {
   "cell_type": "markdown",
   "metadata": {},
   "source": [
    "\n"
   ]
  },
  {
   "cell_type": "code",
   "execution_count": 17,
   "metadata": {},
   "outputs": [],
   "source": [
    "import seaborn as sns\n",
    "from ipywidgets import interact"
   ]
  },
  {
   "cell_type": "code",
   "execution_count": 18,
   "metadata": {
    "scrolled": true
   },
   "outputs": [
    {
     "data": {
      "application/vnd.jupyter.widget-view+json": {
       "model_id": "4021b361511b4cc988d099e84db3a119",
       "version_major": 2,
       "version_minor": 0
      },
      "text/plain": [
       "interactive(children=(Dropdown(description='d', options=(0.0, 0.15, 0.05, 0.2, 0.25, 0.1, 0.02, 0.03, 0.04, 0.…"
      ]
     },
     "metadata": {},
     "output_type": "display_data"
    }
   ],
   "source": [
    "\n",
    "@interact\n",
    "def plt_discounts(d=d):\n",
    "    sns.distplot(df.groupby('Discount').get_group(d)['Quantity'])\n",
    "    plt.axvline(qty_mu, color='purple')\n",
    "    "
   ]
  },
  {
   "cell_type": "code",
   "execution_count": 19,
   "metadata": {
    "scrolled": true
   },
   "outputs": [
    {
     "data": {
      "text/plain": [
       "Discount\n",
       "0.00    1317\n",
       "0.01       1\n",
       "0.02       2\n",
       "0.03       3\n",
       "0.04       1\n",
       "0.05     185\n",
       "0.06       1\n",
       "0.10     173\n",
       "0.15     157\n",
       "0.20     161\n",
       "0.25     154\n",
       "Name: Quantity, dtype: int64"
      ]
     },
     "metadata": {},
     "output_type": "display_data"
    }
   ],
   "source": [
    "dfa = df.groupby('Discount').count()['Quantity']\n",
    "display(dfa)\n"
   ]
  },
  {
   "cell_type": "markdown",
   "metadata": {},
   "source": [
    "**The sample sizes associated with discounts .01, .02, .03, .04 and .06 are relatively nominal <4, and will be dropped as without a normal or comperable dataset to evaulate their impact in comparison with the other groups.**"
   ]
  },
  {
   "cell_type": "code",
   "execution_count": 20,
   "metadata": {},
   "outputs": [],
   "source": [
    "discs = {}\n",
    "for disc in df['Discount'].unique():\n",
    "    discs[disc] = df.groupby('Discount').get_group(disc)['Quantity']"
   ]
  },
  {
   "cell_type": "code",
   "execution_count": 21,
   "metadata": {},
   "outputs": [
    {
     "name": "stdout",
     "output_type": "stream",
     "text": [
      "0.0\n",
      "0.15\n",
      "0.05\n",
      "0.2\n",
      "0.25\n",
      "0.1\n",
      "0.02\n",
      "0.03\n",
      "0.04\n",
      "0.06\n",
      "0.01\n"
     ]
    }
   ],
   "source": [
    "for k,v in discs.items():\n",
    "    print(k)"
   ]
  },
  {
   "cell_type": "code",
   "execution_count": 22,
   "metadata": {},
   "outputs": [],
   "source": [
    "l=[.01,.02,.03,.04,.06]\n",
    "oneper = discs.pop(.01)\n",
    "twoper = discs.pop(.02)\n",
    "threeper = discs.pop(.03)\n",
    "fourper = discs.pop(.04)\n",
    "sixper = discs.pop(.06)"
   ]
  },
  {
   "cell_type": "code",
   "execution_count": 23,
   "metadata": {},
   "outputs": [
    {
     "name": "stdout",
     "output_type": "stream",
     "text": [
      "Distributions appear roughly equal,\n"
     ]
    },
    {
     "data": {
      "image/png": "[encoded data removed]",
      "text/plain": [
       "<Figure size 720x360 with 1 Axes>"
      ]
     },
     "metadata": {
      "needs_background": "light"
     },
     "output_type": "display_data"
    }
   ],
   "source": [
    "#visualizing distributions\n",
    "fig, ax = plt.subplots(figsize=(10,5))\n",
    "for k,v in discs.items():\n",
    "    sns.distplot(v,label=v)\n",
    "\n",
    "plt.title('Quantity Distribution')\n",
    "plt.legend()\n",
    "print('Distributions appear roughly equal,')"
   ]
  },
  {
   "cell_type": "markdown",
   "metadata": {},
   "source": [
    "## Initial Observations:\n",
    "\n",
    "Datatype is numeric.  \n",
    "\n",
    "The average quantity ordered from this sample is : 24.0\n",
    "There are 2155 orders in this sample. \n",
    "\n",
    "Discounts are as follows:\n",
    "0.0, 0.15, 0.05, 0.2, 0.25, 0.1, 0.02, 0.03, 0.04, 0.06, 0.01\n",
    "\n",
    "The majority of product purchases are without the discount(1317/2155) 61%, and frequency of discounts are as follows:\n",
    "5%\n",
    "10%\n",
    "20%\n",
    "15%\n",
    "25%\n",
    "\n",
    "For discounts 1%,2%,3%,4%, and 6% , the amount of data provided was relatively small to evaluate the impact on the whole.  This data was removed from further testing.\n",
    "\n",
    "Overall distributions appears relatively uniform. \n",
    "\n",
    "### Since we are comparing multiple discounts to inspect it's impact on quantity ordered an AVNOVA or Kruksal test will be run depending on how assumptions are met: \n",
    "   \n",
    "    \n",
    "Assumptions for ANOVA Testing: \n",
    "(see corresponding sections\n",
    "\n",
    "1) No significant outliers \n",
    "    * Upon a quick visual inspection, the distribution is skewed and visually there appears to be some outliers\n",
    "\n",
    "2) Equal variance\n",
    "    * Lavene's testing demonstrates NOT equal variance\n",
    "\n",
    "\n",
    "3) Normality (if n>15)\n",
    "      * Not required for discounts: 5%, 10%, 15%, 20% and 25% since n > 15\n",
    "\n",
    "\n"
   ]
  },
  {
   "cell_type": "markdown",
   "metadata": {},
   "source": [
    "### Assumption 1:  Outliers \n",
    "\n",
    "Evaluation and removal via Z-Score testing:\n"
   ]
  },
  {
   "cell_type": "code",
   "execution_count": 24,
   "metadata": {},
   "outputs": [
    {
     "name": "stdout",
     "output_type": "stream",
     "text": [
      "Found 20 outliers in Discount Group 0.0\n",
      "Found 2 outliers in Discount Group 0.15\n",
      "Found 3 outliers in Discount Group 0.05\n",
      "Found 2 outliers in Discount Group 0.2\n",
      "Found 3 outliers in Discount Group 0.25\n",
      "Found 3 outliers in Discount Group 0.1\n",
      "\n",
      " All of these outliers were removed\n"
     ]
    }
   ],
   "source": [
    "for disc, disc_data in discs.items():\n",
    "    idx_outs = fn.find_outliers_Z(disc_data)\n",
    "    print(f'Found {idx_outs.sum()} outliers in Discount Group {disc}')\n",
    "    discs[disc] = disc_data[~idx_outs]\n",
    "print('\\n All of these outliers were removed')"
   ]
  },
  {
   "cell_type": "markdown",
   "metadata": {},
   "source": [
    "### Assumption 2: Equal Variance\n",
    "\n",
    "Levines testing conducted on cleaned dataset\n"
   ]
  },
  {
   "cell_type": "code",
   "execution_count": 25,
   "metadata": {},
   "outputs": [],
   "source": [
    "#preparing data for levene's testing\n",
    "datad = []\n",
    "for k,v in discs.items():\n",
    "    datad.append(v)"
   ]
  },
  {
   "cell_type": "code",
   "execution_count": 26,
   "metadata": {},
   "outputs": [
    {
     "name": "stdout",
     "output_type": "stream",
     "text": [
      "Lavene test for equal variance results are 0.0003\n",
      "The groups do NOT have equal variance\n"
     ]
    }
   ],
   "source": [
    "import scipy.stats as stats\n",
    "stat,p = stats.levene(discs[0.0],discs[0.05],discs[0.1],discs[0.25], discs[0.15], discs[0.20])\n",
    "print(f'Lavene test for equal variance results are {round(p,4)}')\n",
    "sig = 'do NOT' if p < .05 else 'DO'\n",
    "\n",
    "print(f'The groups {sig} have equal variance')\n"
   ]
  },
  {
   "cell_type": "markdown",
   "metadata": {},
   "source": [
    "#### Since group does not prove to be equal variance, a **kruksal** will be conducted.\n",
    "Looking at sample sizes to determine if normality needs to be tested."
   ]
  },
  {
   "cell_type": "markdown",
   "metadata": {},
   "source": [
    "### Assumption 3: Normality\n",
    "\n",
    "First, checking sample sizes since assumption for normality depends on sample size. If 2-9 groups, each group n >= 15\n",
    "\n",
    "For Discounts of 5%, 10%, 15%, 20% and 25% n>15 "
   ]
  },
  {
   "cell_type": "code",
   "execution_count": 27,
   "metadata": {
    "scrolled": true
   },
   "outputs": [
    {
     "name": "stdout",
     "output_type": "stream",
     "text": [
      "There are 1297 samples in the 0.0 discount group.\n",
      "There are 155 samples in the 0.15 discount group.\n",
      "There are 182 samples in the 0.05 discount group.\n",
      "There are 159 samples in the 0.2 discount group.\n",
      "There are 151 samples in the 0.25 discount group.\n",
      "There are 170 samples in the 0.1 discount group.\n",
      "\n",
      "All samples are >15: Normality Assumption Criterion is met.\n"
     ]
    }
   ],
   "source": [
    "n = []\n",
    "for disc, disc_data in discs.items():\n",
    "    print(f'There are {len(disc_data)} samples in the {disc} discount group.')    \n",
    "    n.append(len(disc_data)>15)\n",
    "if all(n):\n",
    "    print('\\nAll samples are >15: Normality Assumption Criterion is met.')\n"
   ]
  },
  {
   "cell_type": "markdown",
   "metadata": {},
   "source": [
    "## Kruksal Testing:"
   ]
  },
  {
   "cell_type": "code",
   "execution_count": 28,
   "metadata": {},
   "outputs": [
    {
     "name": "stdout",
     "output_type": "stream",
     "text": [
      "Kruskal test p value: 0.0\n",
      "Reject the null hypothesis\n"
     ]
    }
   ],
   "source": [
    "stat, p = stats.kruskal(discs[0.0],discs[0.05],discs[0.1],discs[0.25], discs[0.15], discs[0.20])\n",
    "print(f\"Kruskal test p value: {round(p,4)}\")\n",
    "if p < .05 :\n",
    "    print(f'Reject the null hypothesis')\n",
    "else: \n",
    "    print(f'Null hypotheis remains true')\n",
    "    "
   ]
  },
  {
   "cell_type": "markdown",
   "metadata": {},
   "source": [
    "#### ANOVA Testing for comparison"
   ]
  },
  {
   "cell_type": "code",
   "execution_count": 29,
   "metadata": {},
   "outputs": [
    {
     "name": "stdout",
     "output_type": "stream",
     "text": [
      "ANOVA test p value: 0.0\n",
      "Reject the null hypothesis\n"
     ]
    }
   ],
   "source": [
    "stat, p = stats.f_oneway(*datad)\n",
    "print(f\"ANOVA test p value: {round(p,4)}\")\n",
    "if p < .05 :\n",
    "    print(f'Reject the null hypothesis')\n",
    "else: \n",
    "    print(f'Null hypotheis remains true')\n"
   ]
  },
  {
   "cell_type": "markdown",
   "metadata": {},
   "source": [
    "### Post-Hoc Testing: "
   ]
  },
  {
   "cell_type": "code",
   "execution_count": 30,
   "metadata": {
    "scrolled": true
   },
   "outputs": [
    {
     "data": {
      "text/html": [
       "<div>\n",
       "<style scoped>\n",
       "    .dataframe tbody tr th:only-of-type {\n",
       "        vertical-align: middle;\n",
       "    }\n",
       "\n",
       "    .dataframe tbody tr th {\n",
       "        vertical-align: top;\n",
       "    }\n",
       "\n",
       "    .dataframe thead th {\n",
       "        text-align: right;\n",
       "    }\n",
       "</style>\n",
       "<table border=\"1\" class=\"dataframe\">\n",
       "  <thead>\n",
       "    <tr style=\"text-align: right;\">\n",
       "      <th></th>\n",
       "      <th>data</th>\n",
       "      <th>group</th>\n",
       "    </tr>\n",
       "  </thead>\n",
       "  <tbody>\n",
       "    <tr>\n",
       "      <td>0</td>\n",
       "      <td>12.0</td>\n",
       "      <td>0.0</td>\n",
       "    </tr>\n",
       "    <tr>\n",
       "      <td>1</td>\n",
       "      <td>10.0</td>\n",
       "      <td>0.0</td>\n",
       "    </tr>\n",
       "    <tr>\n",
       "      <td>2</td>\n",
       "      <td>5.0</td>\n",
       "      <td>0.0</td>\n",
       "    </tr>\n",
       "    <tr>\n",
       "      <td>3</td>\n",
       "      <td>9.0</td>\n",
       "      <td>0.0</td>\n",
       "    </tr>\n",
       "    <tr>\n",
       "      <td>4</td>\n",
       "      <td>40.0</td>\n",
       "      <td>0.0</td>\n",
       "    </tr>\n",
       "    <tr>\n",
       "      <td>...</td>\n",
       "      <td>...</td>\n",
       "      <td>...</td>\n",
       "    </tr>\n",
       "    <tr>\n",
       "      <td>2095</td>\n",
       "      <td>30.0</td>\n",
       "      <td>0.1</td>\n",
       "    </tr>\n",
       "    <tr>\n",
       "      <td>2096</td>\n",
       "      <td>77.0</td>\n",
       "      <td>0.1</td>\n",
       "    </tr>\n",
       "    <tr>\n",
       "      <td>2098</td>\n",
       "      <td>25.0</td>\n",
       "      <td>0.1</td>\n",
       "    </tr>\n",
       "    <tr>\n",
       "      <td>2099</td>\n",
       "      <td>4.0</td>\n",
       "      <td>0.1</td>\n",
       "    </tr>\n",
       "    <tr>\n",
       "      <td>2135</td>\n",
       "      <td>2.0</td>\n",
       "      <td>0.1</td>\n",
       "    </tr>\n",
       "  </tbody>\n",
       "</table>\n",
       "<p>2114 rows × 2 columns</p>\n",
       "</div>"
      ],
      "text/plain": [
       "      data group\n",
       "0     12.0   0.0\n",
       "1     10.0   0.0\n",
       "2      5.0   0.0\n",
       "3      9.0   0.0\n",
       "4     40.0   0.0\n",
       "...    ...   ...\n",
       "2095  30.0   0.1\n",
       "2096  77.0   0.1\n",
       "2098  25.0   0.1\n",
       "2099   4.0   0.1\n",
       "2135   2.0   0.1\n",
       "\n",
       "[2114 rows x 2 columns]"
      ]
     },
     "execution_count": 30,
     "metadata": {},
     "output_type": "execute_result"
    }
   ],
   "source": [
    "disc_df = fn.prep_data_for_tukeys(discs)\n",
    "disc_df"
   ]
  },
  {
   "cell_type": "code",
   "execution_count": 31,
   "metadata": {
    "scrolled": true
   },
   "outputs": [
    {
     "name": "stdout",
     "output_type": "stream",
     "text": [
      "<class 'pandas.core.frame.DataFrame'>\n",
      "Int64Index: 2114 entries, 0 to 2135\n",
      "Data columns (total 2 columns):\n",
      "data     2114 non-null float64\n",
      "group    2114 non-null object\n",
      "dtypes: float64(1), object(1)\n",
      "memory usage: 49.5+ KB\n"
     ]
    }
   ],
   "source": [
    "disc_df.info()"
   ]
  },
  {
   "cell_type": "code",
   "execution_count": 32,
   "metadata": {},
   "outputs": [
    {
     "data": {
      "text/plain": [
       "['0.0', '0.15', '0.05', '0.2', '0.25', '0.1']"
      ]
     },
     "execution_count": 32,
     "metadata": {},
     "output_type": "execute_result"
    }
   ],
   "source": [
    "d =list(disc_df['group'].unique())\n",
    "d"
   ]
  },
  {
   "cell_type": "code",
   "execution_count": 33,
   "metadata": {
    "scrolled": true
   },
   "outputs": [
    {
     "data": {
      "text/html": [
       "<table class=\"simpletable\">\n",
       "<caption>Multiple Comparison of Means - Tukey HSD, FWER=0.05</caption>\n",
       "<tr>\n",
       "  <th>group1</th> <th>group2</th> <th>meandiff</th>  <th>p-adj</th>  <th>lower</th>   <th>upper</th>  <th>reject</th>\n",
       "</tr>\n",
       "<tr>\n",
       "    <td>0.0</td>   <td>0.05</td>   <td>6.0639</td>   <td>0.001</td> <td>2.4368</td>   <td>9.691</td>   <td>True</td> \n",
       "</tr>\n",
       "<tr>\n",
       "    <td>0.0</td>    <td>0.1</td>   <td>2.9654</td>  <td>0.2098</td> <td>-0.7723</td> <td>6.7031</td>   <td>False</td>\n",
       "</tr>\n",
       "<tr>\n",
       "    <td>0.0</td>   <td>0.15</td>   <td>6.9176</td>   <td>0.001</td> <td>3.0233</td>  <td>10.8119</td>  <td>True</td> \n",
       "</tr>\n",
       "<tr>\n",
       "    <td>0.0</td>    <td>0.2</td>   <td>5.6293</td>   <td>0.001</td> <td>1.7791</td>  <td>9.4796</td>   <td>True</td> \n",
       "</tr>\n",
       "<tr>\n",
       "    <td>0.0</td>   <td>0.25</td>   <td>6.1416</td>   <td>0.001</td> <td>2.2016</td>  <td>10.0817</td>  <td>True</td> \n",
       "</tr>\n",
       "<tr>\n",
       "   <td>0.05</td>    <td>0.1</td>   <td>-3.0985</td> <td>0.4621</td> <td>-7.9861</td>  <td>1.789</td>   <td>False</td>\n",
       "</tr>\n",
       "<tr>\n",
       "   <td>0.05</td>   <td>0.15</td>   <td>0.8537</td>    <td>0.9</td>  <td>-4.1547</td>  <td>5.862</td>   <td>False</td>\n",
       "</tr>\n",
       "<tr>\n",
       "   <td>0.05</td>    <td>0.2</td>   <td>-0.4346</td>   <td>0.9</td>  <td>-5.4088</td> <td>4.5396</td>   <td>False</td>\n",
       "</tr>\n",
       "<tr>\n",
       "   <td>0.05</td>   <td>0.25</td>   <td>0.0777</td>    <td>0.9</td>  <td>-4.9663</td> <td>5.1218</td>   <td>False</td>\n",
       "</tr>\n",
       "<tr>\n",
       "    <td>0.1</td>   <td>0.15</td>   <td>3.9522</td>  <td>0.2311</td> <td>-1.1368</td> <td>9.0412</td>   <td>False</td>\n",
       "</tr>\n",
       "<tr>\n",
       "    <td>0.1</td>    <td>0.2</td>   <td>2.6639</td>  <td>0.6409</td> <td>-2.3915</td> <td>7.7193</td>   <td>False</td>\n",
       "</tr>\n",
       "<tr>\n",
       "    <td>0.1</td>   <td>0.25</td>   <td>3.1762</td>  <td>0.4872</td> <td>-1.9479</td> <td>8.3004</td>   <td>False</td>\n",
       "</tr>\n",
       "<tr>\n",
       "   <td>0.15</td>    <td>0.2</td>   <td>-1.2883</td>   <td>0.9</td>  <td>-6.4605</td>  <td>3.884</td>   <td>False</td>\n",
       "</tr>\n",
       "<tr>\n",
       "   <td>0.15</td>   <td>0.25</td>   <td>-0.7759</td>   <td>0.9</td>  <td>-6.0154</td> <td>4.4635</td>   <td>False</td>\n",
       "</tr>\n",
       "<tr>\n",
       "    <td>0.2</td>   <td>0.25</td>   <td>0.5123</td>    <td>0.9</td>  <td>-4.6945</td> <td>5.7191</td>   <td>False</td>\n",
       "</tr>\n",
       "</table>"
      ],
      "text/plain": [
       "<class 'statsmodels.iolib.table.SimpleTable'>"
      ]
     },
     "execution_count": 33,
     "metadata": {},
     "output_type": "execute_result"
    }
   ],
   "source": [
    "import statsmodels.api as sms\n",
    "tukey = sms.stats.multicomp.pairwise_tukeyhsd(disc_df['data'],disc_df['group'])\n",
    "tukey.summary()\n",
    "\n"
   ]
  },
  {
   "cell_type": "markdown",
   "metadata": {},
   "source": [
    "There is a statistically significant effect on quantity purchased based on discount. The discounts below are statistically considered equal:\n",
    "\n"
   ]
  },
  {
   "cell_type": "code",
   "execution_count": 34,
   "metadata": {},
   "outputs": [
    {
     "data": {
      "text/html": [
       "<div>\n",
       "<style scoped>\n",
       "    .dataframe tbody tr th:only-of-type {\n",
       "        vertical-align: middle;\n",
       "    }\n",
       "\n",
       "    .dataframe tbody tr th {\n",
       "        vertical-align: top;\n",
       "    }\n",
       "\n",
       "    .dataframe thead th {\n",
       "        text-align: right;\n",
       "    }\n",
       "</style>\n",
       "<table border=\"1\" class=\"dataframe\">\n",
       "  <thead>\n",
       "    <tr style=\"text-align: right;\">\n",
       "      <th></th>\n",
       "      <th>group1</th>\n",
       "      <th>group2</th>\n",
       "      <th>meandiff</th>\n",
       "      <th>p-adj</th>\n",
       "      <th>lower</th>\n",
       "      <th>upper</th>\n",
       "      <th>reject</th>\n",
       "    </tr>\n",
       "  </thead>\n",
       "  <tbody>\n",
       "    <tr>\n",
       "      <td>0</td>\n",
       "      <td>0.0</td>\n",
       "      <td>0.05</td>\n",
       "      <td>6.0639</td>\n",
       "      <td>0.001</td>\n",
       "      <td>2.4368</td>\n",
       "      <td>9.6910</td>\n",
       "      <td>True</td>\n",
       "    </tr>\n",
       "    <tr>\n",
       "      <td>2</td>\n",
       "      <td>0.0</td>\n",
       "      <td>0.15</td>\n",
       "      <td>6.9176</td>\n",
       "      <td>0.001</td>\n",
       "      <td>3.0233</td>\n",
       "      <td>10.8119</td>\n",
       "      <td>True</td>\n",
       "    </tr>\n",
       "    <tr>\n",
       "      <td>3</td>\n",
       "      <td>0.0</td>\n",
       "      <td>0.2</td>\n",
       "      <td>5.6293</td>\n",
       "      <td>0.001</td>\n",
       "      <td>1.7791</td>\n",
       "      <td>9.4796</td>\n",
       "      <td>True</td>\n",
       "    </tr>\n",
       "    <tr>\n",
       "      <td>4</td>\n",
       "      <td>0.0</td>\n",
       "      <td>0.25</td>\n",
       "      <td>6.1416</td>\n",
       "      <td>0.001</td>\n",
       "      <td>2.2016</td>\n",
       "      <td>10.0817</td>\n",
       "      <td>True</td>\n",
       "    </tr>\n",
       "  </tbody>\n",
       "</table>\n",
       "</div>"
      ],
      "text/plain": [
       "  group1 group2  meandiff  p-adj   lower    upper  reject\n",
       "0    0.0   0.05    6.0639  0.001  2.4368   9.6910    True\n",
       "2    0.0   0.15    6.9176  0.001  3.0233  10.8119    True\n",
       "3    0.0    0.2    5.6293  0.001  1.7791   9.4796    True\n",
       "4    0.0   0.25    6.1416  0.001  2.2016  10.0817    True"
      ]
     },
     "execution_count": 34,
     "metadata": {},
     "output_type": "execute_result"
    }
   ],
   "source": [
    "disc_tukey = fn.tukey_df(tukey)\n",
    "disc_tukey_trues = disc_tukey.loc[disc_tukey['reject']==True]\n",
    "disc_tukey_trues"
   ]
  },
  {
   "cell_type": "markdown",
   "metadata": {},
   "source": [
    "\n"
   ]
  },
  {
   "cell_type": "code",
   "execution_count": 35,
   "metadata": {},
   "outputs": [],
   "source": [
    "disc_df['group']=disc_df['group'].astype(str)\n",
    "d=disc_df['group']"
   ]
  },
  {
   "cell_type": "code",
   "execution_count": 36,
   "metadata": {
    "scrolled": false
   },
   "outputs": [
    {
     "data": {
      "application/vnd.jupyter.widget-view+json": {
       "model_id": "592ae07b8a3042e5add84c284f91fddf",
       "version_major": 2,
       "version_minor": 0
      },
      "text/plain": [
       "interactive(children=(Dropdown(description='d', options=('0.0', '0.0', '0.0', '0.0', '0.0', '0.0', '0.0', '0.0…"
      ]
     },
     "metadata": {},
     "output_type": "display_data"
    }
   ],
   "source": [
    "\n",
    "@interact\n",
    "def plt_discounts(d=d):\n",
    "    sns.distplot(disc_df.groupby('group').get_group(d)['data'])\n",
    "    plt.axvline(qty_mu, color='purple')\n",
    "    "
   ]
  },
  {
   "cell_type": "code",
   "execution_count": 37,
   "metadata": {},
   "outputs": [
    {
     "name": "stdout",
     "output_type": "stream",
     "text": [
      "Revised average quantity sold across all orders 23.0\n",
      "Average quantity sold for orders where no discount was extended was: 21.0\n"
     ]
    }
   ],
   "source": [
    "stats = disc_df['data'].describe()\n",
    "dataqty = stats['mean']\n",
    "print(f'Revised average quantity sold across all orders {round(dataqty)}')\n",
    "zeros = disc_df.groupby('group').get_group('0.0')['data']\n",
    "nodiscav = zeros.mean()\n",
    "print(f'Average quantity sold for orders where no discount was extended was: {round(nodiscav)}')"
   ]
  },
  {
   "cell_type": "code",
   "execution_count": 38,
   "metadata": {
    "scrolled": true
   },
   "outputs": [
    {
     "name": "stdout",
     "output_type": "stream",
     "text": [
      "The average quantity sold for 0.0 discount is 21.0\n",
      "The average quantity sold for 0.15 discount is 27.0\n",
      "The average quantity sold for 0.05 discount is 27.0\n",
      "The average quantity sold for 0.2 discount is 26.0\n",
      "The average quantity sold for 0.25 discount is 27.0\n",
      "The average quantity sold for 0.1 discount is 24.0\n"
     ]
    }
   ],
   "source": [
    "for k,v in discs.items():\n",
    "    print(f'The average quantity sold for {k} discount is {round(v.mean())}')"
   ]
  },
  {
   "cell_type": "code",
   "execution_count": 39,
   "metadata": {},
   "outputs": [
    {
     "name": "stdout",
     "output_type": "stream",
     "text": [
      "The average qty purchased regardless of discount or none offered is 23.0\n"
     ]
    }
   ],
   "source": [
    "data_mu = disc_df['data'].mean()\n",
    "print(f'The average qty purchased regardless of discount or none offered is {round(data_mu)}')"
   ]
  },
  {
   "cell_type": "markdown",
   "metadata": {},
   "source": [
    "### Various EDA to understand distributions and remaining potential outliers"
   ]
  },
  {
   "cell_type": "markdown",
   "metadata": {},
   "source": [
    "The following hex-bin visualization illustrates the density of data in the 0% category. Visually, this appears that equal quantitites are purchased, but might be due to light markings relative to sample sizes.  Clearly not the best choice for EDA, and further exploration is required."
   ]
  },
  {
   "cell_type": "code",
   "execution_count": 41,
   "metadata": {
    "scrolled": true
   },
   "outputs": [
    {
     "data": {
      "text/plain": [
       "Text(336.9714285714286, 0.5, 'Qty')"
      ]
     },
     "execution_count": 41,
     "metadata": {},
     "output_type": "execute_result"
    },
    {
     "data": {
      "image/png": "[encoded data removed]",
      "text/plain": [
       "<Figure size 432x432 with 3 Axes>"
      ]
     },
     "metadata": {
      "needs_background": "light"
     },
     "output_type": "display_data"
    }
   ],
   "source": [
    "disc_df['group'] = disc_df['group'].astype(float)\n",
    "sns.jointplot(data=disc_df, x='group', y='data', kind='hex')\n",
    "plt.ylabel('Qty')"
   ]
  },
  {
   "cell_type": "markdown",
   "metadata": {},
   "source": [
    "Visual on distributions and potential remaining outliers:"
   ]
  },
  {
   "cell_type": "code",
   "execution_count": 42,
   "metadata": {},
   "outputs": [
    {
     "data": {
      "image/png": "[encoded data removed]",
      "text/plain": [
       "<Figure size 360x360 with 1 Axes>"
      ]
     },
     "metadata": {
      "needs_background": "light"
     },
     "output_type": "display_data"
    }
   ],
   "source": [
    "#boxen plot\n",
    "sns.catplot(data=disc_df, x='group', y='data', kind='boxen')\n",
    "ax.axhline(26.75, color='k')\n",
    "plt.gca()\n",
    "plt.show()"
   ]
  },
  {
   "cell_type": "markdown",
   "metadata": {},
   "source": [
    "This plot may not best suit non-technical audience with the additional information potentially could cause confusion.  However, the above boxen plot clearly illustrates distributions as well as remaining potential outliers in the .05, .15, .2 and .25 groups.  These outliers will not be removed at the present moment with the intention to preserve as much of the initial dataset as possible.  Sample sizes can be referenced under 'Assumption 3: Normality' where this is observed."
   ]
  },
  {
   "cell_type": "code",
   "execution_count": 44,
   "metadata": {},
   "outputs": [
    {
     "data": {
      "text/plain": [
       "Text(0, 0.5, 'Average Quantity Purchased')"
      ]
     },
     "execution_count": 44,
     "metadata": {},
     "output_type": "execute_result"
    },
    {
     "data": {
      "image/png": "[encoded data removed]",
      "text/plain": [
       "<Figure size 720x576 with 1 Axes>"
      ]
     },
     "metadata": {
      "needs_background": "light"
     },
     "output_type": "display_data"
    }
   ],
   "source": [
    "fig, ax = plt.subplots(figsize=(10,8))\n",
    "sns.barplot(data=disc_df, x='group', y='data', ci=68)\n",
    "#plt.axhline(data_mu, linestyle='--', color='darkgray')\n",
    "plt.axhline(26.75, linestyle='--', color='lightblue')\n",
    "plt.title('Average Quanity Purchased at Varying Discont Levels', fontsize=20)\n",
    "plt.xlabel('Discount Extended')\n",
    "plt.ylabel('Average Quantity Purchased')"
   ]
  },
  {
   "cell_type": "markdown",
   "metadata": {},
   "source": [
    "Effect Sizes: "
   ]
  },
  {
   "cell_type": "code",
   "execution_count": 45,
   "metadata": {
    "scrolled": true
   },
   "outputs": [
    {
     "name": "stdout",
     "output_type": "stream",
     "text": [
      "The effect size for 0.0 is 0.0\n",
      "The effect size for 0.15 is 0.453\n",
      "The effect size for 0.05 is 0.3949\n",
      "The effect size for 0.2 is 0.3751\n",
      "The effect size for 0.25 is 0.4109\n",
      "The effect size for 0.1 is 0.1982\n"
     ]
    }
   ],
   "source": [
    "for disc, disc_data in discs.items():\n",
    "    es = fn.Cohen_d(zeros, disc_data)\n",
    "    print(f'The effect size for {disc} is {round(np.abs(es),4)}')"
   ]
  },
  {
   "cell_type": "markdown",
   "metadata": {},
   "source": [
    "## Hypothesis 1 Findings and Recommendation:\n",
    "\n",
    "### Findings:\n",
    "**Rejecting the null hypothesis :**\n",
    "*   𝐻0 :There is no statistcally significant effect on the quantity of a product in an order in relation to a discount amount.\n",
    "\n",
    "\n",
    "**Alternative hypothesese:**\n",
    "\n",
    "    *  𝐻1 :Discounts have a statistically significant effect on the quantiy of a product in an order.\n",
    "    *  𝐻1𝑎 :Certain discount values have a greater effect than others.(see below for findings)\n",
    "\n",
    "A 10% discount had no statistical significance on the quantiy purchased.\n",
    "\n",
    "Discounts extended at 5%, 15%, 20%, and 25% statistically are equal in terms of their effect on quantity sold when compared to none offered, with a p-value of .001 meaning there is a .01 percent chance of classifying them as such due to chance. Each have varying effect sizes in compared to orders placed with no discount extended.\n",
    " \n",
    "Discount |AvQty | Effect Size | Effect\n",
    " -- | -- | -- | --|\n",
    "5 % | 27| .1982 | Small\n",
    "15 % | 27| .454 | Medium\n",
    "20 % |26| .3751 | Medium\n",
    "25 % |27 | .454 | Medium\n",
    "\n",
    "Additional notes:\n",
    "For discounts 1%,2%,3%,4%, and 6% that were included in the original dataset, the amount of data provided was relatively small to evaluate the impact on the whole. This data was removed from further testing\n",
    "\n",
    "With additional outliers removed for each of the discount groups, the revised average qty purchased was 23 overall.\n",
    "\n",
    "\n",
    " \n",
    "###  Recommendation:\n",
    "\n",
    "While larger discounts did deomonstrate significant effect on quantity purchased, smaller discounts held a statistically equal effect.  To recognize the effect of driving higher quantities purchased and realize larger profit margins, offer the smaller discount.\n"
   ]
  },
  {
   "cell_type": "markdown",
   "metadata": {},
   "source": [
    "# HYPOTHESIS 2:"
   ]
  },
  {
   "cell_type": "markdown",
   "metadata": {},
   "source": [
    "> ***Do some categories generate more money than others ??*** \n",
    "  **Which ones?**\n",
    " \n",
    " "
   ]
  },
  {
   "cell_type": "markdown",
   "metadata": {},
   "source": [
    "\n",
    "- $𝐻0$ : All categories generate equal revenues.\n",
    "- $𝐻1$ : Certain categories sell at statistically higher rates of revneu than others.\n",
    "- $𝐻1𝑎$ : "
   ]
  },
  {
   "cell_type": "markdown",
   "metadata": {},
   "source": [
    "### Importing and inspecting data from Product and OrderDetail tables:\n",
    "\n",
    "These tables includes product information data including:\n",
    "\n",
    "1) Categories \n",
    "\n",
    "2) Pricing and discount information to generate revenues\n"
   ]
  },
  {
   "cell_type": "code",
   "execution_count": 47,
   "metadata": {},
   "outputs": [
    {
     "data": {
      "text/html": [
       "<div>\n",
       "<style scoped>\n",
       "    .dataframe tbody tr th:only-of-type {\n",
       "        vertical-align: middle;\n",
       "    }\n",
       "\n",
       "    .dataframe tbody tr th {\n",
       "        vertical-align: top;\n",
       "    }\n",
       "\n",
       "    .dataframe thead th {\n",
       "        text-align: right;\n",
       "    }\n",
       "</style>\n",
       "<table border=\"1\" class=\"dataframe\">\n",
       "  <thead>\n",
       "    <tr style=\"text-align: right;\">\n",
       "      <th></th>\n",
       "      <th>ProductId</th>\n",
       "      <th>ProductName</th>\n",
       "      <th>UnitPrice</th>\n",
       "      <th>CategoryId</th>\n",
       "      <th>CategoryName</th>\n",
       "      <th>Discount</th>\n",
       "      <th>Quantity</th>\n",
       "    </tr>\n",
       "  </thead>\n",
       "  <tbody>\n",
       "    <tr>\n",
       "      <td>0</td>\n",
       "      <td>11</td>\n",
       "      <td>Queso Cabrales</td>\n",
       "      <td>14.0</td>\n",
       "      <td>4</td>\n",
       "      <td>Dairy Products</td>\n",
       "      <td>0.0</td>\n",
       "      <td>12</td>\n",
       "    </tr>\n",
       "    <tr>\n",
       "      <td>1</td>\n",
       "      <td>42</td>\n",
       "      <td>Singaporean Hokkien Fried Mee</td>\n",
       "      <td>9.8</td>\n",
       "      <td>5</td>\n",
       "      <td>Grains/Cereals</td>\n",
       "      <td>0.0</td>\n",
       "      <td>10</td>\n",
       "    </tr>\n",
       "    <tr>\n",
       "      <td>2</td>\n",
       "      <td>72</td>\n",
       "      <td>Mozzarella di Giovanni</td>\n",
       "      <td>34.8</td>\n",
       "      <td>4</td>\n",
       "      <td>Dairy Products</td>\n",
       "      <td>0.0</td>\n",
       "      <td>5</td>\n",
       "    </tr>\n",
       "    <tr>\n",
       "      <td>3</td>\n",
       "      <td>14</td>\n",
       "      <td>Tofu</td>\n",
       "      <td>18.6</td>\n",
       "      <td>7</td>\n",
       "      <td>Produce</td>\n",
       "      <td>0.0</td>\n",
       "      <td>9</td>\n",
       "    </tr>\n",
       "    <tr>\n",
       "      <td>4</td>\n",
       "      <td>51</td>\n",
       "      <td>Manjimup Dried Apples</td>\n",
       "      <td>42.4</td>\n",
       "      <td>7</td>\n",
       "      <td>Produce</td>\n",
       "      <td>0.0</td>\n",
       "      <td>40</td>\n",
       "    </tr>\n",
       "  </tbody>\n",
       "</table>\n",
       "</div>"
      ],
      "text/plain": [
       "   ProductId                    ProductName  UnitPrice  CategoryId  \\\n",
       "0         11                 Queso Cabrales       14.0           4   \n",
       "1         42  Singaporean Hokkien Fried Mee        9.8           5   \n",
       "2         72         Mozzarella di Giovanni       34.8           4   \n",
       "3         14                           Tofu       18.6           7   \n",
       "4         51          Manjimup Dried Apples       42.4           7   \n",
       "\n",
       "     CategoryName  Discount  Quantity  \n",
       "0  Dairy Products       0.0        12  \n",
       "1  Grains/Cereals       0.0        10  \n",
       "2  Dairy Products       0.0         5  \n",
       "3         Produce       0.0         9  \n",
       "4         Produce       0.0        40  "
      ]
     },
     "execution_count": 47,
     "metadata": {},
     "output_type": "execute_result"
    }
   ],
   "source": [
    "##clean sql notation\n",
    "cur.execute(\"\"\"SELECT \n",
    "                ProductId, \n",
    "                ProductName, \n",
    "                od.UnitPrice,\n",
    "                CategoryID, \n",
    "                CategoryName, \n",
    "                Discount, \n",
    "                Quantity\n",
    "                FROM Product AS p\n",
    "                JOIN OrderDetail as od\n",
    "                ON p.ID = Od.ProductId\n",
    "                JOIN Category as c \n",
    "                ON c.ID = p.CategoryID;\"\"\")\n",
    "catavs = pd.DataFrame(cur.fetchall(), columns=[x[0] for x in cur.description])\n",
    "catavs.head()"
   ]
  },
  {
   "cell_type": "code",
   "execution_count": 48,
   "metadata": {},
   "outputs": [],
   "source": [
    "#Revenue is calculated by subtracting discounts from the UnitPrice and multiplying by quantity ordered.\n",
    "catavs['Revenue'] = (catavs['UnitPrice'] * (1 - catavs['Discount']))*catavs['Quantity']"
   ]
  },
  {
   "cell_type": "code",
   "execution_count": 49,
   "metadata": {},
   "outputs": [
    {
     "name": "stdout",
     "output_type": "stream",
     "text": [
      "587.0 2\n"
     ]
    }
   ],
   "source": [
    "avcrev = catavs['Revenue'].mean()\n",
    "print (round(avcrev),2)\n",
    "cg = catavs['CategoryName'].unique()\n",
    "\n",
    "\n"
   ]
  },
  {
   "cell_type": "code",
   "execution_count": null,
   "metadata": {
    "scrolled": true
   },
   "outputs": [],
   "source": []
  },
  {
   "cell_type": "markdown",
   "metadata": {},
   "source": [
    "### Initial Visual Inspection and Observations:\n",
    "\n",
    "There are 8 different categories sold in this company that represent 77 products.\n",
    "\n",
    "The average revenue generated across all categories is `$587.00`\n",
    "\n",
    "Visually, it appears that there are three categories that significantly generate higher revenues than others, additional testing will demonstrate their siginficance and effect.\n"
   ]
  },
  {
   "cell_type": "code",
   "execution_count": 50,
   "metadata": {
    "scrolled": false
   },
   "outputs": [
    {
     "data": {
      "image/png": "[encoded data removed]",
      "text/plain": [
       "<Figure size 864x576 with 1 Axes>"
      ]
     },
     "metadata": {
      "needs_background": "light"
     },
     "output_type": "display_data"
    }
   ],
   "source": [
    "fig, ax = plt.subplots(figsize=(12,8))\n",
    "sns.barplot(data=catavs, x='CategoryName', y='Revenue', ci=68, ax=ax)\n",
    "plt.title('Initial Inspection: Average Revenue Generated Accross All Categories', fontsize=18)\n",
    "plt.axhline(avcrev,linestyle=\"--\", color='k', linewidth=.8 )\n",
    "plt.xlabel('Category')\n",
    "plt.ylabel('Revenue')\n",
    "plt.show()"
   ]
  },
  {
   "cell_type": "code",
   "execution_count": 84,
   "metadata": {},
   "outputs": [
    {
     "name": "stdout",
     "output_type": "stream",
     "text": [
      "There are 8 different categories sold in this company\n",
      "The average revenue generated accross all categories is 587.0\n"
     ]
    }
   ],
   "source": [
    "catcount = len(catavs['CategoryId'].unique())\n",
    "avrev = catavs['Revenue'].mean()\n",
    "print(f'There are {catcount} different categories sold in this company')\n",
    "print(f'The average revenue generated accross all categories is {round(avcrev,0)}')"
   ]
  },
  {
   "cell_type": "code",
   "execution_count": 89,
   "metadata": {
    "scrolled": false
   },
   "outputs": [],
   "source": [
    "cats = {}\n",
    "for cat in catavs['CategoryName'].unique():\n",
    "    cats[cat] = catavs.groupby('CategoryName').get_group(cat)['Revenue']"
   ]
  },
  {
   "cell_type": "markdown",
   "metadata": {},
   "source": [
    "In each of the different categories, the products align as such: "
   ]
  },
  {
   "cell_type": "code",
   "execution_count": 94,
   "metadata": {},
   "outputs": [],
   "source": [
    "catsprods = {}\n",
    "for cat in catavs['CategoryName'].unique():\n",
    "    catsprods[cat] = catavs.groupby('CategoryName').get_group(cat)['ProductId'].unique()"
   ]
  },
  {
   "cell_type": "code",
   "execution_count": 95,
   "metadata": {
    "scrolled": false
   },
   "outputs": [
    {
     "name": "stdout",
     "output_type": "stream",
     "text": [
      "There are 10 products in the Dairy Products Category\n",
      "There are 7 products in the Grains/Cereals Category\n",
      "There are 5 products in the Produce Category\n",
      "There are 12 products in the Seafood Category\n",
      "There are 12 products in the Condiments Category\n",
      "There are 13 products in the Confections Category\n",
      "There are 12 products in the Beverages Category\n",
      "There are 6 products in the Meat/Poultry Category\n"
     ]
    }
   ],
   "source": [
    "for k,v in catsprods.items():\n",
    "    print(f'There are {len(v)} products in the {k} Category')\n"
   ]
  },
  {
   "cell_type": "markdown",
   "metadata": {},
   "source": [
    "### Assumption 1: Outliers\n",
    "Outliers removed via z-score testing."
   ]
  },
  {
   "cell_type": "code",
   "execution_count": 96,
   "metadata": {
    "scrolled": true
   },
   "outputs": [
    {
     "name": "stdout",
     "output_type": "stream",
     "text": [
      "Found 5 outliers in Category # Dairy Products\n",
      "Found 6 outliers in Category # Grains/Cereals\n",
      "Found 1 outliers in Category # Produce\n",
      "Found 8 outliers in Category # Seafood\n",
      "Found 4 outliers in Category # Condiments\n",
      "Found 9 outliers in Category # Confections\n",
      "Found 12 outliers in Category # Beverages\n",
      "Found 4 outliers in Category # Meat/Poultry\n",
      "\n",
      " All of these outliers were removed\n"
     ]
    }
   ],
   "source": [
    "for cat, cat_data in cats.items():\n",
    "    idx_outs = fn.find_outliers_Z(cat_data)\n",
    "    print(f'Found {idx_outs.sum()} outliers in Category # {cat}')\n",
    "    cats[cat] = cat_data[~idx_outs]\n",
    "print('\\n All of these outliers were removed')"
   ]
  },
  {
   "cell_type": "code",
   "execution_count": 97,
   "metadata": {
    "scrolled": true
   },
   "outputs": [
    {
     "name": "stdout",
     "output_type": "stream",
     "text": [
      "There are 77 products\n"
     ]
    }
   ],
   "source": [
    "pids = catavs['ProductName'].unique()\n",
    "pids\n",
    "print(f'There are {len(pids)} products')"
   ]
  },
  {
   "cell_type": "code",
   "execution_count": null,
   "metadata": {},
   "outputs": [],
   "source": []
  },
  {
   "cell_type": "markdown",
   "metadata": {},
   "source": [
    "### Assumption 2: Equal Variance\n",
    "\n",
    "Testing cleaned dataset for equal variance.\n",
    "\n",
    "Since the groups do NOT have euqal variance, a Kruksal test will be conducted."
   ]
  },
  {
   "cell_type": "code",
   "execution_count": 98,
   "metadata": {},
   "outputs": [],
   "source": [
    "datac = []\n",
    "for k,v in cats.items():\n",
    "    datac.append(v)"
   ]
  },
  {
   "cell_type": "code",
   "execution_count": 99,
   "metadata": {},
   "outputs": [
    {
     "name": "stdout",
     "output_type": "stream",
     "text": [
      "Lavene test for equal variance results are 0.0\n",
      "The groups do NOT have equal variance\n"
     ]
    }
   ],
   "source": [
    "import scipy.stats as stats\n",
    "stat,p = stats.levene(*datac)\n",
    "print(f'Lavene test for equal variance results are {round(p,4)}')\n",
    "sig = 'do NOT' if p < .05 else 'DO'\n",
    "\n",
    "print(f'The groups {sig} have equal variance')"
   ]
  },
  {
   "cell_type": "markdown",
   "metadata": {},
   "source": [
    "### Assumption 3: Normality\n",
    "\n",
    "All groups are > 15 samples = Assumption for normality is met."
   ]
  },
  {
   "cell_type": "code",
   "execution_count": 100,
   "metadata": {
    "scrolled": true
   },
   "outputs": [
    {
     "name": "stdout",
     "output_type": "stream",
     "text": [
      "There are 361 samples in the data set for Employee #Dairy Products.\n",
      "There are 190 samples in the data set for Employee #Grains/Cereals.\n",
      "There are 135 samples in the data set for Employee #Produce.\n",
      "There are 322 samples in the data set for Employee #Seafood.\n",
      "There are 212 samples in the data set for Employee #Condiments.\n",
      "There are 325 samples in the data set for Employee #Confections.\n",
      "There are 392 samples in the data set for Employee #Beverages.\n",
      "There are 169 samples in the data set for Employee #Meat/Poultry.\n",
      "\n",
      "All samples are >15: Normality Assumption Criterion is met.\n"
     ]
    }
   ],
   "source": [
    "n = []\n",
    "\n",
    "for cat, cat_data in cats.items():\n",
    "    print(f'There are {len(cat_data)} samples in the data set for Employee #{cat}.')\n",
    "    n.append(len(cat_data)>15)\n",
    "if all(n):\n",
    "    print('\\nAll samples are >15: Normality Assumption Criterion is met.')\n",
    "\n",
    "\n"
   ]
  },
  {
   "cell_type": "markdown",
   "metadata": {},
   "source": [
    "### Kruksal Testing:\n",
    "\n",
    "Results, reject the null hypothesis."
   ]
  },
  {
   "cell_type": "code",
   "execution_count": 101,
   "metadata": {
    "scrolled": true
   },
   "outputs": [
    {
     "name": "stdout",
     "output_type": "stream",
     "text": [
      "Kruskal test p value: 0.0\n",
      "Reject the null hypothesis\n"
     ]
    }
   ],
   "source": [
    "stat, p = stats.kruskal(*datac)\n",
    "print(f\"Kruskal test p value: {round(p,4)}\")\n",
    "if p < .05 :\n",
    "    print(f'Reject the null hypothesis')\n",
    "else: \n",
    "    print(f'Null hypotheis remains true')"
   ]
  },
  {
   "cell_type": "markdown",
   "metadata": {},
   "source": [
    "### Post-Hoc Testing: "
   ]
  },
  {
   "cell_type": "code",
   "execution_count": 102,
   "metadata": {},
   "outputs": [
    {
     "data": {
      "text/html": [
       "<div>\n",
       "<style scoped>\n",
       "    .dataframe tbody tr th:only-of-type {\n",
       "        vertical-align: middle;\n",
       "    }\n",
       "\n",
       "    .dataframe tbody tr th {\n",
       "        vertical-align: top;\n",
       "    }\n",
       "\n",
       "    .dataframe thead th {\n",
       "        text-align: right;\n",
       "    }\n",
       "</style>\n",
       "<table border=\"1\" class=\"dataframe\">\n",
       "  <thead>\n",
       "    <tr style=\"text-align: right;\">\n",
       "      <th></th>\n",
       "      <th>data</th>\n",
       "      <th>group</th>\n",
       "    </tr>\n",
       "  </thead>\n",
       "  <tbody>\n",
       "    <tr>\n",
       "      <td>0</td>\n",
       "      <td>168.00</td>\n",
       "      <td>Dairy Products</td>\n",
       "    </tr>\n",
       "    <tr>\n",
       "      <td>2</td>\n",
       "      <td>174.00</td>\n",
       "      <td>Dairy Products</td>\n",
       "    </tr>\n",
       "    <tr>\n",
       "      <td>12</td>\n",
       "      <td>47.50</td>\n",
       "      <td>Dairy Products</td>\n",
       "    </tr>\n",
       "    <tr>\n",
       "      <td>13</td>\n",
       "      <td>1088.00</td>\n",
       "      <td>Dairy Products</td>\n",
       "    </tr>\n",
       "    <tr>\n",
       "      <td>14</td>\n",
       "      <td>200.00</td>\n",
       "      <td>Dairy Products</td>\n",
       "    </tr>\n",
       "    <tr>\n",
       "      <td>...</td>\n",
       "      <td>...</td>\n",
       "      <td>...</td>\n",
       "    </tr>\n",
       "    <tr>\n",
       "      <td>2096</td>\n",
       "      <td>2702.70</td>\n",
       "      <td>Meat/Poultry</td>\n",
       "    </tr>\n",
       "    <tr>\n",
       "      <td>2098</td>\n",
       "      <td>738.00</td>\n",
       "      <td>Meat/Poultry</td>\n",
       "    </tr>\n",
       "    <tr>\n",
       "      <td>2099</td>\n",
       "      <td>86.40</td>\n",
       "      <td>Meat/Poultry</td>\n",
       "    </tr>\n",
       "    <tr>\n",
       "      <td>2102</td>\n",
       "      <td>111.75</td>\n",
       "      <td>Meat/Poultry</td>\n",
       "    </tr>\n",
       "    <tr>\n",
       "      <td>2148</td>\n",
       "      <td>48.00</td>\n",
       "      <td>Meat/Poultry</td>\n",
       "    </tr>\n",
       "  </tbody>\n",
       "</table>\n",
       "<p>2106 rows × 2 columns</p>\n",
       "</div>"
      ],
      "text/plain": [
       "         data           group\n",
       "0      168.00  Dairy Products\n",
       "2      174.00  Dairy Products\n",
       "12      47.50  Dairy Products\n",
       "13    1088.00  Dairy Products\n",
       "14     200.00  Dairy Products\n",
       "...       ...             ...\n",
       "2096  2702.70    Meat/Poultry\n",
       "2098   738.00    Meat/Poultry\n",
       "2099    86.40    Meat/Poultry\n",
       "2102   111.75    Meat/Poultry\n",
       "2148    48.00    Meat/Poultry\n",
       "\n",
       "[2106 rows x 2 columns]"
      ]
     },
     "execution_count": 102,
     "metadata": {},
     "output_type": "execute_result"
    }
   ],
   "source": [
    "cat_df = fn.prep_data_for_tukeys(cats)\n",
    "cat_df"
   ]
  },
  {
   "cell_type": "markdown",
   "metadata": {},
   "source": [
    "#### Visual Inspection Post Data Cleaning:"
   ]
  },
  {
   "cell_type": "code",
   "execution_count": 103,
   "metadata": {
    "scrolled": false
   },
   "outputs": [
    {
     "data": {
      "application/vnd.jupyter.widget-view+json": {
       "model_id": "d43ffc7c521a4e51b880ca813eab4d6f",
       "version_major": 2,
       "version_minor": 0
      },
      "text/plain": [
       "interactive(children=(Dropdown(description='d', options=('Dairy Products', 'Grains/Cereals', 'Produce', 'Seafo…"
      ]
     },
     "metadata": {},
     "output_type": "display_data"
    }
   ],
   "source": [
    "\n",
    "@interact\n",
    "def plt_discounts(d=cg):\n",
    "    sns.distplot(cat_df.groupby('group').get_group(d)['data'])\n",
    "    plt.axvline(cat_df['data'].mean(), color='purple')\n",
    "    plt.title('Average Revenue Generated by Category')\n",
    "    plt.ylabel('Distribution')"
   ]
  },
  {
   "cell_type": "code",
   "execution_count": 104,
   "metadata": {
    "scrolled": true
   },
   "outputs": [
    {
     "data": {
      "text/html": [
       "<table class=\"simpletable\">\n",
       "<caption>Multiple Comparison of Means - Tukey HSD, FWER=0.05</caption>\n",
       "<tr>\n",
       "      <th>group1</th>         <th>group2</th>     <th>meandiff</th>   <th>p-adj</th>   <th>lower</th>     <th>upper</th>   <th>reject</th>\n",
       "</tr>\n",
       "<tr>\n",
       "     <td>Beverages</td>     <td>Condiments</td>    <td>55.7712</td>    <td>0.9</td>   <td>-78.858</td>  <td>190.4005</td>   <td>False</td>\n",
       "</tr>\n",
       "<tr>\n",
       "     <td>Beverages</td>     <td>Confections</td>   <td>27.0669</td>    <td>0.9</td>  <td>-91.4026</td>  <td>145.5364</td>   <td>False</td>\n",
       "</tr>\n",
       "<tr>\n",
       "     <td>Beverages</td>   <td>Dairy Products</td> <td>194.0913</td>   <td>0.001</td>  <td>78.8965</td>   <td>309.286</td>   <td>True</td> \n",
       "</tr>\n",
       "<tr>\n",
       "     <td>Beverages</td>   <td>Grains/Cereals</td>  <td>21.4034</td>    <td>0.9</td>  <td>-118.1928</td> <td>160.9996</td>   <td>False</td>\n",
       "</tr>\n",
       "<tr>\n",
       "     <td>Beverages</td>    <td>Meat/Poultry</td>   <td>411.042</td>   <td>0.001</td> <td>265.7215</td>  <td>556.3625</td>   <td>True</td> \n",
       "</tr>\n",
       "<tr>\n",
       "     <td>Beverages</td>       <td>Produce</td>    <td>296.1055</td>   <td>0.001</td>  <td>138.516</td>   <td>453.695</td>   <td>True</td> \n",
       "</tr>\n",
       "<tr>\n",
       "     <td>Beverages</td>       <td>Seafood</td>    <td>-46.1557</td>    <td>0.9</td>  <td>-164.9266</td>  <td>72.6151</td>   <td>False</td>\n",
       "</tr>\n",
       "<tr>\n",
       "    <td>Condiments</td>     <td>Confections</td>  <td>-28.7043</td>    <td>0.9</td>  <td>-168.1193</td> <td>110.7106</td>   <td>False</td>\n",
       "</tr>\n",
       "<tr>\n",
       "    <td>Condiments</td>   <td>Dairy Products</td>  <td>138.32</td>   <td>0.0449</td>  <td>1.6769</td>   <td>274.9631</td>   <td>True</td> \n",
       "</tr>\n",
       "<tr>\n",
       "    <td>Condiments</td>   <td>Grains/Cereals</td> <td>-34.3678</td>    <td>0.9</td>  <td>-192.129</td>  <td>123.3933</td>   <td>False</td>\n",
       "</tr>\n",
       "<tr>\n",
       "    <td>Condiments</td>    <td>Meat/Poultry</td>  <td>355.2707</td>   <td>0.001</td> <td>192.4225</td>   <td>518.119</td>   <td>True</td> \n",
       "</tr>\n",
       "<tr>\n",
       "    <td>Condiments</td>       <td>Produce</td>    <td>240.3342</td>   <td>0.001</td>  <td>66.4494</td>  <td>414.2191</td>   <td>True</td> \n",
       "</tr>\n",
       "<tr>\n",
       "    <td>Condiments</td>       <td>Seafood</td>    <td>-101.927</td>  <td>0.3439</td> <td>-241.5981</td>  <td>37.7441</td>   <td>False</td>\n",
       "</tr>\n",
       "<tr>\n",
       "    <td>Confections</td>  <td>Dairy Products</td> <td>167.0244</td>   <td>0.001</td>  <td>46.2712</td>  <td>287.7776</td>   <td>True</td> \n",
       "</tr>\n",
       "<tr>\n",
       "    <td>Confections</td>  <td>Grains/Cereals</td>  <td>-5.6635</td>    <td>0.9</td>  <td>-149.8807</td> <td>138.5537</td>   <td>False</td>\n",
       "</tr>\n",
       "<tr>\n",
       "    <td>Confections</td>   <td>Meat/Poultry</td>  <td>383.9751</td>   <td>0.001</td> <td>234.2101</td>  <td>533.7401</td>   <td>True</td> \n",
       "</tr>\n",
       "<tr>\n",
       "    <td>Confections</td>      <td>Produce</td>    <td>269.0386</td>   <td>0.001</td> <td>107.3415</td>  <td>430.7357</td>   <td>True</td> \n",
       "</tr>\n",
       "<tr>\n",
       "    <td>Confections</td>      <td>Seafood</td>    <td>-73.2226</td>  <td>0.6099</td> <td>-197.392</td>   <td>50.9467</td>   <td>False</td>\n",
       "</tr>\n",
       "<tr>\n",
       "  <td>Dairy Products</td> <td>Grains/Cereals</td> <td>-172.6879</td> <td>0.0054</td> <td>-314.2272</td> <td>-31.1485</td>   <td>True</td> \n",
       "</tr>\n",
       "<tr>\n",
       "  <td>Dairy Products</td>  <td>Meat/Poultry</td>  <td>216.9507</td>   <td>0.001</td>  <td>69.7626</td>  <td>364.1389</td>   <td>True</td> \n",
       "</tr>\n",
       "<tr>\n",
       "  <td>Dairy Products</td>     <td>Produce</td>    <td>102.0142</td>  <td>0.5181</td> <td>-57.2991</td>  <td>261.3276</td>   <td>False</td>\n",
       "</tr>\n",
       "<tr>\n",
       "  <td>Dairy Products</td>     <td>Seafood</td>    <td>-240.247</td>   <td>0.001</td> <td>-361.2959</td> <td>-119.1982</td>  <td>True</td> \n",
       "</tr>\n",
       "<tr>\n",
       "  <td>Grains/Cereals</td>  <td>Meat/Poultry</td>  <td>389.6386</td>   <td>0.001</td> <td>222.6607</td>  <td>556.6164</td>   <td>True</td> \n",
       "</tr>\n",
       "<tr>\n",
       "  <td>Grains/Cereals</td>     <td>Produce</td>    <td>274.7021</td>   <td>0.001</td>  <td>96.9438</td>  <td>452.4604</td>   <td>True</td> \n",
       "</tr>\n",
       "<tr>\n",
       "  <td>Grains/Cereals</td>     <td>Seafood</td>    <td>-67.5591</td>   <td>0.831</td> <td>-212.024</td>   <td>76.9057</td>   <td>False</td>\n",
       "</tr>\n",
       "<tr>\n",
       "   <td>Meat/Poultry</td>      <td>Produce</td>    <td>-114.9365</td> <td>0.5359</td> <td>-297.2246</td>  <td>67.3516</td>   <td>False</td>\n",
       "</tr>\n",
       "<tr>\n",
       "   <td>Meat/Poultry</td>      <td>Seafood</td>    <td>-457.1977</td>  <td>0.001</td> <td>-607.2012</td> <td>-307.1942</td>  <td>True</td> \n",
       "</tr>\n",
       "<tr>\n",
       "      <td>Produce</td>        <td>Seafood</td>    <td>-342.2612</td>  <td>0.001</td> <td>-504.1792</td> <td>-180.3432</td>  <td>True</td> \n",
       "</tr>\n",
       "</table>"
      ],
      "text/plain": [
       "<class 'statsmodels.iolib.table.SimpleTable'>"
      ]
     },
     "execution_count": 104,
     "metadata": {},
     "output_type": "execute_result"
    }
   ],
   "source": [
    "tukeyc = sms.stats.multicomp.pairwise_tukeyhsd(cat_df['data'],cat_df['group'])\n",
    "tukeyc.summary()"
   ]
  },
  {
   "cell_type": "code",
   "execution_count": 56,
   "metadata": {
    "scrolled": false
   },
   "outputs": [
    {
     "name": "stdout",
     "output_type": "stream",
     "text": [
      "The average revenue for Dairy Products is $593.86\n",
      "The average revenue for Grains/Cereals is $421.17\n",
      "The average revenue for Produce is $695.87\n",
      "The average revenue for Seafood is $353.61\n",
      "The average revenue for Condiments is $455.54\n",
      "The average revenue for Confections is $426.83\n",
      "The average revenue for Beverages is $399.77\n",
      "The average revenue for Meat/Poultry is $810.81\n"
     ]
    }
   ],
   "source": [
    "for cat, cat_data in cats.items():\n",
    "    print(f'The average revenue for {cat} is ${round(cat_data.mean(),2)}')"
   ]
  },
  {
   "cell_type": "markdown",
   "metadata": {},
   "source": [
    "### Hypothesis 2: A Clean Vizualization"
   ]
  },
  {
   "cell_type": "code",
   "execution_count": 57,
   "metadata": {},
   "outputs": [],
   "source": [
    "#help(cat_df.groupby('group').mean().sort_values('data').plot)"
   ]
  },
  {
   "cell_type": "code",
   "execution_count": 106,
   "metadata": {
    "scrolled": false
   },
   "outputs": [
    {
     "data": {
      "text/plain": [
       "['Meat/Poultry',\n",
       " 'Produce',\n",
       " 'Dairy Products',\n",
       " 'Condiments',\n",
       " 'Confections',\n",
       " 'Grains/Cereals',\n",
       " 'Beverages',\n",
       " 'Seafood']"
      ]
     },
     "execution_count": 106,
     "metadata": {},
     "output_type": "execute_result"
    }
   ],
   "source": [
    "index = list(cat_df.groupby('group').mean().sort_values('data', ascending=False).index)\n",
    "index"
   ]
  },
  {
   "cell_type": "code",
   "execution_count": 109,
   "metadata": {},
   "outputs": [
    {
     "data": {
      "text/plain": [
       "Text(0.5, 1.0, 'Average Revenue* Generated By Category')"
      ]
     },
     "execution_count": 109,
     "metadata": {},
     "output_type": "execute_result"
    },
    {
     "data": {
      "image/png": "[encoded data removed]",
      "text/plain": [
       "<Figure size 720x576 with 1 Axes>"
      ]
     },
     "metadata": {},
     "output_type": "display_data"
    }
   ],
   "source": [
    "import matplotlib.ticker as ticker\n",
    "plt.style.use('seaborn')\n",
    "fig, ax = plt.subplots(figsize=(10,8))\n",
    "sns.barplot(data=cat_df, x=round(cat_df['data']), y=cat_df['group'],order=index, ci=68, palette='Wistia_r')\n",
    "formatter = ticker.FormatStrFormatter('$%1.2f')\n",
    "ax.xaxis.set_major_formatter(formatter)\n",
    "plt.axvline(cat_df['data'].mean(), linestyle='--', color='gray')\n",
    "plt.ylabel('Category')\n",
    "plt.xlabel('Average Revenue Generated')\n",
    "plt.xticks(rotation=45)\n",
    "plt.title('Average Revenue* Generated By Category', fontsize=20)"
   ]
  },
  {
   "cell_type": "code",
   "execution_count": 114,
   "metadata": {},
   "outputs": [
    {
     "data": {
      "text/plain": [
       "<seaborn.axisgrid.FacetGrid at 0x183b6507470>"
      ]
     },
     "execution_count": 114,
     "metadata": {},
     "output_type": "execute_result"
    },
    {
     "data": {
      "image/png": "[encoded data removed]",
      "text/plain": [
       "<Figure size 720x576 with 1 Axes>"
      ]
     },
     "metadata": {},
     "output_type": "display_data"
    },
    {
     "data": {
      "image/png": "[encoded data removed]",
      "text/plain": [
       "<Figure size 360x360 with 1 Axes>"
      ]
     },
     "metadata": {},
     "output_type": "display_data"
    }
   ],
   "source": [
    "f, ax = plt.subplots(figsize=(10,8))\n",
    "#sns.despine(f, left=True, bottom=True)\n",
    "sns.catplot(data=cat_df, x='group', y='data', ax=ax)\n"
   ]
  },
  {
   "cell_type": "code",
   "execution_count": 119,
   "metadata": {},
   "outputs": [],
   "source": [
    "tukeycdf = fn.tukey_df(tukeyc)"
   ]
  },
  {
   "cell_type": "markdown",
   "metadata": {},
   "source": [
    "The following groups are statistically similar and accept the null hypothesis that all categories generate equal revenue:"
   ]
  },
  {
   "cell_type": "code",
   "execution_count": 120,
   "metadata": {
    "scrolled": true
   },
   "outputs": [
    {
     "data": {
      "text/html": [
       "<div>\n",
       "<style scoped>\n",
       "    .dataframe tbody tr th:only-of-type {\n",
       "        vertical-align: middle;\n",
       "    }\n",
       "\n",
       "    .dataframe tbody tr th {\n",
       "        vertical-align: top;\n",
       "    }\n",
       "\n",
       "    .dataframe thead th {\n",
       "        text-align: right;\n",
       "    }\n",
       "</style>\n",
       "<table border=\"1\" class=\"dataframe\">\n",
       "  <thead>\n",
       "    <tr style=\"text-align: right;\">\n",
       "      <th></th>\n",
       "      <th>group1</th>\n",
       "      <th>group2</th>\n",
       "      <th>meandiff</th>\n",
       "      <th>p-adj</th>\n",
       "      <th>lower</th>\n",
       "      <th>upper</th>\n",
       "      <th>reject</th>\n",
       "    </tr>\n",
       "  </thead>\n",
       "  <tbody>\n",
       "    <tr>\n",
       "      <td>0</td>\n",
       "      <td>Beverages</td>\n",
       "      <td>Condiments</td>\n",
       "      <td>55.7712</td>\n",
       "      <td>0.9000</td>\n",
       "      <td>-78.8580</td>\n",
       "      <td>190.4005</td>\n",
       "      <td>False</td>\n",
       "    </tr>\n",
       "    <tr>\n",
       "      <td>1</td>\n",
       "      <td>Beverages</td>\n",
       "      <td>Confections</td>\n",
       "      <td>27.0669</td>\n",
       "      <td>0.9000</td>\n",
       "      <td>-91.4026</td>\n",
       "      <td>145.5364</td>\n",
       "      <td>False</td>\n",
       "    </tr>\n",
       "    <tr>\n",
       "      <td>3</td>\n",
       "      <td>Beverages</td>\n",
       "      <td>Grains/Cereals</td>\n",
       "      <td>21.4034</td>\n",
       "      <td>0.9000</td>\n",
       "      <td>-118.1928</td>\n",
       "      <td>160.9996</td>\n",
       "      <td>False</td>\n",
       "    </tr>\n",
       "    <tr>\n",
       "      <td>6</td>\n",
       "      <td>Beverages</td>\n",
       "      <td>Seafood</td>\n",
       "      <td>-46.1557</td>\n",
       "      <td>0.9000</td>\n",
       "      <td>-164.9266</td>\n",
       "      <td>72.6151</td>\n",
       "      <td>False</td>\n",
       "    </tr>\n",
       "    <tr>\n",
       "      <td>7</td>\n",
       "      <td>Condiments</td>\n",
       "      <td>Confections</td>\n",
       "      <td>-28.7043</td>\n",
       "      <td>0.9000</td>\n",
       "      <td>-168.1193</td>\n",
       "      <td>110.7106</td>\n",
       "      <td>False</td>\n",
       "    </tr>\n",
       "    <tr>\n",
       "      <td>9</td>\n",
       "      <td>Condiments</td>\n",
       "      <td>Grains/Cereals</td>\n",
       "      <td>-34.3678</td>\n",
       "      <td>0.9000</td>\n",
       "      <td>-192.1290</td>\n",
       "      <td>123.3933</td>\n",
       "      <td>False</td>\n",
       "    </tr>\n",
       "    <tr>\n",
       "      <td>12</td>\n",
       "      <td>Condiments</td>\n",
       "      <td>Seafood</td>\n",
       "      <td>-101.9270</td>\n",
       "      <td>0.3439</td>\n",
       "      <td>-241.5981</td>\n",
       "      <td>37.7441</td>\n",
       "      <td>False</td>\n",
       "    </tr>\n",
       "    <tr>\n",
       "      <td>14</td>\n",
       "      <td>Confections</td>\n",
       "      <td>Grains/Cereals</td>\n",
       "      <td>-5.6635</td>\n",
       "      <td>0.9000</td>\n",
       "      <td>-149.8807</td>\n",
       "      <td>138.5537</td>\n",
       "      <td>False</td>\n",
       "    </tr>\n",
       "    <tr>\n",
       "      <td>17</td>\n",
       "      <td>Confections</td>\n",
       "      <td>Seafood</td>\n",
       "      <td>-73.2226</td>\n",
       "      <td>0.6099</td>\n",
       "      <td>-197.3920</td>\n",
       "      <td>50.9467</td>\n",
       "      <td>False</td>\n",
       "    </tr>\n",
       "    <tr>\n",
       "      <td>20</td>\n",
       "      <td>Dairy Products</td>\n",
       "      <td>Produce</td>\n",
       "      <td>102.0142</td>\n",
       "      <td>0.5181</td>\n",
       "      <td>-57.2991</td>\n",
       "      <td>261.3276</td>\n",
       "      <td>False</td>\n",
       "    </tr>\n",
       "    <tr>\n",
       "      <td>24</td>\n",
       "      <td>Grains/Cereals</td>\n",
       "      <td>Seafood</td>\n",
       "      <td>-67.5591</td>\n",
       "      <td>0.8310</td>\n",
       "      <td>-212.0240</td>\n",
       "      <td>76.9057</td>\n",
       "      <td>False</td>\n",
       "    </tr>\n",
       "    <tr>\n",
       "      <td>25</td>\n",
       "      <td>Meat/Poultry</td>\n",
       "      <td>Produce</td>\n",
       "      <td>-114.9365</td>\n",
       "      <td>0.5359</td>\n",
       "      <td>-297.2246</td>\n",
       "      <td>67.3516</td>\n",
       "      <td>False</td>\n",
       "    </tr>\n",
       "  </tbody>\n",
       "</table>\n",
       "</div>"
      ],
      "text/plain": [
       "            group1          group2  meandiff   p-adj     lower     upper  \\\n",
       "0        Beverages      Condiments   55.7712  0.9000  -78.8580  190.4005   \n",
       "1        Beverages     Confections   27.0669  0.9000  -91.4026  145.5364   \n",
       "3        Beverages  Grains/Cereals   21.4034  0.9000 -118.1928  160.9996   \n",
       "6        Beverages         Seafood  -46.1557  0.9000 -164.9266   72.6151   \n",
       "7       Condiments     Confections  -28.7043  0.9000 -168.1193  110.7106   \n",
       "9       Condiments  Grains/Cereals  -34.3678  0.9000 -192.1290  123.3933   \n",
       "12      Condiments         Seafood -101.9270  0.3439 -241.5981   37.7441   \n",
       "14     Confections  Grains/Cereals   -5.6635  0.9000 -149.8807  138.5537   \n",
       "17     Confections         Seafood  -73.2226  0.6099 -197.3920   50.9467   \n",
       "20  Dairy Products         Produce  102.0142  0.5181  -57.2991  261.3276   \n",
       "24  Grains/Cereals         Seafood  -67.5591  0.8310 -212.0240   76.9057   \n",
       "25    Meat/Poultry         Produce -114.9365  0.5359 -297.2246   67.3516   \n",
       "\n",
       "    reject  \n",
       "0    False  \n",
       "1    False  \n",
       "3    False  \n",
       "6    False  \n",
       "7    False  \n",
       "9    False  \n",
       "12   False  \n",
       "14   False  \n",
       "17   False  \n",
       "20   False  \n",
       "24   False  \n",
       "25   False  "
      ]
     },
     "execution_count": 120,
     "metadata": {},
     "output_type": "execute_result"
    }
   ],
   "source": [
    "tukeycfalse  = tukeycdf.loc[tukeycdf['reject']==False]\n",
    "tukeycfalse"
   ]
  },
  {
   "cell_type": "markdown",
   "metadata": {},
   "source": [
    "The folowing groups can reject the null hypothesis:"
   ]
  },
  {
   "cell_type": "code",
   "execution_count": 130,
   "metadata": {
    "scrolled": false
   },
   "outputs": [
    {
     "data": {
      "text/html": [
       "<div>\n",
       "<style scoped>\n",
       "    .dataframe tbody tr th:only-of-type {\n",
       "        vertical-align: middle;\n",
       "    }\n",
       "\n",
       "    .dataframe tbody tr th {\n",
       "        vertical-align: top;\n",
       "    }\n",
       "\n",
       "    .dataframe thead th {\n",
       "        text-align: right;\n",
       "    }\n",
       "</style>\n",
       "<table border=\"1\" class=\"dataframe\">\n",
       "  <thead>\n",
       "    <tr style=\"text-align: right;\">\n",
       "      <th></th>\n",
       "      <th>group1</th>\n",
       "      <th>group2</th>\n",
       "      <th>meandiff</th>\n",
       "      <th>p-adj</th>\n",
       "      <th>lower</th>\n",
       "      <th>upper</th>\n",
       "      <th>reject</th>\n",
       "    </tr>\n",
       "  </thead>\n",
       "  <tbody>\n",
       "    <tr>\n",
       "      <td>2</td>\n",
       "      <td>Beverages</td>\n",
       "      <td>Dairy Products</td>\n",
       "      <td>194.0913</td>\n",
       "      <td>0.0010</td>\n",
       "      <td>78.8965</td>\n",
       "      <td>309.2860</td>\n",
       "      <td>True</td>\n",
       "    </tr>\n",
       "    <tr>\n",
       "      <td>4</td>\n",
       "      <td>Beverages</td>\n",
       "      <td>Meat/Poultry</td>\n",
       "      <td>411.0420</td>\n",
       "      <td>0.0010</td>\n",
       "      <td>265.7215</td>\n",
       "      <td>556.3625</td>\n",
       "      <td>True</td>\n",
       "    </tr>\n",
       "    <tr>\n",
       "      <td>5</td>\n",
       "      <td>Beverages</td>\n",
       "      <td>Produce</td>\n",
       "      <td>296.1055</td>\n",
       "      <td>0.0010</td>\n",
       "      <td>138.5160</td>\n",
       "      <td>453.6950</td>\n",
       "      <td>True</td>\n",
       "    </tr>\n",
       "    <tr>\n",
       "      <td>8</td>\n",
       "      <td>Condiments</td>\n",
       "      <td>Dairy Products</td>\n",
       "      <td>138.3200</td>\n",
       "      <td>0.0449</td>\n",
       "      <td>1.6769</td>\n",
       "      <td>274.9631</td>\n",
       "      <td>True</td>\n",
       "    </tr>\n",
       "    <tr>\n",
       "      <td>10</td>\n",
       "      <td>Condiments</td>\n",
       "      <td>Meat/Poultry</td>\n",
       "      <td>355.2707</td>\n",
       "      <td>0.0010</td>\n",
       "      <td>192.4225</td>\n",
       "      <td>518.1190</td>\n",
       "      <td>True</td>\n",
       "    </tr>\n",
       "    <tr>\n",
       "      <td>11</td>\n",
       "      <td>Condiments</td>\n",
       "      <td>Produce</td>\n",
       "      <td>240.3342</td>\n",
       "      <td>0.0010</td>\n",
       "      <td>66.4494</td>\n",
       "      <td>414.2191</td>\n",
       "      <td>True</td>\n",
       "    </tr>\n",
       "    <tr>\n",
       "      <td>13</td>\n",
       "      <td>Confections</td>\n",
       "      <td>Dairy Products</td>\n",
       "      <td>167.0244</td>\n",
       "      <td>0.0010</td>\n",
       "      <td>46.2712</td>\n",
       "      <td>287.7776</td>\n",
       "      <td>True</td>\n",
       "    </tr>\n",
       "    <tr>\n",
       "      <td>15</td>\n",
       "      <td>Confections</td>\n",
       "      <td>Meat/Poultry</td>\n",
       "      <td>383.9751</td>\n",
       "      <td>0.0010</td>\n",
       "      <td>234.2101</td>\n",
       "      <td>533.7401</td>\n",
       "      <td>True</td>\n",
       "    </tr>\n",
       "    <tr>\n",
       "      <td>16</td>\n",
       "      <td>Confections</td>\n",
       "      <td>Produce</td>\n",
       "      <td>269.0386</td>\n",
       "      <td>0.0010</td>\n",
       "      <td>107.3415</td>\n",
       "      <td>430.7357</td>\n",
       "      <td>True</td>\n",
       "    </tr>\n",
       "    <tr>\n",
       "      <td>18</td>\n",
       "      <td>Dairy Products</td>\n",
       "      <td>Grains/Cereals</td>\n",
       "      <td>-172.6879</td>\n",
       "      <td>0.0054</td>\n",
       "      <td>-314.2272</td>\n",
       "      <td>-31.1485</td>\n",
       "      <td>True</td>\n",
       "    </tr>\n",
       "    <tr>\n",
       "      <td>19</td>\n",
       "      <td>Dairy Products</td>\n",
       "      <td>Meat/Poultry</td>\n",
       "      <td>216.9507</td>\n",
       "      <td>0.0010</td>\n",
       "      <td>69.7626</td>\n",
       "      <td>364.1389</td>\n",
       "      <td>True</td>\n",
       "    </tr>\n",
       "    <tr>\n",
       "      <td>21</td>\n",
       "      <td>Dairy Products</td>\n",
       "      <td>Seafood</td>\n",
       "      <td>-240.2470</td>\n",
       "      <td>0.0010</td>\n",
       "      <td>-361.2959</td>\n",
       "      <td>-119.1982</td>\n",
       "      <td>True</td>\n",
       "    </tr>\n",
       "    <tr>\n",
       "      <td>22</td>\n",
       "      <td>Grains/Cereals</td>\n",
       "      <td>Meat/Poultry</td>\n",
       "      <td>389.6386</td>\n",
       "      <td>0.0010</td>\n",
       "      <td>222.6607</td>\n",
       "      <td>556.6164</td>\n",
       "      <td>True</td>\n",
       "    </tr>\n",
       "    <tr>\n",
       "      <td>23</td>\n",
       "      <td>Grains/Cereals</td>\n",
       "      <td>Produce</td>\n",
       "      <td>274.7021</td>\n",
       "      <td>0.0010</td>\n",
       "      <td>96.9438</td>\n",
       "      <td>452.4604</td>\n",
       "      <td>True</td>\n",
       "    </tr>\n",
       "    <tr>\n",
       "      <td>26</td>\n",
       "      <td>Meat/Poultry</td>\n",
       "      <td>Seafood</td>\n",
       "      <td>-457.1977</td>\n",
       "      <td>0.0010</td>\n",
       "      <td>-607.2012</td>\n",
       "      <td>-307.1942</td>\n",
       "      <td>True</td>\n",
       "    </tr>\n",
       "    <tr>\n",
       "      <td>27</td>\n",
       "      <td>Produce</td>\n",
       "      <td>Seafood</td>\n",
       "      <td>-342.2612</td>\n",
       "      <td>0.0010</td>\n",
       "      <td>-504.1792</td>\n",
       "      <td>-180.3432</td>\n",
       "      <td>True</td>\n",
       "    </tr>\n",
       "  </tbody>\n",
       "</table>\n",
       "</div>"
      ],
      "text/plain": [
       "            group1          group2  meandiff   p-adj     lower     upper  \\\n",
       "2        Beverages  Dairy Products  194.0913  0.0010   78.8965  309.2860   \n",
       "4        Beverages    Meat/Poultry  411.0420  0.0010  265.7215  556.3625   \n",
       "5        Beverages         Produce  296.1055  0.0010  138.5160  453.6950   \n",
       "8       Condiments  Dairy Products  138.3200  0.0449    1.6769  274.9631   \n",
       "10      Condiments    Meat/Poultry  355.2707  0.0010  192.4225  518.1190   \n",
       "11      Condiments         Produce  240.3342  0.0010   66.4494  414.2191   \n",
       "13     Confections  Dairy Products  167.0244  0.0010   46.2712  287.7776   \n",
       "15     Confections    Meat/Poultry  383.9751  0.0010  234.2101  533.7401   \n",
       "16     Confections         Produce  269.0386  0.0010  107.3415  430.7357   \n",
       "18  Dairy Products  Grains/Cereals -172.6879  0.0054 -314.2272  -31.1485   \n",
       "19  Dairy Products    Meat/Poultry  216.9507  0.0010   69.7626  364.1389   \n",
       "21  Dairy Products         Seafood -240.2470  0.0010 -361.2959 -119.1982   \n",
       "22  Grains/Cereals    Meat/Poultry  389.6386  0.0010  222.6607  556.6164   \n",
       "23  Grains/Cereals         Produce  274.7021  0.0010   96.9438  452.4604   \n",
       "26    Meat/Poultry         Seafood -457.1977  0.0010 -607.2012 -307.1942   \n",
       "27         Produce         Seafood -342.2612  0.0010 -504.1792 -180.3432   \n",
       "\n",
       "    reject  \n",
       "2     True  \n",
       "4     True  \n",
       "5     True  \n",
       "8     True  \n",
       "10    True  \n",
       "11    True  \n",
       "13    True  \n",
       "15    True  \n",
       "16    True  \n",
       "18    True  \n",
       "19    True  \n",
       "21    True  \n",
       "22    True  \n",
       "23    True  \n",
       "26    True  \n",
       "27    True  "
      ]
     },
     "execution_count": 130,
     "metadata": {},
     "output_type": "execute_result"
    }
   ],
   "source": [
    "tukeyctrues  = tukeycdf.loc[tukeycdf['reject']==True]\n",
    "tukeyctrues"
   ]
  },
  {
   "cell_type": "code",
   "execution_count": 125,
   "metadata": {},
   "outputs": [],
   "source": [
    "def mult_Cohn_d(tukey_result_df, df_dict):\n",
    "    '''Using a dataframe from Tukey Test Results and a \n",
    "    corresponding dictionary, this function loops through \n",
    "    each variable and returns the adjusted p-value and Cohn_d test'''\n",
    "    import pandas as pd\n",
    "    \n",
    "    res = [['g1', 'g2','padj', 'd']]\n",
    "    for i, row in tukey_result_df.iterrows():\n",
    "        g1 = row['group1']\n",
    "        g2 = row['group2']\n",
    "        padj = row['p-adj']\n",
    "        d = fn.Cohen_d(df_dict[g1], df_dict[g2])\n",
    "\n",
    "        res.append([g1, g2,padj, d])\n",
    "\n",
    "    mdc = pd.DataFrame(res[1:], columns=res[0])\n",
    "    return mdc"
   ]
  },
  {
   "cell_type": "markdown",
   "metadata": {},
   "source": [
    "The table below illustrates those categories that can reject the null hypothesis that states all categories generate equal revenue.  The padj is the probability this is due to chance and the d column shows the effect size. "
   ]
  },
  {
   "cell_type": "code",
   "execution_count": 129,
   "metadata": {
    "scrolled": true
   },
   "outputs": [
    {
     "data": {
      "text/html": [
       "<div>\n",
       "<style scoped>\n",
       "    .dataframe tbody tr th:only-of-type {\n",
       "        vertical-align: middle;\n",
       "    }\n",
       "\n",
       "    .dataframe tbody tr th {\n",
       "        vertical-align: top;\n",
       "    }\n",
       "\n",
       "    .dataframe thead th {\n",
       "        text-align: right;\n",
       "    }\n",
       "</style>\n",
       "<table border=\"1\" class=\"dataframe\">\n",
       "  <thead>\n",
       "    <tr style=\"text-align: right;\">\n",
       "      <th></th>\n",
       "      <th>g1</th>\n",
       "      <th>g2</th>\n",
       "      <th>padj</th>\n",
       "      <th>d</th>\n",
       "    </tr>\n",
       "  </thead>\n",
       "  <tbody>\n",
       "    <tr>\n",
       "      <td>0</td>\n",
       "      <td>Beverages</td>\n",
       "      <td>Dairy Products</td>\n",
       "      <td>0.0010</td>\n",
       "      <td>-0.351635</td>\n",
       "    </tr>\n",
       "    <tr>\n",
       "      <td>1</td>\n",
       "      <td>Beverages</td>\n",
       "      <td>Meat/Poultry</td>\n",
       "      <td>0.0010</td>\n",
       "      <td>-0.596175</td>\n",
       "    </tr>\n",
       "    <tr>\n",
       "      <td>2</td>\n",
       "      <td>Beverages</td>\n",
       "      <td>Produce</td>\n",
       "      <td>0.0010</td>\n",
       "      <td>-0.520603</td>\n",
       "    </tr>\n",
       "    <tr>\n",
       "      <td>3</td>\n",
       "      <td>Condiments</td>\n",
       "      <td>Dairy Products</td>\n",
       "      <td>0.0449</td>\n",
       "      <td>-0.277491</td>\n",
       "    </tr>\n",
       "    <tr>\n",
       "      <td>4</td>\n",
       "      <td>Condiments</td>\n",
       "      <td>Meat/Poultry</td>\n",
       "      <td>0.0010</td>\n",
       "      <td>-0.517399</td>\n",
       "    </tr>\n",
       "    <tr>\n",
       "      <td>5</td>\n",
       "      <td>Condiments</td>\n",
       "      <td>Produce</td>\n",
       "      <td>0.0010</td>\n",
       "      <td>-0.490099</td>\n",
       "    </tr>\n",
       "    <tr>\n",
       "      <td>6</td>\n",
       "      <td>Confections</td>\n",
       "      <td>Dairy Products</td>\n",
       "      <td>0.0010</td>\n",
       "      <td>-0.340630</td>\n",
       "    </tr>\n",
       "    <tr>\n",
       "      <td>7</td>\n",
       "      <td>Confections</td>\n",
       "      <td>Meat/Poultry</td>\n",
       "      <td>0.0010</td>\n",
       "      <td>-0.600173</td>\n",
       "    </tr>\n",
       "    <tr>\n",
       "      <td>8</td>\n",
       "      <td>Confections</td>\n",
       "      <td>Produce</td>\n",
       "      <td>0.0010</td>\n",
       "      <td>-0.560435</td>\n",
       "    </tr>\n",
       "    <tr>\n",
       "      <td>9</td>\n",
       "      <td>Dairy Products</td>\n",
       "      <td>Grains/Cereals</td>\n",
       "      <td>0.0054</td>\n",
       "      <td>0.349940</td>\n",
       "    </tr>\n",
       "    <tr>\n",
       "      <td>10</td>\n",
       "      <td>Dairy Products</td>\n",
       "      <td>Meat/Poultry</td>\n",
       "      <td>0.0010</td>\n",
       "      <td>-0.310545</td>\n",
       "    </tr>\n",
       "    <tr>\n",
       "      <td>11</td>\n",
       "      <td>Dairy Products</td>\n",
       "      <td>Seafood</td>\n",
       "      <td>0.0010</td>\n",
       "      <td>0.525083</td>\n",
       "    </tr>\n",
       "    <tr>\n",
       "      <td>12</td>\n",
       "      <td>Grains/Cereals</td>\n",
       "      <td>Meat/Poultry</td>\n",
       "      <td>0.0010</td>\n",
       "      <td>-0.563832</td>\n",
       "    </tr>\n",
       "    <tr>\n",
       "      <td>13</td>\n",
       "      <td>Grains/Cereals</td>\n",
       "      <td>Produce</td>\n",
       "      <td>0.0010</td>\n",
       "      <td>-0.570886</td>\n",
       "    </tr>\n",
       "    <tr>\n",
       "      <td>14</td>\n",
       "      <td>Meat/Poultry</td>\n",
       "      <td>Seafood</td>\n",
       "      <td>0.0010</td>\n",
       "      <td>0.754594</td>\n",
       "    </tr>\n",
       "    <tr>\n",
       "      <td>15</td>\n",
       "      <td>Produce</td>\n",
       "      <td>Seafood</td>\n",
       "      <td>0.0010</td>\n",
       "      <td>0.798069</td>\n",
       "    </tr>\n",
       "  </tbody>\n",
       "</table>\n",
       "</div>"
      ],
      "text/plain": [
       "                g1              g2    padj         d\n",
       "0        Beverages  Dairy Products  0.0010 -0.351635\n",
       "1        Beverages    Meat/Poultry  0.0010 -0.596175\n",
       "2        Beverages         Produce  0.0010 -0.520603\n",
       "3       Condiments  Dairy Products  0.0449 -0.277491\n",
       "4       Condiments    Meat/Poultry  0.0010 -0.517399\n",
       "5       Condiments         Produce  0.0010 -0.490099\n",
       "6      Confections  Dairy Products  0.0010 -0.340630\n",
       "7      Confections    Meat/Poultry  0.0010 -0.600173\n",
       "8      Confections         Produce  0.0010 -0.560435\n",
       "9   Dairy Products  Grains/Cereals  0.0054  0.349940\n",
       "10  Dairy Products    Meat/Poultry  0.0010 -0.310545\n",
       "11  Dairy Products         Seafood  0.0010  0.525083\n",
       "12  Grains/Cereals    Meat/Poultry  0.0010 -0.563832\n",
       "13  Grains/Cereals         Produce  0.0010 -0.570886\n",
       "14    Meat/Poultry         Seafood  0.0010  0.754594\n",
       "15         Produce         Seafood  0.0010  0.798069"
      ]
     },
     "execution_count": 129,
     "metadata": {},
     "output_type": "execute_result"
    }
   ],
   "source": [
    "mult_Cohn_d(tukeyctrues, cats)"
   ]
  },
  {
   "cell_type": "markdown",
   "metadata": {},
   "source": [
    "### Hypothesis 2 Findings and Recommendation:\n",
    "\n",
    "#### Findings:\n",
    "\n",
    "***Reject the null hypothesis:***\n",
    "* 𝐻0  : All categories generate equal revenues.\n",
    "\n",
    "***Alternative hypotheis***\n",
    "* 𝐻1  : Certain categories sell at statistically higher rates of revnue than others.\n",
    "\n",
    "Top three revenue-generating categories: Meat/Poultry, Produce, and Dairy Products.\n",
    "\n",
    "Statistically, Meat/Poultry & Produce were statistically equivalent and ranked as top sellers, Dairy & Produce were statiscally equal. \n",
    "(Definition of statistically equal: they returned false value from Tukey test, indicating they had a simliar mean and therefore statiticaly equal with a .05 chance of falsely being classified as such)\n",
    "\n",
    "\n",
    " \n",
    " \n",
    "Category | Average Revenue\n",
    "-- | -- |\n",
    "Meat/Poultry | `$810.81`\n",
    "Produce | `$695.87`\n",
    "Dairy Products | `$593.86`\n",
    "Condiments | `$455.54`\n",
    "Confections | `$426.83`\n",
    "Grains/Cereals | `$421.17``\n",
    "Beverages | `$399.77`\n",
    "Seafood | `$353.61`\n",
    "\n",
    "The table(s) above outlines how the various categories compare to each other.  If the adjusted p-value in column padj is >.05, they are statistically equal.  Conversely of the adjusted p-value 'adjp' is <.05 the two samples are statistically not-equal.  This is further examined by the effect size illustrated in column d.   d=0.2 be considered a 'small' effect size, 0.5 represents a 'medium' effect size and 0.8 a 'large' effect size. \n",
    "\n",
    "Notes:\n",
    "Revenue is calculated by subtracting any extended discounts from the salesprice and multiplying that by quantity sold.\n",
    "\n",
    "\n",
    "#### Recommendation: \n",
    "\n",
    "If there are additional products that align with the higher revenue generating categories, that category could be broadened to maximize revenue generating potential.  \n",
    "\n",
    "Example: Meat/Poultry currently has 6 products, this could be expanded.  Conversely, the seafood category carries 12 products which could be narrowed.  Additional analysis could demonstrate which seafood are the best sellers which would be preserved.\n",
    "\n",
    "Knowing what revenue each category generates could potentially influence the ability to appropriately categorize discounts.  However, not knowing profit margins - we'd need to take this into consideration.\n",
    "\n",
    "\n",
    "\n",
    "\n"
   ]
  },
  {
   "cell_type": "markdown",
   "metadata": {},
   "source": [
    "# HYPOTHESIS 3\n",
    "\n",
    "> ***Do certain sales representatives sell more than others?  Who are the top sellers?***\n",
    "\n",
    "$H0$: All sales representatives generate equal revenue.\n",
    "\n",
    "$H1$: Some sales representatives generate more than others in revenue."
   ]
  },
  {
   "cell_type": "markdown",
   "metadata": {},
   "source": [
    "### Importing and inspecting data from Product, OrderDetail, Order and Employee Tables\n",
    "These table includes information on:\n",
    "\n",
    "    1) Product information including SalesPrice, Discount and Quantity Sold\n",
    "    2) Sales Representative Information"
   ]
  },
  {
   "cell_type": "code",
   "execution_count": 131,
   "metadata": {
    "scrolled": true
   },
   "outputs": [
    {
     "data": {
      "text/html": [
       "<div>\n",
       "<style scoped>\n",
       "    .dataframe tbody tr th:only-of-type {\n",
       "        vertical-align: middle;\n",
       "    }\n",
       "\n",
       "    .dataframe tbody tr th {\n",
       "        vertical-align: top;\n",
       "    }\n",
       "\n",
       "    .dataframe thead th {\n",
       "        text-align: right;\n",
       "    }\n",
       "</style>\n",
       "<table border=\"1\" class=\"dataframe\">\n",
       "  <thead>\n",
       "    <tr style=\"text-align: right;\">\n",
       "      <th></th>\n",
       "      <th>ProductId</th>\n",
       "      <th>ProductName</th>\n",
       "      <th>Discontinued</th>\n",
       "      <th>OrderId</th>\n",
       "      <th>ProductId</th>\n",
       "      <th>SalesPrice</th>\n",
       "      <th>Quantity</th>\n",
       "      <th>Discount</th>\n",
       "      <th>EmployeeId</th>\n",
       "      <th>LastName</th>\n",
       "      <th>FirstName</th>\n",
       "      <th>Region</th>\n",
       "      <th>ShippedDate</th>\n",
       "    </tr>\n",
       "  </thead>\n",
       "  <tbody>\n",
       "    <tr>\n",
       "      <td>0</td>\n",
       "      <td>11</td>\n",
       "      <td>Queso Cabrales</td>\n",
       "      <td>0</td>\n",
       "      <td>10248</td>\n",
       "      <td>11</td>\n",
       "      <td>14.00</td>\n",
       "      <td>12</td>\n",
       "      <td>0.00</td>\n",
       "      <td>5</td>\n",
       "      <td>Buchanan</td>\n",
       "      <td>Steven</td>\n",
       "      <td>British Isles</td>\n",
       "      <td>2012-07-16</td>\n",
       "    </tr>\n",
       "    <tr>\n",
       "      <td>1</td>\n",
       "      <td>42</td>\n",
       "      <td>Singaporean Hokkien Fried Mee</td>\n",
       "      <td>1</td>\n",
       "      <td>10248</td>\n",
       "      <td>42</td>\n",
       "      <td>9.80</td>\n",
       "      <td>10</td>\n",
       "      <td>0.00</td>\n",
       "      <td>5</td>\n",
       "      <td>Buchanan</td>\n",
       "      <td>Steven</td>\n",
       "      <td>British Isles</td>\n",
       "      <td>2012-07-16</td>\n",
       "    </tr>\n",
       "    <tr>\n",
       "      <td>2</td>\n",
       "      <td>72</td>\n",
       "      <td>Mozzarella di Giovanni</td>\n",
       "      <td>0</td>\n",
       "      <td>10248</td>\n",
       "      <td>72</td>\n",
       "      <td>34.80</td>\n",
       "      <td>5</td>\n",
       "      <td>0.00</td>\n",
       "      <td>5</td>\n",
       "      <td>Buchanan</td>\n",
       "      <td>Steven</td>\n",
       "      <td>British Isles</td>\n",
       "      <td>2012-07-16</td>\n",
       "    </tr>\n",
       "    <tr>\n",
       "      <td>3</td>\n",
       "      <td>14</td>\n",
       "      <td>Tofu</td>\n",
       "      <td>0</td>\n",
       "      <td>10249</td>\n",
       "      <td>14</td>\n",
       "      <td>18.60</td>\n",
       "      <td>9</td>\n",
       "      <td>0.00</td>\n",
       "      <td>6</td>\n",
       "      <td>Suyama</td>\n",
       "      <td>Michael</td>\n",
       "      <td>British Isles</td>\n",
       "      <td>2012-07-10</td>\n",
       "    </tr>\n",
       "    <tr>\n",
       "      <td>4</td>\n",
       "      <td>51</td>\n",
       "      <td>Manjimup Dried Apples</td>\n",
       "      <td>0</td>\n",
       "      <td>10249</td>\n",
       "      <td>51</td>\n",
       "      <td>42.40</td>\n",
       "      <td>40</td>\n",
       "      <td>0.00</td>\n",
       "      <td>6</td>\n",
       "      <td>Suyama</td>\n",
       "      <td>Michael</td>\n",
       "      <td>British Isles</td>\n",
       "      <td>2012-07-10</td>\n",
       "    </tr>\n",
       "    <tr>\n",
       "      <td>...</td>\n",
       "      <td>...</td>\n",
       "      <td>...</td>\n",
       "      <td>...</td>\n",
       "      <td>...</td>\n",
       "      <td>...</td>\n",
       "      <td>...</td>\n",
       "      <td>...</td>\n",
       "      <td>...</td>\n",
       "      <td>...</td>\n",
       "      <td>...</td>\n",
       "      <td>...</td>\n",
       "      <td>...</td>\n",
       "      <td>...</td>\n",
       "    </tr>\n",
       "    <tr>\n",
       "      <td>2150</td>\n",
       "      <td>64</td>\n",
       "      <td>Wimmers gute Semmelknödel</td>\n",
       "      <td>0</td>\n",
       "      <td>11077</td>\n",
       "      <td>64</td>\n",
       "      <td>33.25</td>\n",
       "      <td>2</td>\n",
       "      <td>0.03</td>\n",
       "      <td>1</td>\n",
       "      <td>Davolio</td>\n",
       "      <td>Nancy</td>\n",
       "      <td>North America</td>\n",
       "      <td>None</td>\n",
       "    </tr>\n",
       "    <tr>\n",
       "      <td>2151</td>\n",
       "      <td>66</td>\n",
       "      <td>Louisiana Hot Spiced Okra</td>\n",
       "      <td>0</td>\n",
       "      <td>11077</td>\n",
       "      <td>66</td>\n",
       "      <td>17.00</td>\n",
       "      <td>1</td>\n",
       "      <td>0.00</td>\n",
       "      <td>1</td>\n",
       "      <td>Davolio</td>\n",
       "      <td>Nancy</td>\n",
       "      <td>North America</td>\n",
       "      <td>None</td>\n",
       "    </tr>\n",
       "    <tr>\n",
       "      <td>2152</td>\n",
       "      <td>73</td>\n",
       "      <td>Röd Kaviar</td>\n",
       "      <td>0</td>\n",
       "      <td>11077</td>\n",
       "      <td>73</td>\n",
       "      <td>15.00</td>\n",
       "      <td>2</td>\n",
       "      <td>0.01</td>\n",
       "      <td>1</td>\n",
       "      <td>Davolio</td>\n",
       "      <td>Nancy</td>\n",
       "      <td>North America</td>\n",
       "      <td>None</td>\n",
       "    </tr>\n",
       "    <tr>\n",
       "      <td>2153</td>\n",
       "      <td>75</td>\n",
       "      <td>Rhönbräu Klosterbier</td>\n",
       "      <td>0</td>\n",
       "      <td>11077</td>\n",
       "      <td>75</td>\n",
       "      <td>7.75</td>\n",
       "      <td>4</td>\n",
       "      <td>0.00</td>\n",
       "      <td>1</td>\n",
       "      <td>Davolio</td>\n",
       "      <td>Nancy</td>\n",
       "      <td>North America</td>\n",
       "      <td>None</td>\n",
       "    </tr>\n",
       "    <tr>\n",
       "      <td>2154</td>\n",
       "      <td>77</td>\n",
       "      <td>Original Frankfurter grüne Soße</td>\n",
       "      <td>0</td>\n",
       "      <td>11077</td>\n",
       "      <td>77</td>\n",
       "      <td>13.00</td>\n",
       "      <td>2</td>\n",
       "      <td>0.00</td>\n",
       "      <td>1</td>\n",
       "      <td>Davolio</td>\n",
       "      <td>Nancy</td>\n",
       "      <td>North America</td>\n",
       "      <td>None</td>\n",
       "    </tr>\n",
       "  </tbody>\n",
       "</table>\n",
       "<p>2155 rows × 13 columns</p>\n",
       "</div>"
      ],
      "text/plain": [
       "      ProductId                      ProductName  Discontinued  OrderId  \\\n",
       "0            11                   Queso Cabrales             0    10248   \n",
       "1            42    Singaporean Hokkien Fried Mee             1    10248   \n",
       "2            72           Mozzarella di Giovanni             0    10248   \n",
       "3            14                             Tofu             0    10249   \n",
       "4            51            Manjimup Dried Apples             0    10249   \n",
       "...         ...                              ...           ...      ...   \n",
       "2150         64        Wimmers gute Semmelknödel             0    11077   \n",
       "2151         66        Louisiana Hot Spiced Okra             0    11077   \n",
       "2152         73                       Röd Kaviar             0    11077   \n",
       "2153         75             Rhönbräu Klosterbier             0    11077   \n",
       "2154         77  Original Frankfurter grüne Soße             0    11077   \n",
       "\n",
       "      ProductId  SalesPrice  Quantity  Discount  EmployeeId  LastName  \\\n",
       "0            11       14.00        12      0.00           5  Buchanan   \n",
       "1            42        9.80        10      0.00           5  Buchanan   \n",
       "2            72       34.80         5      0.00           5  Buchanan   \n",
       "3            14       18.60         9      0.00           6    Suyama   \n",
       "4            51       42.40        40      0.00           6    Suyama   \n",
       "...         ...         ...       ...       ...         ...       ...   \n",
       "2150         64       33.25         2      0.03           1   Davolio   \n",
       "2151         66       17.00         1      0.00           1   Davolio   \n",
       "2152         73       15.00         2      0.01           1   Davolio   \n",
       "2153         75        7.75         4      0.00           1   Davolio   \n",
       "2154         77       13.00         2      0.00           1   Davolio   \n",
       "\n",
       "     FirstName         Region ShippedDate  \n",
       "0       Steven  British Isles  2012-07-16  \n",
       "1       Steven  British Isles  2012-07-16  \n",
       "2       Steven  British Isles  2012-07-16  \n",
       "3      Michael  British Isles  2012-07-10  \n",
       "4      Michael  British Isles  2012-07-10  \n",
       "...        ...            ...         ...  \n",
       "2150     Nancy  North America        None  \n",
       "2151     Nancy  North America        None  \n",
       "2152     Nancy  North America        None  \n",
       "2153     Nancy  North America        None  \n",
       "2154     Nancy  North America        None  \n",
       "\n",
       "[2155 rows x 13 columns]"
      ]
     },
     "execution_count": 131,
     "metadata": {},
     "output_type": "execute_result"
    }
   ],
   "source": [
    "cur.execute(\"\"\"SELECT \n",
    "                ProductID, \n",
    "                ProductName, \n",
    "                Discontinued,\n",
    "                OrderID, \n",
    "                ProductID, \n",
    "                od.UnitPrice AS SalesPrice, \n",
    "                Quantity, \n",
    "                Discount,\n",
    "                EmployeeID, \n",
    "                LastName, \n",
    "                FirstName, \n",
    "                e.Region, \n",
    "                ShippedDate\n",
    "                FROM Product AS p\n",
    "                JOIN OrderDetail AS od\n",
    "                ON od.ProductID = p.Id \n",
    "                JOIN 'Order' AS o\n",
    "                ON o.Id = od.OrderId\n",
    "                JOIN Employee AS e\n",
    "                ON o.EmployeeID = e.ID;\"\"\")\n",
    "dfr = pd.DataFrame(cur.fetchall(), columns=[x[0] for x in cur.description])\n",
    "dfr"
   ]
  },
  {
   "cell_type": "code",
   "execution_count": 132,
   "metadata": {},
   "outputs": [],
   "source": [
    "\n",
    "\n",
    "#Sales Revenue is calculated by multiplying the adjusted price (accounting for any discounts) times quantity\n",
    "dfr['SaleRev'] = (dfr['SalesPrice'] * (1-dfr['Discount'])) * dfr['Quantity']\n"
   ]
  },
  {
   "cell_type": "code",
   "execution_count": 133,
   "metadata": {},
   "outputs": [
    {
     "name": "stdout",
     "output_type": "stream",
     "text": [
      "There are 9 employees in this company associated with sales information\n",
      "The calculated avarage revenue generated by a sales representative in this dataset is $587.0\n"
     ]
    }
   ],
   "source": [
    "empcount = len(dfr['EmployeeId'].unique())\n",
    "avrev = dfr['SaleRev'].mean()\n",
    "print(f'There are {empcount} employees in this company associated with sales information')\n",
    "print(f'The calculated avarage revenue generated by a sales representative in this dataset is ${round(avrev)}')"
   ]
  },
  {
   "cell_type": "markdown",
   "metadata": {},
   "source": [
    "### Hypothesis 3 Preliminary Visualizations:"
   ]
  },
  {
   "cell_type": "code",
   "execution_count": 134,
   "metadata": {},
   "outputs": [
    {
     "data": {
      "image/png": "[encoded data removed]",
      "text/plain": [
       "<Figure size 576x360 with 1 Axes>"
      ]
     },
     "metadata": {},
     "output_type": "display_data"
    }
   ],
   "source": [
    "fig, ax = plt.subplots(figsize=(8,5))\n",
    "sns.distplot(dfr['SaleRev'], color='green')\n",
    "plt.axvline(avrev, color='lightgreen' )\n",
    "plt.xlabel('Sales Revenue')\n",
    "plt.ylabel('Distribution')\n",
    "plt.title('Average Sales Revenue Distribution', fontsize=18)\n",
    "plt.show()"
   ]
  },
  {
   "cell_type": "code",
   "execution_count": 135,
   "metadata": {
    "scrolled": false
   },
   "outputs": [
    {
     "data": {
      "image/png": "[encoded data removed]",
      "text/plain": [
       "<Figure size 576x360 with 1 Axes>"
      ]
     },
     "metadata": {},
     "output_type": "display_data"
    }
   ],
   "source": [
    "fig, ax = plt.subplots(figsize=(8,5))\n",
    "sns.barplot(data=dfr, x='EmployeeId', y='SaleRev', ci=68, ax=ax)\n",
    "plt.title('Average Revenue by Sales Representative', fontsize=16)\n",
    "plt.axhline(avrev,linestyle=\"--\", color='gray', linewidth=.6 )\n",
    "plt.xlabel('Employee Id')\n",
    "plt.ylabel('Sales Revenue')\n",
    "plt.show()\n"
   ]
  },
  {
   "cell_type": "markdown",
   "metadata": {},
   "source": [
    "Employees are listed in the table below:\n",
    "Although the employee names are unique, for the sake of data inspection we'll continue to use Employee Id as the unique identifier and reference the table above to gather additional insight."
   ]
  },
  {
   "cell_type": "code",
   "execution_count": 136,
   "metadata": {
    "scrolled": true
   },
   "outputs": [
    {
     "data": {
      "text/html": [
       "<div>\n",
       "<style scoped>\n",
       "    .dataframe tbody tr th:only-of-type {\n",
       "        vertical-align: middle;\n",
       "    }\n",
       "\n",
       "    .dataframe tbody tr th {\n",
       "        vertical-align: top;\n",
       "    }\n",
       "\n",
       "    .dataframe thead th {\n",
       "        text-align: right;\n",
       "    }\n",
       "</style>\n",
       "<table border=\"1\" class=\"dataframe\">\n",
       "  <thead>\n",
       "    <tr style=\"text-align: right;\">\n",
       "      <th></th>\n",
       "      <th>Id</th>\n",
       "      <th>LastName</th>\n",
       "      <th>FirstName</th>\n",
       "      <th>Title</th>\n",
       "      <th>Region</th>\n",
       "    </tr>\n",
       "  </thead>\n",
       "  <tbody>\n",
       "    <tr>\n",
       "      <td>0</td>\n",
       "      <td>1</td>\n",
       "      <td>Davolio</td>\n",
       "      <td>Nancy</td>\n",
       "      <td>Sales Representative</td>\n",
       "      <td>North America</td>\n",
       "    </tr>\n",
       "    <tr>\n",
       "      <td>1</td>\n",
       "      <td>2</td>\n",
       "      <td>Fuller</td>\n",
       "      <td>Andrew</td>\n",
       "      <td>Vice President, Sales</td>\n",
       "      <td>North America</td>\n",
       "    </tr>\n",
       "    <tr>\n",
       "      <td>2</td>\n",
       "      <td>3</td>\n",
       "      <td>Leverling</td>\n",
       "      <td>Janet</td>\n",
       "      <td>Sales Representative</td>\n",
       "      <td>North America</td>\n",
       "    </tr>\n",
       "    <tr>\n",
       "      <td>3</td>\n",
       "      <td>4</td>\n",
       "      <td>Peacock</td>\n",
       "      <td>Margaret</td>\n",
       "      <td>Sales Representative</td>\n",
       "      <td>North America</td>\n",
       "    </tr>\n",
       "    <tr>\n",
       "      <td>4</td>\n",
       "      <td>5</td>\n",
       "      <td>Buchanan</td>\n",
       "      <td>Steven</td>\n",
       "      <td>Sales Manager</td>\n",
       "      <td>British Isles</td>\n",
       "    </tr>\n",
       "    <tr>\n",
       "      <td>5</td>\n",
       "      <td>6</td>\n",
       "      <td>Suyama</td>\n",
       "      <td>Michael</td>\n",
       "      <td>Sales Representative</td>\n",
       "      <td>British Isles</td>\n",
       "    </tr>\n",
       "    <tr>\n",
       "      <td>6</td>\n",
       "      <td>7</td>\n",
       "      <td>King</td>\n",
       "      <td>Robert</td>\n",
       "      <td>Sales Representative</td>\n",
       "      <td>British Isles</td>\n",
       "    </tr>\n",
       "    <tr>\n",
       "      <td>7</td>\n",
       "      <td>8</td>\n",
       "      <td>Callahan</td>\n",
       "      <td>Laura</td>\n",
       "      <td>Inside Sales Coordinator</td>\n",
       "      <td>North America</td>\n",
       "    </tr>\n",
       "    <tr>\n",
       "      <td>8</td>\n",
       "      <td>9</td>\n",
       "      <td>Dodsworth</td>\n",
       "      <td>Anne</td>\n",
       "      <td>Sales Representative</td>\n",
       "      <td>British Isles</td>\n",
       "    </tr>\n",
       "  </tbody>\n",
       "</table>\n",
       "</div>"
      ],
      "text/plain": [
       "   Id   LastName FirstName                     Title         Region\n",
       "0   1    Davolio     Nancy      Sales Representative  North America\n",
       "1   2     Fuller    Andrew     Vice President, Sales  North America\n",
       "2   3  Leverling     Janet      Sales Representative  North America\n",
       "3   4    Peacock  Margaret      Sales Representative  North America\n",
       "4   5   Buchanan    Steven             Sales Manager  British Isles\n",
       "5   6     Suyama   Michael      Sales Representative  British Isles\n",
       "6   7       King    Robert      Sales Representative  British Isles\n",
       "7   8   Callahan     Laura  Inside Sales Coordinator  North America\n",
       "8   9  Dodsworth      Anne      Sales Representative  British Isles"
      ]
     },
     "execution_count": 136,
     "metadata": {},
     "output_type": "execute_result"
    }
   ],
   "source": [
    "cur.execute(\"\"\"SELECT ID, LastName, FirstName, Title, Region\n",
    "                from Employee\"\"\")\n",
    "empsdata = pd.DataFrame(cur.fetchall(), columns=[x[0] for x in cur.description])\n",
    "empsdata"
   ]
  },
  {
   "cell_type": "code",
   "execution_count": 137,
   "metadata": {},
   "outputs": [],
   "source": [
    "reps = {}\n",
    "for rep in dfr['EmployeeId'].unique():\n",
    "    reps[str(rep)] = dfr.groupby('EmployeeId').get_group(rep)['SaleRev']\n"
   ]
  },
  {
   "cell_type": "code",
   "execution_count": 138,
   "metadata": {},
   "outputs": [
    {
     "name": "stdout",
     "output_type": "stream",
     "text": [
      "Distributions appear roughly equal and there appears to be outliers\n"
     ]
    },
    {
     "data": {
      "image/png": "[encoded data removed]",
      "text/plain": [
       "<Figure size 720x360 with 1 Axes>"
      ]
     },
     "metadata": {},
     "output_type": "display_data"
    }
   ],
   "source": [
    "fig, ax = plt.subplots(figsize=(10,5))\n",
    "for k,v in reps.items():\n",
    "    sns.distplot(v,label=v)\n",
    "\n",
    "plt.title('Sales Revenue By Distribution by Rep')\n",
    "print('Distributions appear roughly equal and there appears to be outliers')"
   ]
  },
  {
   "cell_type": "markdown",
   "metadata": {},
   "source": [
    "#### Initial Observations:\n",
    "Datatype is numeric in this 2155 order sample.\n",
    "\n",
    "There are 9 employees in this company associated with sales information\n",
    "\n",
    "The avarage revenue generated by a sales representative is $629.00. \n",
    "\n",
    "Initial visual inspection indicates roughly uniform distribution in sales revenue, more than half of the sales representatives achieve the average.  Additional testing will demonstrate if it is significant.\n",
    "\n",
    "Since we are comparing multiple discounts to inspect it's impact on quantity ordered an AVNOVA test will be run:\n",
    "Assumptions for ANOVA Testing: \n",
    "\n",
    "1) No significant outliers \n",
    "    Upon a quick visual inspection, there appears to be some outliers that could be removed\n",
    "\n",
    "2) Equal variance\n",
    "    \n",
    "\n",
    "\n",
    "3) Normality (if n>15)\n",
    "      Not required for samples greater than 15"
   ]
  },
  {
   "cell_type": "markdown",
   "metadata": {},
   "source": [
    "### Assumption 1: Outliers"
   ]
  },
  {
   "cell_type": "code",
   "execution_count": 139,
   "metadata": {
    "scrolled": false
   },
   "outputs": [
    {
     "name": "stdout",
     "output_type": "stream",
     "text": [
      "Found 3 outliers in Employee # 5\n",
      "Found 3 outliers in Employee # 6\n",
      "Found 7 outliers in Employee # 4\n",
      "Found 4 outliers in Employee # 3\n",
      "Found 2 outliers in Employee # 9\n",
      "Found 4 outliers in Employee # 1\n",
      "Found 5 outliers in Employee # 8\n",
      "Found 5 outliers in Employee # 2\n",
      "Found 5 outliers in Employee # 7\n",
      "\n",
      " All of these outliers were removed\n"
     ]
    }
   ],
   "source": [
    "for rep, rep_data in reps.items():\n",
    "    idx_outs = fn.find_outliers_Z(rep_data)\n",
    "    print(f'Found {idx_outs.sum()} outliers in Employee # {rep}')\n",
    "    reps[rep] = rep_data[~idx_outs]\n",
    "print('\\n All of these outliers were removed')\n",
    "\n"
   ]
  },
  {
   "cell_type": "code",
   "execution_count": 140,
   "metadata": {},
   "outputs": [
    {
     "name": "stdout",
     "output_type": "stream",
     "text": [
      "Distributions appear roughly equal and outliers are visibly removed in comparisson with other visual\n"
     ]
    },
    {
     "data": {
      "image/png": "[encoded data removed]",
      "text/plain": [
       "<Figure size 720x360 with 1 Axes>"
      ]
     },
     "metadata": {},
     "output_type": "display_data"
    }
   ],
   "source": [
    "fig, ax = plt.subplots(figsize=(10,5))\n",
    "for k,v in reps.items():\n",
    "    sns.distplot(v,label=v)\n",
    "\n",
    "plt.title('Revised: Sales Revenue Distribution by Rep')\n",
    "print('Distributions appear roughly equal and outliers are visibly removed in comparisson with other visual')"
   ]
  },
  {
   "cell_type": "markdown",
   "metadata": {},
   "source": [
    "###  Asumption 2: Equal Variance\n",
    "\n",
    "Results are NOT equal variance for this group"
   ]
  },
  {
   "cell_type": "code",
   "execution_count": 141,
   "metadata": {},
   "outputs": [],
   "source": [
    "#from functions import test_equal_variance\n",
    "import scipy.stats as stats"
   ]
  },
  {
   "cell_type": "code",
   "execution_count": 143,
   "metadata": {},
   "outputs": [],
   "source": [
    "datas = []\n",
    "for k,v in reps.items():\n",
    "    datas.append(v)\n",
    "    "
   ]
  },
  {
   "cell_type": "code",
   "execution_count": 144,
   "metadata": {},
   "outputs": [
    {
     "name": "stdout",
     "output_type": "stream",
     "text": [
      "Lavene test for equal variance results are 0.0143\n",
      "The groups do NOT have equal variance\n"
     ]
    }
   ],
   "source": [
    "stat,p = stats.levene(*datas)\n",
    "print(f'Lavene test for equal variance results are {round(p,4)}')\n",
    "sig = 'do NOT' if p < .05 else 'DO'\n",
    "\n",
    "print(f'The groups {sig} have equal variance')\n",
    "      \n",
    "          "
   ]
  },
  {
   "cell_type": "markdown",
   "metadata": {},
   "source": [
    "### Assumption 3:  Normality\n",
    "The lengths of these samples are >15 so normality criteria is met."
   ]
  },
  {
   "cell_type": "code",
   "execution_count": 145,
   "metadata": {
    "scrolled": true
   },
   "outputs": [
    {
     "name": "stdout",
     "output_type": "stream",
     "text": [
      "There are 114 samples in the data set for Employee #5.\n",
      "There are 165 samples in the data set for Employee #6.\n",
      "There are 413 samples in the data set for Employee #4.\n",
      "There are 317 samples in the data set for Employee #3.\n",
      "There are 105 samples in the data set for Employee #9.\n",
      "There are 341 samples in the data set for Employee #1.\n",
      "There are 255 samples in the data set for Employee #8.\n",
      "There are 236 samples in the data set for Employee #2.\n",
      "There are 171 samples in the data set for Employee #7.\n",
      "\n",
      "All samples are >15: Normality Assumption Criterion is met.\n"
     ]
    }
   ],
   "source": [
    "n = []\n",
    "\n",
    "for rep,samples in reps.items():\n",
    "    print(f'There are {len(samples)} samples in the data set for Employee #{rep}.')\n",
    "    n.append(len(samples)>15)\n",
    "if all(n):\n",
    "    print('\\nAll samples are >15: Normality Assumption Criterion is met.')\n",
    "    \n",
    "\n",
    "\n",
    "\n"
   ]
  },
  {
   "cell_type": "code",
   "execution_count": 147,
   "metadata": {
    "scrolled": true
   },
   "outputs": [
    {
     "name": "stdout",
     "output_type": "stream",
     "text": [
      "Kruskal test p value: 0.2968\n"
     ]
    }
   ],
   "source": [
    "stat, p = stats.kruskal(*datas)\n",
    "print(f\"Kruskal test p value: {round(p,4)}\")"
   ]
  },
  {
   "cell_type": "code",
   "execution_count": 149,
   "metadata": {
    "scrolled": true
   },
   "outputs": [
    {
     "name": "stdout",
     "output_type": "stream",
     "text": [
      "2.180626766904163 0.026222185205141618\n"
     ]
    }
   ],
   "source": [
    "stat, p = stats.f_oneway(*datas)\n",
    "print(stat,p)"
   ]
  },
  {
   "cell_type": "code",
   "execution_count": 150,
   "metadata": {
    "scrolled": false
   },
   "outputs": [
    {
     "data": {
      "text/html": [
       "<div>\n",
       "<style scoped>\n",
       "    .dataframe tbody tr th:only-of-type {\n",
       "        vertical-align: middle;\n",
       "    }\n",
       "\n",
       "    .dataframe tbody tr th {\n",
       "        vertical-align: top;\n",
       "    }\n",
       "\n",
       "    .dataframe thead th {\n",
       "        text-align: right;\n",
       "    }\n",
       "</style>\n",
       "<table border=\"1\" class=\"dataframe\">\n",
       "  <thead>\n",
       "    <tr style=\"text-align: right;\">\n",
       "      <th></th>\n",
       "      <th>data</th>\n",
       "      <th>group</th>\n",
       "    </tr>\n",
       "  </thead>\n",
       "  <tbody>\n",
       "    <tr>\n",
       "      <td>0</td>\n",
       "      <td>168.000</td>\n",
       "      <td>5</td>\n",
       "    </tr>\n",
       "    <tr>\n",
       "      <td>1</td>\n",
       "      <td>98.000</td>\n",
       "      <td>5</td>\n",
       "    </tr>\n",
       "    <tr>\n",
       "      <td>2</td>\n",
       "      <td>174.000</td>\n",
       "      <td>5</td>\n",
       "    </tr>\n",
       "    <tr>\n",
       "      <td>17</td>\n",
       "      <td>45.900</td>\n",
       "      <td>5</td>\n",
       "    </tr>\n",
       "    <tr>\n",
       "      <td>18</td>\n",
       "      <td>342.720</td>\n",
       "      <td>5</td>\n",
       "    </tr>\n",
       "    <tr>\n",
       "      <td>...</td>\n",
       "      <td>...</td>\n",
       "      <td>...</td>\n",
       "    </tr>\n",
       "    <tr>\n",
       "      <td>2077</td>\n",
       "      <td>390.000</td>\n",
       "      <td>7</td>\n",
       "    </tr>\n",
       "    <tr>\n",
       "      <td>2103</td>\n",
       "      <td>52.350</td>\n",
       "      <td>7</td>\n",
       "    </tr>\n",
       "    <tr>\n",
       "      <td>2104</td>\n",
       "      <td>386.400</td>\n",
       "      <td>7</td>\n",
       "    </tr>\n",
       "    <tr>\n",
       "      <td>2105</td>\n",
       "      <td>490.000</td>\n",
       "      <td>7</td>\n",
       "    </tr>\n",
       "    <tr>\n",
       "      <td>2123</td>\n",
       "      <td>232.085</td>\n",
       "      <td>7</td>\n",
       "    </tr>\n",
       "  </tbody>\n",
       "</table>\n",
       "<p>2117 rows × 2 columns</p>\n",
       "</div>"
      ],
      "text/plain": [
       "         data group\n",
       "0     168.000     5\n",
       "1      98.000     5\n",
       "2     174.000     5\n",
       "17     45.900     5\n",
       "18    342.720     5\n",
       "...       ...   ...\n",
       "2077  390.000     7\n",
       "2103   52.350     7\n",
       "2104  386.400     7\n",
       "2105  490.000     7\n",
       "2123  232.085     7\n",
       "\n",
       "[2117 rows x 2 columns]"
      ]
     },
     "execution_count": 150,
     "metadata": {},
     "output_type": "execute_result"
    }
   ],
   "source": [
    "clean_data = fn.prep_data_for_tukeys(reps)\n",
    "clean_data"
   ]
  },
  {
   "cell_type": "markdown",
   "metadata": {},
   "source": [
    "### Hypothesis 3: A Clean Visualization:"
   ]
  },
  {
   "cell_type": "code",
   "execution_count": 151,
   "metadata": {
    "scrolled": true
   },
   "outputs": [
    {
     "data": {
      "text/plain": [
       "Text(0.5, 1.0, 'Average Revenue Generated by Sales Representative')"
      ]
     },
     "execution_count": 151,
     "metadata": {},
     "output_type": "execute_result"
    },
    {
     "data": {
      "image/png": "[encoded data removed]",
      "text/plain": [
       "<Figure size 576x288 with 1 Axes>"
      ]
     },
     "metadata": {},
     "output_type": "display_data"
    }
   ],
   "source": [
    "f, ax = plt.subplots(figsize=(8,4))\n",
    "sns.set(style=\"whitegrid\")\n",
    "sns.barplot(data=clean_data, x='group', y='data', ci=68)\n",
    "plt.xlabel('Employee Id')\n",
    "plt.ylabel('Average Revenue Generated')\n",
    "plt.axhline(clean_data['data'].mean(), linestyle=\"--\", color='darkgray')\n",
    "\n",
    "plt.title('Average Revenue Generated by Sales Representative', fontsize=20)\n"
   ]
  },
  {
   "cell_type": "markdown",
   "metadata": {},
   "source": [
    "Observation:\n",
    "The plot above is misleading since it goes off of means it skews the data.  Further testing indicates there are no statistical differences between representatives in terms of revenue generated over this time span.  The subsequent plot reveals a more accurate depiction of what testing demonstrates."
   ]
  },
  {
   "cell_type": "code",
   "execution_count": 160,
   "metadata": {},
   "outputs": [
    {
     "name": "stdout",
     "output_type": "stream",
     "text": [
      "Average revenue across all sales representatives: $494.72\n"
     ]
    },
    {
     "data": {
      "image/png": "[encoded data removed]",
      "text/plain": [
       "<Figure size 648x432 with 1 Axes>"
      ]
     },
     "metadata": {},
     "output_type": "display_data"
    }
   ],
   "source": [
    "mu = clean_data['data'].mean()\n",
    "\n",
    "sns.catplot(data=clean_data, x='group', y='data', \n",
    "            kind='swarm', height=6, aspect=1.5)\n",
    "formatter = ticker.FormatStrFormatter('$%1.2f')\n",
    "plt.axhline(mu, color='k', linestyle=\"-\", lw=2)\n",
    "plt.xlabel('Employee Id')\n",
    "plt.ylabel('Average Total Revenue in US Dollars')\n",
    "plt.title('Average Total Revenue by Sales Representaitve', fontsize=20)\n",
    "print(f'Average revenue across all sales representatives: ${round(mu,2)}')"
   ]
  },
  {
   "cell_type": "code",
   "execution_count": 161,
   "metadata": {},
   "outputs": [],
   "source": [
    "#datacleaning for additional testing:\n",
    "clean_data['data'] = clean_data['data'].astype(float)\n",
    "clean_data['group'] = clean_data['group'].astype(str)"
   ]
  },
  {
   "cell_type": "code",
   "execution_count": 162,
   "metadata": {},
   "outputs": [
    {
     "data": {
      "text/html": [
       "<div>\n",
       "<style scoped>\n",
       "    .dataframe tbody tr th:only-of-type {\n",
       "        vertical-align: middle;\n",
       "    }\n",
       "\n",
       "    .dataframe tbody tr th {\n",
       "        vertical-align: top;\n",
       "    }\n",
       "\n",
       "    .dataframe thead th {\n",
       "        text-align: right;\n",
       "    }\n",
       "</style>\n",
       "<table border=\"1\" class=\"dataframe\">\n",
       "  <thead>\n",
       "    <tr style=\"text-align: right;\">\n",
       "      <th></th>\n",
       "      <th>data</th>\n",
       "      <th>group</th>\n",
       "    </tr>\n",
       "  </thead>\n",
       "  <tbody>\n",
       "    <tr>\n",
       "      <td>0</td>\n",
       "      <td>168.000</td>\n",
       "      <td>5</td>\n",
       "    </tr>\n",
       "    <tr>\n",
       "      <td>1</td>\n",
       "      <td>98.000</td>\n",
       "      <td>5</td>\n",
       "    </tr>\n",
       "    <tr>\n",
       "      <td>2</td>\n",
       "      <td>174.000</td>\n",
       "      <td>5</td>\n",
       "    </tr>\n",
       "    <tr>\n",
       "      <td>17</td>\n",
       "      <td>45.900</td>\n",
       "      <td>5</td>\n",
       "    </tr>\n",
       "    <tr>\n",
       "      <td>18</td>\n",
       "      <td>342.720</td>\n",
       "      <td>5</td>\n",
       "    </tr>\n",
       "    <tr>\n",
       "      <td>...</td>\n",
       "      <td>...</td>\n",
       "      <td>...</td>\n",
       "    </tr>\n",
       "    <tr>\n",
       "      <td>2077</td>\n",
       "      <td>390.000</td>\n",
       "      <td>7</td>\n",
       "    </tr>\n",
       "    <tr>\n",
       "      <td>2103</td>\n",
       "      <td>52.350</td>\n",
       "      <td>7</td>\n",
       "    </tr>\n",
       "    <tr>\n",
       "      <td>2104</td>\n",
       "      <td>386.400</td>\n",
       "      <td>7</td>\n",
       "    </tr>\n",
       "    <tr>\n",
       "      <td>2105</td>\n",
       "      <td>490.000</td>\n",
       "      <td>7</td>\n",
       "    </tr>\n",
       "    <tr>\n",
       "      <td>2123</td>\n",
       "      <td>232.085</td>\n",
       "      <td>7</td>\n",
       "    </tr>\n",
       "  </tbody>\n",
       "</table>\n",
       "<p>2117 rows × 2 columns</p>\n",
       "</div>"
      ],
      "text/plain": [
       "         data group\n",
       "0     168.000     5\n",
       "1      98.000     5\n",
       "2     174.000     5\n",
       "17     45.900     5\n",
       "18    342.720     5\n",
       "...       ...   ...\n",
       "2077  390.000     7\n",
       "2103   52.350     7\n",
       "2104  386.400     7\n",
       "2105  490.000     7\n",
       "2123  232.085     7\n",
       "\n",
       "[2117 rows x 2 columns]"
      ]
     },
     "execution_count": 162,
     "metadata": {},
     "output_type": "execute_result"
    }
   ],
   "source": [
    "clean_data"
   ]
  },
  {
   "cell_type": "code",
   "execution_count": 81,
   "metadata": {},
   "outputs": [],
   "source": []
  },
  {
   "cell_type": "code",
   "execution_count": 163,
   "metadata": {},
   "outputs": [
    {
     "data": {
      "text/html": [
       "<table class=\"simpletable\">\n",
       "<caption>Multiple Comparison of Means - Tukey HSD, FWER=0.05</caption>\n",
       "<tr>\n",
       "  <th>group1</th> <th>group2</th> <th>meandiff</th>   <th>p-adj</th>   <th>lower</th>     <th>upper</th>  <th>reject</th>\n",
       "</tr>\n",
       "<tr>\n",
       "     <td>1</td>      <td>2</td>    <td>70.6795</td>  <td>0.7896</td> <td>-67.9146</td>  <td>209.2736</td>  <td>False</td>\n",
       "</tr>\n",
       "<tr>\n",
       "     <td>1</td>      <td>3</td>    <td>62.1979</td>  <td>0.8328</td> <td>-65.5036</td>  <td>189.8995</td>  <td>False</td>\n",
       "</tr>\n",
       "<tr>\n",
       "     <td>1</td>      <td>4</td>    <td>-2.0207</td>    <td>0.9</td>  <td>-121.7839</td> <td>117.7426</td>  <td>False</td>\n",
       "</tr>\n",
       "<tr>\n",
       "     <td>1</td>      <td>5</td>    <td>2.7041</td>     <td>0.9</td>  <td>-174.3746</td> <td>179.7827</td>  <td>False</td>\n",
       "</tr>\n",
       "<tr>\n",
       "     <td>1</td>      <td>6</td>   <td>-81.4678</td>  <td>0.7616</td> <td>-236.6872</td>  <td>73.7517</td>  <td>False</td>\n",
       "</tr>\n",
       "<tr>\n",
       "     <td>1</td>      <td>7</td>    <td>68.5247</td>    <td>0.9</td>  <td>-84.8486</td>  <td>221.8981</td>  <td>False</td>\n",
       "</tr>\n",
       "<tr>\n",
       "     <td>1</td>      <td>8</td>   <td>-24.7293</td>    <td>0.9</td>  <td>-160.2376</td>  <td>110.779</td>  <td>False</td>\n",
       "</tr>\n",
       "<tr>\n",
       "     <td>1</td>      <td>9</td>   <td>101.7408</td>  <td>0.7013</td> <td>-80.9369</td>  <td>284.4186</td>  <td>False</td>\n",
       "</tr>\n",
       "<tr>\n",
       "     <td>2</td>      <td>3</td>    <td>-8.4815</td>    <td>0.9</td>  <td>-149.2052</td> <td>132.2421</td>  <td>False</td>\n",
       "</tr>\n",
       "<tr>\n",
       "     <td>2</td>      <td>4</td>   <td>-72.7002</td>   <td>0.725</td> <td>-206.2617</td>  <td>60.8614</td>  <td>False</td>\n",
       "</tr>\n",
       "<tr>\n",
       "     <td>2</td>      <td>5</td>   <td>-67.9754</td>    <td>0.9</td>  <td>-254.6631</td> <td>118.7123</td>  <td>False</td>\n",
       "</tr>\n",
       "<tr>\n",
       "     <td>2</td>      <td>6</td>   <td>-152.1472</td> <td>0.1034</td> <td>-318.2452</td>  <td>13.9507</td>  <td>False</td>\n",
       "</tr>\n",
       "<tr>\n",
       "     <td>2</td>      <td>7</td>    <td>-2.1547</td>    <td>0.9</td>  <td>-166.5288</td> <td>162.2193</td>  <td>False</td>\n",
       "</tr>\n",
       "<tr>\n",
       "     <td>2</td>      <td>8</td>   <td>-95.4088</td>  <td>0.5349</td> <td>-243.2531</td>  <td>52.4356</td>  <td>False</td>\n",
       "</tr>\n",
       "<tr>\n",
       "     <td>2</td>      <td>9</td>    <td>31.0613</td>    <td>0.9</td>  <td>-160.9455</td> <td>223.0682</td>  <td>False</td>\n",
       "</tr>\n",
       "<tr>\n",
       "     <td>3</td>      <td>4</td>   <td>-64.2186</td>  <td>0.7606</td> <td>-186.4399</td>  <td>58.0027</td>  <td>False</td>\n",
       "</tr>\n",
       "<tr>\n",
       "     <td>3</td>      <td>5</td>   <td>-59.4939</td>    <td>0.9</td>  <td>-238.2441</td> <td>119.2564</td>  <td>False</td>\n",
       "</tr>\n",
       "<tr>\n",
       "     <td>3</td>      <td>6</td>   <td>-143.6657</td> <td>0.1049</td> <td>-300.7895</td>  <td>13.4581</td>  <td>False</td>\n",
       "</tr>\n",
       "<tr>\n",
       "     <td>3</td>      <td>7</td>    <td>6.3268</td>     <td>0.9</td>  <td>-148.9735</td> <td>161.6271</td>  <td>False</td>\n",
       "</tr>\n",
       "<tr>\n",
       "     <td>3</td>      <td>8</td>   <td>-86.9273</td>  <td>0.5613</td> <td>-224.6128</td>  <td>50.7583</td>  <td>False</td>\n",
       "</tr>\n",
       "<tr>\n",
       "     <td>3</td>      <td>9</td>    <td>39.5429</td>    <td>0.9</td>  <td>-144.7557</td> <td>223.8415</td>  <td>False</td>\n",
       "</tr>\n",
       "<tr>\n",
       "     <td>4</td>      <td>5</td>    <td>4.7247</td>     <td>0.9</td>  <td>-168.4434</td> <td>177.8929</td>  <td>False</td>\n",
       "</tr>\n",
       "<tr>\n",
       "     <td>4</td>      <td>6</td>   <td>-79.4471</td>  <td>0.7575</td>  <td>-230.19</td>   <td>71.2959</td>  <td>False</td>\n",
       "</tr>\n",
       "<tr>\n",
       "     <td>4</td>      <td>7</td>    <td>70.5454</td>  <td>0.8574</td> <td>-78.2959</td>  <td>219.3867</td>  <td>False</td>\n",
       "</tr>\n",
       "<tr>\n",
       "     <td>4</td>      <td>8</td>   <td>-22.7086</td>    <td>0.9</td>  <td>-153.0653</td>  <td>107.648</td>  <td>False</td>\n",
       "</tr>\n",
       "<tr>\n",
       "     <td>4</td>      <td>9</td>   <td>103.7615</td>  <td>0.6578</td> <td>-75.1282</td>  <td>282.6512</td>  <td>False</td>\n",
       "</tr>\n",
       "<tr>\n",
       "     <td>5</td>      <td>6</td>   <td>-84.1718</td>    <td>0.9</td>  <td>-283.5134</td> <td>115.1697</td>  <td>False</td>\n",
       "</tr>\n",
       "<tr>\n",
       "     <td>5</td>      <td>7</td>    <td>65.8207</td>    <td>0.9</td>  <td>-132.0867</td> <td>263.7281</td>  <td>False</td>\n",
       "</tr>\n",
       "<tr>\n",
       "     <td>5</td>      <td>8</td>   <td>-27.4334</td>    <td>0.9</td>  <td>-211.8418</td>  <td>156.975</td>  <td>False</td>\n",
       "</tr>\n",
       "<tr>\n",
       "     <td>5</td>      <td>9</td>    <td>99.0368</td>    <td>0.9</td>  <td>-122.3569</td> <td>320.4304</td>  <td>False</td>\n",
       "</tr>\n",
       "<tr>\n",
       "     <td>6</td>      <td>7</td>   <td>149.9925</td>  <td>0.1837</td> <td>-28.6232</td>  <td>328.6082</td>  <td>False</td>\n",
       "</tr>\n",
       "<tr>\n",
       "     <td>6</td>      <td>8</td>    <td>56.7384</td>    <td>0.9</td>  <td>-106.7935</td> <td>220.2704</td>  <td>False</td>\n",
       "</tr>\n",
       "<tr>\n",
       "     <td>6</td>      <td>9</td>   <td>183.2086</td>  <td>0.1211</td> <td>-21.1229</td>  <td>387.5401</td>  <td>False</td>\n",
       "</tr>\n",
       "<tr>\n",
       "     <td>7</td>      <td>8</td>   <td>-93.2541</td>  <td>0.6646</td> <td>-255.0348</td>  <td>68.5267</td>  <td>False</td>\n",
       "</tr>\n",
       "<tr>\n",
       "     <td>7</td>      <td>9</td>    <td>33.2161</td>    <td>0.9</td>  <td>-169.7166</td> <td>236.1487</td>  <td>False</td>\n",
       "</tr>\n",
       "<tr>\n",
       "     <td>8</td>      <td>9</td>   <td>126.4701</td>  <td>0.4952</td> <td>-63.3213</td>  <td>316.2616</td>  <td>False</td>\n",
       "</tr>\n",
       "</table>"
      ],
      "text/plain": [
       "<class 'statsmodels.iolib.table.SimpleTable'>"
      ]
     },
     "execution_count": 163,
     "metadata": {},
     "output_type": "execute_result"
    }
   ],
   "source": [
    "tukeys = sms.stats.multicomp.pairwise_tukeyhsd(clean_data['data'], clean_data['group'])\n",
    "tukeys.summary()"
   ]
  },
  {
   "cell_type": "markdown",
   "metadata": {},
   "source": [
    "### Effect Size Testing:"
   ]
  },
  {
   "cell_type": "code",
   "execution_count": 165,
   "metadata": {},
   "outputs": [],
   "source": [
    "tukeyrepdf = fn.tukey_df(tukeys)"
   ]
  },
  {
   "cell_type": "code",
   "execution_count": 166,
   "metadata": {
    "scrolled": true
   },
   "outputs": [
    {
     "data": {
      "text/html": [
       "<div>\n",
       "<style scoped>\n",
       "    .dataframe tbody tr th:only-of-type {\n",
       "        vertical-align: middle;\n",
       "    }\n",
       "\n",
       "    .dataframe tbody tr th {\n",
       "        vertical-align: top;\n",
       "    }\n",
       "\n",
       "    .dataframe thead th {\n",
       "        text-align: right;\n",
       "    }\n",
       "</style>\n",
       "<table border=\"1\" class=\"dataframe\">\n",
       "  <thead>\n",
       "    <tr style=\"text-align: right;\">\n",
       "      <th></th>\n",
       "      <th>group1</th>\n",
       "      <th>group2</th>\n",
       "      <th>meandiff</th>\n",
       "      <th>p-adj</th>\n",
       "      <th>lower</th>\n",
       "      <th>upper</th>\n",
       "      <th>reject</th>\n",
       "    </tr>\n",
       "  </thead>\n",
       "  <tbody>\n",
       "    <tr>\n",
       "      <td>0</td>\n",
       "      <td>1</td>\n",
       "      <td>2</td>\n",
       "      <td>70.6795</td>\n",
       "      <td>0.7896</td>\n",
       "      <td>-67.9146</td>\n",
       "      <td>209.2736</td>\n",
       "      <td>False</td>\n",
       "    </tr>\n",
       "    <tr>\n",
       "      <td>1</td>\n",
       "      <td>1</td>\n",
       "      <td>3</td>\n",
       "      <td>62.1979</td>\n",
       "      <td>0.8328</td>\n",
       "      <td>-65.5036</td>\n",
       "      <td>189.8995</td>\n",
       "      <td>False</td>\n",
       "    </tr>\n",
       "    <tr>\n",
       "      <td>2</td>\n",
       "      <td>1</td>\n",
       "      <td>4</td>\n",
       "      <td>-2.0207</td>\n",
       "      <td>0.9000</td>\n",
       "      <td>-121.7839</td>\n",
       "      <td>117.7426</td>\n",
       "      <td>False</td>\n",
       "    </tr>\n",
       "    <tr>\n",
       "      <td>3</td>\n",
       "      <td>1</td>\n",
       "      <td>5</td>\n",
       "      <td>2.7041</td>\n",
       "      <td>0.9000</td>\n",
       "      <td>-174.3746</td>\n",
       "      <td>179.7827</td>\n",
       "      <td>False</td>\n",
       "    </tr>\n",
       "    <tr>\n",
       "      <td>4</td>\n",
       "      <td>1</td>\n",
       "      <td>6</td>\n",
       "      <td>-81.4678</td>\n",
       "      <td>0.7616</td>\n",
       "      <td>-236.6872</td>\n",
       "      <td>73.7517</td>\n",
       "      <td>False</td>\n",
       "    </tr>\n",
       "    <tr>\n",
       "      <td>5</td>\n",
       "      <td>1</td>\n",
       "      <td>7</td>\n",
       "      <td>68.5247</td>\n",
       "      <td>0.9000</td>\n",
       "      <td>-84.8486</td>\n",
       "      <td>221.8981</td>\n",
       "      <td>False</td>\n",
       "    </tr>\n",
       "    <tr>\n",
       "      <td>6</td>\n",
       "      <td>1</td>\n",
       "      <td>8</td>\n",
       "      <td>-24.7293</td>\n",
       "      <td>0.9000</td>\n",
       "      <td>-160.2376</td>\n",
       "      <td>110.7790</td>\n",
       "      <td>False</td>\n",
       "    </tr>\n",
       "    <tr>\n",
       "      <td>7</td>\n",
       "      <td>1</td>\n",
       "      <td>9</td>\n",
       "      <td>101.7408</td>\n",
       "      <td>0.7013</td>\n",
       "      <td>-80.9369</td>\n",
       "      <td>284.4186</td>\n",
       "      <td>False</td>\n",
       "    </tr>\n",
       "    <tr>\n",
       "      <td>8</td>\n",
       "      <td>2</td>\n",
       "      <td>3</td>\n",
       "      <td>-8.4815</td>\n",
       "      <td>0.9000</td>\n",
       "      <td>-149.2052</td>\n",
       "      <td>132.2421</td>\n",
       "      <td>False</td>\n",
       "    </tr>\n",
       "    <tr>\n",
       "      <td>9</td>\n",
       "      <td>2</td>\n",
       "      <td>4</td>\n",
       "      <td>-72.7002</td>\n",
       "      <td>0.7250</td>\n",
       "      <td>-206.2617</td>\n",
       "      <td>60.8614</td>\n",
       "      <td>False</td>\n",
       "    </tr>\n",
       "    <tr>\n",
       "      <td>10</td>\n",
       "      <td>2</td>\n",
       "      <td>5</td>\n",
       "      <td>-67.9754</td>\n",
       "      <td>0.9000</td>\n",
       "      <td>-254.6631</td>\n",
       "      <td>118.7123</td>\n",
       "      <td>False</td>\n",
       "    </tr>\n",
       "    <tr>\n",
       "      <td>11</td>\n",
       "      <td>2</td>\n",
       "      <td>6</td>\n",
       "      <td>-152.1472</td>\n",
       "      <td>0.1034</td>\n",
       "      <td>-318.2452</td>\n",
       "      <td>13.9507</td>\n",
       "      <td>False</td>\n",
       "    </tr>\n",
       "    <tr>\n",
       "      <td>12</td>\n",
       "      <td>2</td>\n",
       "      <td>7</td>\n",
       "      <td>-2.1547</td>\n",
       "      <td>0.9000</td>\n",
       "      <td>-166.5288</td>\n",
       "      <td>162.2193</td>\n",
       "      <td>False</td>\n",
       "    </tr>\n",
       "    <tr>\n",
       "      <td>13</td>\n",
       "      <td>2</td>\n",
       "      <td>8</td>\n",
       "      <td>-95.4088</td>\n",
       "      <td>0.5349</td>\n",
       "      <td>-243.2531</td>\n",
       "      <td>52.4356</td>\n",
       "      <td>False</td>\n",
       "    </tr>\n",
       "    <tr>\n",
       "      <td>14</td>\n",
       "      <td>2</td>\n",
       "      <td>9</td>\n",
       "      <td>31.0613</td>\n",
       "      <td>0.9000</td>\n",
       "      <td>-160.9455</td>\n",
       "      <td>223.0682</td>\n",
       "      <td>False</td>\n",
       "    </tr>\n",
       "    <tr>\n",
       "      <td>15</td>\n",
       "      <td>3</td>\n",
       "      <td>4</td>\n",
       "      <td>-64.2186</td>\n",
       "      <td>0.7606</td>\n",
       "      <td>-186.4399</td>\n",
       "      <td>58.0027</td>\n",
       "      <td>False</td>\n",
       "    </tr>\n",
       "    <tr>\n",
       "      <td>16</td>\n",
       "      <td>3</td>\n",
       "      <td>5</td>\n",
       "      <td>-59.4939</td>\n",
       "      <td>0.9000</td>\n",
       "      <td>-238.2441</td>\n",
       "      <td>119.2564</td>\n",
       "      <td>False</td>\n",
       "    </tr>\n",
       "    <tr>\n",
       "      <td>17</td>\n",
       "      <td>3</td>\n",
       "      <td>6</td>\n",
       "      <td>-143.6657</td>\n",
       "      <td>0.1049</td>\n",
       "      <td>-300.7895</td>\n",
       "      <td>13.4581</td>\n",
       "      <td>False</td>\n",
       "    </tr>\n",
       "    <tr>\n",
       "      <td>18</td>\n",
       "      <td>3</td>\n",
       "      <td>7</td>\n",
       "      <td>6.3268</td>\n",
       "      <td>0.9000</td>\n",
       "      <td>-148.9735</td>\n",
       "      <td>161.6271</td>\n",
       "      <td>False</td>\n",
       "    </tr>\n",
       "    <tr>\n",
       "      <td>19</td>\n",
       "      <td>3</td>\n",
       "      <td>8</td>\n",
       "      <td>-86.9273</td>\n",
       "      <td>0.5613</td>\n",
       "      <td>-224.6128</td>\n",
       "      <td>50.7583</td>\n",
       "      <td>False</td>\n",
       "    </tr>\n",
       "    <tr>\n",
       "      <td>20</td>\n",
       "      <td>3</td>\n",
       "      <td>9</td>\n",
       "      <td>39.5429</td>\n",
       "      <td>0.9000</td>\n",
       "      <td>-144.7557</td>\n",
       "      <td>223.8415</td>\n",
       "      <td>False</td>\n",
       "    </tr>\n",
       "    <tr>\n",
       "      <td>21</td>\n",
       "      <td>4</td>\n",
       "      <td>5</td>\n",
       "      <td>4.7247</td>\n",
       "      <td>0.9000</td>\n",
       "      <td>-168.4434</td>\n",
       "      <td>177.8929</td>\n",
       "      <td>False</td>\n",
       "    </tr>\n",
       "    <tr>\n",
       "      <td>22</td>\n",
       "      <td>4</td>\n",
       "      <td>6</td>\n",
       "      <td>-79.4471</td>\n",
       "      <td>0.7575</td>\n",
       "      <td>-230.1900</td>\n",
       "      <td>71.2959</td>\n",
       "      <td>False</td>\n",
       "    </tr>\n",
       "    <tr>\n",
       "      <td>23</td>\n",
       "      <td>4</td>\n",
       "      <td>7</td>\n",
       "      <td>70.5454</td>\n",
       "      <td>0.8574</td>\n",
       "      <td>-78.2959</td>\n",
       "      <td>219.3867</td>\n",
       "      <td>False</td>\n",
       "    </tr>\n",
       "    <tr>\n",
       "      <td>24</td>\n",
       "      <td>4</td>\n",
       "      <td>8</td>\n",
       "      <td>-22.7086</td>\n",
       "      <td>0.9000</td>\n",
       "      <td>-153.0653</td>\n",
       "      <td>107.6480</td>\n",
       "      <td>False</td>\n",
       "    </tr>\n",
       "    <tr>\n",
       "      <td>25</td>\n",
       "      <td>4</td>\n",
       "      <td>9</td>\n",
       "      <td>103.7615</td>\n",
       "      <td>0.6578</td>\n",
       "      <td>-75.1282</td>\n",
       "      <td>282.6512</td>\n",
       "      <td>False</td>\n",
       "    </tr>\n",
       "    <tr>\n",
       "      <td>26</td>\n",
       "      <td>5</td>\n",
       "      <td>6</td>\n",
       "      <td>-84.1718</td>\n",
       "      <td>0.9000</td>\n",
       "      <td>-283.5134</td>\n",
       "      <td>115.1697</td>\n",
       "      <td>False</td>\n",
       "    </tr>\n",
       "    <tr>\n",
       "      <td>27</td>\n",
       "      <td>5</td>\n",
       "      <td>7</td>\n",
       "      <td>65.8207</td>\n",
       "      <td>0.9000</td>\n",
       "      <td>-132.0867</td>\n",
       "      <td>263.7281</td>\n",
       "      <td>False</td>\n",
       "    </tr>\n",
       "    <tr>\n",
       "      <td>28</td>\n",
       "      <td>5</td>\n",
       "      <td>8</td>\n",
       "      <td>-27.4334</td>\n",
       "      <td>0.9000</td>\n",
       "      <td>-211.8418</td>\n",
       "      <td>156.9750</td>\n",
       "      <td>False</td>\n",
       "    </tr>\n",
       "    <tr>\n",
       "      <td>29</td>\n",
       "      <td>5</td>\n",
       "      <td>9</td>\n",
       "      <td>99.0368</td>\n",
       "      <td>0.9000</td>\n",
       "      <td>-122.3569</td>\n",
       "      <td>320.4304</td>\n",
       "      <td>False</td>\n",
       "    </tr>\n",
       "    <tr>\n",
       "      <td>30</td>\n",
       "      <td>6</td>\n",
       "      <td>7</td>\n",
       "      <td>149.9925</td>\n",
       "      <td>0.1837</td>\n",
       "      <td>-28.6232</td>\n",
       "      <td>328.6082</td>\n",
       "      <td>False</td>\n",
       "    </tr>\n",
       "    <tr>\n",
       "      <td>31</td>\n",
       "      <td>6</td>\n",
       "      <td>8</td>\n",
       "      <td>56.7384</td>\n",
       "      <td>0.9000</td>\n",
       "      <td>-106.7935</td>\n",
       "      <td>220.2704</td>\n",
       "      <td>False</td>\n",
       "    </tr>\n",
       "    <tr>\n",
       "      <td>32</td>\n",
       "      <td>6</td>\n",
       "      <td>9</td>\n",
       "      <td>183.2086</td>\n",
       "      <td>0.1211</td>\n",
       "      <td>-21.1229</td>\n",
       "      <td>387.5401</td>\n",
       "      <td>False</td>\n",
       "    </tr>\n",
       "    <tr>\n",
       "      <td>33</td>\n",
       "      <td>7</td>\n",
       "      <td>8</td>\n",
       "      <td>-93.2541</td>\n",
       "      <td>0.6646</td>\n",
       "      <td>-255.0348</td>\n",
       "      <td>68.5267</td>\n",
       "      <td>False</td>\n",
       "    </tr>\n",
       "    <tr>\n",
       "      <td>34</td>\n",
       "      <td>7</td>\n",
       "      <td>9</td>\n",
       "      <td>33.2161</td>\n",
       "      <td>0.9000</td>\n",
       "      <td>-169.7166</td>\n",
       "      <td>236.1487</td>\n",
       "      <td>False</td>\n",
       "    </tr>\n",
       "    <tr>\n",
       "      <td>35</td>\n",
       "      <td>8</td>\n",
       "      <td>9</td>\n",
       "      <td>126.4701</td>\n",
       "      <td>0.4952</td>\n",
       "      <td>-63.3213</td>\n",
       "      <td>316.2616</td>\n",
       "      <td>False</td>\n",
       "    </tr>\n",
       "  </tbody>\n",
       "</table>\n",
       "</div>"
      ],
      "text/plain": [
       "   group1 group2  meandiff   p-adj     lower     upper  reject\n",
       "0       1      2   70.6795  0.7896  -67.9146  209.2736   False\n",
       "1       1      3   62.1979  0.8328  -65.5036  189.8995   False\n",
       "2       1      4   -2.0207  0.9000 -121.7839  117.7426   False\n",
       "3       1      5    2.7041  0.9000 -174.3746  179.7827   False\n",
       "4       1      6  -81.4678  0.7616 -236.6872   73.7517   False\n",
       "5       1      7   68.5247  0.9000  -84.8486  221.8981   False\n",
       "6       1      8  -24.7293  0.9000 -160.2376  110.7790   False\n",
       "7       1      9  101.7408  0.7013  -80.9369  284.4186   False\n",
       "8       2      3   -8.4815  0.9000 -149.2052  132.2421   False\n",
       "9       2      4  -72.7002  0.7250 -206.2617   60.8614   False\n",
       "10      2      5  -67.9754  0.9000 -254.6631  118.7123   False\n",
       "11      2      6 -152.1472  0.1034 -318.2452   13.9507   False\n",
       "12      2      7   -2.1547  0.9000 -166.5288  162.2193   False\n",
       "13      2      8  -95.4088  0.5349 -243.2531   52.4356   False\n",
       "14      2      9   31.0613  0.9000 -160.9455  223.0682   False\n",
       "15      3      4  -64.2186  0.7606 -186.4399   58.0027   False\n",
       "16      3      5  -59.4939  0.9000 -238.2441  119.2564   False\n",
       "17      3      6 -143.6657  0.1049 -300.7895   13.4581   False\n",
       "18      3      7    6.3268  0.9000 -148.9735  161.6271   False\n",
       "19      3      8  -86.9273  0.5613 -224.6128   50.7583   False\n",
       "20      3      9   39.5429  0.9000 -144.7557  223.8415   False\n",
       "21      4      5    4.7247  0.9000 -168.4434  177.8929   False\n",
       "22      4      6  -79.4471  0.7575 -230.1900   71.2959   False\n",
       "23      4      7   70.5454  0.8574  -78.2959  219.3867   False\n",
       "24      4      8  -22.7086  0.9000 -153.0653  107.6480   False\n",
       "25      4      9  103.7615  0.6578  -75.1282  282.6512   False\n",
       "26      5      6  -84.1718  0.9000 -283.5134  115.1697   False\n",
       "27      5      7   65.8207  0.9000 -132.0867  263.7281   False\n",
       "28      5      8  -27.4334  0.9000 -211.8418  156.9750   False\n",
       "29      5      9   99.0368  0.9000 -122.3569  320.4304   False\n",
       "30      6      7  149.9925  0.1837  -28.6232  328.6082   False\n",
       "31      6      8   56.7384  0.9000 -106.7935  220.2704   False\n",
       "32      6      9  183.2086  0.1211  -21.1229  387.5401   False\n",
       "33      7      8  -93.2541  0.6646 -255.0348   68.5267   False\n",
       "34      7      9   33.2161  0.9000 -169.7166  236.1487   False\n",
       "35      8      9  126.4701  0.4952  -63.3213  316.2616   False"
      ]
     },
     "execution_count": 166,
     "metadata": {},
     "output_type": "execute_result"
    }
   ],
   "source": [
    "tukeyrepdf"
   ]
  },
  {
   "cell_type": "code",
   "execution_count": 85,
   "metadata": {},
   "outputs": [],
   "source": [
    "def mult_Cohn_d(tukey_result_df, df_dict):\n",
    "    '''Using a dataframe from Tukey Test Results and a \n",
    "    corresponding dictionary, this function loops through \n",
    "    each variable and returns the adjusted p-value and Cohn_d test'''\n",
    "    import pandas as pd\n",
    "    \n",
    "    res = [['g1', 'g2','padj', 'd']]\n",
    "    for i, row in tukey_result_df.iterrows():\n",
    "        g1 = row['group1']\n",
    "        g2 = row['group2']\n",
    "        padj = row['p-adj']\n",
    "        d = fn.Cohen_d(df_dict[str(g1)], df_dict[str(g2)])\n",
    "\n",
    "        res.append([g1, g2,padj, d])\n",
    "\n",
    "    mdc = pd.DataFrame(res[1:], columns=res[0])\n",
    "    return mdc"
   ]
  },
  {
   "cell_type": "markdown",
   "metadata": {},
   "source": [
    "### Hypothesis 3 Results Table:"
   ]
  },
  {
   "cell_type": "code",
   "execution_count": 167,
   "metadata": {
    "scrolled": true
   },
   "outputs": [
    {
     "data": {
      "text/html": [
       "<div>\n",
       "<style scoped>\n",
       "    .dataframe tbody tr th:only-of-type {\n",
       "        vertical-align: middle;\n",
       "    }\n",
       "\n",
       "    .dataframe tbody tr th {\n",
       "        vertical-align: top;\n",
       "    }\n",
       "\n",
       "    .dataframe thead th {\n",
       "        text-align: right;\n",
       "    }\n",
       "</style>\n",
       "<table border=\"1\" class=\"dataframe\">\n",
       "  <thead>\n",
       "    <tr style=\"text-align: right;\">\n",
       "      <th></th>\n",
       "      <th>g1</th>\n",
       "      <th>g2</th>\n",
       "      <th>padj</th>\n",
       "      <th>d</th>\n",
       "    </tr>\n",
       "  </thead>\n",
       "  <tbody>\n",
       "    <tr>\n",
       "      <td>0</td>\n",
       "      <td>1</td>\n",
       "      <td>2</td>\n",
       "      <td>0.7896</td>\n",
       "      <td>-0.130744</td>\n",
       "    </tr>\n",
       "    <tr>\n",
       "      <td>1</td>\n",
       "      <td>1</td>\n",
       "      <td>3</td>\n",
       "      <td>0.8328</td>\n",
       "      <td>-0.114624</td>\n",
       "    </tr>\n",
       "    <tr>\n",
       "      <td>2</td>\n",
       "      <td>1</td>\n",
       "      <td>4</td>\n",
       "      <td>0.9000</td>\n",
       "      <td>0.004144</td>\n",
       "    </tr>\n",
       "    <tr>\n",
       "      <td>3</td>\n",
       "      <td>1</td>\n",
       "      <td>5</td>\n",
       "      <td>0.9000</td>\n",
       "      <td>-0.005335</td>\n",
       "    </tr>\n",
       "    <tr>\n",
       "      <td>4</td>\n",
       "      <td>1</td>\n",
       "      <td>6</td>\n",
       "      <td>0.7616</td>\n",
       "      <td>0.170314</td>\n",
       "    </tr>\n",
       "    <tr>\n",
       "      <td>5</td>\n",
       "      <td>1</td>\n",
       "      <td>7</td>\n",
       "      <td>0.9000</td>\n",
       "      <td>-0.120978</td>\n",
       "    </tr>\n",
       "    <tr>\n",
       "      <td>6</td>\n",
       "      <td>1</td>\n",
       "      <td>8</td>\n",
       "      <td>0.9000</td>\n",
       "      <td>0.052428</td>\n",
       "    </tr>\n",
       "    <tr>\n",
       "      <td>7</td>\n",
       "      <td>1</td>\n",
       "      <td>9</td>\n",
       "      <td>0.7013</td>\n",
       "      <td>-0.176757</td>\n",
       "    </tr>\n",
       "    <tr>\n",
       "      <td>8</td>\n",
       "      <td>2</td>\n",
       "      <td>3</td>\n",
       "      <td>0.9000</td>\n",
       "      <td>0.014775</td>\n",
       "    </tr>\n",
       "    <tr>\n",
       "      <td>9</td>\n",
       "      <td>2</td>\n",
       "      <td>4</td>\n",
       "      <td>0.7250</td>\n",
       "      <td>0.143003</td>\n",
       "    </tr>\n",
       "    <tr>\n",
       "      <td>10</td>\n",
       "      <td>2</td>\n",
       "      <td>5</td>\n",
       "      <td>0.9000</td>\n",
       "      <td>0.123877</td>\n",
       "    </tr>\n",
       "    <tr>\n",
       "      <td>11</td>\n",
       "      <td>2</td>\n",
       "      <td>6</td>\n",
       "      <td>0.1034</td>\n",
       "      <td>0.298368</td>\n",
       "    </tr>\n",
       "    <tr>\n",
       "      <td>12</td>\n",
       "      <td>2</td>\n",
       "      <td>7</td>\n",
       "      <td>0.9000</td>\n",
       "      <td>0.003517</td>\n",
       "    </tr>\n",
       "    <tr>\n",
       "      <td>13</td>\n",
       "      <td>2</td>\n",
       "      <td>8</td>\n",
       "      <td>0.5349</td>\n",
       "      <td>0.192116</td>\n",
       "    </tr>\n",
       "    <tr>\n",
       "      <td>14</td>\n",
       "      <td>2</td>\n",
       "      <td>9</td>\n",
       "      <td>0.9000</td>\n",
       "      <td>-0.049137</td>\n",
       "    </tr>\n",
       "    <tr>\n",
       "      <td>15</td>\n",
       "      <td>3</td>\n",
       "      <td>4</td>\n",
       "      <td>0.7606</td>\n",
       "      <td>0.124941</td>\n",
       "    </tr>\n",
       "    <tr>\n",
       "      <td>16</td>\n",
       "      <td>3</td>\n",
       "      <td>5</td>\n",
       "      <td>0.9000</td>\n",
       "      <td>0.108117</td>\n",
       "    </tr>\n",
       "    <tr>\n",
       "      <td>17</td>\n",
       "      <td>3</td>\n",
       "      <td>6</td>\n",
       "      <td>0.1049</td>\n",
       "      <td>0.277284</td>\n",
       "    </tr>\n",
       "    <tr>\n",
       "      <td>18</td>\n",
       "      <td>3</td>\n",
       "      <td>7</td>\n",
       "      <td>0.9000</td>\n",
       "      <td>-0.010479</td>\n",
       "    </tr>\n",
       "    <tr>\n",
       "      <td>19</td>\n",
       "      <td>3</td>\n",
       "      <td>8</td>\n",
       "      <td>0.5613</td>\n",
       "      <td>0.171933</td>\n",
       "    </tr>\n",
       "    <tr>\n",
       "      <td>20</td>\n",
       "      <td>3</td>\n",
       "      <td>9</td>\n",
       "      <td>0.9000</td>\n",
       "      <td>-0.063944</td>\n",
       "    </tr>\n",
       "    <tr>\n",
       "      <td>21</td>\n",
       "      <td>4</td>\n",
       "      <td>5</td>\n",
       "      <td>0.9000</td>\n",
       "      <td>-0.010070</td>\n",
       "    </tr>\n",
       "    <tr>\n",
       "      <td>22</td>\n",
       "      <td>4</td>\n",
       "      <td>6</td>\n",
       "      <td>0.7575</td>\n",
       "      <td>0.178198</td>\n",
       "    </tr>\n",
       "    <tr>\n",
       "      <td>23</td>\n",
       "      <td>4</td>\n",
       "      <td>7</td>\n",
       "      <td>0.8574</td>\n",
       "      <td>-0.133375</td>\n",
       "    </tr>\n",
       "    <tr>\n",
       "      <td>24</td>\n",
       "      <td>4</td>\n",
       "      <td>8</td>\n",
       "      <td>0.9000</td>\n",
       "      <td>0.051141</td>\n",
       "    </tr>\n",
       "    <tr>\n",
       "      <td>25</td>\n",
       "      <td>4</td>\n",
       "      <td>9</td>\n",
       "      <td>0.6578</td>\n",
       "      <td>-0.194860</td>\n",
       "    </tr>\n",
       "    <tr>\n",
       "      <td>26</td>\n",
       "      <td>5</td>\n",
       "      <td>6</td>\n",
       "      <td>0.9000</td>\n",
       "      <td>0.193965</td>\n",
       "    </tr>\n",
       "    <tr>\n",
       "      <td>27</td>\n",
       "      <td>5</td>\n",
       "      <td>7</td>\n",
       "      <td>0.9000</td>\n",
       "      <td>-0.110550</td>\n",
       "    </tr>\n",
       "    <tr>\n",
       "      <td>28</td>\n",
       "      <td>5</td>\n",
       "      <td>8</td>\n",
       "      <td>0.9000</td>\n",
       "      <td>0.063274</td>\n",
       "    </tr>\n",
       "    <tr>\n",
       "      <td>29</td>\n",
       "      <td>5</td>\n",
       "      <td>9</td>\n",
       "      <td>0.9000</td>\n",
       "      <td>-0.159411</td>\n",
       "    </tr>\n",
       "    <tr>\n",
       "      <td>30</td>\n",
       "      <td>6</td>\n",
       "      <td>7</td>\n",
       "      <td>0.1837</td>\n",
       "      <td>-0.275056</td>\n",
       "    </tr>\n",
       "    <tr>\n",
       "      <td>31</td>\n",
       "      <td>6</td>\n",
       "      <td>8</td>\n",
       "      <td>0.9000</td>\n",
       "      <td>-0.140752</td>\n",
       "    </tr>\n",
       "    <tr>\n",
       "      <td>32</td>\n",
       "      <td>6</td>\n",
       "      <td>9</td>\n",
       "      <td>0.1211</td>\n",
       "      <td>-0.329617</td>\n",
       "    </tr>\n",
       "    <tr>\n",
       "      <td>33</td>\n",
       "      <td>7</td>\n",
       "      <td>8</td>\n",
       "      <td>0.6646</td>\n",
       "      <td>0.178140</td>\n",
       "    </tr>\n",
       "    <tr>\n",
       "      <td>34</td>\n",
       "      <td>7</td>\n",
       "      <td>9</td>\n",
       "      <td>0.9000</td>\n",
       "      <td>-0.048048</td>\n",
       "    </tr>\n",
       "    <tr>\n",
       "      <td>35</td>\n",
       "      <td>8</td>\n",
       "      <td>9</td>\n",
       "      <td>0.4952</td>\n",
       "      <td>-0.239676</td>\n",
       "    </tr>\n",
       "  </tbody>\n",
       "</table>\n",
       "</div>"
      ],
      "text/plain": [
       "   g1 g2    padj         d\n",
       "0   1  2  0.7896 -0.130744\n",
       "1   1  3  0.8328 -0.114624\n",
       "2   1  4  0.9000  0.004144\n",
       "3   1  5  0.9000 -0.005335\n",
       "4   1  6  0.7616  0.170314\n",
       "5   1  7  0.9000 -0.120978\n",
       "6   1  8  0.9000  0.052428\n",
       "7   1  9  0.7013 -0.176757\n",
       "8   2  3  0.9000  0.014775\n",
       "9   2  4  0.7250  0.143003\n",
       "10  2  5  0.9000  0.123877\n",
       "11  2  6  0.1034  0.298368\n",
       "12  2  7  0.9000  0.003517\n",
       "13  2  8  0.5349  0.192116\n",
       "14  2  9  0.9000 -0.049137\n",
       "15  3  4  0.7606  0.124941\n",
       "16  3  5  0.9000  0.108117\n",
       "17  3  6  0.1049  0.277284\n",
       "18  3  7  0.9000 -0.010479\n",
       "19  3  8  0.5613  0.171933\n",
       "20  3  9  0.9000 -0.063944\n",
       "21  4  5  0.9000 -0.010070\n",
       "22  4  6  0.7575  0.178198\n",
       "23  4  7  0.8574 -0.133375\n",
       "24  4  8  0.9000  0.051141\n",
       "25  4  9  0.6578 -0.194860\n",
       "26  5  6  0.9000  0.193965\n",
       "27  5  7  0.9000 -0.110550\n",
       "28  5  8  0.9000  0.063274\n",
       "29  5  9  0.9000 -0.159411\n",
       "30  6  7  0.1837 -0.275056\n",
       "31  6  8  0.9000 -0.140752\n",
       "32  6  9  0.1211 -0.329617\n",
       "33  7  8  0.6646  0.178140\n",
       "34  7  9  0.9000 -0.048048\n",
       "35  8  9  0.4952 -0.239676"
      ]
     },
     "execution_count": 167,
     "metadata": {},
     "output_type": "execute_result"
    }
   ],
   "source": [
    "mult_Cohn_d(tukeyrepdf, reps)"
   ]
  },
  {
   "cell_type": "markdown",
   "metadata": {},
   "source": [
    "### Findings and recommendations: \n",
    "\n",
    "\n",
    "#### Findings:\n",
    "Both parametric and non parametric tests were conducted, despite indications for non-parametric tests as the dataset(s) did not meet the assupmtion of equal variance. A visual inspection after outlier removal suggested there could be significant variance in the mean and the parametric was run for comparison.  The parametric test indicated that the null hypothesis could be rejected.  However, post-hoc testing validated the efficacy of the non-parametric test to **accept the null hypothesis**, with the smallest probability that the outcome was due to chance was well over the accepted rate of .05. \n",
    "\n",
    "The Hypothesis 3 Results Table above provides details on how each representative compares with one another and is itemized by the adjusted p values and d is the result of a Cohen D illustrating the effect size of each comparison.\n",
    "\n",
    "\n",
    "#### Recommendation:    \n",
    "If there is no statistical difference, and effect size is small at best, best practices can still be shared by those who have a higher average revenue, examples 2,3 and 9 still have higher than average sales.\n",
    "    \n",
    "Perhaps a little healthy, insentivised competition might spur increased revenues if not by one, by many.  Also, building on knowledge of smaller discounts yielding larger quantities, sales team could increase revenue by being conservative with discount rates.\n",
    "   \n",
    "    "
   ]
  },
  {
   "cell_type": "markdown",
   "metadata": {},
   "source": [
    "# HYPOTHESIS 4:\n",
    "\n",
    "> ***Where are our customers from that spend the most money?***\n",
    "\n",
    "$H0$: Customers spend equal amounts regardless of region.\n",
    "\n",
    "$H1$: Region has an effect on total amount spent.\n",
    "\n",
    "\n",
    "    "
   ]
  },
  {
   "cell_type": "markdown",
   "metadata": {},
   "source": [
    "#### Importing and inspecting data from  OrderDetail and Order\n",
    "\n",
    "These table includes information on:\n",
    "\n",
    "    1) Sales total information \n",
    "    2) Regions where orders shipped to indicating the location of customers"
   ]
  },
  {
   "cell_type": "code",
   "execution_count": 168,
   "metadata": {
    "scrolled": true
   },
   "outputs": [
    {
     "data": {
      "text/html": [
       "<div>\n",
       "<style scoped>\n",
       "    .dataframe tbody tr th:only-of-type {\n",
       "        vertical-align: middle;\n",
       "    }\n",
       "\n",
       "    .dataframe tbody tr th {\n",
       "        vertical-align: top;\n",
       "    }\n",
       "\n",
       "    .dataframe thead th {\n",
       "        text-align: right;\n",
       "    }\n",
       "</style>\n",
       "<table border=\"1\" class=\"dataframe\">\n",
       "  <thead>\n",
       "    <tr style=\"text-align: right;\">\n",
       "      <th></th>\n",
       "      <th>ShipRegion</th>\n",
       "      <th>OrderId</th>\n",
       "      <th>ProductId</th>\n",
       "      <th>UnitPrice</th>\n",
       "      <th>Quantity</th>\n",
       "      <th>Discount</th>\n",
       "    </tr>\n",
       "  </thead>\n",
       "  <tbody>\n",
       "    <tr>\n",
       "      <td>0</td>\n",
       "      <td>Western Europe</td>\n",
       "      <td>10248</td>\n",
       "      <td>11</td>\n",
       "      <td>14.0</td>\n",
       "      <td>12</td>\n",
       "      <td>0.0</td>\n",
       "    </tr>\n",
       "    <tr>\n",
       "      <td>1</td>\n",
       "      <td>Western Europe</td>\n",
       "      <td>10248</td>\n",
       "      <td>42</td>\n",
       "      <td>9.8</td>\n",
       "      <td>10</td>\n",
       "      <td>0.0</td>\n",
       "    </tr>\n",
       "    <tr>\n",
       "      <td>2</td>\n",
       "      <td>Western Europe</td>\n",
       "      <td>10248</td>\n",
       "      <td>72</td>\n",
       "      <td>34.8</td>\n",
       "      <td>5</td>\n",
       "      <td>0.0</td>\n",
       "    </tr>\n",
       "    <tr>\n",
       "      <td>3</td>\n",
       "      <td>Western Europe</td>\n",
       "      <td>10249</td>\n",
       "      <td>14</td>\n",
       "      <td>18.6</td>\n",
       "      <td>9</td>\n",
       "      <td>0.0</td>\n",
       "    </tr>\n",
       "    <tr>\n",
       "      <td>4</td>\n",
       "      <td>Western Europe</td>\n",
       "      <td>10249</td>\n",
       "      <td>51</td>\n",
       "      <td>42.4</td>\n",
       "      <td>40</td>\n",
       "      <td>0.0</td>\n",
       "    </tr>\n",
       "  </tbody>\n",
       "</table>\n",
       "</div>"
      ],
      "text/plain": [
       "       ShipRegion  OrderId  ProductId  UnitPrice  Quantity  Discount\n",
       "0  Western Europe    10248         11       14.0        12       0.0\n",
       "1  Western Europe    10248         42        9.8        10       0.0\n",
       "2  Western Europe    10248         72       34.8         5       0.0\n",
       "3  Western Europe    10249         14       18.6         9       0.0\n",
       "4  Western Europe    10249         51       42.4        40       0.0"
      ]
     },
     "execution_count": 168,
     "metadata": {},
     "output_type": "execute_result"
    }
   ],
   "source": [
    "cur.execute(\"\"\"SELECT \n",
    "                ShipRegion, \n",
    "                OrderID, \n",
    "                ProductID, \n",
    "                UnitPrice,\n",
    "                Quantity, \n",
    "                Discount\n",
    "                FROM `Order` AS o\n",
    "                JOIN OrderDetail AS od\n",
    "                on o.ID = od.OrderId ;\"\"\")\n",
    "dfreg = pd.DataFrame(cur.fetchall(), columns=[x[0] for x in cur.description])\n",
    "dfreg.head()"
   ]
  },
  {
   "cell_type": "code",
   "execution_count": 169,
   "metadata": {},
   "outputs": [],
   "source": [
    "dfreg['Amount_Spent'] = ((dfreg['UnitPrice'])*(1 - dfreg['Discount']))*dfreg['Quantity']"
   ]
  },
  {
   "cell_type": "markdown",
   "metadata": {},
   "source": [
    "### Hypothesis 4 Preliminary Visualizations:"
   ]
  },
  {
   "cell_type": "code",
   "execution_count": 170,
   "metadata": {
    "scrolled": true
   },
   "outputs": [
    {
     "name": "stdout",
     "output_type": "stream",
     "text": [
      "The average total spend is $587.37\n",
      "The distribution indicates there may be outliers.\n"
     ]
    },
    {
     "data": {
      "image/png": "[encoded data removed]",
      "text/plain": [
       "<Figure size 576x396 with 1 Axes>"
      ]
     },
     "metadata": {},
     "output_type": "display_data"
    }
   ],
   "source": [
    "fig, ax = plt.subplots()\n",
    "spend_mu = dfreg['Amount_Spent'].mean()\n",
    "sns.distplot(dfreg['Amount_Spent'], ax=ax)\n",
    "plt.axvline(spend_mu, color='lightgreen')\n",
    "plt.title('Average Total Spend')\n",
    "print(f'The average total spend is ${round(spend_mu,2)}')\n",
    "print(f'The distribution indicates there may be outliers.')"
   ]
  },
  {
   "cell_type": "code",
   "execution_count": null,
   "metadata": {},
   "outputs": [],
   "source": []
  },
  {
   "cell_type": "code",
   "execution_count": 171,
   "metadata": {},
   "outputs": [],
   "source": [
    "regs = {}\n",
    "for reg in dfreg['ShipRegion'].unique():\n",
    "    regs[reg] = dfreg.groupby('ShipRegion').get_group(reg)['Amount_Spent']\n"
   ]
  },
  {
   "cell_type": "code",
   "execution_count": 172,
   "metadata": {
    "scrolled": true
   },
   "outputs": [
    {
     "name": "stdout",
     "output_type": "stream",
     "text": [
      "There are 9 regions, they are ['Western Europe', 'South America', 'Central America', 'North America', 'Northern Europe', 'Scandinavia', 'Southern Europe', 'British Isles', 'Eastern Europe'].\n"
     ]
    }
   ],
   "source": [
    "regions = list(dfreg['ShipRegion'].unique())\n",
    "regions\n",
    "print(f'There are {len(regions)} regions, they are {regions}.')"
   ]
  },
  {
   "cell_type": "code",
   "execution_count": 173,
   "metadata": {},
   "outputs": [
    {
     "name": "stdout",
     "output_type": "stream",
     "text": [
      "Distributions appear roughly equal, although there appears to be outliers\n"
     ]
    },
    {
     "data": {
      "image/png": "[encoded data removed]",
      "text/plain": [
       "<Figure size 720x360 with 1 Axes>"
      ]
     },
     "metadata": {},
     "output_type": "display_data"
    }
   ],
   "source": [
    "fig, ax = plt.subplots(figsize=(10,5))\n",
    "for k,v in regs.items():\n",
    "    sns.distplot(v,label=v)\n",
    "\n",
    "\n",
    "plt.title('Sales Revenue Distribution')\n",
    "plt.ylabel('Distribution')\n",
    "print('Distributions appear roughly equal, although there appears to be outliers')"
   ]
  },
  {
   "cell_type": "code",
   "execution_count": 174,
   "metadata": {
    "scrolled": false
   },
   "outputs": [
    {
     "data": {
      "application/vnd.jupyter.widget-view+json": {
       "model_id": "b11dac0955fb47218d52ac0ce03b2bb4",
       "version_major": 2,
       "version_minor": 0
      },
      "text/plain": [
       "interactive(children=(Dropdown(description='d', options=('Western Europe', 'South America', 'Central America',…"
      ]
     },
     "metadata": {},
     "output_type": "display_data"
    }
   ],
   "source": [
    "@interact\n",
    "def plt_discounts(d=regions):\n",
    "    sns.distplot(dfreg.groupby('ShipRegion').get_group(d)['Amount_Spent'])\n",
    "    plt.axvline(spend_mu, color='purple')\n",
    "    plt.gca()"
   ]
  },
  {
   "cell_type": "code",
   "execution_count": 175,
   "metadata": {},
   "outputs": [
    {
     "data": {
      "image/png": "[encoded data removed]",
      "text/plain": [
       "<Figure size 576x360 with 1 Axes>"
      ]
     },
     "metadata": {},
     "output_type": "display_data"
    }
   ],
   "source": [
    "fig, ax = plt.subplots(figsize=(8,5))\n",
    "sns.barplot(data=dfreg, x='ShipRegion', y='Amount_Spent', ci=68, palette=\"rocket\", ax=ax)\n",
    "plt.title('Total Spend by Region', fontsize=16)\n",
    "plt.axhline(spend_mu,linestyle=\"--\", color='orange', linewidth=.6 )\n",
    "plt.xlabel('Region')\n",
    "plt.xticks(rotation=45)\n",
    "plt.ylabel('Total Spend')\n",
    "plt.show()"
   ]
  },
  {
   "cell_type": "code",
   "execution_count": null,
   "metadata": {},
   "outputs": [],
   "source": []
  },
  {
   "cell_type": "markdown",
   "metadata": {},
   "source": [
    "#### Hypothesis 4 Initial Observations:\n",
    "Datatype is numeric in this 2155 order sample.\n",
    "\n",
    "There are 9 regions in reflected in this dataset\n",
    "\n",
    "The avarage of total spent is $587.37.\n",
    "\n",
    "Initial visual inspection indicates skewed, but roughly uniform distribution in total sales, more than half of the sales representatives achieve the average. Additional testing will demonstrate if it is significant.\n",
    "\n",
    "Since we are comparing multiple regions to inspect it's impact on quantity ordered an AVNOVA test will be run: Assumptions for ANOVA Testing:\n",
    "\n",
    "1) Upon a quick visual inspection, there appears to be some outliers that could be removed\n",
    "\n",
    "2) Equal variance\n",
    "\n",
    "3) Normality (if n>15) Not required for samples greater than 15"
   ]
  },
  {
   "cell_type": "markdown",
   "metadata": {},
   "source": [
    "### Hypothesis 4 Assumption 1: Outlier \n",
    "Outliers were identified and removed via z-score testing.  Details are below:"
   ]
  },
  {
   "cell_type": "code",
   "execution_count": 176,
   "metadata": {},
   "outputs": [],
   "source": [
    "regs = {}\n",
    "for reg in dfreg['ShipRegion'].unique():\n",
    "    regs[reg] = dfreg.groupby('ShipRegion').get_group(reg)['Amount_Spent']\n"
   ]
  },
  {
   "cell_type": "code",
   "execution_count": 177,
   "metadata": {
    "scrolled": false
   },
   "outputs": [
    {
     "name": "stdout",
     "output_type": "stream",
     "text": [
      "Found 11 outliers in the Western Europe\n",
      "Found 2 outliers in the South America\n",
      "Found 1 outliers in the Central America\n",
      "Found 9 outliers in the North America\n",
      "Found 2 outliers in the Northern Europe\n",
      "Found 1 outliers in the Scandinavia\n",
      "Found 3 outliers in the Southern Europe\n",
      "Found 4 outliers in the British Isles\n",
      "Found 0 outliers in the Eastern Europe\n",
      "\n",
      " All of these outliers were removed\n"
     ]
    }
   ],
   "source": [
    "for reg, reg_data in regs.items():\n",
    "    idx_outs = fn.find_outliers_Z(reg_data)\n",
    "    print(f'Found {idx_outs.sum()} outliers in the {reg}')\n",
    "    regs[reg] = reg_data[~idx_outs]\n",
    "print('\\n All of these outliers were removed')"
   ]
  },
  {
   "cell_type": "markdown",
   "metadata": {},
   "source": [
    "### Hypothesis 4 Assumption 2: Equal Variance"
   ]
  },
  {
   "cell_type": "code",
   "execution_count": 178,
   "metadata": {
    "scrolled": false
   },
   "outputs": [],
   "source": [
    "data = []\n",
    "labels = []\n",
    "for k,v in regs.items():\n",
    "    data.append(v)\n",
    "    labels.append(k)"
   ]
  },
  {
   "cell_type": "code",
   "execution_count": 179,
   "metadata": {
    "scrolled": true
   },
   "outputs": [
    {
     "name": "stdout",
     "output_type": "stream",
     "text": [
      "Lavene test for equal variance results are 0.0\n",
      "The groups do NOT have equal variance\n"
     ]
    }
   ],
   "source": [
    "stat,p = stats.levene(*data, center = 'median')\n",
    "print(f'Lavene test for equal variance results are {round(p,4)}')\n",
    "sig = 'do NOT' if p < .05 else 'DO'\n",
    "\n",
    "print(f'The groups {sig} have equal variance')\n",
    "      "
   ]
  },
  {
   "cell_type": "markdown",
   "metadata": {},
   "source": [
    "### Hypothesis 4 Assumption 3: Normality"
   ]
  },
  {
   "cell_type": "code",
   "execution_count": 180,
   "metadata": {},
   "outputs": [
    {
     "name": "stdout",
     "output_type": "stream",
     "text": [
      "There are 734 samples in the data set for Regions #Western Europe.\n",
      "There are 353 samples in the data set for Regions #South America.\n",
      "There are 71 samples in the data set for Regions #Central America.\n",
      "There are 418 samples in the data set for Regions #North America.\n",
      "There are 141 samples in the data set for Regions #Northern Europe.\n",
      "There are 69 samples in the data set for Regions #Scandinavia.\n",
      "There are 134 samples in the data set for Regions #Southern Europe.\n",
      "There are 186 samples in the data set for Regions #British Isles.\n",
      "There are 16 samples in the data set for Regions #Eastern Europe.\n",
      "\n",
      "All samples are >15: Normality Assumption Criterion is met.\n"
     ]
    }
   ],
   "source": [
    "n =[]\n",
    "for reg, samples in regs.items():\n",
    "    print(f'There are {len(samples)} samples in the data set for Regions #{reg}.')\n",
    "    n.append(len(samples)>15)\n",
    "if all(n):\n",
    "    print('\\nAll samples are >15: Normality Assumption Criterion is met.')"
   ]
  },
  {
   "cell_type": "markdown",
   "metadata": {},
   "source": [
    "#### Using non-parametric Kruskal since the data set was not of equal variance:"
   ]
  },
  {
   "cell_type": "code",
   "execution_count": 181,
   "metadata": {
    "scrolled": true
   },
   "outputs": [
    {
     "name": "stdout",
     "output_type": "stream",
     "text": [
      "Kruskal test p value: 0.0\n"
     ]
    }
   ],
   "source": [
    "stat, p = stats.kruskal(*data)\n",
    "print(f\"Kruskal test p value: {round(p,6)}\")"
   ]
  },
  {
   "cell_type": "code",
   "execution_count": 182,
   "metadata": {
    "scrolled": true
   },
   "outputs": [
    {
     "data": {
      "text/html": [
       "<div>\n",
       "<style scoped>\n",
       "    .dataframe tbody tr th:only-of-type {\n",
       "        vertical-align: middle;\n",
       "    }\n",
       "\n",
       "    .dataframe tbody tr th {\n",
       "        vertical-align: top;\n",
       "    }\n",
       "\n",
       "    .dataframe thead th {\n",
       "        text-align: right;\n",
       "    }\n",
       "</style>\n",
       "<table border=\"1\" class=\"dataframe\">\n",
       "  <thead>\n",
       "    <tr style=\"text-align: right;\">\n",
       "      <th></th>\n",
       "      <th>data</th>\n",
       "      <th>group</th>\n",
       "    </tr>\n",
       "  </thead>\n",
       "  <tbody>\n",
       "    <tr>\n",
       "      <td>0</td>\n",
       "      <td>168.0</td>\n",
       "      <td>Western Europe</td>\n",
       "    </tr>\n",
       "    <tr>\n",
       "      <td>1</td>\n",
       "      <td>98.0</td>\n",
       "      <td>Western Europe</td>\n",
       "    </tr>\n",
       "    <tr>\n",
       "      <td>2</td>\n",
       "      <td>174.0</td>\n",
       "      <td>Western Europe</td>\n",
       "    </tr>\n",
       "    <tr>\n",
       "      <td>3</td>\n",
       "      <td>167.4</td>\n",
       "      <td>Western Europe</td>\n",
       "    </tr>\n",
       "    <tr>\n",
       "      <td>4</td>\n",
       "      <td>1696.0</td>\n",
       "      <td>Western Europe</td>\n",
       "    </tr>\n",
       "    <tr>\n",
       "      <td>...</td>\n",
       "      <td>...</td>\n",
       "      <td>...</td>\n",
       "    </tr>\n",
       "    <tr>\n",
       "      <td>1933</td>\n",
       "      <td>54.0</td>\n",
       "      <td>Eastern Europe</td>\n",
       "    </tr>\n",
       "    <tr>\n",
       "      <td>1934</td>\n",
       "      <td>199.5</td>\n",
       "      <td>Eastern Europe</td>\n",
       "    </tr>\n",
       "    <tr>\n",
       "      <td>1935</td>\n",
       "      <td>200.0</td>\n",
       "      <td>Eastern Europe</td>\n",
       "    </tr>\n",
       "    <tr>\n",
       "      <td>1936</td>\n",
       "      <td>232.5</td>\n",
       "      <td>Eastern Europe</td>\n",
       "    </tr>\n",
       "    <tr>\n",
       "      <td>2054</td>\n",
       "      <td>591.6</td>\n",
       "      <td>Eastern Europe</td>\n",
       "    </tr>\n",
       "  </tbody>\n",
       "</table>\n",
       "<p>2122 rows × 2 columns</p>\n",
       "</div>"
      ],
      "text/plain": [
       "        data           group\n",
       "0      168.0  Western Europe\n",
       "1       98.0  Western Europe\n",
       "2      174.0  Western Europe\n",
       "3      167.4  Western Europe\n",
       "4     1696.0  Western Europe\n",
       "...      ...             ...\n",
       "1933    54.0  Eastern Europe\n",
       "1934   199.5  Eastern Europe\n",
       "1935   200.0  Eastern Europe\n",
       "1936   232.5  Eastern Europe\n",
       "2054   591.6  Eastern Europe\n",
       "\n",
       "[2122 rows x 2 columns]"
      ]
     },
     "execution_count": 182,
     "metadata": {},
     "output_type": "execute_result"
    }
   ],
   "source": [
    "cregs = fn.prep_data_for_tukeys(regs)  \n",
    "cregs"
   ]
  },
  {
   "cell_type": "code",
   "execution_count": 158,
   "metadata": {},
   "outputs": [
    {
     "data": {
      "text/plain": [
       "500.12534142318566"
      ]
     },
     "execution_count": 158,
     "metadata": {},
     "output_type": "execute_result"
    }
   ],
   "source": [
    "mu = cregs['data'].mean()\n",
    "mu"
   ]
  },
  {
   "cell_type": "code",
   "execution_count": 183,
   "metadata": {},
   "outputs": [],
   "source": [
    "cregs['data']=cregs['data'].astype(float)\n",
    "cregs['group']=cregs['group'].astype(str)"
   ]
  },
  {
   "cell_type": "code",
   "execution_count": 184,
   "metadata": {
    "scrolled": false
   },
   "outputs": [
    {
     "data": {
      "text/html": [
       "<table class=\"simpletable\">\n",
       "<caption>Multiple Comparison of Means - Tukey HSD, FWER=0.05</caption>\n",
       "<tr>\n",
       "      <th>group1</th>          <th>group2</th>      <th>meandiff</th>   <th>p-adj</th>   <th>lower</th>     <th>upper</th>   <th>reject</th>\n",
       "</tr>\n",
       "<tr>\n",
       "   <td>British Isles</td>  <td>Central America</td> <td>-185.8522</td> <td>0.2271</td> <td>-415.6671</td>  <td>43.9628</td>   <td>False</td>\n",
       "</tr>\n",
       "<tr>\n",
       "   <td>British Isles</td>  <td>Eastern Europe</td>  <td>-241.5782</td> <td>0.6901</td> <td>-670.7752</td> <td>187.6188</td>   <td>False</td>\n",
       "</tr>\n",
       "<tr>\n",
       "   <td>British Isles</td>   <td>North America</td>  <td>108.0077</td>  <td>0.3368</td> <td>-37.1939</td>  <td>253.2093</td>   <td>False</td>\n",
       "</tr>\n",
       "<tr>\n",
       "   <td>British Isles</td>  <td>Northern Europe</td>  <td>48.1291</td>    <td>0.9</td>  <td>-135.8232</td> <td>232.0814</td>   <td>False</td>\n",
       "</tr>\n",
       "<tr>\n",
       "   <td>British Isles</td>    <td>Scandinavia</td>   <td>-137.1482</td> <td>0.6379</td> <td>-369.3612</td>  <td>95.0647</td>   <td>False</td>\n",
       "</tr>\n",
       "<tr>\n",
       "   <td>British Isles</td>   <td>South America</td>  <td>-38.1848</td>    <td>0.9</td>  <td>-187.4464</td> <td>111.0767</td>   <td>False</td>\n",
       "</tr>\n",
       "<tr>\n",
       "   <td>British Isles</td>  <td>Southern Europe</td> <td>-172.9738</td> <td>0.0946</td> <td>-359.6391</td>  <td>13.6914</td>   <td>False</td>\n",
       "</tr>\n",
       "<tr>\n",
       "   <td>British Isles</td>  <td>Western Europe</td>  <td>124.6055</td>  <td>0.0989</td> <td>-10.6288</td>  <td>259.8398</td>   <td>False</td>\n",
       "</tr>\n",
       "<tr>\n",
       "  <td>Central America</td> <td>Eastern Europe</td>   <td>-55.726</td>    <td>0.9</td>  <td>-511.6242</td> <td>400.1721</td>   <td>False</td>\n",
       "</tr>\n",
       "<tr>\n",
       "  <td>Central America</td>  <td>North America</td>  <td>293.8599</td>   <td>0.001</td>  <td>82.3968</td>  <td>505.3229</td>   <td>True</td> \n",
       "</tr>\n",
       "<tr>\n",
       "  <td>Central America</td> <td>Northern Europe</td> <td>233.9812</td>  <td>0.0623</td>  <td>-5.7511</td>  <td>473.7136</td>   <td>False</td>\n",
       "</tr>\n",
       "<tr>\n",
       "  <td>Central America</td>   <td>Scandinavia</td>    <td>48.7039</td>    <td>0.9</td>  <td>-229.7849</td> <td>327.1927</td>   <td>False</td>\n",
       "</tr>\n",
       "<tr>\n",
       "  <td>Central America</td>  <td>South America</td>  <td>147.6673</td>  <td>0.4491</td> <td>-66.6039</td>  <td>361.9385</td>   <td>False</td>\n",
       "</tr>\n",
       "<tr>\n",
       "  <td>Central America</td> <td>Southern Europe</td>  <td>12.8783</td>    <td>0.9</td>  <td>-228.942</td>  <td>254.6986</td>   <td>False</td>\n",
       "</tr>\n",
       "<tr>\n",
       "  <td>Central America</td> <td>Western Europe</td>  <td>310.4577</td>   <td>0.001</td> <td>105.7104</td>   <td>515.205</td>   <td>True</td> \n",
       "</tr>\n",
       "<tr>\n",
       "  <td>Eastern Europe</td>   <td>North America</td>  <td>349.5859</td>  <td>0.1926</td> <td>-70.0708</td>  <td>769.2426</td>   <td>False</td>\n",
       "</tr>\n",
       "<tr>\n",
       "  <td>Eastern Europe</td>  <td>Northern Europe</td> <td>289.7073</td>  <td>0.4947</td> <td>-144.8807</td> <td>724.2953</td>   <td>False</td>\n",
       "</tr>\n",
       "<tr>\n",
       "  <td>Eastern Europe</td>    <td>Scandinavia</td>    <td>104.43</td>     <td>0.9</td>  <td>-352.6817</td> <td>561.5417</td>   <td>False</td>\n",
       "</tr>\n",
       "<tr>\n",
       "  <td>Eastern Europe</td>   <td>South America</td>  <td>203.3934</td>  <td>0.8404</td> <td>-217.6853</td>  <td>624.472</td>   <td>False</td>\n",
       "</tr>\n",
       "<tr>\n",
       "  <td>Eastern Europe</td>  <td>Southern Europe</td>  <td>68.6044</td>    <td>0.9</td>  <td>-367.1389</td> <td>504.3476</td>   <td>False</td>\n",
       "</tr>\n",
       "<tr>\n",
       "  <td>Eastern Europe</td>  <td>Western Europe</td>  <td>366.1837</td>  <td>0.1372</td> <td>-50.1293</td>  <td>782.4968</td>   <td>False</td>\n",
       "</tr>\n",
       "<tr>\n",
       "   <td>North America</td>  <td>Northern Europe</td> <td>-59.8786</td>    <td>0.9</td>  <td>-220.316</td>  <td>100.5588</td>   <td>False</td>\n",
       "</tr>\n",
       "<tr>\n",
       "   <td>North America</td>    <td>Scandinavia</td>   <td>-245.1559</td> <td>0.0115</td> <td>-459.2227</td> <td>-31.0892</td>   <td>True</td> \n",
       "</tr>\n",
       "<tr>\n",
       "   <td>North America</td>   <td>South America</td>  <td>-146.1925</td> <td>0.0045</td> <td>-265.2754</td> <td>-27.1097</td>   <td>True</td> \n",
       "</tr>\n",
       "<tr>\n",
       "   <td>North America</td>  <td>Southern Europe</td> <td>-280.9815</td>  <td>0.001</td> <td>-444.5224</td> <td>-117.4406</td>  <td>True</td> \n",
       "</tr>\n",
       "<tr>\n",
       "   <td>North America</td>  <td>Western Europe</td>   <td>16.5978</td>    <td>0.9</td>  <td>-84.3478</td>  <td>117.5435</td>   <td>False</td>\n",
       "</tr>\n",
       "<tr>\n",
       "  <td>Northern Europe</td>   <td>Scandinavia</td>   <td>-185.2773</td> <td>0.2974</td> <td>-427.3094</td>  <td>56.7548</td>   <td>False</td>\n",
       "</tr>\n",
       "<tr>\n",
       "  <td>Northern Europe</td>  <td>South America</td>  <td>-86.3139</td>  <td>0.7597</td> <td>-250.4349</td>  <td>77.807</td>    <td>False</td>\n",
       "</tr>\n",
       "<tr>\n",
       "  <td>Northern Europe</td> <td>Southern Europe</td> <td>-221.1029</td> <td>0.0164</td> <td>-419.8505</td> <td>-22.3554</td>   <td>True</td> \n",
       "</tr>\n",
       "<tr>\n",
       "  <td>Northern Europe</td> <td>Western Europe</td>   <td>76.4764</td>  <td>0.7992</td> <td>-74.9996</td>  <td>227.9525</td>   <td>False</td>\n",
       "</tr>\n",
       "<tr>\n",
       "    <td>Scandinavia</td>    <td>South America</td>   <td>98.9634</td>  <td>0.8905</td> <td>-117.8778</td> <td>315.8046</td>   <td>False</td>\n",
       "</tr>\n",
       "<tr>\n",
       "    <td>Scandinavia</td>   <td>Southern Europe</td> <td>-35.8256</td>    <td>0.9</td>  <td>-279.926</td>  <td>208.2748</td>   <td>False</td>\n",
       "</tr>\n",
       "<tr>\n",
       "    <td>Scandinavia</td>   <td>Western Europe</td>  <td>261.7538</td>   <td>0.003</td>  <td>54.3185</td>   <td>469.189</td>   <td>True</td> \n",
       "</tr>\n",
       "<tr>\n",
       "   <td>South America</td>  <td>Southern Europe</td> <td>-134.789</td>  <td>0.2306</td> <td>-301.9451</td>  <td>32.3671</td>   <td>False</td>\n",
       "</tr>\n",
       "<tr>\n",
       "   <td>South America</td>  <td>Western Europe</td>  <td>162.7904</td>   <td>0.001</td>  <td>56.0873</td>  <td>269.4934</td>   <td>True</td> \n",
       "</tr>\n",
       "<tr>\n",
       "  <td>Southern Europe</td> <td>Western Europe</td>  <td>297.5794</td>   <td>0.001</td>  <td>142.82</td>   <td>452.3387</td>   <td>True</td> \n",
       "</tr>\n",
       "</table>"
      ],
      "text/plain": [
       "<class 'statsmodels.iolib.table.SimpleTable'>"
      ]
     },
     "execution_count": 184,
     "metadata": {},
     "output_type": "execute_result"
    }
   ],
   "source": [
    "tukeyr = sms.stats.multicomp.pairwise_tukeyhsd(cregs['data'],cregs['group'])\n",
    "tukeyr.summary()"
   ]
  },
  {
   "cell_type": "code",
   "execution_count": 185,
   "metadata": {
    "scrolled": true
   },
   "outputs": [
    {
     "data": {
      "image/png": "[encoded data removed]",
      "text/plain": [
       "<Figure size 720x432 with 1 Axes>"
      ]
     },
     "metadata": {},
     "output_type": "display_data"
    }
   ],
   "source": [
    "tukeyr.plot_simultaneous();"
   ]
  },
  {
   "cell_type": "markdown",
   "metadata": {},
   "source": [
    "** Noting that the sample size of Eastern Europe is relatively small and the confidence interval is much greater to accomodate for it, possibly skewing the results of the table below."
   ]
  },
  {
   "cell_type": "code",
   "execution_count": 187,
   "metadata": {},
   "outputs": [],
   "source": [
    "tukeyr_df = fn.tukey_df(tukeyr)"
   ]
  },
  {
   "cell_type": "code",
   "execution_count": 188,
   "metadata": {
    "scrolled": true
   },
   "outputs": [
    {
     "data": {
      "text/html": [
       "<div>\n",
       "<style scoped>\n",
       "    .dataframe tbody tr th:only-of-type {\n",
       "        vertical-align: middle;\n",
       "    }\n",
       "\n",
       "    .dataframe tbody tr th {\n",
       "        vertical-align: top;\n",
       "    }\n",
       "\n",
       "    .dataframe thead th {\n",
       "        text-align: right;\n",
       "    }\n",
       "</style>\n",
       "<table border=\"1\" class=\"dataframe\">\n",
       "  <thead>\n",
       "    <tr style=\"text-align: right;\">\n",
       "      <th></th>\n",
       "      <th>group1</th>\n",
       "      <th>group2</th>\n",
       "      <th>meandiff</th>\n",
       "      <th>p-adj</th>\n",
       "      <th>lower</th>\n",
       "      <th>upper</th>\n",
       "      <th>reject</th>\n",
       "    </tr>\n",
       "  </thead>\n",
       "  <tbody>\n",
       "    <tr>\n",
       "      <td>0</td>\n",
       "      <td>British Isles</td>\n",
       "      <td>Central America</td>\n",
       "      <td>-185.8522</td>\n",
       "      <td>0.2271</td>\n",
       "      <td>-415.6671</td>\n",
       "      <td>43.9628</td>\n",
       "      <td>False</td>\n",
       "    </tr>\n",
       "    <tr>\n",
       "      <td>1</td>\n",
       "      <td>British Isles</td>\n",
       "      <td>Eastern Europe</td>\n",
       "      <td>-241.5782</td>\n",
       "      <td>0.6901</td>\n",
       "      <td>-670.7752</td>\n",
       "      <td>187.6188</td>\n",
       "      <td>False</td>\n",
       "    </tr>\n",
       "    <tr>\n",
       "      <td>2</td>\n",
       "      <td>British Isles</td>\n",
       "      <td>North America</td>\n",
       "      <td>108.0077</td>\n",
       "      <td>0.3368</td>\n",
       "      <td>-37.1939</td>\n",
       "      <td>253.2093</td>\n",
       "      <td>False</td>\n",
       "    </tr>\n",
       "    <tr>\n",
       "      <td>3</td>\n",
       "      <td>British Isles</td>\n",
       "      <td>Northern Europe</td>\n",
       "      <td>48.1291</td>\n",
       "      <td>0.9000</td>\n",
       "      <td>-135.8232</td>\n",
       "      <td>232.0814</td>\n",
       "      <td>False</td>\n",
       "    </tr>\n",
       "    <tr>\n",
       "      <td>4</td>\n",
       "      <td>British Isles</td>\n",
       "      <td>Scandinavia</td>\n",
       "      <td>-137.1482</td>\n",
       "      <td>0.6379</td>\n",
       "      <td>-369.3612</td>\n",
       "      <td>95.0647</td>\n",
       "      <td>False</td>\n",
       "    </tr>\n",
       "    <tr>\n",
       "      <td>5</td>\n",
       "      <td>British Isles</td>\n",
       "      <td>South America</td>\n",
       "      <td>-38.1848</td>\n",
       "      <td>0.9000</td>\n",
       "      <td>-187.4464</td>\n",
       "      <td>111.0767</td>\n",
       "      <td>False</td>\n",
       "    </tr>\n",
       "    <tr>\n",
       "      <td>6</td>\n",
       "      <td>British Isles</td>\n",
       "      <td>Southern Europe</td>\n",
       "      <td>-172.9738</td>\n",
       "      <td>0.0946</td>\n",
       "      <td>-359.6391</td>\n",
       "      <td>13.6914</td>\n",
       "      <td>False</td>\n",
       "    </tr>\n",
       "    <tr>\n",
       "      <td>7</td>\n",
       "      <td>British Isles</td>\n",
       "      <td>Western Europe</td>\n",
       "      <td>124.6055</td>\n",
       "      <td>0.0989</td>\n",
       "      <td>-10.6288</td>\n",
       "      <td>259.8398</td>\n",
       "      <td>False</td>\n",
       "    </tr>\n",
       "    <tr>\n",
       "      <td>8</td>\n",
       "      <td>Central America</td>\n",
       "      <td>Eastern Europe</td>\n",
       "      <td>-55.7260</td>\n",
       "      <td>0.9000</td>\n",
       "      <td>-511.6242</td>\n",
       "      <td>400.1721</td>\n",
       "      <td>False</td>\n",
       "    </tr>\n",
       "    <tr>\n",
       "      <td>10</td>\n",
       "      <td>Central America</td>\n",
       "      <td>Northern Europe</td>\n",
       "      <td>233.9812</td>\n",
       "      <td>0.0623</td>\n",
       "      <td>-5.7511</td>\n",
       "      <td>473.7136</td>\n",
       "      <td>False</td>\n",
       "    </tr>\n",
       "    <tr>\n",
       "      <td>11</td>\n",
       "      <td>Central America</td>\n",
       "      <td>Scandinavia</td>\n",
       "      <td>48.7039</td>\n",
       "      <td>0.9000</td>\n",
       "      <td>-229.7849</td>\n",
       "      <td>327.1927</td>\n",
       "      <td>False</td>\n",
       "    </tr>\n",
       "    <tr>\n",
       "      <td>12</td>\n",
       "      <td>Central America</td>\n",
       "      <td>South America</td>\n",
       "      <td>147.6673</td>\n",
       "      <td>0.4491</td>\n",
       "      <td>-66.6039</td>\n",
       "      <td>361.9385</td>\n",
       "      <td>False</td>\n",
       "    </tr>\n",
       "    <tr>\n",
       "      <td>13</td>\n",
       "      <td>Central America</td>\n",
       "      <td>Southern Europe</td>\n",
       "      <td>12.8783</td>\n",
       "      <td>0.9000</td>\n",
       "      <td>-228.9420</td>\n",
       "      <td>254.6986</td>\n",
       "      <td>False</td>\n",
       "    </tr>\n",
       "    <tr>\n",
       "      <td>15</td>\n",
       "      <td>Eastern Europe</td>\n",
       "      <td>North America</td>\n",
       "      <td>349.5859</td>\n",
       "      <td>0.1926</td>\n",
       "      <td>-70.0708</td>\n",
       "      <td>769.2426</td>\n",
       "      <td>False</td>\n",
       "    </tr>\n",
       "    <tr>\n",
       "      <td>16</td>\n",
       "      <td>Eastern Europe</td>\n",
       "      <td>Northern Europe</td>\n",
       "      <td>289.7073</td>\n",
       "      <td>0.4947</td>\n",
       "      <td>-144.8807</td>\n",
       "      <td>724.2953</td>\n",
       "      <td>False</td>\n",
       "    </tr>\n",
       "    <tr>\n",
       "      <td>17</td>\n",
       "      <td>Eastern Europe</td>\n",
       "      <td>Scandinavia</td>\n",
       "      <td>104.4300</td>\n",
       "      <td>0.9000</td>\n",
       "      <td>-352.6817</td>\n",
       "      <td>561.5417</td>\n",
       "      <td>False</td>\n",
       "    </tr>\n",
       "    <tr>\n",
       "      <td>18</td>\n",
       "      <td>Eastern Europe</td>\n",
       "      <td>South America</td>\n",
       "      <td>203.3934</td>\n",
       "      <td>0.8404</td>\n",
       "      <td>-217.6853</td>\n",
       "      <td>624.4720</td>\n",
       "      <td>False</td>\n",
       "    </tr>\n",
       "    <tr>\n",
       "      <td>19</td>\n",
       "      <td>Eastern Europe</td>\n",
       "      <td>Southern Europe</td>\n",
       "      <td>68.6044</td>\n",
       "      <td>0.9000</td>\n",
       "      <td>-367.1389</td>\n",
       "      <td>504.3476</td>\n",
       "      <td>False</td>\n",
       "    </tr>\n",
       "    <tr>\n",
       "      <td>20</td>\n",
       "      <td>Eastern Europe</td>\n",
       "      <td>Western Europe</td>\n",
       "      <td>366.1837</td>\n",
       "      <td>0.1372</td>\n",
       "      <td>-50.1293</td>\n",
       "      <td>782.4968</td>\n",
       "      <td>False</td>\n",
       "    </tr>\n",
       "    <tr>\n",
       "      <td>21</td>\n",
       "      <td>North America</td>\n",
       "      <td>Northern Europe</td>\n",
       "      <td>-59.8786</td>\n",
       "      <td>0.9000</td>\n",
       "      <td>-220.3160</td>\n",
       "      <td>100.5588</td>\n",
       "      <td>False</td>\n",
       "    </tr>\n",
       "    <tr>\n",
       "      <td>25</td>\n",
       "      <td>North America</td>\n",
       "      <td>Western Europe</td>\n",
       "      <td>16.5978</td>\n",
       "      <td>0.9000</td>\n",
       "      <td>-84.3478</td>\n",
       "      <td>117.5435</td>\n",
       "      <td>False</td>\n",
       "    </tr>\n",
       "    <tr>\n",
       "      <td>26</td>\n",
       "      <td>Northern Europe</td>\n",
       "      <td>Scandinavia</td>\n",
       "      <td>-185.2773</td>\n",
       "      <td>0.2974</td>\n",
       "      <td>-427.3094</td>\n",
       "      <td>56.7548</td>\n",
       "      <td>False</td>\n",
       "    </tr>\n",
       "    <tr>\n",
       "      <td>27</td>\n",
       "      <td>Northern Europe</td>\n",
       "      <td>South America</td>\n",
       "      <td>-86.3139</td>\n",
       "      <td>0.7597</td>\n",
       "      <td>-250.4349</td>\n",
       "      <td>77.8070</td>\n",
       "      <td>False</td>\n",
       "    </tr>\n",
       "    <tr>\n",
       "      <td>29</td>\n",
       "      <td>Northern Europe</td>\n",
       "      <td>Western Europe</td>\n",
       "      <td>76.4764</td>\n",
       "      <td>0.7992</td>\n",
       "      <td>-74.9996</td>\n",
       "      <td>227.9525</td>\n",
       "      <td>False</td>\n",
       "    </tr>\n",
       "    <tr>\n",
       "      <td>30</td>\n",
       "      <td>Scandinavia</td>\n",
       "      <td>South America</td>\n",
       "      <td>98.9634</td>\n",
       "      <td>0.8905</td>\n",
       "      <td>-117.8778</td>\n",
       "      <td>315.8046</td>\n",
       "      <td>False</td>\n",
       "    </tr>\n",
       "    <tr>\n",
       "      <td>31</td>\n",
       "      <td>Scandinavia</td>\n",
       "      <td>Southern Europe</td>\n",
       "      <td>-35.8256</td>\n",
       "      <td>0.9000</td>\n",
       "      <td>-279.9260</td>\n",
       "      <td>208.2748</td>\n",
       "      <td>False</td>\n",
       "    </tr>\n",
       "    <tr>\n",
       "      <td>33</td>\n",
       "      <td>South America</td>\n",
       "      <td>Southern Europe</td>\n",
       "      <td>-134.7890</td>\n",
       "      <td>0.2306</td>\n",
       "      <td>-301.9451</td>\n",
       "      <td>32.3671</td>\n",
       "      <td>False</td>\n",
       "    </tr>\n",
       "  </tbody>\n",
       "</table>\n",
       "</div>"
      ],
      "text/plain": [
       "             group1           group2  meandiff   p-adj     lower     upper  \\\n",
       "0     British Isles  Central America -185.8522  0.2271 -415.6671   43.9628   \n",
       "1     British Isles   Eastern Europe -241.5782  0.6901 -670.7752  187.6188   \n",
       "2     British Isles    North America  108.0077  0.3368  -37.1939  253.2093   \n",
       "3     British Isles  Northern Europe   48.1291  0.9000 -135.8232  232.0814   \n",
       "4     British Isles      Scandinavia -137.1482  0.6379 -369.3612   95.0647   \n",
       "5     British Isles    South America  -38.1848  0.9000 -187.4464  111.0767   \n",
       "6     British Isles  Southern Europe -172.9738  0.0946 -359.6391   13.6914   \n",
       "7     British Isles   Western Europe  124.6055  0.0989  -10.6288  259.8398   \n",
       "8   Central America   Eastern Europe  -55.7260  0.9000 -511.6242  400.1721   \n",
       "10  Central America  Northern Europe  233.9812  0.0623   -5.7511  473.7136   \n",
       "11  Central America      Scandinavia   48.7039  0.9000 -229.7849  327.1927   \n",
       "12  Central America    South America  147.6673  0.4491  -66.6039  361.9385   \n",
       "13  Central America  Southern Europe   12.8783  0.9000 -228.9420  254.6986   \n",
       "15   Eastern Europe    North America  349.5859  0.1926  -70.0708  769.2426   \n",
       "16   Eastern Europe  Northern Europe  289.7073  0.4947 -144.8807  724.2953   \n",
       "17   Eastern Europe      Scandinavia  104.4300  0.9000 -352.6817  561.5417   \n",
       "18   Eastern Europe    South America  203.3934  0.8404 -217.6853  624.4720   \n",
       "19   Eastern Europe  Southern Europe   68.6044  0.9000 -367.1389  504.3476   \n",
       "20   Eastern Europe   Western Europe  366.1837  0.1372  -50.1293  782.4968   \n",
       "21    North America  Northern Europe  -59.8786  0.9000 -220.3160  100.5588   \n",
       "25    North America   Western Europe   16.5978  0.9000  -84.3478  117.5435   \n",
       "26  Northern Europe      Scandinavia -185.2773  0.2974 -427.3094   56.7548   \n",
       "27  Northern Europe    South America  -86.3139  0.7597 -250.4349   77.8070   \n",
       "29  Northern Europe   Western Europe   76.4764  0.7992  -74.9996  227.9525   \n",
       "30      Scandinavia    South America   98.9634  0.8905 -117.8778  315.8046   \n",
       "31      Scandinavia  Southern Europe  -35.8256  0.9000 -279.9260  208.2748   \n",
       "33    South America  Southern Europe -134.7890  0.2306 -301.9451   32.3671   \n",
       "\n",
       "    reject  \n",
       "0    False  \n",
       "1    False  \n",
       "2    False  \n",
       "3    False  \n",
       "4    False  \n",
       "5    False  \n",
       "6    False  \n",
       "7    False  \n",
       "8    False  \n",
       "10   False  \n",
       "11   False  \n",
       "12   False  \n",
       "13   False  \n",
       "15   False  \n",
       "16   False  \n",
       "17   False  \n",
       "18   False  \n",
       "19   False  \n",
       "20   False  \n",
       "21   False  \n",
       "25   False  \n",
       "26   False  \n",
       "27   False  \n",
       "29   False  \n",
       "30   False  \n",
       "31   False  \n",
       "33   False  "
      ]
     },
     "execution_count": 188,
     "metadata": {},
     "output_type": "execute_result"
    }
   ],
   "source": [
    "tukeyr_false = tukeyr_df[tukeyr_df['reject']==False]\n",
    "tukeyr_false"
   ]
  },
  {
   "cell_type": "code",
   "execution_count": 189,
   "metadata": {
    "scrolled": false
   },
   "outputs": [
    {
     "data": {
      "text/html": [
       "<div>\n",
       "<style scoped>\n",
       "    .dataframe tbody tr th:only-of-type {\n",
       "        vertical-align: middle;\n",
       "    }\n",
       "\n",
       "    .dataframe tbody tr th {\n",
       "        vertical-align: top;\n",
       "    }\n",
       "\n",
       "    .dataframe thead th {\n",
       "        text-align: right;\n",
       "    }\n",
       "</style>\n",
       "<table border=\"1\" class=\"dataframe\">\n",
       "  <thead>\n",
       "    <tr style=\"text-align: right;\">\n",
       "      <th></th>\n",
       "      <th>group1</th>\n",
       "      <th>group2</th>\n",
       "      <th>meandiff</th>\n",
       "      <th>p-adj</th>\n",
       "      <th>lower</th>\n",
       "      <th>upper</th>\n",
       "      <th>reject</th>\n",
       "    </tr>\n",
       "  </thead>\n",
       "  <tbody>\n",
       "    <tr>\n",
       "      <td>9</td>\n",
       "      <td>Central America</td>\n",
       "      <td>North America</td>\n",
       "      <td>293.8599</td>\n",
       "      <td>0.0010</td>\n",
       "      <td>82.3968</td>\n",
       "      <td>505.3229</td>\n",
       "      <td>True</td>\n",
       "    </tr>\n",
       "    <tr>\n",
       "      <td>14</td>\n",
       "      <td>Central America</td>\n",
       "      <td>Western Europe</td>\n",
       "      <td>310.4577</td>\n",
       "      <td>0.0010</td>\n",
       "      <td>105.7104</td>\n",
       "      <td>515.2050</td>\n",
       "      <td>True</td>\n",
       "    </tr>\n",
       "    <tr>\n",
       "      <td>22</td>\n",
       "      <td>North America</td>\n",
       "      <td>Scandinavia</td>\n",
       "      <td>-245.1559</td>\n",
       "      <td>0.0115</td>\n",
       "      <td>-459.2227</td>\n",
       "      <td>-31.0892</td>\n",
       "      <td>True</td>\n",
       "    </tr>\n",
       "    <tr>\n",
       "      <td>23</td>\n",
       "      <td>North America</td>\n",
       "      <td>South America</td>\n",
       "      <td>-146.1925</td>\n",
       "      <td>0.0045</td>\n",
       "      <td>-265.2754</td>\n",
       "      <td>-27.1097</td>\n",
       "      <td>True</td>\n",
       "    </tr>\n",
       "    <tr>\n",
       "      <td>24</td>\n",
       "      <td>North America</td>\n",
       "      <td>Southern Europe</td>\n",
       "      <td>-280.9815</td>\n",
       "      <td>0.0010</td>\n",
       "      <td>-444.5224</td>\n",
       "      <td>-117.4406</td>\n",
       "      <td>True</td>\n",
       "    </tr>\n",
       "    <tr>\n",
       "      <td>28</td>\n",
       "      <td>Northern Europe</td>\n",
       "      <td>Southern Europe</td>\n",
       "      <td>-221.1029</td>\n",
       "      <td>0.0164</td>\n",
       "      <td>-419.8505</td>\n",
       "      <td>-22.3554</td>\n",
       "      <td>True</td>\n",
       "    </tr>\n",
       "    <tr>\n",
       "      <td>32</td>\n",
       "      <td>Scandinavia</td>\n",
       "      <td>Western Europe</td>\n",
       "      <td>261.7538</td>\n",
       "      <td>0.0030</td>\n",
       "      <td>54.3185</td>\n",
       "      <td>469.1890</td>\n",
       "      <td>True</td>\n",
       "    </tr>\n",
       "    <tr>\n",
       "      <td>34</td>\n",
       "      <td>South America</td>\n",
       "      <td>Western Europe</td>\n",
       "      <td>162.7904</td>\n",
       "      <td>0.0010</td>\n",
       "      <td>56.0873</td>\n",
       "      <td>269.4934</td>\n",
       "      <td>True</td>\n",
       "    </tr>\n",
       "    <tr>\n",
       "      <td>35</td>\n",
       "      <td>Southern Europe</td>\n",
       "      <td>Western Europe</td>\n",
       "      <td>297.5794</td>\n",
       "      <td>0.0010</td>\n",
       "      <td>142.8200</td>\n",
       "      <td>452.3387</td>\n",
       "      <td>True</td>\n",
       "    </tr>\n",
       "  </tbody>\n",
       "</table>\n",
       "</div>"
      ],
      "text/plain": [
       "             group1           group2  meandiff   p-adj     lower     upper  \\\n",
       "9   Central America    North America  293.8599  0.0010   82.3968  505.3229   \n",
       "14  Central America   Western Europe  310.4577  0.0010  105.7104  515.2050   \n",
       "22    North America      Scandinavia -245.1559  0.0115 -459.2227  -31.0892   \n",
       "23    North America    South America -146.1925  0.0045 -265.2754  -27.1097   \n",
       "24    North America  Southern Europe -280.9815  0.0010 -444.5224 -117.4406   \n",
       "28  Northern Europe  Southern Europe -221.1029  0.0164 -419.8505  -22.3554   \n",
       "32      Scandinavia   Western Europe  261.7538  0.0030   54.3185  469.1890   \n",
       "34    South America   Western Europe  162.7904  0.0010   56.0873  269.4934   \n",
       "35  Southern Europe   Western Europe  297.5794  0.0010  142.8200  452.3387   \n",
       "\n",
       "    reject  \n",
       "9     True  \n",
       "14    True  \n",
       "22    True  \n",
       "23    True  \n",
       "24    True  \n",
       "28    True  \n",
       "32    True  \n",
       "34    True  \n",
       "35    True  "
      ]
     },
     "execution_count": 189,
     "metadata": {},
     "output_type": "execute_result"
    }
   ],
   "source": [
    "tukeyr_trues = tukeyr_df[tukeyr_df['reject']==True]\n",
    "tukeyr_trues"
   ]
  },
  {
   "cell_type": "code",
   "execution_count": 190,
   "metadata": {
    "scrolled": false
   },
   "outputs": [
    {
     "data": {
      "text/html": [
       "<div>\n",
       "<style scoped>\n",
       "    .dataframe tbody tr th:only-of-type {\n",
       "        vertical-align: middle;\n",
       "    }\n",
       "\n",
       "    .dataframe tbody tr th {\n",
       "        vertical-align: top;\n",
       "    }\n",
       "\n",
       "    .dataframe thead th {\n",
       "        text-align: right;\n",
       "    }\n",
       "</style>\n",
       "<table border=\"1\" class=\"dataframe\">\n",
       "  <thead>\n",
       "    <tr style=\"text-align: right;\">\n",
       "      <th></th>\n",
       "      <th>g1</th>\n",
       "      <th>g2</th>\n",
       "      <th>padj</th>\n",
       "      <th>d</th>\n",
       "    </tr>\n",
       "  </thead>\n",
       "  <tbody>\n",
       "    <tr>\n",
       "      <td>0</td>\n",
       "      <td>Central America</td>\n",
       "      <td>North America</td>\n",
       "      <td>0.0010</td>\n",
       "      <td>-0.485386</td>\n",
       "    </tr>\n",
       "    <tr>\n",
       "      <td>1</td>\n",
       "      <td>Central America</td>\n",
       "      <td>Western Europe</td>\n",
       "      <td>0.0010</td>\n",
       "      <td>-0.548229</td>\n",
       "    </tr>\n",
       "    <tr>\n",
       "      <td>2</td>\n",
       "      <td>North America</td>\n",
       "      <td>Scandinavia</td>\n",
       "      <td>0.0115</td>\n",
       "      <td>0.402484</td>\n",
       "    </tr>\n",
       "    <tr>\n",
       "      <td>3</td>\n",
       "      <td>North America</td>\n",
       "      <td>South America</td>\n",
       "      <td>0.0045</td>\n",
       "      <td>0.262021</td>\n",
       "    </tr>\n",
       "    <tr>\n",
       "      <td>4</td>\n",
       "      <td>North America</td>\n",
       "      <td>Southern Europe</td>\n",
       "      <td>0.0010</td>\n",
       "      <td>0.485062</td>\n",
       "    </tr>\n",
       "    <tr>\n",
       "      <td>5</td>\n",
       "      <td>Northern Europe</td>\n",
       "      <td>Southern Europe</td>\n",
       "      <td>0.0164</td>\n",
       "      <td>0.481990</td>\n",
       "    </tr>\n",
       "    <tr>\n",
       "      <td>6</td>\n",
       "      <td>Scandinavia</td>\n",
       "      <td>Western Europe</td>\n",
       "      <td>0.0030</td>\n",
       "      <td>-0.460358</td>\n",
       "    </tr>\n",
       "    <tr>\n",
       "      <td>7</td>\n",
       "      <td>South America</td>\n",
       "      <td>Western Europe</td>\n",
       "      <td>0.0010</td>\n",
       "      <td>-0.300535</td>\n",
       "    </tr>\n",
       "    <tr>\n",
       "      <td>8</td>\n",
       "      <td>Southern Europe</td>\n",
       "      <td>Western Europe</td>\n",
       "      <td>0.0010</td>\n",
       "      <td>-0.539438</td>\n",
       "    </tr>\n",
       "  </tbody>\n",
       "</table>\n",
       "</div>"
      ],
      "text/plain": [
       "                g1               g2    padj         d\n",
       "0  Central America    North America  0.0010 -0.485386\n",
       "1  Central America   Western Europe  0.0010 -0.548229\n",
       "2    North America      Scandinavia  0.0115  0.402484\n",
       "3    North America    South America  0.0045  0.262021\n",
       "4    North America  Southern Europe  0.0010  0.485062\n",
       "5  Northern Europe  Southern Europe  0.0164  0.481990\n",
       "6      Scandinavia   Western Europe  0.0030 -0.460358\n",
       "7    South America   Western Europe  0.0010 -0.300535\n",
       "8  Southern Europe   Western Europe  0.0010 -0.539438"
      ]
     },
     "execution_count": 190,
     "metadata": {},
     "output_type": "execute_result"
    }
   ],
   "source": [
    "mult_Cohn_d(tukeyr_trues, regs)"
   ]
  },
  {
   "cell_type": "code",
   "execution_count": 191,
   "metadata": {
    "scrolled": true
   },
   "outputs": [
    {
     "name": "stdout",
     "output_type": "stream",
     "text": [
      "The average revenue for Western Europe is $586.93\n",
      "The average revenue for South America is $424.14\n",
      "The average revenue for Central America is $276.47\n",
      "The average revenue for North America is $570.33\n",
      "The average revenue for Northern Europe is $510.45\n",
      "The average revenue for Scandinavia is $325.18\n",
      "The average revenue for Southern Europe is $289.35\n",
      "The average revenue for British Isles is $462.33\n",
      "The average revenue for Eastern Europe is $220.75\n"
     ]
    }
   ],
   "source": [
    "for reg, rev in regs.items():\n",
    "    print(f'The average revenue for {reg} is ${round(rev.mean(),2)}')"
   ]
  },
  {
   "cell_type": "markdown",
   "metadata": {},
   "source": [
    "### Hypothesis 4 Observations and Recommendations:\n",
    "\n",
    "#### Obeservations \n",
    "The average spend for this dataset accross all regions was $500.\n",
    "\n",
    "Regional averages were found to be what is reported in the table below: \n",
    "\n",
    "Region | Average Revenue\n",
    " -- | --|\n",
    "Western Europe | `$586.93`\n",
    "North America | `$570.33`\n",
    "Northern Europe | `$510.45`\n",
    "British Isles | `$462.33`\n",
    "South America | `$424.14`\n",
    "Scandinavia | `$325.18`\n",
    "Southern Europe | `$289.35`\n",
    "Central America | `$276.47`\n",
    "Eastern Europe | `$220.75\n",
    "\n",
    "For each group, the assumption for equal variance was not met and a Kruksal test was conducted.  The p value for the nonparametric kruskal test was singificant, which can reject the null hypothesis that all regions spend the same amounts with a 5% degree of error that this is due to chance.\n",
    "\n",
    "Orders shipped to Western Europe, and North America and Northern Europe generated the highest amount of revenue, statistically these regions are equal:  \n",
    "\n",
    "Region 1 | Region 2 |  MeanDiff | Adj P | Reject Null\n",
    " -- | -- | --| --| --|\n",
    "North America | Northern Europe\t| -59.8786\t| 0.9000 | False\n",
    "North America | Western Europe | 16.5978 | 0.9000\t|\tFalse\n",
    "Northern Europe\t| Western Europe | 76.4764 | 0.7992\t| False\n",
    "\n",
    "\n",
    "For bottom performers that had enough data:\n",
    "\n",
    "Region 1 | Region 2 | Adj P \n",
    " -- | -- | --|\n",
    "South America |\tSouthern Europe\t| 0.2306\t\t\n",
    "\n",
    "#### Recommendations:\n",
    "Explore best practices from regions that are top performers.  \n",
    "Market analysis for regions that need to be developed. \n",
    "Leverage knowledge gained regarding categories and discounts.\n"
   ]
  },
  {
   "cell_type": "code",
   "execution_count": 192,
   "metadata": {},
   "outputs": [
    {
     "data": {
      "text/plain": [
       "['Western Europe',\n",
       " 'North America',\n",
       " 'Northern Europe',\n",
       " 'British Isles',\n",
       " 'South America',\n",
       " 'Scandinavia',\n",
       " 'Southern Europe',\n",
       " 'Central America',\n",
       " 'Eastern Europe']"
      ]
     },
     "execution_count": 192,
     "metadata": {},
     "output_type": "execute_result"
    }
   ],
   "source": [
    "indexr = list(cregs.groupby('group').mean().sort_values('data', ascending=False).index)\n",
    "indexr"
   ]
  },
  {
   "cell_type": "code",
   "execution_count": 193,
   "metadata": {},
   "outputs": [
    {
     "data": {
      "image/png": "[encoded data removed]",
      "text/plain": [
       "<Figure size 864x576 with 1 Axes>"
      ]
     },
     "metadata": {},
     "output_type": "display_data"
    }
   ],
   "source": [
    "avspend = cregs['data'].mean()\n",
    "avspend\n",
    "fig, ax = plt.subplots(figsize=(12,8))\n",
    "sns.barplot(data=cregs, x='group', y='data', ci=68,order=indexr, palette=\"rocket\", ax=ax)\n",
    "plt.title('Average Revenue by Region', fontsize=20)\n",
    "plt.axhline(avspend,linestyle=\"--\", color='orange', linewidth=.6 )\n",
    "plt.xlabel('Region')\n",
    "plt.xticks(rotation=45)\n",
    "plt.ylabel('Average Revenue')\n",
    "plt.show()"
   ]
  },
  {
   "cell_type": "markdown",
   "metadata": {},
   "source": [
    "# In Closing:"
   ]
  },
  {
   "cell_type": "code",
   "execution_count": null,
   "metadata": {},
   "outputs": [],
   "source": [
    "Since the data provided did not include purchase prices of merchandise, ways were examined to maximize revenues.\n",
    "\n",
    "It was discovered through data exploration ways to achieve this through: \n",
    "    Minimizing discounts\n",
    "    Broadening Revenue Generating Categories\n",
    "    Develop Regional Markets"
   ]
  }
 ],
 "metadata": {
  "kernelspec": {
   "display_name": "Python [conda env:learn-env] *",
   "language": "python",
   "name": "conda-env-learn-env-py"
  },
  "language_info": {
   "codemirror_mode": {
    "name": "ipython",
    "version": 3
   },
   "file_extension": ".py",
   "mimetype": "text/x-python",
   "name": "python",
   "nbconvert_exporter": "python",
   "pygments_lexer": "ipython3",
   "version": "3.6.9"
  },
  "latex_envs": {
   "LaTeX_envs_menu_present": true,
   "autoclose": false,
   "autocomplete": true,
   "bibliofile": "biblio.bib",
   "cite_by": "apalike",
   "current_citInitial": 1,
   "eqLabelWithNumbers": true,
   "eqNumInitial": 1,
   "hotkeys": {
    "equation": "Ctrl-E",
    "itemize": "Ctrl-I"
   },
   "labels_anchors": false,
   "latex_user_defs": false,
   "report_style_numbering": false,
   "user_envs_cfg": false
  },
  "toc": {
   "base_numbering": 1,
   "nav_menu": {},
   "number_sections": false,
   "sideBar": true,
   "skip_h1_title": false,
   "title_cell": "Table of Contents",
   "title_sidebar": "Contents",
   "toc_cell": false,
   "toc_position": {
    "height": "calc(100% - 180px)",
    "left": "10px",
    "top": "150px",
    "width": "253.75px"
   },
   "toc_section_display": true,
   "toc_window_display": true
  },
  "varInspector": {
   "cols": {
    "lenName": 16,
    "lenType": 16,
    "lenVar": 40
   },
   "kernels_config": {
    "python": {
     "delete_cmd_postfix": "",
     "delete_cmd_prefix": "del ",
     "library": "var_list.py",
     "varRefreshCmd": "print(var_dic_list())"
    },
    "r": {
     "delete_cmd_postfix": ") ",
     "delete_cmd_prefix": "rm(",
     "library": "var_list.r",
     "varRefreshCmd": "cat(var_dic_list()) "
    }
   },
   "types_to_exclude": [
    "module",
    "function",
    "builtin_function_or_method",
    "instance",
    "_Feature"
   ],
   "window_display": false
  }
 },
 "nbformat": 4,
 "nbformat_minor": 2
}
